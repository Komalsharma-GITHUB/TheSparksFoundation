{
  "nbformat": 4,
  "nbformat_minor": 0,
  "metadata": {
    "colab": {
      "name": "Customer Segmentation.ipynb",
      "provenance": [],
      "mount_file_id": "1AL1DTYGjhLsx2mXAujrbo26IzrciwiND",
      "authorship_tag": "ABX9TyNdeAg/r7G57vA61NLrj6C8",
      "include_colab_link": true
    },
    "kernelspec": {
      "name": "python3",
      "display_name": "Python 3"
    }
  },
  "cells": [
    {
      "cell_type": "markdown",
      "metadata": {
        "id": "view-in-github",
        "colab_type": "text"
      },
      "source": [
        "<a href=\"https://colab.research.google.com/github/komalsharmavlog/TheSparksFoundation/blob/master/Customer_Segmentation.ipynb\" target=\"_parent\"><img src=\"https://colab.research.google.com/assets/colab-badge.svg\" alt=\"Open In Colab\"/></a>"
      ]
    },
    {
      "cell_type": "code",
      "metadata": {
        "id": "6FFxGcIye7Jo"
      },
      "source": [
        "#Import necessary libraries\r\n",
        "%matplotlib inline\r\n",
        "import numpy as np\r\n",
        "import pandas as pd\r\n",
        "import matplotlib.pyplot as plt"
      ],
      "execution_count": 1,
      "outputs": []
    },
    {
      "cell_type": "code",
      "metadata": {
        "colab": {
          "resources": {
            "http://localhost:8080/nbextensions/google.colab/files.js": {
              "data": "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",
              "ok": true,
              "headers": [
                [
                  "content-type",
                  "application/javascript"
                ]
              ],
              "status": 200,
              "status_text": ""
            }
          },
          "base_uri": "https://localhost:8080/",
          "height": 72
        },
        "id": "0CNv_3sGghuB",
        "outputId": "7ab8a917-2260-4744-eb25-841220d9a0f1"
      },
      "source": [
        "from google.colab import files\r\n",
        "uploaded = files.upload()"
      ],
      "execution_count": 3,
      "outputs": [
        {
          "output_type": "display_data",
          "data": {
            "text/html": [
              "\n",
              "     <input type=\"file\" id=\"files-0169d404-8a2c-4f2d-8704-b09c5a6c4258\" name=\"files[]\" multiple disabled\n",
              "        style=\"border:none\" />\n",
              "     <output id=\"result-0169d404-8a2c-4f2d-8704-b09c5a6c4258\">\n",
              "      Upload widget is only available when the cell has been executed in the\n",
              "      current browser session. Please rerun this cell to enable.\n",
              "      </output>\n",
              "      <script src=\"/nbextensions/google.colab/files.js\"></script> "
            ],
            "text/plain": [
              "<IPython.core.display.HTML object>"
            ]
          },
          "metadata": {
            "tags": []
          }
        },
        {
          "output_type": "stream",
          "text": [
            "Saving RetailData.csv to RetailData.csv\n"
          ],
          "name": "stdout"
        }
      ]
    },
    {
      "cell_type": "code",
      "metadata": {
        "colab": {
          "base_uri": "https://localhost:8080/",
          "height": 204
        },
        "id": "dvtrWNUsfdpa",
        "outputId": "9e34ec23-0311-4d4f-d716-64966411ca67"
      },
      "source": [
        "#Import Online Retail Data containing transactions from 01/12/2010 and 09/12/2011\r\n",
        "Rtl_data = pd.read_csv('RetailData.csv', encoding = 'unicode_escape')\r\n",
        "Rtl_data.head()"
      ],
      "execution_count": 4,
      "outputs": [
        {
          "output_type": "execute_result",
          "data": {
            "text/html": [
              "<div>\n",
              "<style scoped>\n",
              "    .dataframe tbody tr th:only-of-type {\n",
              "        vertical-align: middle;\n",
              "    }\n",
              "\n",
              "    .dataframe tbody tr th {\n",
              "        vertical-align: top;\n",
              "    }\n",
              "\n",
              "    .dataframe thead th {\n",
              "        text-align: right;\n",
              "    }\n",
              "</style>\n",
              "<table border=\"1\" class=\"dataframe\">\n",
              "  <thead>\n",
              "    <tr style=\"text-align: right;\">\n",
              "      <th></th>\n",
              "      <th>ï»¿InvoiceNo</th>\n",
              "      <th>StockCode</th>\n",
              "      <th>Description</th>\n",
              "      <th>Quantity</th>\n",
              "      <th>InvoiceDate</th>\n",
              "      <th>UnitPrice</th>\n",
              "      <th>CustomerID</th>\n",
              "      <th>Country</th>\n",
              "    </tr>\n",
              "  </thead>\n",
              "  <tbody>\n",
              "    <tr>\n",
              "      <th>0</th>\n",
              "      <td>536365</td>\n",
              "      <td>85123A</td>\n",
              "      <td>WHITE HANGING HEART T-LIGHT HOLDER</td>\n",
              "      <td>6</td>\n",
              "      <td>01-12-2010 08:26</td>\n",
              "      <td>2.55</td>\n",
              "      <td>17850.0</td>\n",
              "      <td>United Kingdom</td>\n",
              "    </tr>\n",
              "    <tr>\n",
              "      <th>1</th>\n",
              "      <td>536365</td>\n",
              "      <td>71053</td>\n",
              "      <td>WHITE METAL LANTERN</td>\n",
              "      <td>6</td>\n",
              "      <td>01-12-2010 08:26</td>\n",
              "      <td>3.39</td>\n",
              "      <td>17850.0</td>\n",
              "      <td>United Kingdom</td>\n",
              "    </tr>\n",
              "    <tr>\n",
              "      <th>2</th>\n",
              "      <td>536365</td>\n",
              "      <td>84406B</td>\n",
              "      <td>CREAM CUPID HEARTS COAT HANGER</td>\n",
              "      <td>8</td>\n",
              "      <td>01-12-2010 08:26</td>\n",
              "      <td>2.75</td>\n",
              "      <td>17850.0</td>\n",
              "      <td>United Kingdom</td>\n",
              "    </tr>\n",
              "    <tr>\n",
              "      <th>3</th>\n",
              "      <td>536365</td>\n",
              "      <td>84029G</td>\n",
              "      <td>KNITTED UNION FLAG HOT WATER BOTTLE</td>\n",
              "      <td>6</td>\n",
              "      <td>01-12-2010 08:26</td>\n",
              "      <td>3.39</td>\n",
              "      <td>17850.0</td>\n",
              "      <td>United Kingdom</td>\n",
              "    </tr>\n",
              "    <tr>\n",
              "      <th>4</th>\n",
              "      <td>536365</td>\n",
              "      <td>84029E</td>\n",
              "      <td>RED WOOLLY HOTTIE WHITE HEART.</td>\n",
              "      <td>6</td>\n",
              "      <td>01-12-2010 08:26</td>\n",
              "      <td>3.39</td>\n",
              "      <td>17850.0</td>\n",
              "      <td>United Kingdom</td>\n",
              "    </tr>\n",
              "  </tbody>\n",
              "</table>\n",
              "</div>"
            ],
            "text/plain": [
              "  ï»¿InvoiceNo StockCode  ... CustomerID         Country\n",
              "0       536365    85123A  ...    17850.0  United Kingdom\n",
              "1       536365     71053  ...    17850.0  United Kingdom\n",
              "2       536365    84406B  ...    17850.0  United Kingdom\n",
              "3       536365    84029G  ...    17850.0  United Kingdom\n",
              "4       536365    84029E  ...    17850.0  United Kingdom\n",
              "\n",
              "[5 rows x 8 columns]"
            ]
          },
          "metadata": {
            "tags": []
          },
          "execution_count": 4
        }
      ]
    },
    {
      "cell_type": "code",
      "metadata": {
        "colab": {
          "base_uri": "https://localhost:8080/"
        },
        "id": "-hSRPe3Bju6G",
        "outputId": "72a65e52-6054-4352-834e-4718bc43aa9a"
      },
      "source": [
        "#Check the shape (number of columns and rows) in the dataset\r\n",
        "Rtl_data.shape"
      ],
      "execution_count": 5,
      "outputs": [
        {
          "output_type": "execute_result",
          "data": {
            "text/plain": [
              "(541909, 8)"
            ]
          },
          "metadata": {
            "tags": []
          },
          "execution_count": 5
        }
      ]
    },
    {
      "cell_type": "code",
      "metadata": {
        "colab": {
          "base_uri": "https://localhost:8080/",
          "height": 1000
        },
        "id": "GF992plojzow",
        "outputId": "649aa7c6-959e-4c16-e378-21da610c08bd"
      },
      "source": [
        "#Customer distribution by country\r\n",
        "country_cust_data=Rtl_data[['Country','CustomerID']].drop_duplicates()\r\n",
        "country_cust_data.groupby(['Country'])['CustomerID'].aggregate('count').reset_index().sort_values('CustomerID', ascending=False)"
      ],
      "execution_count": 6,
      "outputs": [
        {
          "output_type": "execute_result",
          "data": {
            "text/html": [
              "<div>\n",
              "<style scoped>\n",
              "    .dataframe tbody tr th:only-of-type {\n",
              "        vertical-align: middle;\n",
              "    }\n",
              "\n",
              "    .dataframe tbody tr th {\n",
              "        vertical-align: top;\n",
              "    }\n",
              "\n",
              "    .dataframe thead th {\n",
              "        text-align: right;\n",
              "    }\n",
              "</style>\n",
              "<table border=\"1\" class=\"dataframe\">\n",
              "  <thead>\n",
              "    <tr style=\"text-align: right;\">\n",
              "      <th></th>\n",
              "      <th>Country</th>\n",
              "      <th>CustomerID</th>\n",
              "    </tr>\n",
              "  </thead>\n",
              "  <tbody>\n",
              "    <tr>\n",
              "      <th>36</th>\n",
              "      <td>United Kingdom</td>\n",
              "      <td>3950</td>\n",
              "    </tr>\n",
              "    <tr>\n",
              "      <th>14</th>\n",
              "      <td>Germany</td>\n",
              "      <td>95</td>\n",
              "    </tr>\n",
              "    <tr>\n",
              "      <th>13</th>\n",
              "      <td>France</td>\n",
              "      <td>87</td>\n",
              "    </tr>\n",
              "    <tr>\n",
              "      <th>31</th>\n",
              "      <td>Spain</td>\n",
              "      <td>31</td>\n",
              "    </tr>\n",
              "    <tr>\n",
              "      <th>3</th>\n",
              "      <td>Belgium</td>\n",
              "      <td>25</td>\n",
              "    </tr>\n",
              "    <tr>\n",
              "      <th>33</th>\n",
              "      <td>Switzerland</td>\n",
              "      <td>21</td>\n",
              "    </tr>\n",
              "    <tr>\n",
              "      <th>27</th>\n",
              "      <td>Portugal</td>\n",
              "      <td>19</td>\n",
              "    </tr>\n",
              "    <tr>\n",
              "      <th>19</th>\n",
              "      <td>Italy</td>\n",
              "      <td>15</td>\n",
              "    </tr>\n",
              "    <tr>\n",
              "      <th>12</th>\n",
              "      <td>Finland</td>\n",
              "      <td>12</td>\n",
              "    </tr>\n",
              "    <tr>\n",
              "      <th>1</th>\n",
              "      <td>Austria</td>\n",
              "      <td>11</td>\n",
              "    </tr>\n",
              "    <tr>\n",
              "      <th>25</th>\n",
              "      <td>Norway</td>\n",
              "      <td>10</td>\n",
              "    </tr>\n",
              "    <tr>\n",
              "      <th>24</th>\n",
              "      <td>Netherlands</td>\n",
              "      <td>9</td>\n",
              "    </tr>\n",
              "    <tr>\n",
              "      <th>0</th>\n",
              "      <td>Australia</td>\n",
              "      <td>9</td>\n",
              "    </tr>\n",
              "    <tr>\n",
              "      <th>6</th>\n",
              "      <td>Channel Islands</td>\n",
              "      <td>9</td>\n",
              "    </tr>\n",
              "    <tr>\n",
              "      <th>9</th>\n",
              "      <td>Denmark</td>\n",
              "      <td>9</td>\n",
              "    </tr>\n",
              "    <tr>\n",
              "      <th>7</th>\n",
              "      <td>Cyprus</td>\n",
              "      <td>8</td>\n",
              "    </tr>\n",
              "    <tr>\n",
              "      <th>32</th>\n",
              "      <td>Sweden</td>\n",
              "      <td>8</td>\n",
              "    </tr>\n",
              "    <tr>\n",
              "      <th>20</th>\n",
              "      <td>Japan</td>\n",
              "      <td>8</td>\n",
              "    </tr>\n",
              "    <tr>\n",
              "      <th>26</th>\n",
              "      <td>Poland</td>\n",
              "      <td>6</td>\n",
              "    </tr>\n",
              "    <tr>\n",
              "      <th>34</th>\n",
              "      <td>USA</td>\n",
              "      <td>4</td>\n",
              "    </tr>\n",
              "    <tr>\n",
              "      <th>5</th>\n",
              "      <td>Canada</td>\n",
              "      <td>4</td>\n",
              "    </tr>\n",
              "    <tr>\n",
              "      <th>37</th>\n",
              "      <td>Unspecified</td>\n",
              "      <td>4</td>\n",
              "    </tr>\n",
              "    <tr>\n",
              "      <th>18</th>\n",
              "      <td>Israel</td>\n",
              "      <td>4</td>\n",
              "    </tr>\n",
              "    <tr>\n",
              "      <th>15</th>\n",
              "      <td>Greece</td>\n",
              "      <td>4</td>\n",
              "    </tr>\n",
              "    <tr>\n",
              "      <th>10</th>\n",
              "      <td>EIRE</td>\n",
              "      <td>3</td>\n",
              "    </tr>\n",
              "    <tr>\n",
              "      <th>23</th>\n",
              "      <td>Malta</td>\n",
              "      <td>2</td>\n",
              "    </tr>\n",
              "    <tr>\n",
              "      <th>35</th>\n",
              "      <td>United Arab Emirates</td>\n",
              "      <td>2</td>\n",
              "    </tr>\n",
              "    <tr>\n",
              "      <th>2</th>\n",
              "      <td>Bahrain</td>\n",
              "      <td>2</td>\n",
              "    </tr>\n",
              "    <tr>\n",
              "      <th>22</th>\n",
              "      <td>Lithuania</td>\n",
              "      <td>1</td>\n",
              "    </tr>\n",
              "    <tr>\n",
              "      <th>8</th>\n",
              "      <td>Czech Republic</td>\n",
              "      <td>1</td>\n",
              "    </tr>\n",
              "    <tr>\n",
              "      <th>21</th>\n",
              "      <td>Lebanon</td>\n",
              "      <td>1</td>\n",
              "    </tr>\n",
              "    <tr>\n",
              "      <th>28</th>\n",
              "      <td>RSA</td>\n",
              "      <td>1</td>\n",
              "    </tr>\n",
              "    <tr>\n",
              "      <th>29</th>\n",
              "      <td>Saudi Arabia</td>\n",
              "      <td>1</td>\n",
              "    </tr>\n",
              "    <tr>\n",
              "      <th>30</th>\n",
              "      <td>Singapore</td>\n",
              "      <td>1</td>\n",
              "    </tr>\n",
              "    <tr>\n",
              "      <th>17</th>\n",
              "      <td>Iceland</td>\n",
              "      <td>1</td>\n",
              "    </tr>\n",
              "    <tr>\n",
              "      <th>4</th>\n",
              "      <td>Brazil</td>\n",
              "      <td>1</td>\n",
              "    </tr>\n",
              "    <tr>\n",
              "      <th>11</th>\n",
              "      <td>European Community</td>\n",
              "      <td>1</td>\n",
              "    </tr>\n",
              "    <tr>\n",
              "      <th>16</th>\n",
              "      <td>Hong Kong</td>\n",
              "      <td>0</td>\n",
              "    </tr>\n",
              "  </tbody>\n",
              "</table>\n",
              "</div>"
            ],
            "text/plain": [
              "                 Country  CustomerID\n",
              "36        United Kingdom        3950\n",
              "14               Germany          95\n",
              "13                France          87\n",
              "31                 Spain          31\n",
              "3                Belgium          25\n",
              "33           Switzerland          21\n",
              "27              Portugal          19\n",
              "19                 Italy          15\n",
              "12               Finland          12\n",
              "1                Austria          11\n",
              "25                Norway          10\n",
              "24           Netherlands           9\n",
              "0              Australia           9\n",
              "6        Channel Islands           9\n",
              "9                Denmark           9\n",
              "7                 Cyprus           8\n",
              "32                Sweden           8\n",
              "20                 Japan           8\n",
              "26                Poland           6\n",
              "34                   USA           4\n",
              "5                 Canada           4\n",
              "37           Unspecified           4\n",
              "18                Israel           4\n",
              "15                Greece           4\n",
              "10                  EIRE           3\n",
              "23                 Malta           2\n",
              "35  United Arab Emirates           2\n",
              "2                Bahrain           2\n",
              "22             Lithuania           1\n",
              "8         Czech Republic           1\n",
              "21               Lebanon           1\n",
              "28                   RSA           1\n",
              "29          Saudi Arabia           1\n",
              "30             Singapore           1\n",
              "17               Iceland           1\n",
              "4                 Brazil           1\n",
              "11    European Community           1\n",
              "16             Hong Kong           0"
            ]
          },
          "metadata": {
            "tags": []
          },
          "execution_count": 6
        }
      ]
    },
    {
      "cell_type": "code",
      "metadata": {
        "id": "SOiiaB8Kj8Ez"
      },
      "source": [
        "#Keep only United Kingdom data\r\n",
        "Rtl_data = Rtl_data.query(\"Country=='United Kingdom'\").reset_index(drop=True)"
      ],
      "execution_count": 7,
      "outputs": []
    },
    {
      "cell_type": "code",
      "metadata": {
        "colab": {
          "base_uri": "https://localhost:8080/"
        },
        "id": "A8PsgGzMj_Mt",
        "outputId": "48dcc0f1-b061-4bb0-a218-6ca75247b594"
      },
      "source": [
        "#Check for missing values in the dataset\r\n",
        "Rtl_data.isnull().sum(axis=0)"
      ],
      "execution_count": 8,
      "outputs": [
        {
          "output_type": "execute_result",
          "data": {
            "text/plain": [
              "ï»¿InvoiceNo         0\n",
              "StockCode            0\n",
              "Description       1454\n",
              "Quantity             0\n",
              "InvoiceDate          0\n",
              "UnitPrice            0\n",
              "CustomerID      133600\n",
              "Country              0\n",
              "dtype: int64"
            ]
          },
          "metadata": {
            "tags": []
          },
          "execution_count": 8
        }
      ]
    },
    {
      "cell_type": "code",
      "metadata": {
        "colab": {
          "base_uri": "https://localhost:8080/"
        },
        "id": "BbysLgVVkGU9",
        "outputId": "c4403570-4f44-4613-9e34-45034e4f674d"
      },
      "source": [
        "#Remove missing values from CustomerID column, can ignore missing values in description column\r\n",
        "Rtl_data = Rtl_data[pd.notnull(Rtl_data['CustomerID'])]\r\n",
        "\r\n",
        "#Validate if there are any negative values in Quantity column\r\n",
        "Rtl_data.Quantity.min()\r\n"
      ],
      "execution_count": 9,
      "outputs": [
        {
          "output_type": "execute_result",
          "data": {
            "text/plain": [
              "-80995"
            ]
          },
          "metadata": {
            "tags": []
          },
          "execution_count": 9
        }
      ]
    },
    {
      "cell_type": "code",
      "metadata": {
        "colab": {
          "base_uri": "https://localhost:8080/"
        },
        "id": "QtcbTS4NkJNP",
        "outputId": "a698b4b6-90e5-4b69-d1f1-afafa0174cb6"
      },
      "source": [
        "#Validate if there are any negative values in UnitPrice column\r\n",
        "Rtl_data.UnitPrice.min()"
      ],
      "execution_count": 10,
      "outputs": [
        {
          "output_type": "execute_result",
          "data": {
            "text/plain": [
              "0.0"
            ]
          },
          "metadata": {
            "tags": []
          },
          "execution_count": 10
        }
      ]
    },
    {
      "cell_type": "code",
      "metadata": {
        "id": "uHJ1RoVckNHm"
      },
      "source": [
        "#Filter out records with negative values\r\n",
        "Rtl_data = Rtl_data[(Rtl_data['Quantity']>0)]"
      ],
      "execution_count": 11,
      "outputs": []
    },
    {
      "cell_type": "code",
      "metadata": {
        "id": "F955An5BkQpE"
      },
      "source": [
        "#Convert the string date field to datetime\r\n",
        "Rtl_data['InvoiceDate'] = pd.to_datetime(Rtl_data['InvoiceDate'])"
      ],
      "execution_count": 12,
      "outputs": []
    },
    {
      "cell_type": "code",
      "metadata": {
        "id": "xBwc8d42kTqT"
      },
      "source": [
        "#Add new column depicting total amount\r\n",
        "Rtl_data['TotalAmount'] = Rtl_data['Quantity'] * Rtl_data['UnitPrice']"
      ],
      "execution_count": 13,
      "outputs": []
    },
    {
      "cell_type": "code",
      "metadata": {
        "colab": {
          "base_uri": "https://localhost:8080/"
        },
        "id": "3vXtG5M_kWsc",
        "outputId": "89e2e3fc-cded-43fe-a456-372390932ac5"
      },
      "source": [
        "#Check the shape (number of columns and rows) in the dataset after data is cleaned\r\n",
        "Rtl_data.shape"
      ],
      "execution_count": 14,
      "outputs": [
        {
          "output_type": "execute_result",
          "data": {
            "text/plain": [
              "(354345, 9)"
            ]
          },
          "metadata": {
            "tags": []
          },
          "execution_count": 14
        }
      ]
    },
    {
      "cell_type": "code",
      "metadata": {
        "colab": {
          "base_uri": "https://localhost:8080/",
          "height": 204
        },
        "id": "f933HO_1kaJN",
        "outputId": "aacd2d50-2da9-407f-b724-0e3ee92c05ee"
      },
      "source": [
        "Rtl_data.head()"
      ],
      "execution_count": 15,
      "outputs": [
        {
          "output_type": "execute_result",
          "data": {
            "text/html": [
              "<div>\n",
              "<style scoped>\n",
              "    .dataframe tbody tr th:only-of-type {\n",
              "        vertical-align: middle;\n",
              "    }\n",
              "\n",
              "    .dataframe tbody tr th {\n",
              "        vertical-align: top;\n",
              "    }\n",
              "\n",
              "    .dataframe thead th {\n",
              "        text-align: right;\n",
              "    }\n",
              "</style>\n",
              "<table border=\"1\" class=\"dataframe\">\n",
              "  <thead>\n",
              "    <tr style=\"text-align: right;\">\n",
              "      <th></th>\n",
              "      <th>ï»¿InvoiceNo</th>\n",
              "      <th>StockCode</th>\n",
              "      <th>Description</th>\n",
              "      <th>Quantity</th>\n",
              "      <th>InvoiceDate</th>\n",
              "      <th>UnitPrice</th>\n",
              "      <th>CustomerID</th>\n",
              "      <th>Country</th>\n",
              "      <th>TotalAmount</th>\n",
              "    </tr>\n",
              "  </thead>\n",
              "  <tbody>\n",
              "    <tr>\n",
              "      <th>0</th>\n",
              "      <td>536365</td>\n",
              "      <td>85123A</td>\n",
              "      <td>WHITE HANGING HEART T-LIGHT HOLDER</td>\n",
              "      <td>6</td>\n",
              "      <td>2010-01-12 08:26:00</td>\n",
              "      <td>2.55</td>\n",
              "      <td>17850.0</td>\n",
              "      <td>United Kingdom</td>\n",
              "      <td>15.30</td>\n",
              "    </tr>\n",
              "    <tr>\n",
              "      <th>1</th>\n",
              "      <td>536365</td>\n",
              "      <td>71053</td>\n",
              "      <td>WHITE METAL LANTERN</td>\n",
              "      <td>6</td>\n",
              "      <td>2010-01-12 08:26:00</td>\n",
              "      <td>3.39</td>\n",
              "      <td>17850.0</td>\n",
              "      <td>United Kingdom</td>\n",
              "      <td>20.34</td>\n",
              "    </tr>\n",
              "    <tr>\n",
              "      <th>2</th>\n",
              "      <td>536365</td>\n",
              "      <td>84406B</td>\n",
              "      <td>CREAM CUPID HEARTS COAT HANGER</td>\n",
              "      <td>8</td>\n",
              "      <td>2010-01-12 08:26:00</td>\n",
              "      <td>2.75</td>\n",
              "      <td>17850.0</td>\n",
              "      <td>United Kingdom</td>\n",
              "      <td>22.00</td>\n",
              "    </tr>\n",
              "    <tr>\n",
              "      <th>3</th>\n",
              "      <td>536365</td>\n",
              "      <td>84029G</td>\n",
              "      <td>KNITTED UNION FLAG HOT WATER BOTTLE</td>\n",
              "      <td>6</td>\n",
              "      <td>2010-01-12 08:26:00</td>\n",
              "      <td>3.39</td>\n",
              "      <td>17850.0</td>\n",
              "      <td>United Kingdom</td>\n",
              "      <td>20.34</td>\n",
              "    </tr>\n",
              "    <tr>\n",
              "      <th>4</th>\n",
              "      <td>536365</td>\n",
              "      <td>84029E</td>\n",
              "      <td>RED WOOLLY HOTTIE WHITE HEART.</td>\n",
              "      <td>6</td>\n",
              "      <td>2010-01-12 08:26:00</td>\n",
              "      <td>3.39</td>\n",
              "      <td>17850.0</td>\n",
              "      <td>United Kingdom</td>\n",
              "      <td>20.34</td>\n",
              "    </tr>\n",
              "  </tbody>\n",
              "</table>\n",
              "</div>"
            ],
            "text/plain": [
              "  ï»¿InvoiceNo StockCode  ...         Country  TotalAmount\n",
              "0       536365    85123A  ...  United Kingdom        15.30\n",
              "1       536365     71053  ...  United Kingdom        20.34\n",
              "2       536365    84406B  ...  United Kingdom        22.00\n",
              "3       536365    84029G  ...  United Kingdom        20.34\n",
              "4       536365    84029E  ...  United Kingdom        20.34\n",
              "\n",
              "[5 rows x 9 columns]"
            ]
          },
          "metadata": {
            "tags": []
          },
          "execution_count": 15
        }
      ]
    },
    {
      "cell_type": "markdown",
      "metadata": {
        "id": "OB-qhYHikd1-"
      },
      "source": [
        "# RFM Modelling"
      ]
    },
    {
      "cell_type": "code",
      "metadata": {
        "colab": {
          "base_uri": "https://localhost:8080/",
          "height": 204
        },
        "id": "F2CPu8cFkfjA",
        "outputId": "c466cc4c-f1d7-478a-d28f-f0b55a265f7a"
      },
      "source": [
        "#Recency = Latest Date - Last Inovice Data, Frequency = count of invoice no. of transaction(s), Monetary = Sum of Total \r\n",
        "#Amount for each customer\r\n",
        "import datetime as dt\r\n",
        "\r\n",
        "#Set Latest date 2011-12-10 as last invoice date was 2011-12-09. This is to calculate the number of days from recent purchase\r\n",
        "Latest_Date = dt.datetime(2011,12,10)\r\n",
        "\r\n",
        "#Create RFM Modelling scores for each customer\r\n",
        "RFMScores = Rtl_data.groupby('CustomerID').agg({'InvoiceDate': lambda x: (Latest_Date - x.max()).days, 'ï»¿InvoiceNo': lambda x: len(x), 'TotalAmount': lambda x: x.sum()})\r\n",
        "\r\n",
        "#Convert Invoice Date into type int\r\n",
        "RFMScores['InvoiceDate'] = RFMScores['InvoiceDate'].astype(int)\r\n",
        "\r\n",
        "#Rename column names to Recency, Frequency and Monetary\r\n",
        "RFMScores.rename(columns={'InvoiceDate': 'Recency', \r\n",
        "                         'ï»¿InvoiceNo': 'Frequency', \r\n",
        "                         'TotalAmount': 'Monetary'}, inplace=True)\r\n",
        "\r\n",
        "RFMScores.reset_index().head()"
      ],
      "execution_count": 17,
      "outputs": [
        {
          "output_type": "execute_result",
          "data": {
            "text/html": [
              "<div>\n",
              "<style scoped>\n",
              "    .dataframe tbody tr th:only-of-type {\n",
              "        vertical-align: middle;\n",
              "    }\n",
              "\n",
              "    .dataframe tbody tr th {\n",
              "        vertical-align: top;\n",
              "    }\n",
              "\n",
              "    .dataframe thead th {\n",
              "        text-align: right;\n",
              "    }\n",
              "</style>\n",
              "<table border=\"1\" class=\"dataframe\">\n",
              "  <thead>\n",
              "    <tr style=\"text-align: right;\">\n",
              "      <th></th>\n",
              "      <th>CustomerID</th>\n",
              "      <th>Recency</th>\n",
              "      <th>Frequency</th>\n",
              "      <th>Monetary</th>\n",
              "    </tr>\n",
              "  </thead>\n",
              "  <tbody>\n",
              "    <tr>\n",
              "      <th>0</th>\n",
              "      <td>12346.0</td>\n",
              "      <td>325</td>\n",
              "      <td>1</td>\n",
              "      <td>77183.60</td>\n",
              "    </tr>\n",
              "    <tr>\n",
              "      <th>1</th>\n",
              "      <td>12747.0</td>\n",
              "      <td>22</td>\n",
              "      <td>103</td>\n",
              "      <td>4196.01</td>\n",
              "    </tr>\n",
              "    <tr>\n",
              "      <th>2</th>\n",
              "      <td>12748.0</td>\n",
              "      <td>4</td>\n",
              "      <td>4596</td>\n",
              "      <td>33719.73</td>\n",
              "    </tr>\n",
              "    <tr>\n",
              "      <th>3</th>\n",
              "      <td>12749.0</td>\n",
              "      <td>22</td>\n",
              "      <td>199</td>\n",
              "      <td>4090.88</td>\n",
              "    </tr>\n",
              "    <tr>\n",
              "      <th>4</th>\n",
              "      <td>12820.0</td>\n",
              "      <td>44</td>\n",
              "      <td>59</td>\n",
              "      <td>942.34</td>\n",
              "    </tr>\n",
              "  </tbody>\n",
              "</table>\n",
              "</div>"
            ],
            "text/plain": [
              "   CustomerID  Recency  Frequency  Monetary\n",
              "0     12346.0      325          1  77183.60\n",
              "1     12747.0       22        103   4196.01\n",
              "2     12748.0        4       4596  33719.73\n",
              "3     12749.0       22        199   4090.88\n",
              "4     12820.0       44         59    942.34"
            ]
          },
          "metadata": {
            "tags": []
          },
          "execution_count": 17
        }
      ]
    },
    {
      "cell_type": "code",
      "metadata": {
        "colab": {
          "base_uri": "https://localhost:8080/"
        },
        "id": "DzGyMeTalCyG",
        "outputId": "e5c01a8f-887b-4637-8538-ab604a750912"
      },
      "source": [
        "#Descriptive Statistics (Recency)\r\n",
        "RFMScores.Recency.describe()"
      ],
      "execution_count": 18,
      "outputs": [
        {
          "output_type": "execute_result",
          "data": {
            "text/plain": [
              "count    3921.000000\n",
              "mean      104.586585\n",
              "std       115.044919\n",
              "min        -1.000000\n",
              "25%        21.000000\n",
              "50%        60.000000\n",
              "75%       161.000000\n",
              "max       696.000000\n",
              "Name: Recency, dtype: float64"
            ]
          },
          "metadata": {
            "tags": []
          },
          "execution_count": 18
        }
      ]
    },
    {
      "cell_type": "code",
      "metadata": {
        "colab": {
          "base_uri": "https://localhost:8080/",
          "height": 333
        },
        "id": "bta8oE4BlGjR",
        "outputId": "7a14a981-89a8-48c9-c79d-5857e2f5b246"
      },
      "source": [
        "#Recency distribution plot\r\n",
        "import seaborn as sns\r\n",
        "x = RFMScores['Recency']\r\n",
        "\r\n",
        "ax = sns.distplot(x)"
      ],
      "execution_count": 19,
      "outputs": [
        {
          "output_type": "stream",
          "text": [
            "/usr/local/lib/python3.6/dist-packages/seaborn/distributions.py:2551: FutureWarning: `distplot` is a deprecated function and will be removed in a future version. Please adapt your code to use either `displot` (a figure-level function with similar flexibility) or `histplot` (an axes-level function for histograms).\n",
            "  warnings.warn(msg, FutureWarning)\n"
          ],
          "name": "stderr"
        },
        {
          "output_type": "display_data",
          "data": {
            "image/png": "[encoded data removed]",
            "text/plain": [
              "<Figure size 432x288 with 1 Axes>"
            ]
          },
          "metadata": {
            "tags": [],
            "needs_background": "light"
          }
        }
      ]
    },
    {
      "cell_type": "code",
      "metadata": {
        "id": "uNCSdwWClNUT"
      },
      "source": [
        "#Split into four segments using quantiles\r\n",
        "quantiles = RFMScores.quantile(q=[0.25,0.5,0.75])\r\n",
        "quantiles = quantiles.to_dict()"
      ],
      "execution_count": 20,
      "outputs": []
    },
    {
      "cell_type": "code",
      "metadata": {
        "colab": {
          "base_uri": "https://localhost:8080/"
        },
        "id": "uBFzj9wylQl-",
        "outputId": "792dd02e-085d-4ac1-dc75-862e0a61f83c"
      },
      "source": [
        "quantiles"
      ],
      "execution_count": 21,
      "outputs": [
        {
          "output_type": "execute_result",
          "data": {
            "text/plain": [
              "{'Frequency': {0.25: 17.0, 0.5: 41.0, 0.75: 99.0},\n",
              " 'Monetary': {0.25: 300.03999999999996, 0.5: 651.8199999999999, 0.75: 1575.89},\n",
              " 'Recency': {0.25: 21.0, 0.5: 60.0, 0.75: 161.0}}"
            ]
          },
          "metadata": {
            "tags": []
          },
          "execution_count": 21
        }
      ]
    },
    {
      "cell_type": "code",
      "metadata": {
        "id": "evOTNBUVlUcY"
      },
      "source": [
        "#Functions to create R, F and M segments\r\n",
        "def RScoring(x,p,d):\r\n",
        "    if x <= d[p][0.25]:\r\n",
        "        return 1\r\n",
        "    elif x <= d[p][0.50]:\r\n",
        "        return 2\r\n",
        "    elif x <= d[p][0.75]: \r\n",
        "        return 3\r\n",
        "    else:\r\n",
        "        return 4\r\n",
        "    \r\n",
        "def FnMScoring(x,p,d):\r\n",
        "    if x <= d[p][0.25]:\r\n",
        "        return 4\r\n",
        "    elif x <= d[p][0.50]:\r\n",
        "        return 3\r\n",
        "    elif x <= d[p][0.75]: \r\n",
        "        return 2\r\n",
        "    else:\r\n",
        "        return 1"
      ],
      "execution_count": 22,
      "outputs": []
    },
    {
      "cell_type": "code",
      "metadata": {
        "colab": {
          "base_uri": "https://localhost:8080/",
          "height": 235
        },
        "id": "TkJ_CN2LlX-q",
        "outputId": "2145970a-884b-4034-d9e8-14f68ece53f2"
      },
      "source": [
        "#Calculate Add R, F and M segment value columns in the existing dataset to show R, F and M segment values\r\n",
        "RFMScores['R'] = RFMScores['Recency'].apply(RScoring, args=('Recency',quantiles,))\r\n",
        "RFMScores['F'] = RFMScores['Frequency'].apply(FnMScoring, args=('Frequency',quantiles,))\r\n",
        "RFMScores['M'] = RFMScores['Monetary'].apply(FnMScoring, args=('Monetary',quantiles,))\r\n",
        "RFMScores.head()"
      ],
      "execution_count": 23,
      "outputs": [
        {
          "output_type": "execute_result",
          "data": {
            "text/html": [
              "<div>\n",
              "<style scoped>\n",
              "    .dataframe tbody tr th:only-of-type {\n",
              "        vertical-align: middle;\n",
              "    }\n",
              "\n",
              "    .dataframe tbody tr th {\n",
              "        vertical-align: top;\n",
              "    }\n",
              "\n",
              "    .dataframe thead th {\n",
              "        text-align: right;\n",
              "    }\n",
              "</style>\n",
              "<table border=\"1\" class=\"dataframe\">\n",
              "  <thead>\n",
              "    <tr style=\"text-align: right;\">\n",
              "      <th></th>\n",
              "      <th>Recency</th>\n",
              "      <th>Frequency</th>\n",
              "      <th>Monetary</th>\n",
              "      <th>R</th>\n",
              "      <th>F</th>\n",
              "      <th>M</th>\n",
              "    </tr>\n",
              "    <tr>\n",
              "      <th>CustomerID</th>\n",
              "      <th></th>\n",
              "      <th></th>\n",
              "      <th></th>\n",
              "      <th></th>\n",
              "      <th></th>\n",
              "      <th></th>\n",
              "    </tr>\n",
              "  </thead>\n",
              "  <tbody>\n",
              "    <tr>\n",
              "      <th>12346.0</th>\n",
              "      <td>325</td>\n",
              "      <td>1</td>\n",
              "      <td>77183.60</td>\n",
              "      <td>4</td>\n",
              "      <td>4</td>\n",
              "      <td>1</td>\n",
              "    </tr>\n",
              "    <tr>\n",
              "      <th>12747.0</th>\n",
              "      <td>22</td>\n",
              "      <td>103</td>\n",
              "      <td>4196.01</td>\n",
              "      <td>2</td>\n",
              "      <td>1</td>\n",
              "      <td>1</td>\n",
              "    </tr>\n",
              "    <tr>\n",
              "      <th>12748.0</th>\n",
              "      <td>4</td>\n",
              "      <td>4596</td>\n",
              "      <td>33719.73</td>\n",
              "      <td>1</td>\n",
              "      <td>1</td>\n",
              "      <td>1</td>\n",
              "    </tr>\n",
              "    <tr>\n",
              "      <th>12749.0</th>\n",
              "      <td>22</td>\n",
              "      <td>199</td>\n",
              "      <td>4090.88</td>\n",
              "      <td>2</td>\n",
              "      <td>1</td>\n",
              "      <td>1</td>\n",
              "    </tr>\n",
              "    <tr>\n",
              "      <th>12820.0</th>\n",
              "      <td>44</td>\n",
              "      <td>59</td>\n",
              "      <td>942.34</td>\n",
              "      <td>2</td>\n",
              "      <td>2</td>\n",
              "      <td>2</td>\n",
              "    </tr>\n",
              "  </tbody>\n",
              "</table>\n",
              "</div>"
            ],
            "text/plain": [
              "            Recency  Frequency  Monetary  R  F  M\n",
              "CustomerID                                       \n",
              "12346.0         325          1  77183.60  4  4  1\n",
              "12747.0          22        103   4196.01  2  1  1\n",
              "12748.0           4       4596  33719.73  1  1  1\n",
              "12749.0          22        199   4090.88  2  1  1\n",
              "12820.0          44         59    942.34  2  2  2"
            ]
          },
          "metadata": {
            "tags": []
          },
          "execution_count": 23
        }
      ]
    },
    {
      "cell_type": "code",
      "metadata": {
        "colab": {
          "base_uri": "https://localhost:8080/",
          "height": 235
        },
        "id": "bbxcloBBlbxt",
        "outputId": "f4340df2-79af-4588-b613-9ce3376c7b85"
      },
      "source": [
        "#Calculate and Add RFMGroup value column showing combined concatenated score of RFM\r\n",
        "RFMScores['RFMGroup'] = RFMScores.R.map(str) + RFMScores.F.map(str) + RFMScores.M.map(str)\r\n",
        "\r\n",
        "#Calculate and Add RFMScore value column showing total sum of RFMGroup values\r\n",
        "RFMScores['RFMScore'] = RFMScores[['R', 'F', 'M']].sum(axis = 1)\r\n",
        "RFMScores.head()"
      ],
      "execution_count": 24,
      "outputs": [
        {
          "output_type": "execute_result",
          "data": {
            "text/html": [
              "<div>\n",
              "<style scoped>\n",
              "    .dataframe tbody tr th:only-of-type {\n",
              "        vertical-align: middle;\n",
              "    }\n",
              "\n",
              "    .dataframe tbody tr th {\n",
              "        vertical-align: top;\n",
              "    }\n",
              "\n",
              "    .dataframe thead th {\n",
              "        text-align: right;\n",
              "    }\n",
              "</style>\n",
              "<table border=\"1\" class=\"dataframe\">\n",
              "  <thead>\n",
              "    <tr style=\"text-align: right;\">\n",
              "      <th></th>\n",
              "      <th>Recency</th>\n",
              "      <th>Frequency</th>\n",
              "      <th>Monetary</th>\n",
              "      <th>R</th>\n",
              "      <th>F</th>\n",
              "      <th>M</th>\n",
              "      <th>RFMGroup</th>\n",
              "      <th>RFMScore</th>\n",
              "    </tr>\n",
              "    <tr>\n",
              "      <th>CustomerID</th>\n",
              "      <th></th>\n",
              "      <th></th>\n",
              "      <th></th>\n",
              "      <th></th>\n",
              "      <th></th>\n",
              "      <th></th>\n",
              "      <th></th>\n",
              "      <th></th>\n",
              "    </tr>\n",
              "  </thead>\n",
              "  <tbody>\n",
              "    <tr>\n",
              "      <th>12346.0</th>\n",
              "      <td>325</td>\n",
              "      <td>1</td>\n",
              "      <td>77183.60</td>\n",
              "      <td>4</td>\n",
              "      <td>4</td>\n",
              "      <td>1</td>\n",
              "      <td>441</td>\n",
              "      <td>9</td>\n",
              "    </tr>\n",
              "    <tr>\n",
              "      <th>12747.0</th>\n",
              "      <td>22</td>\n",
              "      <td>103</td>\n",
              "      <td>4196.01</td>\n",
              "      <td>2</td>\n",
              "      <td>1</td>\n",
              "      <td>1</td>\n",
              "      <td>211</td>\n",
              "      <td>4</td>\n",
              "    </tr>\n",
              "    <tr>\n",
              "      <th>12748.0</th>\n",
              "      <td>4</td>\n",
              "      <td>4596</td>\n",
              "      <td>33719.73</td>\n",
              "      <td>1</td>\n",
              "      <td>1</td>\n",
              "      <td>1</td>\n",
              "      <td>111</td>\n",
              "      <td>3</td>\n",
              "    </tr>\n",
              "    <tr>\n",
              "      <th>12749.0</th>\n",
              "      <td>22</td>\n",
              "      <td>199</td>\n",
              "      <td>4090.88</td>\n",
              "      <td>2</td>\n",
              "      <td>1</td>\n",
              "      <td>1</td>\n",
              "      <td>211</td>\n",
              "      <td>4</td>\n",
              "    </tr>\n",
              "    <tr>\n",
              "      <th>12820.0</th>\n",
              "      <td>44</td>\n",
              "      <td>59</td>\n",
              "      <td>942.34</td>\n",
              "      <td>2</td>\n",
              "      <td>2</td>\n",
              "      <td>2</td>\n",
              "      <td>222</td>\n",
              "      <td>6</td>\n",
              "    </tr>\n",
              "  </tbody>\n",
              "</table>\n",
              "</div>"
            ],
            "text/plain": [
              "            Recency  Frequency  Monetary  R  F  M RFMGroup  RFMScore\n",
              "CustomerID                                                          \n",
              "12346.0         325          1  77183.60  4  4  1      441         9\n",
              "12747.0          22        103   4196.01  2  1  1      211         4\n",
              "12748.0           4       4596  33719.73  1  1  1      111         3\n",
              "12749.0          22        199   4090.88  2  1  1      211         4\n",
              "12820.0          44         59    942.34  2  2  2      222         6"
            ]
          },
          "metadata": {
            "tags": []
          },
          "execution_count": 24
        }
      ]
    },
    {
      "cell_type": "code",
      "metadata": {
        "colab": {
          "base_uri": "https://localhost:8080/",
          "height": 204
        },
        "id": "eoHO8Xu9lgF7",
        "outputId": "a9c7bab8-2f0f-4317-c77f-c07eda14be5e"
      },
      "source": [
        "#Assign Loyalty Level to each customer\r\n",
        "Loyalty_Level = ['Platinum', 'Gold', 'Silver', 'Bronze']\r\n",
        "Score_cuts = pd.qcut(RFMScores.RFMScore, q = 4, labels = Loyalty_Level)\r\n",
        "RFMScores['RFM_Loyalty_Level'] = Score_cuts.values\r\n",
        "RFMScores.reset_index().head()"
      ],
      "execution_count": 25,
      "outputs": [
        {
          "output_type": "execute_result",
          "data": {
            "text/html": [
              "<div>\n",
              "<style scoped>\n",
              "    .dataframe tbody tr th:only-of-type {\n",
              "        vertical-align: middle;\n",
              "    }\n",
              "\n",
              "    .dataframe tbody tr th {\n",
              "        vertical-align: top;\n",
              "    }\n",
              "\n",
              "    .dataframe thead th {\n",
              "        text-align: right;\n",
              "    }\n",
              "</style>\n",
              "<table border=\"1\" class=\"dataframe\">\n",
              "  <thead>\n",
              "    <tr style=\"text-align: right;\">\n",
              "      <th></th>\n",
              "      <th>CustomerID</th>\n",
              "      <th>Recency</th>\n",
              "      <th>Frequency</th>\n",
              "      <th>Monetary</th>\n",
              "      <th>R</th>\n",
              "      <th>F</th>\n",
              "      <th>M</th>\n",
              "      <th>RFMGroup</th>\n",
              "      <th>RFMScore</th>\n",
              "      <th>RFM_Loyalty_Level</th>\n",
              "    </tr>\n",
              "  </thead>\n",
              "  <tbody>\n",
              "    <tr>\n",
              "      <th>0</th>\n",
              "      <td>12346.0</td>\n",
              "      <td>325</td>\n",
              "      <td>1</td>\n",
              "      <td>77183.60</td>\n",
              "      <td>4</td>\n",
              "      <td>4</td>\n",
              "      <td>1</td>\n",
              "      <td>441</td>\n",
              "      <td>9</td>\n",
              "      <td>Silver</td>\n",
              "    </tr>\n",
              "    <tr>\n",
              "      <th>1</th>\n",
              "      <td>12747.0</td>\n",
              "      <td>22</td>\n",
              "      <td>103</td>\n",
              "      <td>4196.01</td>\n",
              "      <td>2</td>\n",
              "      <td>1</td>\n",
              "      <td>1</td>\n",
              "      <td>211</td>\n",
              "      <td>4</td>\n",
              "      <td>Platinum</td>\n",
              "    </tr>\n",
              "    <tr>\n",
              "      <th>2</th>\n",
              "      <td>12748.0</td>\n",
              "      <td>4</td>\n",
              "      <td>4596</td>\n",
              "      <td>33719.73</td>\n",
              "      <td>1</td>\n",
              "      <td>1</td>\n",
              "      <td>1</td>\n",
              "      <td>111</td>\n",
              "      <td>3</td>\n",
              "      <td>Platinum</td>\n",
              "    </tr>\n",
              "    <tr>\n",
              "      <th>3</th>\n",
              "      <td>12749.0</td>\n",
              "      <td>22</td>\n",
              "      <td>199</td>\n",
              "      <td>4090.88</td>\n",
              "      <td>2</td>\n",
              "      <td>1</td>\n",
              "      <td>1</td>\n",
              "      <td>211</td>\n",
              "      <td>4</td>\n",
              "      <td>Platinum</td>\n",
              "    </tr>\n",
              "    <tr>\n",
              "      <th>4</th>\n",
              "      <td>12820.0</td>\n",
              "      <td>44</td>\n",
              "      <td>59</td>\n",
              "      <td>942.34</td>\n",
              "      <td>2</td>\n",
              "      <td>2</td>\n",
              "      <td>2</td>\n",
              "      <td>222</td>\n",
              "      <td>6</td>\n",
              "      <td>Gold</td>\n",
              "    </tr>\n",
              "  </tbody>\n",
              "</table>\n",
              "</div>"
            ],
            "text/plain": [
              "   CustomerID  Recency  Frequency  ...  RFMGroup  RFMScore  RFM_Loyalty_Level\n",
              "0     12346.0      325          1  ...       441         9             Silver\n",
              "1     12747.0       22        103  ...       211         4           Platinum\n",
              "2     12748.0        4       4596  ...       111         3           Platinum\n",
              "3     12749.0       22        199  ...       211         4           Platinum\n",
              "4     12820.0       44         59  ...       222         6               Gold\n",
              "\n",
              "[5 rows x 10 columns]"
            ]
          },
          "metadata": {
            "tags": []
          },
          "execution_count": 25
        }
      ]
    },
    {
      "cell_type": "code",
      "metadata": {
        "colab": {
          "base_uri": "https://localhost:8080/",
          "height": 359
        },
        "id": "1P6w66RFlj-3",
        "outputId": "98464be9-e8e3-42c9-f7b2-4182390964b3"
      },
      "source": [
        "#Validate the data for RFMGroup = 111\r\n",
        "RFMScores[RFMScores['RFMGroup']=='111'].sort_values('Monetary', ascending=False).reset_index().head(10)"
      ],
      "execution_count": 26,
      "outputs": [
        {
          "output_type": "execute_result",
          "data": {
            "text/html": [
              "<div>\n",
              "<style scoped>\n",
              "    .dataframe tbody tr th:only-of-type {\n",
              "        vertical-align: middle;\n",
              "    }\n",
              "\n",
              "    .dataframe tbody tr th {\n",
              "        vertical-align: top;\n",
              "    }\n",
              "\n",
              "    .dataframe thead th {\n",
              "        text-align: right;\n",
              "    }\n",
              "</style>\n",
              "<table border=\"1\" class=\"dataframe\">\n",
              "  <thead>\n",
              "    <tr style=\"text-align: right;\">\n",
              "      <th></th>\n",
              "      <th>CustomerID</th>\n",
              "      <th>Recency</th>\n",
              "      <th>Frequency</th>\n",
              "      <th>Monetary</th>\n",
              "      <th>R</th>\n",
              "      <th>F</th>\n",
              "      <th>M</th>\n",
              "      <th>RFMGroup</th>\n",
              "      <th>RFMScore</th>\n",
              "      <th>RFM_Loyalty_Level</th>\n",
              "    </tr>\n",
              "  </thead>\n",
              "  <tbody>\n",
              "    <tr>\n",
              "      <th>0</th>\n",
              "      <td>18102.0</td>\n",
              "      <td>11</td>\n",
              "      <td>431</td>\n",
              "      <td>259657.30</td>\n",
              "      <td>1</td>\n",
              "      <td>1</td>\n",
              "      <td>1</td>\n",
              "      <td>111</td>\n",
              "      <td>3</td>\n",
              "      <td>Platinum</td>\n",
              "    </tr>\n",
              "    <tr>\n",
              "      <th>1</th>\n",
              "      <td>17450.0</td>\n",
              "      <td>2</td>\n",
              "      <td>337</td>\n",
              "      <td>194550.79</td>\n",
              "      <td>1</td>\n",
              "      <td>1</td>\n",
              "      <td>1</td>\n",
              "      <td>111</td>\n",
              "      <td>3</td>\n",
              "      <td>Platinum</td>\n",
              "    </tr>\n",
              "    <tr>\n",
              "      <th>2</th>\n",
              "      <td>17511.0</td>\n",
              "      <td>5</td>\n",
              "      <td>963</td>\n",
              "      <td>91062.38</td>\n",
              "      <td>1</td>\n",
              "      <td>1</td>\n",
              "      <td>1</td>\n",
              "      <td>111</td>\n",
              "      <td>3</td>\n",
              "      <td>Platinum</td>\n",
              "    </tr>\n",
              "    <tr>\n",
              "      <th>3</th>\n",
              "      <td>16684.0</td>\n",
              "      <td>11</td>\n",
              "      <td>277</td>\n",
              "      <td>66653.56</td>\n",
              "      <td>1</td>\n",
              "      <td>1</td>\n",
              "      <td>1</td>\n",
              "      <td>111</td>\n",
              "      <td>3</td>\n",
              "      <td>Platinum</td>\n",
              "    </tr>\n",
              "    <tr>\n",
              "      <th>4</th>\n",
              "      <td>14096.0</td>\n",
              "      <td>11</td>\n",
              "      <td>5111</td>\n",
              "      <td>65164.79</td>\n",
              "      <td>1</td>\n",
              "      <td>1</td>\n",
              "      <td>1</td>\n",
              "      <td>111</td>\n",
              "      <td>3</td>\n",
              "      <td>Platinum</td>\n",
              "    </tr>\n",
              "    <tr>\n",
              "      <th>5</th>\n",
              "      <td>15311.0</td>\n",
              "      <td>-1</td>\n",
              "      <td>2379</td>\n",
              "      <td>60767.90</td>\n",
              "      <td>1</td>\n",
              "      <td>1</td>\n",
              "      <td>1</td>\n",
              "      <td>111</td>\n",
              "      <td>3</td>\n",
              "      <td>Platinum</td>\n",
              "    </tr>\n",
              "    <tr>\n",
              "      <th>6</th>\n",
              "      <td>13089.0</td>\n",
              "      <td>5</td>\n",
              "      <td>1818</td>\n",
              "      <td>58825.83</td>\n",
              "      <td>1</td>\n",
              "      <td>1</td>\n",
              "      <td>1</td>\n",
              "      <td>111</td>\n",
              "      <td>3</td>\n",
              "      <td>Platinum</td>\n",
              "    </tr>\n",
              "    <tr>\n",
              "      <th>7</th>\n",
              "      <td>15061.0</td>\n",
              "      <td>4</td>\n",
              "      <td>403</td>\n",
              "      <td>54534.14</td>\n",
              "      <td>1</td>\n",
              "      <td>1</td>\n",
              "      <td>1</td>\n",
              "      <td>111</td>\n",
              "      <td>3</td>\n",
              "      <td>Platinum</td>\n",
              "    </tr>\n",
              "    <tr>\n",
              "      <th>8</th>\n",
              "      <td>14088.0</td>\n",
              "      <td>10</td>\n",
              "      <td>589</td>\n",
              "      <td>50491.81</td>\n",
              "      <td>1</td>\n",
              "      <td>1</td>\n",
              "      <td>1</td>\n",
              "      <td>111</td>\n",
              "      <td>3</td>\n",
              "      <td>Platinum</td>\n",
              "    </tr>\n",
              "    <tr>\n",
              "      <th>9</th>\n",
              "      <td>17841.0</td>\n",
              "      <td>-1</td>\n",
              "      <td>7847</td>\n",
              "      <td>40991.57</td>\n",
              "      <td>1</td>\n",
              "      <td>1</td>\n",
              "      <td>1</td>\n",
              "      <td>111</td>\n",
              "      <td>3</td>\n",
              "      <td>Platinum</td>\n",
              "    </tr>\n",
              "  </tbody>\n",
              "</table>\n",
              "</div>"
            ],
            "text/plain": [
              "   CustomerID  Recency  Frequency  ...  RFMGroup  RFMScore  RFM_Loyalty_Level\n",
              "0     18102.0       11        431  ...       111         3           Platinum\n",
              "1     17450.0        2        337  ...       111         3           Platinum\n",
              "2     17511.0        5        963  ...       111         3           Platinum\n",
              "3     16684.0       11        277  ...       111         3           Platinum\n",
              "4     14096.0       11       5111  ...       111         3           Platinum\n",
              "5     15311.0       -1       2379  ...       111         3           Platinum\n",
              "6     13089.0        5       1818  ...       111         3           Platinum\n",
              "7     15061.0        4        403  ...       111         3           Platinum\n",
              "8     14088.0       10        589  ...       111         3           Platinum\n",
              "9     17841.0       -1       7847  ...       111         3           Platinum\n",
              "\n",
              "[10 rows x 10 columns]"
            ]
          },
          "metadata": {
            "tags": []
          },
          "execution_count": 26
        }
      ]
    },
    {
      "cell_type": "code",
      "metadata": {
        "colab": {
          "base_uri": "https://localhost:8080/",
          "height": 1000
        },
        "id": "VSGbwN_GlxdO",
        "outputId": "3ad5f08d-ceb6-4047-9f47-89f6fff1c3e8"
      },
      "source": [
        "!pip install chart_studio\r\n",
        "import chart_studio as cs\r\n",
        "import plotly.offline as po\r\n",
        "import plotly.graph_objs as gobj\r\n",
        "\r\n",
        "#Recency Vs Frequency\r\n",
        "graph = RFMScores.query(\"Monetary < 50000 and Frequency < 2000\")\r\n",
        "\r\n",
        "plot_data = [\r\n",
        "    gobj.Scatter(\r\n",
        "        x=graph.query(\"RFM_Loyalty_Level == 'Bronze'\")['Recency'],\r\n",
        "        y=graph.query(\"RFM_Loyalty_Level == 'Bronze'\")['Frequency'],\r\n",
        "        mode='markers',\r\n",
        "        name='Bronze',\r\n",
        "        marker= dict(size= 7,\r\n",
        "            line= dict(width=1),\r\n",
        "            color= 'blue',\r\n",
        "            opacity= 0.8\r\n",
        "           )\r\n",
        "    ),\r\n",
        "        gobj.Scatter(\r\n",
        "        x=graph.query(\"RFM_Loyalty_Level == 'Silver'\")['Recency'],\r\n",
        "        y=graph.query(\"RFM_Loyalty_Level == 'Silver'\")['Frequency'],\r\n",
        "        mode='markers',\r\n",
        "        name='Silver',\r\n",
        "        marker= dict(size= 9,\r\n",
        "            line= dict(width=1),\r\n",
        "            color= 'green',\r\n",
        "            opacity= 0.5\r\n",
        "           )\r\n",
        "    ),\r\n",
        "        gobj.Scatter(\r\n",
        "        x=graph.query(\"RFM_Loyalty_Level == 'Gold'\")['Recency'],\r\n",
        "        y=graph.query(\"RFM_Loyalty_Level == 'Gold'\")['Frequency'],\r\n",
        "        mode='markers',\r\n",
        "        name='Gold',\r\n",
        "        marker= dict(size= 11,\r\n",
        "            line= dict(width=1),\r\n",
        "            color= 'red', opacity= 0.9\r\n",
        "           )\r\n",
        "    ),\r\n",
        "    gobj.Scatter(\r\n",
        "        x=graph.query(\"RFM_Loyalty_Level == 'Platinum'\")['Recency'],\r\n",
        "        y=graph.query(\"RFM_Loyalty_Level == 'Platinum'\")['Frequency'],\r\n",
        "        mode='markers',\r\n",
        "        name='Platinum',\r\n",
        "        marker= dict(size= 13,\r\n",
        "            line= dict(width=1),\r\n",
        "            color= 'black',\r\n",
        "            opacity= 0.9\r\n",
        "           )\r\n",
        "    ),\r\n",
        "]\r\n",
        "\r\n",
        "plot_layout = gobj.Layout(\r\n",
        "        yaxis= {'title': \"Frequency\"},\r\n",
        "        xaxis= {'title': \"Recency\"},\r\n",
        "        title='Segments'\r\n",
        "    )\r\n",
        "fig = gobj.Figure(data=plot_data, layout=plot_layout)\r\n",
        "po.iplot(fig)\r\n",
        "\r\n",
        "#Frequency Vs Monetary\r\n",
        "graph = RFMScores.query(\"Monetary < 50000 and Frequency < 2000\")\r\n",
        "\r\n",
        "plot_data = [\r\n",
        "    gobj.Scatter(\r\n",
        "        x=graph.query(\"RFM_Loyalty_Level == 'Bronze'\")['Frequency'],\r\n",
        "        y=graph.query(\"RFM_Loyalty_Level == 'Bronze'\")['Monetary'],\r\n",
        "        mode='markers',\r\n",
        "        name='Bronze',\r\n",
        "        marker= dict(size= 7,\r\n",
        "            line= dict(width=1),\r\n",
        "            color= 'blue',\r\n",
        "            opacity= 0.8   )\r\n",
        "    ),\r\n",
        "        gobj.Scatter(\r\n",
        "        x=graph.query(\"RFM_Loyalty_Level == 'Silver'\")['Frequency'],\r\n",
        "        y=graph.query(\"RFM_Loyalty_Level == 'Silver'\")['Monetary'],\r\n",
        "        mode='markers',\r\n",
        "        name='Silver',\r\n",
        "        marker= dict(size= 9,\r\n",
        "            line= dict(width=1),\r\n",
        "            color= 'green',\r\n",
        "            opacity= 0.5\r\n",
        "           )\r\n",
        "    ),\r\n",
        "        gobj.Scatter(\r\n",
        "        x=graph.query(\"RFM_Loyalty_Level == 'Gold'\")['Frequency'],\r\n",
        "        y=graph.query(\"RFM_Loyalty_Level == 'Gold'\")['Monetary'],\r\n",
        "        mode='markers',\r\n",
        "        name='Gold',\r\n",
        "        marker= dict(size= 11,\r\n",
        "            line= dict(width=1),\r\n",
        "            color= 'red',\r\n",
        "            opacity= 0.9\r\n",
        "           )\r\n",
        "    ),\r\n",
        "    gobj.Scatter(\r\n",
        "        x=graph.query(\"RFM_Loyalty_Level == 'Platinum'\")['Frequency'],\r\n",
        "        y=graph.query(\"RFM_Loyalty_Level == 'Platinum'\")['Monetary'],\r\n",
        "        mode='markers',\r\n",
        "        name='Platinum',\r\n",
        "        marker= dict(size= 13,\r\n",
        "            line= dict(width=1),\r\n",
        "            color= 'black',\r\n",
        "            opacity= 0.9\r\n",
        "           )\r\n",
        "    ),\r\n",
        "]\r\n",
        "plot_layout = gobj.Layout(\r\n",
        "        yaxis= {'title': \"Monetary\"},\r\n",
        "        xaxis= {'title': \"Frequency\"},\r\n",
        "        title='Segments'\r\n",
        "    )\r\n",
        "fig = gobj.Figure(data=plot_data, layout=plot_layout)\r\n",
        "po.iplot(fig)\r\n",
        "\r\n",
        "#Recency Vs Monetary\r\n",
        "graph = RFMScores.query(\"Monetary < 50000 and Frequency < 2000\")\r\n",
        "\r\n",
        "plot_data = [\r\n",
        "    gobj.Scatter(\r\n",
        "        x=graph.query(\"RFM_Loyalty_Level == 'Bronze'\")['Recency'],\r\n",
        "        y=graph.query(\"RFM_Loyalty_Level == 'Bronze'\")['Monetary'],\r\n",
        "        mode='markers',\r\n",
        "        name='Bronze',\r\n",
        "        marker= dict(size= 7,\r\n",
        "            line= dict(width=1),\r\n",
        "            color= 'blue',\r\n",
        "            opacity= 0.8\r\n",
        "           )\r\n",
        "    ),\r\n",
        "        gobj.Scatter(\r\n",
        "        x=graph.query(\"RFM_Loyalty_Level == 'Silver'\")['Recency'],\r\n",
        "        y=graph.query(\"RFM_Loyalty_Level == 'Silver'\")['Monetary'],\r\n",
        "        mode='markers',\r\n",
        "        name='Silver',\r\n",
        "        marker= dict(size= 9,\r\n",
        "            line= dict(width=1),\r\n",
        "            color= 'green',\r\n",
        "            opacity= 0.5\r\n",
        "           )\r\n",
        "    ),\r\n",
        "        gobj.Scatter(\r\n",
        "        x=graph.query(\"RFM_Loyalty_Level == 'Gold'\")['Recency'],\r\n",
        "        y=graph.query(\"RFM_Loyalty_Level == 'Gold'\")['Monetary'],\r\n",
        "        mode='markers',\r\n",
        "        name='Gold',\r\n",
        "  marker= dict(size= 11,\r\n",
        "            line= dict(width=1),\r\n",
        "            color= 'red',\r\n",
        "            opacity= 0.9\r\n",
        "           )\r\n",
        "    ),\r\n",
        "    gobj.Scatter(\r\n",
        "        x=graph.query(\"RFM_Loyalty_Level == 'Platinum'\")['Recency'],\r\n",
        "        y=graph.query(\"RFM_Loyalty_Level == 'Platinum'\")['Monetary'],\r\n",
        "        mode='markers',\r\n",
        "        name='Platinum',\r\n",
        "        marker= dict(size= 13,\r\n",
        "            line= dict(width=1),\r\n",
        "            color= 'black',\r\n",
        "            opacity= 0.9\r\n",
        "           )\r\n",
        "    ),\r\n",
        "]\r\n",
        "\r\n",
        "plot_layout = gobj.Layout(\r\n",
        "        yaxis= {'title': \"Monetary\"},\r\n",
        "        xaxis= {'title': \"Recency\"},\r\n",
        "        title='Segments'\r\n",
        "    )\r\n",
        "fig = gobj.Figure(data=plot_data, layout=plot_layout)\r\n",
        "po.iplot(fig)\r\n",
        "\r\n"
      ],
      "execution_count": 29,
      "outputs": [
        {
          "output_type": "stream",
          "text": [
            "Collecting chart_studio\n",
            "\u001b[?25l  Downloading https://files.pythonhosted.org/packages/ca/ce/330794a6b6ca4b9182c38fc69dd2a9cbff60fd49421cb8648ee5fee352dc/chart_studio-1.1.0-py3-none-any.whl (64kB)\n",
            "\r\u001b[K     |█████                           | 10kB 16.4MB/s eta 0:00:01\r\u001b[K     |██████████▏                     | 20kB 21.6MB/s eta 0:00:01\r\u001b[K     |███████████████▎                | 30kB 9.9MB/s eta 0:00:01\r\u001b[K     |████████████████████▍           | 40kB 8.6MB/s eta 0:00:01\r\u001b[K     |█████████████████████████▍      | 51kB 4.5MB/s eta 0:00:01\r\u001b[K     |██████████████████████████████▌ | 61kB 5.1MB/s eta 0:00:01\r\u001b[K     |████████████████████████████████| 71kB 3.5MB/s \n",
            "\u001b[?25hRequirement already satisfied: plotly in /usr/local/lib/python3.6/dist-packages (from chart_studio) (4.4.1)\n",
            "Requirement already satisfied: requests in /usr/local/lib/python3.6/dist-packages (from chart_studio) (2.23.0)\n",
            "Requirement already satisfied: six in /usr/local/lib/python3.6/dist-packages (from chart_studio) (1.15.0)\n",
            "Requirement already satisfied: retrying>=1.3.3 in /usr/local/lib/python3.6/dist-packages (from chart_studio) (1.3.3)\n",
            "Requirement already satisfied: idna<3,>=2.5 in /usr/local/lib/python3.6/dist-packages (from requests->chart_studio) (2.10)\n",
            "Requirement already satisfied: certifi>=2017.4.17 in /usr/local/lib/python3.6/dist-packages (from requests->chart_studio) (2020.12.5)\n",
            "Requirement already satisfied: chardet<4,>=3.0.2 in /usr/local/lib/python3.6/dist-packages (from requests->chart_studio) (3.0.4)\n",
            "Requirement already satisfied: urllib3!=1.25.0,!=1.25.1,<1.26,>=1.21.1 in /usr/local/lib/python3.6/dist-packages (from requests->chart_studio) (1.24.3)\n",
            "Installing collected packages: chart-studio\n",
            "Successfully installed chart-studio-1.1.0\n"
          ],
          "name": "stdout"
        },
        {
          "output_type": "display_data",
          "data": {
            "text/html": [
              "<html>\n",
              "<head><meta charset=\"utf-8\" /></head>\n",
              "<body>\n",
              "    <div>\n",
              "            <script src=\"https://cdnjs.cloudflare.com/ajax/libs/mathjax/2.7.5/MathJax.js?config=TeX-AMS-MML_SVG\"></script><script type=\"text/javascript\">if (window.MathJax) {MathJax.Hub.Config({SVG: {font: \"STIX-Web\"}});}</script>\n",
              "                <script type=\"text/javascript\">window.PlotlyConfig = {MathJaxConfig: 'local'};</script>\n",
              "        <script src=\"https://cdn.plot.ly/plotly-latest.min.js\"></script>    \n",
              "            <div id=\"f57132e7-1f92-4634-8aeb-d6d510af3084\" class=\"plotly-graph-div\" style=\"height:525px; width:100%;\"></div>\n",
              "            <script type=\"text/javascript\">\n",
              "                \n",
              "                    window.PLOTLYENV=window.PLOTLYENV || {};\n",
              "                    \n",
              "                if (document.getElementById(\"f57132e7-1f92-4634-8aeb-d6d510af3084\")) {\n",
              "                    Plotly.newPlot(\n",
              "                        'f57132e7-1f92-4634-8aeb-d6d510af3084',\n",
              "                        [{\"marker\": {\"color\": \"blue\", \"line\": {\"width\": 1}, \"opacity\": 0.8, \"size\": 7}, \"mode\": \"markers\", \"name\": \"Bronze\", \"type\": \"scatter\", \"x\": [95, 161, 262, 173, 294, 665, 138, 309, 97, 264, 276, 182, 341, 190, 113, 112, 197, 185, 85, 318, 323, 665, 300, 357, 249, 253, 72, 337, 696, 82, 192, 266, 179, 70, 334, 234, 133, 665, 238, 77, 183, 261, 241, 313, 182, 267, 191, 135, 267, 245, 200, 201, 225, 65, 263, 484, 113, 78, 330, 359, 137, 268, 155, 182, 243, 71, 453, 250, 203, 152, 149, 119, 91, 259, 165, 339, 115, 200, 232, 213, 71, 182, 66, 260, 215, 73, 78, 89, 319, 300, 126, 282, 190, 65, 312, 173, 339, 179, 217, 285, 64, 332, 318, 120, 218, 158, 269, 187, 162, 696, 288, 218, 103, 280, 515, 243, 255, 152, 515, 176, 339, 182, 326, 74, 152, 86, 71, 325, 351, 294, 169, 242, 213, 360, 145, 70, 287, 206, 89, 176, 181, 266, 284, 154, 213, 266, 266, 320, 151, 151, 423, 324, 273, 72, 143, 133, 233, 266, 173, 181, 218, 183, 211, 696, 326, 94, 234, 189, 318, 141, 225, 196, 198, 338, 106, 163, 274, 218, 332, 164, 126, 89, 453, 319, 295, 358, 262, 296, 218, 362, 218, 303, 453, 190, 306, 310, 170, 74, 257, 281, 175, 94, 217, 182, 119, 108, 259, 156, 119, 250, 665, 180, 637, 262, 201, 201, 208, 264, 218, 95, 198, 67, 297, 112, 319, 152, 166, 331, 75, 576, 197, 182, 484, 267, 300, 261, 161, 253, 216, 74, 151, 72, 253, 171, 270, 188, 276, 301, 158, 277, 172, 181, 199, 319, 665, 256, 281, 211, 331, 134, 127, 213, 239, 161, 225, 357, 320, 322, 260, 515, 122, 357, 87, 176, 484, 318, 358, 310, 128, 298, 148, 340, 323, 106, 222, 354, 172, 201, 214, 110, 326, 340, 484, 72, 696, 361, 665, 276, 172, 325, 112, 289, 278, 264, 171, 323, 332, 254, 219, 264, 330, 362, 143, 122, 81, 330, 155, 233, 181, 254, 163, 288, 187, 159, 351, 162, 70, 78, 161, 125, 90, 222, 106, 187, 296, 117, 339, 264, 201, 340, 234, 423, 201, 309, 243, 77, 129, 218, 182, 241, 302, 127, 319, 665, 98, 186, 159, 80, 253, 149, 194, 545, 331, 173, 178, 188, 696, 665, 194, 182, 341, 453, 74, 484, 89, 180, 696, 173, 279, 297, 340, 67, 106, 264, 240, 219, 213, 69, 170, 278, 317, 515, 158, 296, 281, 339, 138, 274, 78, 80, 235, 203, 225, 170, 90, 176, 252, 169, 215, 330, 187, 196, 273, 216, 284, 246, 290, 322, 312, 68, 337, 263, 106, 182, 198, 87, 218, 177, 73, 74, 67, 192, 162, 296, 665, 89, 159, 171, 81, 180, 164, 109, 423, 180, 64, 696, 219, 232, 302, 211, 285, 248, 186, 235, 263, 180, 127, 338, 105, 169, 545, 278, 362, 484, 72, 262, 297, 176, 665, 95, 318, 244, 294, 67, 665, 331, 309, 192, 360, 112, 185, 125, 276, 186, 545, 63, 84, 243, 217, 242, 299, 290, 273, 637, 109, 89, 239, 87, 116, 217, 226, 267, 241, 218, 129, 89, 120, 156, 152, 335, 266, 78, 322, 261, 165, 288, 317, 336, 99, 239, 176, 284, 203, 289, 187, 201, 226, 253, 234, 242, 64, 312, 204, 362, 107, 208, 242, 251, 214, 250, 123, 183, 355, 86, 179, 341, 238, 213, 163, 248, 273, 163, 71, 151, 119, 253, 185, 176, 203, 453, 246, 79, 219, 358, 75, 279, 276, 251, 361, 359, 306, 250, 177, 269, 233, 205, 71, 218, 236, 239, 203, 173, 81, 128, 696, 213, 227, 263, 358, 137, 141, 260, 156, 217, 169, 320, 200, 232, 240, 112, 359, 263, 254, 253, 281, 213, 181, 665, 323, 204, 170, 173, 129, 304, 162, 225, 277, 306, 188, 309, 665, 277, 335, 300, 233, 301, 249, 243, 171, 166, 453, 156, 225, 281, 362, 235, 256, 696, 303, 99, 213, 203, 359, 289, 696, 67, 245, 301, 254, 545, 290, 515, 95, 66, 295, 140, 177, 300, 249, 192, 261, 165, 216, 236, 226, 263, 187, 325, 140, 134, 484, 266, 150, 89, 73, 159, 215], \"y\": [6, 11, 9, 12, 17, 3, 3, 4, 7, 10, 2, 29, 8, 19, 16, 5, 8, 9, 3, 7, 14, 3, 1, 11, 8, 15, 10, 11, 14, 15, 9, 7, 6, 6, 1, 8, 1, 10, 1, 15, 2, 3, 15, 8, 17, 1, 37, 3, 5, 5, 5, 9, 10, 13, 11, 1, 16, 9, 13, 10, 5, 5, 1, 14, 16, 10, 14, 15, 1, 16, 8, 12, 13, 2, 17, 9, 10, 15, 11, 10, 17, 22, 12, 15, 10, 4, 8, 5, 4, 33, 14, 10, 24, 16, 19, 13, 19, 13, 3, 30, 8, 12, 1, 8, 13, 10, 21, 6, 25, 1, 9, 7, 9, 17, 7, 13, 17, 10, 7, 10, 1, 9, 28, 7, 7, 3, 16, 12, 7, 16, 9, 7, 5, 3, 2, 15, 11, 10, 5, 28, 6, 21, 14, 4, 6, 8, 7, 24, 13, 4, 29, 1, 21, 9, 3, 7, 3, 6, 25, 26, 2, 10, 7, 9, 8, 10, 16, 20, 8, 5, 10, 8, 9, 17, 8, 12, 15, 6, 6, 1, 6, 9, 11, 8, 4, 4, 11, 7, 5, 23, 3, 9, 5, 9, 22, 4, 6, 7, 19, 9, 17, 10, 23, 16, 4, 12, 19, 5, 12, 29, 1, 24, 3, 8, 30, 2, 13, 8, 22, 8, 1, 10, 5, 9, 6, 2, 6, 12, 11, 30, 4, 13, 2, 4, 4, 13, 10, 7, 17, 9, 11, 14, 12, 27, 5, 13, 18, 21, 8, 12, 20, 20, 5, 30, 1, 5, 15, 25, 8, 1, 14, 16, 9, 13, 14, 4, 41, 11, 3, 6, 10, 9, 2, 9, 5, 5, 14, 8, 14, 15, 6, 7, 10, 12, 6, 19, 16, 25, 12, 1, 1, 16, 5, 9, 5, 7, 16, 3, 1, 7, 14, 6, 8, 34, 10, 6, 2, 17, 2, 5, 9, 25, 11, 2, 13, 1, 7, 27, 4, 26, 24, 28, 17, 14, 1, 13, 5, 2, 13, 16, 6, 5, 9, 1, 12, 10, 2, 5, 6, 6, 7, 41, 11, 10, 8, 3, 1, 7, 11, 10, 25, 7, 17, 1, 8, 22, 15, 12, 41, 11, 24, 4, 30, 7, 19, 12, 11, 21, 12, 7, 1, 2, 7, 4, 14, 3, 8, 10, 8, 1, 1, 10, 1, 12, 10, 13, 6, 16, 8, 30, 11, 13, 1, 1, 14, 2, 8, 15, 6, 14, 15, 8, 6, 16, 7, 2, 11, 8, 11, 14, 3, 1, 10, 11, 20, 2, 9, 4, 10, 5, 5, 9, 2, 8, 20, 14, 9, 33, 3, 2, 13, 19, 15, 13, 13, 6, 17, 15, 14, 17, 3, 17, 3, 5, 9, 14, 8, 13, 10, 7, 10, 6, 10, 5, 14, 9, 5, 9, 12, 14, 8, 2, 9, 3, 12, 37, 1, 13, 9, 13, 7, 13, 1, 16, 17, 5, 12, 15, 15, 8, 11, 12, 10, 8, 10, 11, 3, 1, 38, 37, 37, 8, 38, 14, 16, 1, 16, 7, 14, 7, 26, 2, 7, 1, 4, 15, 7, 4, 11, 13, 5, 2, 14, 1, 12, 9, 10, 9, 14, 15, 13, 10, 12, 16, 4, 15, 10, 4, 9, 25, 14, 15, 9, 39, 16, 23, 27, 1, 12, 6, 1, 9, 17, 1, 9, 19, 34, 2, 3, 4, 33, 2, 2, 14, 9, 17, 5, 9, 8, 17, 9, 14, 12, 10, 17, 18, 40, 11, 6, 9, 14, 13, 3, 25, 5, 6, 12, 5, 29, 9, 14, 3, 5, 7, 8, 7, 11, 16, 19, 16, 15, 8, 5, 35, 7, 10, 1, 6, 6, 1, 1, 1, 3, 12, 14, 17, 2, 17, 11, 10, 12, 6, 8, 10, 34, 16, 32, 6, 12, 1, 1, 12, 2, 2, 20, 9, 1, 31, 26, 14, 12, 13, 5, 2, 40, 32, 14, 28, 21, 5, 34, 7, 5, 1, 13, 7, 19, 18, 17, 1, 28, 30, 17, 14, 8, 10, 10, 1, 17, 15, 7, 16, 19, 15, 2, 10, 5, 1, 13, 1, 7, 11, 3, 11, 9, 10, 12]}, {\"marker\": {\"color\": \"green\", \"line\": {\"width\": 1}, \"opacity\": 0.5, \"size\": 9}, \"mode\": \"markers\", \"name\": \"Silver\", \"type\": \"scatter\", \"x\": [151, 145, 309, 267, 244, 52, 84, 326, 143, 44, 95, 156, 89, 37, 176, 148, 336, 78, 25, 242, 288, 9, 18, 73, 292, 120, 127, 106, 32, 158, 56, 182, 89, 36, 291, 334, 89, 182, -1, 304, 21, 75, 216, 39, 138, 269, 36, 196, 38, 39, 26, 22, 340, 152, 26, 211, 45, 11, 90, 2, 153, 92, 36, 81, 261, 203, 122, 50, 154, 185, 14, 90, 90, 268, 301, 30, 152, 15, 29, 284, 119, 169, 351, 31, 119, 72, 81, 316, 120, 216, 177, 287, 70, 10, 257, 268, 152, 50, 191, 637, 329, 74, 156, 192, 245, 17, 34, 74, 107, 205, 74, 255, 23, 49, 125, 236, 233, 105, 341, 309, 316, 78, 205, 181, 64, 85, 173, 66, 205, 50, 152, 47, 182, 26, 318, 116, 15, 120, 31, 256, 39, 164, 60, 50, 75, 37, 32, 152, 29, 155, 68, 271, 158, 273, 158, 200, 18, 240, 287, 32, 81, 170, 75, 211, 168, 282, 243, 22, 19, 277, 122, 94, 57, 188, 358, 200, 204, 122, 297, 50, 294, 49, 23, 74, 169, 57, 109, 263, 179, 79, 176, 70, 124, 21, 21, 251, 14, 60, 213, 65, 159, 97, 77, 225, 280, 62, 60, 144, 284, 106, 304, 154, 150, 56, 137, 124, 89, 36, 84, 319, 304, 696, 78, 279, 242, 97, 303, 297, 243, 8, 201, 106, 150, 239, 42, 188, 177, 80, 124, 73, 86, 65, 40, 18, 117, 182, 114, 35, 135, 196, 35, 260, 67, 43, 22, 156, 9, 213, 149, 1, 310, 22, 334, 50, 68, 110, 253, 11, 164, 50, 332, 207, 25, 50, 341, 282, 100, 141, 301, 57, 182, 341, 18, 85, 16, 40, 50, 128, 300, 160, 10, 67, 72, 35, 127, 205, 125, 29, 266, 268, 50, 21, -1, 170, 274, 97, 77, 169, 117, 86, 26, 24, 106, 24, 147, 696, 180, 249, 43, 87, 75, -1, 263, 46, 59, 17, 245, 250, 26, 10, 28, 21, 52, 51, 90, 53, 10, 148, 341, 19, 52, 59, 178, 210, 19, 26, 131, 339, 207, 148, 204, 91, 127, 14, 79, 244, 49, 89, 57, 198, 250, 242, 43, 332, 266, 181, 71, 30, 170, 120, 269, 36, 65, 251, 274, 126, 42, 84, 69, 38, 127, 133, 22, 169, 240, 133, 120, 75, 45, 696, 25, 71, 175, 124, 70, 225, 5, 318, 225, 234, 239, 113, 74, 213, 238, 92, 245, 168, 135, 182, 23, 301, 243, 46, 49, 164, 182, 290, 67, 199, 116, 180, 44, 103, 69, 52, 208, 163, 53, 243, 304, 87, 74, 38, 217, 53, 39, 214, 65, 169, 40, 186, 16, 113, 313, 85, 24, 15, 23, 65, 22, 262, 131, 312, 89, 340, 262, 25, 354, 59, 77, 266, 362, 171, 44, 119, 84, 24, 173, 300, 11, 114, 273, 24, 50, 18, 32, 302, 176, 255, 242, 53, 52, 51, 141, 116, 17, 52, 134, 309, 158, 204, 161, 260, 91, 115, 66, 22, 43, 50, 39, 81, 52, 1, 100, 28, 266, 143, 34, 34, 49, 134, 40, 24, 77, 115, 133, 10, 358, 142, 51, 68, 207, 180, 172, 301, 50, 182, 46, 288, 51, 18, 25, 101, 312, 198, 122, 60, 185, 226, 271, 124, 172, 274, 112, 133, 128, 285, 98, 84, 165, 4, 47, 260, 43, 68, 282, 177, 260, 453, 288, 299, 124, 90, 218, 94, 72, 51, 262, 213, 249, 203, 133, 142, 232, 29, 50, 60, 73, 15, 40, 236, 75, 360, 267, 278, 71, 78, 261, 266, 116, 696, 196, 176, 100, 62, 268, 138, 49, 242, 119, 75, 38, 73, 159, 53, 181, 267, 188, 269, 183, 264, 70, 53, 56, 21, 68, 57, 28, 274, 181, 135, 197, 149, 44, 161, 25, 173, 114, 360, 120, 19, 90, 25, 306, 241, 53, 290, 35, 24, 71, 113, 71, 75, 15, 40, 273, 74, 70, 64, 67, 79, 207, 127, 42, 71, 141, 284, 43, 75, 256, 271, 65, 226, 78, 266, 576, 26, 423, 120, 53, 46, 665, 213, 198, 260, 57, 80, 19, 57, 453, 213, 173, 67, 103, 214, 227, 332, 227, 39, 197, 50, 43, 52, 69, 10, 14, 29, 120, 77, 239, 301, 484, 182, 72, 128, 90, 115, 235, 138, 125, 278, 107, 332, 77, 282, 18, 45, 60, 110, 127, 89, 137, 113, 216, 194, 313, 273, 22, 47, 233, 1, 156, 50, 106, 97, 188, 51, 194, 24, 75, 21, 78, 57, 46, 36, 53, 53, 120, 273, 213, 310, 251, 180, 245, 5, 57, 101, 361, 138, 22, 85, 68, 46, 11, 239, 72, 218, 199, 70, 211, 190, 125, 79, 156, 313, 192, 183, 10, 77, 94, 261, 300, 289, 150, 75, 261, 72, 211, 53, 25, 23, 66, 359, 304, 35, 312, 245, 17, 78, 187, 181, 312, 29, 151, 169, 119, 115, 86, 21, 159, 141, 180, 119, 74, 23, 43, 236, 339, 168, 665, 261, -1, 38, 178, 210, 72, 53, 85, 73, 59, 179, 73, 159, 51, 119, 47, 98, 69, 156, 119, 129, 545, 142, 107, 423, 34, 322, 56, 44, 23, 85, 59, 696, 310, 180, 133, 45, 138, 241, 147, 198, 116, 142, 637, 696, 51, 665, 59, 165, 145, 56, 236, 301, 155, 28, 211, 81, 108, 51, 63, 42, 124, 53, 70, 288, 9, 173, 133, 75, 257, 156, 187, 112, 16, 330, 290, 90, 301, 329, 126, 45, 36, 140, 75, 301, 60, 358, 67, 15, 82, 106, 74, 28, 326, 30, 120, 122, 81, 46, 23, 17, 310, 30, 43, -1, 3], \"y\": [27, 24, 18, 27, 50, 5, 11, 66, 2, 10, 5, 3, 34, 4, 2, 22, 28, 25, 9, 30, 23, 10, 4, 28, 92, 13, 28, 31, 6, 26, 4, 40, 10, 13, 33, 18, 35, 14, 8, 22, 6, 18, 22, 8, 30, 50, 7, 1, 3, 6, 17, 4, 41, 13, 32, 43, 11, 2, 29, 8, 22, 4, 16, 2, 22, 58, 27, 16, 26, 36, 1, 87, 8, 9, 96, 15, 30, 8, 7, 31, 2, 20, 21, 1, 20, 11, 12, 17, 17, 19, 19, 20, 8, 16, 90, 29, 23, 1, 29, 39, 35, 13, 21, 26, 39, 3, 11, 27, 18, 28, 10, 54, 19, 17, 17, 64, 23, 14, 18, 19, 26, 15, 22, 66, 76, 37, 44, 27, 33, 26, 8, 40, 23, 27, 23, 19, 8, 28, 5, 23, 6, 49, 12, 9, 25, 6, 16, 6, 9, 14, 20, 51, 12, 28, 38, 30, 3, 23, 35, 12, 22, 57, 31, 45, 11, 33, 23, 15, 3, 29, 5, 14, 11, 20, 18, 28, 19, 15, 21, 17, 26, 18, 11, 21, 9, 17, 23, 31, 26, 11, 39, 25, 33, 12, 11, 35, 15, 11, 41, 16, 11, 34, 39, 28, 31, 16, 6, 15, 38, 10, 46, 12, 69, 14, 26, 21, 34, 15, 5, 67, 28, 22, 5, 28, 26, 25, 58, 31, 24, 3, 7, 6, 44, 20, 12, 21, 41, 15, 17, 33, 32, 16, 5, 3, 13, 24, 36, 8, 28, 31, 14, 18, 18, 41, 41, 75, 14, 73, 25, 8, 14, 14, 29, 17, 17, 16, 18, 13, 30, 14, 47, 30, 7, 6, 19, 29, 12, 18, 18, 10, 19, 56, 10, 16, 17, 6, 29, 19, 53, 25, 7, 2, 4, 3, 20, 26, 21, 13, 20, 28, 16, 7, 2, 31, 26, 30, 29, 80, 29, 30, 4, 14, 15, 10, 29, 71, 17, 18, 5, 30, 19, 11, 21, 6, 39, 5, 35, 41, 15, 3, 6, 14, 12, 13, 59, 40, 6, 13, 21, 11, 6, 11, 98, 28, 17, 11, 15, 18, 20, 33, 43, 12, 10, 3, 20, 83, 6, 37, 11, 87, 61, 20, 35, 31, 70, 72, 7, 27, 67, 3, 22, 3, 5, 23, 30, 26, 11, 23, 3, 17, 28, 21, 15, 22, 28, 23, 22, 85, 7, 27, 5, 23, 16, 29, 21, 20, 5, 24, 20, 23, 23, 31, 22, 34, 33, 6, 18, 34, 19, 23, 2, 41, 52, 12, 3, 7, 28, 31, 19, 24, 37, 33, 36, 49, 29, 10, 16, 99, 36, 86, 24, 21, 26, 17, 72, 14, 13, 29, 8, 41, 12, 31, 12, 12, 48, 28, 8, 6, 10, 41, 29, 45, 25, 28, 30, 60, 58, 7, 58, 7, 29, 88, 70, 46, 15, 18, 10, 1, 75, 41, 15, 29, 29, 31, 8, 7, 39, 51, 31, 29, 22, 14, 17, 6, 19, 34, 15, 15, 25, 33, 35, 25, 2, 32, 21, 6, 34, 1, 11, 17, 13, 21, 12, 9, 19, 12, 22, 19, 5, 14, 9, 28, 21, 9, 37, 27, 18, 14, 25, 1, 8, 35, 40, 33, 20, 39, 10, 24, 11, 22, 30, 14, 18, 45, 29, 23, 18, 12, 93, 62, 40, 60, 25, 21, 18, 14, 6, 41, 11, 24, 98, 8, 32, 76, 32, 16, 29, 26, 23, 74, 23, 38, 18, 29, 18, 30, 16, 16, 21, 35, 37, 29, 22, 18, 6, 3, 15, 11, 11, 11, 6, 19, 15, 18, 37, 35, 22, 20, 24, 13, 25, 67, 33, 6, 23, 17, 20, 22, 16, 19, 37, 15, 8, 39, 31, 5, 97, 5, 23, 45, 29, 60, 23, 35, 31, 7, 21, 6, 17, 24, 63, 36, 40, 11, 2, 18, 17, 25, 29, 19, 4, 3, 40, 13, 30, 31, 5, 25, 17, 11, 28, 6, 33, 53, 12, 31, 29, 34, 30, 26, 23, 20, 34, 27, 19, 24, 29, 53, 10, 13, 3, 60, 10, 5, 19, 2, 45, 27, 46, 28, 1, 1, 2, 22, 23, 40, 26, 50, 3, 16, 66, 24, 98, 23, 28, 26, 38, 23, 24, 11, 25, 11, 12, 14, 19, 9, 2, 6, 26, 7, 39, 26, 45, 69, 18, 9, 60, 6, 21, 19, 25, 21, 31, 41, 39, 12, 11, 3, 9, 2, 28, 22, 15, 22, 22, 43, 70, 28, 8, 30, 18, 7, 32, 40, 24, 24, 20, 9, 14, 14, 23, 5, 15, 23, 2, 29, 13, 7, 25, 63, 28, 49, 21, 57, 38, 15, 9, 30, 53, 14, 6, 28, 11, 32, 15, 35, 33, 28, 69, 24, 51, 62, 13, 14, 39, 43, 61, 29, 5, 29, 21, 24, 27, 40, 38, 14, 88, 6, 19, 9, 9, 6, 42, 43, 2, 8, 45, 35, 13, 11, 63, 59, 77, 4, 33, 26, 39, 35, 5, 8, 22, 45, 18, 15, 27, 11, 15, 19, 24, 31, 18, 35, 10, 15, 35, 57, 67, 13, 72, 5, 10, 46, 10, 33, 13, 23, 24, 37, 26, 15, 15, 25, 58, 9, 40, 26, 21, 94, 28, 16, 2, 28, 19, 58, 38, 80, 21, 23, 29, 77, 1, 19, 7, 35, 48, 85, 15, 65, 21, 30, 48, 1, 29, 93, 31, 32, 46, 3, 29, 5, 21, 9, 19, 7, 20, 19, 3, 27, 7, 10, 25, 18, 29, 17, 1, 29, 2, 39, 38, 39, 15, 7, 16, 37, 25, 24, 9, 30, 37, 1, 7, 32, 32, 8, 43, 13, 26, 19, 37, 6, 4, 8, 21, 6, 14, 8, 7]}, {\"marker\": {\"color\": \"red\", \"line\": {\"width\": 1}, \"opacity\": 0.9, \"size\": 11}, \"mode\": \"markers\", \"name\": \"Gold\", \"type\": \"scatter\", \"x\": [44, 70, 74, 29, 59, 44, 112, 91, 181, 70, 59, 22, 120, 134, 68, 236, 9, 24, 0, 123, 248, 24, 42, 18, 17, 0, 74, 24, 54, 131, 64, 24, 173, 43, 9, 358, 300, 4, 59, 35, 28, 23, 23, 31, 73, 97, 113, 22, 52, 54, 73, 138, 80, 181, 34, 65, 24, 10, 119, 176, 28, 4, 46, 44, 29, 183, 23, 85, 22, 108, 19, 10, 295, 79, 92, 46, 199, 21, 46, 86, 39, 18, 205, 56, 78, 240, 60, 74, 34, 24, 17, 173, 17, 122, 9, 11, 40, 92, 18, 155, 249, 103, 22, 28, 2, 22, 73, 79, 198, 65, 17, 21, 122, 14, 77, 200, 260, 16, 60, 71, 92, 80, 181, 30, 0, 203, 26, 131, 59, 72, 24, 133, 43, 182, 108, 19, 10, 23, 24, 138, -1, 38, 187, 178, 5, 78, 57, 38, 232, 10, 23, 16, 36, 72, 85, 40, 14, 31, 39, 12, 66, 28, 23, 81, 84, 144, 19, 17, 14, 155, 14, 182, 52, 59, 40, 30, 3, 89, 75, 143, 274, 92, 74, 126, 45, 10, 205, 34, 149, 18, 32, 45, 24, 144, 267, 222, 116, 131, 100, 28, 107, 135, 28, 241, 71, 0, 214, 158, 53, 95, 71, 54, 50, 152, 70, 182, 181, 116, 138, 52, 37, 144, 40, 18, 57, 25, 4, 117, 11, 24, 304, 214, 57, -1, 74, 300, 1, 54, 30, 1, 26, 23, 16, 94, 11, 49, 53, 62, 10, 214, 23, 11, 187, 52, 79, 49, 73, 26, 17, 4, 45, 134, 5, 198, 52, 46, 0, 4, 22, 28, 78, 109, 73, 160, 106, 19, 152, 40, 65, 68, 73, 239, 5, 22, 10, 92, 60, 119, 46, 120, 29, 46, 75, 239, 19, 40, 126, 63, 70, 8, 10, 86, 71, 269, 18, 60, 16, 30, 50, 122, 110, 51, 94, 4, 75, 89, 248, 110, 260, 50, 162, 8, 35, 147, 51, 35, 38, 22, 21, 97, 31, 10, 36, 79, 44, 52, 26, 163, 213, 141, 108, 107, 71, 122, 42, 91, 4, 17, 79, 21, 53, 9, 3, 10, 155, 68, 17, 11, 46, 71, 19, 274, 0, 23, 22, 24, 60, 236, 15, 2, 32, 57, 75, 56, 144, 94, 56, 44, 59, 9, 89, 196, 35, 50, 19, 250, 161, 78, 4, 32, 137, 14, 124, 59, 43, 30, 24, 34, 197, 16, 112, 34, 44, 15, 144, 232, 54, 26, 97, 15, 273, 159, 73, 21, 3, 10, 161, 59, 23, 4, 1, 56, 29, 25, 156, 103, 107, 77, 79, 85, 25, 25, 25, 36, 70, 115, 34, 89, 50, 23, 19, 25, 12, 127, 109, 14, 137, 107, 57, 3, 15, 4, 0, 5, 47, 147, 51, 53, 80, 89, 42, 89, 256, 72, 32, 116, 185, 97, 71, 164, 53, 78, 46, 179, 97, 105, 77, 172, 34, 22, 103, 64, 86, 196, 23, 59, 18, 50, 114, 206, 37, 22, 46, 43, 164, 10, 119, 18, 208, 8, 59, 14, 60, 150, 10, 29, 87, 85, 10, 119, 60, 46, 126, 169, 78, 59, 134, 94, 243, 100, 32, -1, 57, 22, 59, 10, 60, 122, 75, 70, 85, 39, 60, 80, 45, 254, 75, 21, 137, 46, 22, 148, 37, 94, 26, 9, 26, 107, 54, 26, 59, 222, 85, 9, 51, 31, 150, 113, -1, 40, 89, 28, 17, 225, 87, 54, 37, 60, 28, 11, 44, 38, 11, 85, 177, 301, 24, 30, 46, 95, 26, 22, 30, 28, 122, 10, 11, 103, 74, 45, 30, 166, 18, 9, 45, 197, 40, 49, 25, 17, 172, 73, 75, 11, 145, 24, 11, 108, 15, 122, 114, 38, 51, 63, 187, 77, 5, 35, 25, 151, 10, 14, 149, 95, 75, 107, 46, 46, 50, 190, 78, 32, 44, 140, 254, 44, 80, -1, 72, 19, 94, 112, 22, 0, 151, 576, 150, 119, 23, 176, 5, 82, 43, 16, 78, 181, 120, 19, 23, 49, 77, 123, 19, 44, 54, 150, 23, 22, 127, 155, 63, 3, 12, 59, 122, 38, 87, 129, 148, 89, 22, 4, 54, 92, 145, 45, 71, 22, 44, 16, 100, 29, 114, 87, 50, 70, 79, 84, 4, 29, 38, 39, 21, 29, 18, 0, 268, 15, 85, 17, 32, 169, 72, 16, 35, 164, -1, 23, 89, 54, 25, 44, 0, 19, 170, 97, 318, 57, 34, 43, 38, 56, 54, 23, 243, 50, 73, 71, 353, 72, 22, 37, 107, 106, 17, 177, 46, 17, 123, 107, 16, 44, 78, 17, 65, 29, 18, 301, 28, 64, 243, 90, 74, 30, 60, 28, 53, 56, 124, 19, 18, 19, 44, 26, 97, 24, 65, 119, 46, 152, 23, 0, 10, 75, 15, 77, 46, 79, 296, 128, 207, 16, 95, 25, 19, 186, 22, 17, 110, 150, 161, 67, 26, 29, 53, 15, 161, 26, 32, 84, 80, 50, 90, 15, 120, 51, 80, 73, 60, 120, 34, 16, 19, 15, 28, 54, 65, 72, 57, 90, 5, 114, 45, 84, 26, 218, 91, 68, 52, 52, 274, 44, 89, -1, 114, 89, 36, 47, 116, 60, 100, 123, 30, 23, 103, 126, 17, 15, 156, 51, 99, 68, 42, 23, 144, 63, 119, 15, 26, 116, 59, 81, 9, 23, 26, 53, 119, 54, 25, 4, 40, 56, 129, 17, 60, 39, 255, 60, 59, 2, 62, 23, 85, 46, 50, 151, 40, 78, 11, 86, 16, 87, 26, 62, 25, 85, 189, 28, 28, 81, 73, 114, 36, 25, 181, 98, 242, 123, 22, 190, 99, 64, 29, 63, 84, 105, 17, 151, 57, 178, 106, -1, 59, 23, 53, 142, 264, 14, 25, 11, 3, 53, 15, 31, 116, 18, 15, 40, 148, 52, 147, 2, 227, 173, 21, 28, 17, 21, 78, 120, 30, 100, 274, 14, 185, 15, 45, 36, 124, 50, 24, 98, 49, 17, 40, 11, 19, 14, 113, 4, 39, 22, 114, 210, 12, 23, 43, 42, 50, 46, 18, 0, 40, 17, 204, 15, 60, 10, 44, 288, -1, 73, 17, 9, 187, 205, 24, 120, 53, 59, 94, 11, 53, 59, 24, 43, 60, 14, 68, 19, 24, 38, 59, 137, 109, 100, 85, 12, 65, 57, 219, 21, 31, 19, 1, 248, 138, 31, 4, 18, 52, 160, 131, 89, 109, 10, 44, 26, 244, 95, 71, 79, 53, 9, 88, 21, 151, 15, 166, 34, 56, 10, 145, 25, 40, 11, 64, 49, 9, 42, 85, 81, 665, 11, 89, 80, 156, 43, 180, 12, 120, 71, 172, 21, 71, 9, -1, 45, 0, 148, 11, 71, 134, -1, 114, 49, 72, 39, 120, 32, 4, 5, 168, 22, 11, 36, 12, 47, 23, 35, 74, 242, 43, 105, 19, 24, 45, 23, 40, 114, 18, 25, 31, 81, 38, 205, 11, 19, 12, 234, 25, 124, 24, 60, 19, 34, 59, 4, 116, 134, 43, 0, 37, 57, 23, 68, 112, 67, 120, 248, 24, 77, 71, 214, 199, 25, 59, 4, 56, 192, 59, 218, 65, 92, 87, 50, 43, 25, 72], \"y\": [59, 46, 5, 25, 91, 25, 56, 38, 123, 34, 52, 91, 51, 78, 46, 47, 13, 42, 7, 71, 82, 82, 22, 72, 28, 30, 45, 106, 99, 75, 97, 23, 63, 79, 17, 19, 151, 22, 20, 28, 76, 31, 27, 61, 47, 40, 26, 45, 71, 37, 27, 48, 28, 43, 18, 76, 48, 2, 112, 73, 21, 25, 20, 58, 47, 55, 44, 98, 63, 46, 23, 4, 74, 85, 79, 42, 131, 46, 72, 94, 79, 29, 63, 90, 21, 66, 32, 43, 58, 36, 31, 67, 25, 23, 13, 38, 46, 85, 37, 42, 54, 81, 54, 72, 26, 78, 62, 87, 124, 106, 25, 21, 53, 21, 51, 54, 42, 40, 24, 51, 32, 42, 128, 23, 37, 53, 97, 35, 43, 38, 28, 24, 19, 127, 78, 29, 74, 59, 46, 27, 41, 21, 86, 58, 8, 69, 34, 86, 48, 35, 65, 18, 44, 59, 38, 27, 6, 25, 87, 98, 124, 34, 175, 82, 49, 83, 38, 85, 23, 53, 21, 58, 26, 43, 98, 74, 44, 81, 71, 11, 62, 63, 40, 66, 63, 16, 104, 53, 87, 65, 25, 39, 53, 28, 48, 105, 43, 85, 42, 20, 63, 43, 33, 191, 34, 41, 72, 28, 24, 76, 25, 57, 70, 15, 208, 119, 177, 39, 60, 13, 36, 59, 96, 40, 93, 55, 19, 174, 20, 55, 93, 81, 23, 30, 61, 33, 23, 36, 59, 40, 27, 27, 19, 43, 33, 30, 20, 41, 27, 58, 45, 35, 137, 20, 92, 28, 54, 16, 13, 15, 39, 47, 30, 42, 20, 66, 39, 22, 89, 66, 92, 6, 32, 85, 54, 56, 52, 42, 65, 153, 35, 74, 10, 34, 15, 44, 46, 47, 26, 66, 40, 11, 49, 52, 48, 41, 108, 52, 29, 52, 29, 42, 65, 42, 39, 37, 24, 9, 67, 60, 118, 40, 50, 35, 79, 42, 108, 75, 53, 52, 55, 29, 29, 61, 33, 20, 31, 26, 21, 71, 60, 31, 47, 33, 46, 56, 131, 59, 45, 20, 103, 73, 54, 194, 43, 97, 27, 1, 144, 12, 93, 20, 40, 62, 37, 130, 90, 43, 29, 42, 10, 46, 7, 96, 57, 17, 229, 64, 32, 4, 58, 21, 69, 33, 330, 100, 164, 50, 20, 16, 92, 53, 24, 41, 99, 132, 61, 42, 7, 50, 68, 22, 28, 25, 55, 37, 52, 45, 89, 26, 69, 89, 41, 38, 71, 52, 27, 30, 44, 47, 53, 63, 48, 29, 70, 29, 17, 42, 28, 9, 20, 66, 60, 48, 36, 71, 47, 47, 6, 23, 20, 69, 30, 87, 77, 45, 57, 78, 44, 63, 19, 55, 85, 42, 59, 38, 34, 32, 72, 41, 4, 40, 26, 75, 77, 158, 144, 128, 61, 35, 48, 111, 52, 127, 12, 97, 71, 25, 57, 155, 42, 82, 104, 70, 26, 42, 27, 49, 47, 33, 47, 3, 35, 69, 35, 84, 21, 28, 82, 106, 29, 68, 26, 67, 91, 20, 55, 29, 103, 5, 63, 19, 19, 1, 32, 13, 69, 37, 9, 42, 52, 35, 58, 125, 99, 50, 89, 44, 47, 77, 82, 11, 63, 20, 58, 39, 23, 58, 47, 95, 42, 57, 13, 17, 20, 63, 44, 4, 27, 36, 50, 42, 53, 153, 99, 39, 82, 55, 62, 60, 58, 157, 57, 52, 24, 24, 77, 76, 11, 46, 86, 35, 15, 92, 57, 81, 61, 56, 20, 27, 53, 31, 57, 104, 168, 45, 44, 9, 24, 77, 52, 47, 67, 60, 45, 3, 16, 64, 49, 60, 25, 238, 52, 21, 47, 48, 33, 33, 53, 18, 86, 237, 55, 35, 118, 128, 91, 69, 32, 70, 26, 10, 28, 192, 45, 61, 21, 29, 20, 83, 35, 12, 42, 8, 98, 119, 64, 31, 48, 208, 89, 41, 62, 51, 54, 50, 62, 27, 47, 97, 80, 147, 20, 40, 76, 105, 49, 86, 51, 249, 12, 29, 60, 19, 98, 91, 42, 28, 84, 20, 49, 37, 27, 52, 35, 9, 33, 90, 86, 94, 145, 28, 64, 28, 100, 22, 55, 39, 65, 6, 71, 39, 34, 84, 70, 68, 180, 33, 21, 21, 31, 39, 51, 67, 39, 76, 48, 48, 34, 30, 38, 40, 35, 37, 31, 30, 29, 18, 20, 34, 23, 58, 28, 31, 67, 179, 35, 57, 98, 63, 19, 66, 23, 41, 44, 97, 137, 96, 47, 37, 46, 19, 51, 90, 123, 18, 61, 45, 54, 17, 27, 41, 4, 42, 37, 118, 18, 39, 45, 153, 47, 38, 235, 28, 34, 81, 18, 130, 76, 228, 111, 32, 102, 33, 59, 88, 34, 83, 82, 73, 63, 45, 54, 71, 51, 18, 83, 174, 84, 99, 182, 28, 35, 53, 18, 42, 39, 56, 50, 97, 95, 11, 84, 86, 35, 156, 77, 4, 55, 45, 32, 84, 57, 31, 19, 18, 35, 87, 57, 42, 28, 27, 85, 33, 96, 29, 48, 64, 69, 50, 62, 16, 32, 20, 6, 98, 89, 44, 30, 62, 21, 123, 27, 79, 22, 93, 43, 151, 82, 53, 42, 95, 25, 34, 170, 42, 34, 54, 48, 76, 60, 155, 18, 60, 103, 67, 28, 26, 28, 22, 47, 63, 20, 19, 52, 178, 203, 99, 162, 44, 60, 93, 57, 143, 54, 53, 44, 62, 57, 33, 60, 42, 86, 16, 101, 42, 87, 22, 3, 12, 37, 23, 49, 44, 52, 74, 16, 153, 22, 28, 30, 75, 70, 98, 6, 65, 316, 92, 83, 62, 99, 64, 25, 64, 81, 52, 162, 187, 74, 90, 127, 39, 35, 260, 48, 35, 20, 67, 54, 80, 61, 19, 29, 96, 40, 47, 69, 36, 29, 19, 40, 31, 55, 69, 87, 18, 112, 78, 124, 12, 80, 6, 69, 94, 45, 69, 51, 66, 55, 24, 9, 73, 107, 33, 183, 87, 71, 27, 8, 16, 45, 59, 29, 87, 57, 83, 15, 47, 28, 15, 27, 92, 38, 213, 41, 66, 6, 30, 30, 26, 48, 54, 36, 19, 19, 54, 27, 41, 78, 181, 29, 76, 5, 28, 127, 52, 20, 87, 30, 45, 73, 33, 47, 75, 25, 145, 49, 34, 27, 46, 49, 29, 25, 50, 214, 23, 50, 83, 55, 100, 78, 26, 70, 20, 40, 51, 52, 44, 19, 43, 30, 46, 35, 74, 55, 23, 29, 50, 115, 10, 40, 67, 43, 25, 92, 25, 19, 21, 105, 38, 54, 53, 156, 58, 82, 43, 48, 61, 61, 56, 1, 51, 297, 24, 79, 44, 46, 26, 117, 64, 109, 193, 114, 38, 34, 39, 59, 94, 23, 145, 5, 39, 65, 21, 43, 19, 71, 20, 104, 68, 31, 31, 146, 23, 38, 81, 58, 60, 22, 30, 123, 191, 53, 96, 19, 121, 47, 19, 37, 73, 2, 73, 36, 70, 21, 108, 41, 46, 26, 378, 74, 32, 36, 56, 47, 1, 20, 38, 61, 38, 21, 34, 23, 39, 37, 131, 38, 31, 74, 97, 44, 68, 45, 141, 68, 42, 31, 21, 30, 124, 49, 88, 78, 47, 16, 98, 21, 61, 46]}, {\"marker\": {\"color\": \"black\", \"line\": {\"width\": 1}, \"opacity\": 0.9, \"size\": 13}, \"mode\": \"markers\", \"name\": \"Platinum\", \"type\": \"scatter\", \"x\": [22, 22, 29, 11, 64, 3, 65, 5, 18, 26, 8, 24, 10, 11, 39, 5, 14, 15, 138, 2, 9, 5, 21, 26, 17, 15, 36, 16, 89, 16, 9, 10, 30, 8, 8, 0, 0, 22, 11, 9, 21, 10, 53, 16, 25, 11, 56, 14, 14, 0, 1, -1, 11, 19, 97, 21, 77, 9, 23, 53, 4, -1, 21, 19, 30, 44, 34, 10, 16, 84, 59, 14, 5, 1, 50, 18, 16, 26, 14, 11, 10, 10, 19, 9, -1, 89, 10, 19, 32, 59, 3, 18, 4, 0, 11, 8, 5, 0, 23, 23, 21, 0, 17, 30, 112, 82, 45, 159, 9, 17, 60, 30, 45, 11, 32, 2, 11, 40, 10, 10, 18, 0, 24, 14, 16, 26, 4, 17, 5, 10, -1, 21, 4, 45, 8, 17, 107, 45, 21, 29, 10, 46, 30, 53, 9, 2, 86, 73, 40, 12, -1, 10, 5, 15, 2, 108, 12, 5, 4, 12, 24, 29, 23, 24, 35, 52, 16, 9, 0, 35, 5, 9, 10, 39, 17, 1, 5, -1, 49, 56, 15, 49, 24, 16, 9, 22, 11, 25, 92, 24, 12, 9, 0, 78, 46, 5, 16, -1, 51, 0, 14, 18, 123, 40, 22, 37, 21, 11, 11, 10, 22, 28, 72, 79, 57, 17, 17, 21, 24, 54, 16, 18, 120, 39, -1, -1, 19, 12, 30, 39, 15, 10, 43, 9, 18, 21, 5, 8, 26, 16, 17, 15, 23, 22, 9, 4, 19, 19, 36, 9, 23, 12, 16, 11, 51, 0, 22, 19, 10, 10, 17, 2, 38, 81, 19, 29, 28, 40, 10, 16, 10, 18, 10, 105, 53, 11, 16, 11, 42, 28, 26, 42, 22, 43, 127, 30, 10, 123, 9, 17, 3, 19, 21, 23, 5, 11, 31, 0, 17, -1, 71, 0, 28, 36, 44, 10, 17, 16, 16, 45, 19, 120, 4, 21, 74, 10, 4, 60, 3, 64, 10, 19, 25, 10, 17, 23, 9, 42, 43, 28, 18, 18, 60, 22, 148, 31, 59, 63, 18, 26, 16, 42, 26, 19, 10, 47, 17, 17, 11, 8, 17, 71, 19, 0, 25, 24, 1, 60, 9, -1, 28, 24, 40, 12, 10, 19, 10, 16, 11, 113, 40, 34, 12, 8, 15, 21, 19, 11, 15, 43, 23, 47, 31, 24, 34, 4, 9, 22, 17, 78, 28, 30, 10, 5, 9, 16, 25, 25, 2, 34, 1, 15, 151, 10, 18, 3, 15, 14, 10, 9, 8, 10, 10, 107, 0, 16, 11, 4, 19, 11, 9, 112, 65, 82, -1, 51, 1, 9, 22, 29, 39, 40, 15, -1, 30, 29, 43, 5, 1, -1, 67, 12, 10, 21, 3, 4, 9, 40, 0, 23, 0, 21, 28, 59, 0, 10, 9, 43, 72, 115, 15, 12, 26, 11, 39, 9, 25, 15, -1, 9, 5, 9, 25, 2, 12, 25, 40, 9, 9, 11, 21, 10, 18, 18, 4, 9, 37, 17, 14, 25, 60, 50, 18, 14, 52, -1, 17, 9, 124, 18, 70, 18, 15, 5, 1, 78, 25, 10, 10, 51, 158, 10, 5, 73, 1, 2, 0, 15, 3, 18, -1, 43, 42, 3, 34, 10, 50, 12, 71, 0, 25, 57, 29, 18, 40, 97, 14, 0, 9, 16, 84, 155, -1, 19, 47, 12, 12, 9, 56, 3, 15, 18, 4, 100, 149, 21, 4, 18, 15, 52, 22, 11, 4, 12, 38, 34, 17, 18, 22, 21, 89, 25, 19, 1, 30, 77, -1, 22, 10, 25, 31, 23, 15, 11, 1, 9, 10, 56, 43, 24, 15, 16, 105, 25, 66, 18, 0, 65, 18, 24, 9, 23, 25, 79, 126, 43, 40, 9, 151, 8, 14, 18, 16, 19, 12, 15, 39, 0, 0, 9, 46, 26, 43, 17, 11, 23, 22, 16, 34, 49, 56, 73, -1, 70, 11, 17, 86, 32, 15, 40, 12, 22, 14, 127, 17, 16, 9, 19, 15, 16, 19, 0, 21, 3, 4, 24, 17, 0, 4, 17, 0, 5, 22, 71, 12, 16, 0, 87, 59, 12, 3, 1, 1, 26, 15, 46, 16, 46, 4, 1, 40, 4, 5, 16, 22, 56, -1, 11, 42, 17, 45, 3, 57, 59, 17, 51, 16, 34, 2, 0, 49, 24, 14, 2, 39, 50, 5, 15, 100, 4, 4, 51, 11, 21, 0, 9, 59, 44, 24, -1, 18, 4, 52, 16, 45, 17, 9, 15, 21, 31, 50, 21, -1, 25, 97, 1, 15, 14, 28, 24, 11, 21, 8, 79, 8, 0, 9, 11, 2, 18, 17, 18, 11, 60, 14, 12, 2, 44, 17, 21, 47, 26, 51, 103, 0, 28, 21, 19, 3, 51, 17, 67, 49, 21, 2, 15, 8, 19, 10, 108, 8, 105, 22, 15, 12, 16, -1, 2, 1, 22, 59, 3, 22, -1, 16, 8, 2, 9, 23, 16, 5, 1, 47, 10, 2, 8, 5, 19, 9, 5, 23, 14, 17, 26, 46, 5, 78, 4, 11, 1, 1, 17, 19, 9, 64, 57, 75, 10, 8, 10, 16, 38, 3, 11, 36, 23, 50, 5, 36, 10, 29, 0, 65, 5, 22, 22, 90, 144, 12, 15, 66, 19, 16, 59, 19, 59, 9, 28, 49, 5, 12, 21, 31, 17, 19, 3, 52, 12, -1, 16, 15, 17, 3, 0, 0, 42, 10, 22, 18, 28, 9, 11, 51, 8, 21, 59, 21, -1, 12, 28, 0, 17, 17, 24, 28, 0, 120, 50, -1, 18, 10, 75, 44, 47, 15, 16, 0, 22, 21, 5, 28, 32, -1, 3, 5, 22, 11, 28, -1, 52, 5, 3, 40, 60, 11, 24, 18, 15, 12, 12, 17, 14, 3, 42, 31, 26, 9, 3, 16, -1, 11, 14, 10, -1, 4, 15, 8, 4, 8, 31, -1, 14, 17, 8, 12, 23, 40, 23, 1, 19, 8, 50, 2, 69, -1, 59, 11, 3, 19, 91, 5, 9, 62, 45, 15, 43, 22, 16, 16, 15, 14, 57, 28, 1, 17, -1, 16, 16, 19, 14, 25, 57, 50, 2, 65, 32, 17, 73, 91, 23, 23, 40, 35, 53, 22, 14, 18, 18, 34, 31, 60, 11, 25, 10, 0, 17, 25, 4, 42, 4, 50, 119, 2, -1, 28, 10, 0, 31, 45, 108, 16, 37, 44, 22, 0, 16, 15, 86, 28, 108, 19, 11, 25, 56, 14, 19, 17, 4, 12, 24, 21, 63, 2, 22, 22, 36, 3, 16, 0, 12, 14, 35, 29, 26, 17, 1, 24, 29, 12, 0, 14, 14, 21, 11, 11, 4, 123, 0, 8, 24, 15, 63, 21, 11, 87, 39, 21, 86, 0, 23, 31, 45, 1, 11, 3, 10, 2, 59, 15, 17, 34, 12, 12, 15, -1, 4, 9, 0, 15, 71, 71, 9, 43, 4, 39, 21, 31, -1, 9, 31, 1, 9, 4, 39, 24, 99, 2, 9, -1], \"y\": [103, 199, 175, 314, 113, 420, 103, 110, 314, 538, 107, 154, 116, 63, 91, 75, 24, 50, 107, 50, 720, 84, 82, 129, 62, 120, 47, 116, 215, 180, 238, 95, 109, 305, 20, 64, 59, 339, 404, 89, 219, 110, 176, 458, 131, 99, 172, 136, 403, 69, 425, 358, 1028, 155, 159, 24, 423, 572, 304, 145, 201, 120, 76, 79, 235, 140, 127, 704, 170, 135, 319, 86, 87, 79, 121, 65, 314, 265, 181, 110, 226, 119, 46, 57, 149, 321, 56, 142, 108, 611, 207, 141, 1677, 91, 187, 211, 440, 316, 187, 59, 81, 107, 476, 75, 108, 268, 134, 119, 166, 60, 158, 172, 152, 51, 155, 478, 304, 104, 157, 67, 49, 46, 101, 167, 195, 71, 443, 63, 382, 99, 302, 260, 79, 109, 422, 42, 162, 115, 44, 141, 436, 172, 223, 296, 179, 51, 109, 136, 176, 341, 46, 126, 83, 174, 87, 128, 166, 247, 99, 226, 201, 92, 59, 146, 188, 101, 146, 79, 96, 166, 56, 108, 470, 195, 57, 90, 197, 134, 336, 102, 60, 104, 196, 321, 342, 142, 117, 368, 135, 197, 115, 31, 349, 137, 76, 46, 74, 206, 101, 110, 76, 139, 307, 115, 336, 104, 165, 178, 65, 142, 110, 118, 149, 122, 148, 117, 49, 45, 160, 152, 626, 149, 338, 111, 107, 351, 234, 84, 121, 155, 86, 208, 171, 84, 243, 250, 143, 235, 209, 488, 210, 1106, 284, 202, 111, 80, 324, 43, 181, 450, 214, 105, 250, 79, 123, 156, 160, 72, 159, 167, 52, 200, 134, 210, 1204, 149, 327, 165, 240, 265, 259, 579, 87, 102, 112, 108, 59, 100, 193, 67, 175, 115, 159, 112, 141, 111, 78, 106, 111, 143, 64, 156, 27, 280, 47, 101, 237, 100, 62, 143, 105, 180, 117, 87, 101, 123, 259, 162, 90, 129, 55, 118, 69, 524, 140, 186, 286, 350, 87, 182, 107, 590, 124, 206, 222, 224, 382, 55, 51, 293, 70, 258, 109, 970, 180, 240, 72, 281, 144, 144, 120, 193, 194, 624, 164, 107, 799, 316, 68, 73, 101, 203, 291, 972, 216, 62, 519, 330, 76, 111, 72, 114, 399, 366, 48, 113, 216, 74, 423, 127, 270, 235, 123, 383, 197, 152, 102, 55, 86, 134, 122, 152, 172, 106, 199, 102, 237, 49, 126, 253, 168, 90, 573, 170, 74, 102, 258, 421, 327, 71, 130, 210, 115, 335, 347, 415, 196, 139, 357, 339, 71, 237, 278, 501, 147, 202, 194, 54, 60, 59, 235, 102, 135, 1090, 60, 117, 46, 80, 1141, 385, 235, 255, 121, 67, 108, 138, 145, 130, 388, 143, 127, 58, 99, 144, 124, 53, 73, 498, 55, 116, 96, 355, 165, 170, 138, 312, 198, 160, 216, 115, 1119, 182, 472, 135, 562, 155, 510, 394, 130, 1502, 453, 206, 78, 143, 114, 276, 237, 121, 54, 440, 57, 145, 108, 101, 100, 100, 197, 45, 79, 127, 102, 84, 52, 73, 80, 217, 343, 271, 125, 710, 110, 93, 91, 212, 51, 310, 142, 110, 166, 117, 143, 49, 78, 110, 350, 111, 53, 41, 274, 47, 139, 88, 204, 103, 194, 192, 243, 225, 519, 551, 114, 95, 94, 132, 117, 194, 302, 84, 85, 73, 122, 192, 53, 292, 306, 329, 382, 219, 286, 97, 98, 188, 50, 154, 297, 125, 512, 68, 213, 97, 164, 160, 308, 178, 214, 185, 178, 163, 672, 108, 228, 256, 83, 259, 702, 115, 899, 113, 323, 215, 150, 123, 103, 410, 77, 43, 423, 100, 185, 155, 167, 484, 119, 90, 116, 78, 155, 114, 202, 110, 78, 166, 78, 171, 117, 214, 288, 53, 937, 302, 72, 173, 88, 62, 93, 293, 411, 141, 180, 43, 267, 206, 75, 133, 263, 301, 133, 72, 49, 123, 68, 115, 68, 273, 167, 138, 140, 645, 191, 142, 546, 461, 128, 120, 129, 116, 74, 150, 267, 155, 143, 115, 74, 76, 98, 183, 122, 35, 176, 65, 43, 97, 113, 270, 140, 552, 130, 506, 103, 218, 385, 212, 139, 182, 235, 160, 46, 101, 1137, 83, 312, 121, 64, 102, 129, 227, 167, 63, 57, 31, 354, 284, 212, 117, 89, 78, 339, 117, 224, 117, 89, 130, 474, 98, 85, 125, 69, 84, 162, 45, 218, 295, 134, 111, 46, 123, 84, 134, 135, 662, 294, 91, 69, 270, 135, 124, 258, 133, 107, 166, 109, 118, 79, 162, 151, 69, 319, 319, 153, 77, 92, 57, 94, 109, 66, 662, 106, 53, 51, 118, 125, 108, 330, 210, 186, 172, 232, 102, 369, 372, 109, 132, 282, 111, 202, 135, 82, 236, 148, 170, 360, 146, 136, 169, 113, 290, 183, 177, 981, 251, 52, 207, 460, 126, 216, 62, 172, 276, 66, 179, 117, 152, 94, 118, 69, 261, 73, 208, 160, 252, 114, 163, 585, 62, 308, 144, 270, 402, 447, 624, 199, 201, 225, 185, 269, 660, 125, 191, 242, 357, 449, 69, 89, 706, 222, 145, 255, 158, 333, 190, 93, 320, 285, 164, 76, 149, 449, 324, 86, 189, 165, 266, 116, 378, 128, 137, 279, 112, 159, 101, 135, 125, 79, 710, 208, 151, 547, 101, 128, 327, 672, 83, 209, 77, 898, 241, 305, 281, 249, 54, 28, 89, 148, 407, 120, 129, 93, 169, 44, 217, 252, 234, 102, 43, 318, 516, 78, 62, 296, 143, 140, 174, 77, 96, 115, 63, 195, 125, 48, 65, 42, 418, 117, 134, 27, 52, 478, 81, 101, 229, 104, 144, 86, 63, 128, 73, 84, 237, 32, 152, 57, 211, 157, 103, 274, 472, 47, 208, 541, 105, 566, 400, 127, 114, 292, 124, 142, 111, 102, 135, 57, 79, 66, 131, 473, 200, 50, 543, 753, 407, 500, 215, 132, 411, 468, 111, 253, 418, 109, 78, 213, 59, 82, 113, 64, 269, 206, 117, 43, 271, 328, 134, 135, 277, 100, 111, 111, 215, 88, 82, 109, 366, 105, 137, 82, 253, 394, 88, 106, 63, 152, 165, 299, 411, 440, 253, 201, 166, 213, 270, 560, 237, 576, 135, 312, 50, 315, 123, 297, 157, 91, 232, 259, 91, 82, 158, 86, 117, 68, 53, 110, 227, 705, 78, 304, 118, 130, 286, 256, 115, 142, 103, 382, 245, 274, 192, 66, 165, 218, 690, 97, 47, 136, 193, 741, 412, 95, 75, 310, 194, 82, 134, 190, 111, 408, 104, 140, 61, 851, 141, 371, 220, 169, 121, 54, 199, 222, 148, 102, 370, 279, 145, 67, 696, 31, 90, 485, 249, 329, 179, 296, 166, 112, 472, 127, 360, 46, 137, 470, 142, 227, 127, 89, 213, 444, 1279, 364, 196, 70, 159, 43, 221, 140, 80, 54, 189, 90, 119, 71, 159, 200, 134, 114, 64, 272, 271, 242, 164, 86, 104, 61, 104, 175, 118, 42, 134, 166, 756, 70]}],\n",
              "                        {\"template\": {\"data\": {\"bar\": [{\"error_x\": {\"color\": \"#2a3f5f\"}, \"error_y\": {\"color\": \"#2a3f5f\"}, \"marker\": {\"line\": {\"color\": \"#E5ECF6\", \"width\": 0.5}}, \"type\": \"bar\"}], \"barpolar\": [{\"marker\": {\"line\": {\"color\": \"#E5ECF6\", \"width\": 0.5}}, \"type\": \"barpolar\"}], \"carpet\": [{\"aaxis\": {\"endlinecolor\": \"#2a3f5f\", \"gridcolor\": \"white\", \"linecolor\": \"white\", \"minorgridcolor\": \"white\", \"startlinecolor\": \"#2a3f5f\"}, \"baxis\": {\"endlinecolor\": \"#2a3f5f\", \"gridcolor\": \"white\", \"linecolor\": \"white\", \"minorgridcolor\": \"white\", \"startlinecolor\": \"#2a3f5f\"}, \"type\": \"carpet\"}], \"choropleth\": [{\"colorbar\": {\"outlinewidth\": 0, \"ticks\": \"\"}, \"type\": \"choropleth\"}], \"contour\": [{\"colorbar\": {\"outlinewidth\": 0, \"ticks\": \"\"}, \"colorscale\": [[0.0, \"#0d0887\"], [0.1111111111111111, \"#46039f\"], [0.2222222222222222, \"#7201a8\"], [0.3333333333333333, \"#9c179e\"], [0.4444444444444444, \"#bd3786\"], [0.5555555555555556, \"#d8576b\"], [0.6666666666666666, \"#ed7953\"], [0.7777777777777778, \"#fb9f3a\"], [0.8888888888888888, \"#fdca26\"], [1.0, \"#f0f921\"]], \"type\": \"contour\"}], \"contourcarpet\": [{\"colorbar\": {\"outlinewidth\": 0, \"ticks\": \"\"}, \"type\": \"contourcarpet\"}], \"heatmap\": [{\"colorbar\": {\"outlinewidth\": 0, \"ticks\": \"\"}, \"colorscale\": [[0.0, \"#0d0887\"], [0.1111111111111111, \"#46039f\"], [0.2222222222222222, \"#7201a8\"], [0.3333333333333333, \"#9c179e\"], [0.4444444444444444, \"#bd3786\"], [0.5555555555555556, \"#d8576b\"], [0.6666666666666666, \"#ed7953\"], [0.7777777777777778, \"#fb9f3a\"], [0.8888888888888888, \"#fdca26\"], [1.0, \"#f0f921\"]], \"type\": \"heatmap\"}], \"heatmapgl\": [{\"colorbar\": {\"outlinewidth\": 0, \"ticks\": \"\"}, \"colorscale\": [[0.0, \"#0d0887\"], [0.1111111111111111, \"#46039f\"], [0.2222222222222222, \"#7201a8\"], [0.3333333333333333, \"#9c179e\"], [0.4444444444444444, \"#bd3786\"], [0.5555555555555556, \"#d8576b\"], [0.6666666666666666, \"#ed7953\"], [0.7777777777777778, \"#fb9f3a\"], [0.8888888888888888, \"#fdca26\"], [1.0, \"#f0f921\"]], \"type\": \"heatmapgl\"}], \"histogram\": [{\"marker\": {\"colorbar\": {\"outlinewidth\": 0, \"ticks\": \"\"}}, \"type\": \"histogram\"}], \"histogram2d\": [{\"colorbar\": {\"outlinewidth\": 0, \"ticks\": \"\"}, \"colorscale\": [[0.0, \"#0d0887\"], [0.1111111111111111, \"#46039f\"], [0.2222222222222222, \"#7201a8\"], [0.3333333333333333, \"#9c179e\"], [0.4444444444444444, \"#bd3786\"], [0.5555555555555556, \"#d8576b\"], [0.6666666666666666, \"#ed7953\"], [0.7777777777777778, \"#fb9f3a\"], [0.8888888888888888, \"#fdca26\"], [1.0, \"#f0f921\"]], \"type\": \"histogram2d\"}], \"histogram2dcontour\": [{\"colorbar\": {\"outlinewidth\": 0, \"ticks\": \"\"}, \"colorscale\": [[0.0, \"#0d0887\"], [0.1111111111111111, \"#46039f\"], [0.2222222222222222, \"#7201a8\"], [0.3333333333333333, \"#9c179e\"], [0.4444444444444444, \"#bd3786\"], [0.5555555555555556, \"#d8576b\"], [0.6666666666666666, \"#ed7953\"], [0.7777777777777778, \"#fb9f3a\"], [0.8888888888888888, \"#fdca26\"], [1.0, \"#f0f921\"]], \"type\": \"histogram2dcontour\"}], \"mesh3d\": [{\"colorbar\": {\"outlinewidth\": 0, \"ticks\": \"\"}, \"type\": \"mesh3d\"}], \"parcoords\": [{\"line\": {\"colorbar\": {\"outlinewidth\": 0, \"ticks\": \"\"}}, \"type\": \"parcoords\"}], \"pie\": [{\"automargin\": true, \"type\": \"pie\"}], \"scatter\": [{\"marker\": {\"colorbar\": {\"outlinewidth\": 0, \"ticks\": \"\"}}, \"type\": \"scatter\"}], \"scatter3d\": [{\"line\": {\"colorbar\": {\"outlinewidth\": 0, \"ticks\": \"\"}}, \"marker\": {\"colorbar\": {\"outlinewidth\": 0, \"ticks\": \"\"}}, \"type\": \"scatter3d\"}], \"scattercarpet\": [{\"marker\": {\"colorbar\": {\"outlinewidth\": 0, \"ticks\": \"\"}}, \"type\": \"scattercarpet\"}], \"scattergeo\": [{\"marker\": {\"colorbar\": {\"outlinewidth\": 0, \"ticks\": \"\"}}, \"type\": \"scattergeo\"}], \"scattergl\": [{\"marker\": {\"colorbar\": {\"outlinewidth\": 0, \"ticks\": \"\"}}, \"type\": \"scattergl\"}], \"scattermapbox\": [{\"marker\": {\"colorbar\": {\"outlinewidth\": 0, \"ticks\": \"\"}}, \"type\": \"scattermapbox\"}], \"scatterpolar\": [{\"marker\": {\"colorbar\": {\"outlinewidth\": 0, \"ticks\": \"\"}}, \"type\": \"scatterpolar\"}], \"scatterpolargl\": [{\"marker\": {\"colorbar\": {\"outlinewidth\": 0, \"ticks\": \"\"}}, \"type\": \"scatterpolargl\"}], \"scatterternary\": [{\"marker\": {\"colorbar\": {\"outlinewidth\": 0, \"ticks\": \"\"}}, \"type\": \"scatterternary\"}], \"surface\": [{\"colorbar\": {\"outlinewidth\": 0, \"ticks\": \"\"}, \"colorscale\": [[0.0, \"#0d0887\"], [0.1111111111111111, \"#46039f\"], [0.2222222222222222, \"#7201a8\"], [0.3333333333333333, \"#9c179e\"], [0.4444444444444444, \"#bd3786\"], [0.5555555555555556, \"#d8576b\"], [0.6666666666666666, \"#ed7953\"], [0.7777777777777778, \"#fb9f3a\"], [0.8888888888888888, \"#fdca26\"], [1.0, \"#f0f921\"]], \"type\": \"surface\"}], \"table\": [{\"cells\": {\"fill\": {\"color\": \"#EBF0F8\"}, \"line\": {\"color\": \"white\"}}, \"header\": {\"fill\": {\"color\": \"#C8D4E3\"}, \"line\": {\"color\": \"white\"}}, \"type\": \"table\"}]}, \"layout\": {\"annotationdefaults\": {\"arrowcolor\": \"#2a3f5f\", \"arrowhead\": 0, \"arrowwidth\": 1}, \"coloraxis\": {\"colorbar\": {\"outlinewidth\": 0, \"ticks\": \"\"}}, \"colorscale\": {\"diverging\": [[0, \"#8e0152\"], [0.1, \"#c51b7d\"], [0.2, \"#de77ae\"], [0.3, \"#f1b6da\"], [0.4, \"#fde0ef\"], [0.5, \"#f7f7f7\"], [0.6, \"#e6f5d0\"], [0.7, \"#b8e186\"], [0.8, \"#7fbc41\"], [0.9, \"#4d9221\"], [1, \"#276419\"]], \"sequential\": [[0.0, \"#0d0887\"], [0.1111111111111111, \"#46039f\"], [0.2222222222222222, \"#7201a8\"], [0.3333333333333333, \"#9c179e\"], [0.4444444444444444, \"#bd3786\"], [0.5555555555555556, \"#d8576b\"], [0.6666666666666666, \"#ed7953\"], [0.7777777777777778, \"#fb9f3a\"], [0.8888888888888888, \"#fdca26\"], [1.0, \"#f0f921\"]], \"sequentialminus\": [[0.0, \"#0d0887\"], [0.1111111111111111, \"#46039f\"], [0.2222222222222222, \"#7201a8\"], [0.3333333333333333, \"#9c179e\"], [0.4444444444444444, \"#bd3786\"], [0.5555555555555556, \"#d8576b\"], [0.6666666666666666, \"#ed7953\"], [0.7777777777777778, \"#fb9f3a\"], [0.8888888888888888, \"#fdca26\"], [1.0, \"#f0f921\"]]}, \"colorway\": [\"#636efa\", \"#EF553B\", \"#00cc96\", \"#ab63fa\", \"#FFA15A\", \"#19d3f3\", \"#FF6692\", \"#B6E880\", \"#FF97FF\", \"#FECB52\"], \"font\": {\"color\": \"#2a3f5f\"}, \"geo\": {\"bgcolor\": \"white\", \"lakecolor\": \"white\", \"landcolor\": \"#E5ECF6\", \"showlakes\": true, \"showland\": true, \"subunitcolor\": \"white\"}, \"hoverlabel\": {\"align\": \"left\"}, \"hovermode\": \"closest\", \"mapbox\": {\"style\": \"light\"}, \"paper_bgcolor\": \"white\", \"plot_bgcolor\": \"#E5ECF6\", \"polar\": {\"angularaxis\": {\"gridcolor\": \"white\", \"linecolor\": \"white\", \"ticks\": \"\"}, \"bgcolor\": \"#E5ECF6\", \"radialaxis\": {\"gridcolor\": \"white\", \"linecolor\": \"white\", \"ticks\": \"\"}}, \"scene\": {\"xaxis\": {\"backgroundcolor\": \"#E5ECF6\", \"gridcolor\": \"white\", \"gridwidth\": 2, \"linecolor\": \"white\", \"showbackground\": true, \"ticks\": \"\", \"zerolinecolor\": \"white\"}, \"yaxis\": {\"backgroundcolor\": \"#E5ECF6\", \"gridcolor\": \"white\", \"gridwidth\": 2, \"linecolor\": \"white\", \"showbackground\": true, \"ticks\": \"\", \"zerolinecolor\": \"white\"}, \"zaxis\": {\"backgroundcolor\": \"#E5ECF6\", \"gridcolor\": \"white\", \"gridwidth\": 2, \"linecolor\": \"white\", \"showbackground\": true, \"ticks\": \"\", \"zerolinecolor\": \"white\"}}, \"shapedefaults\": {\"line\": {\"color\": \"#2a3f5f\"}}, \"ternary\": {\"aaxis\": {\"gridcolor\": \"white\", \"linecolor\": \"white\", \"ticks\": \"\"}, \"baxis\": {\"gridcolor\": \"white\", \"linecolor\": \"white\", \"ticks\": \"\"}, \"bgcolor\": \"#E5ECF6\", \"caxis\": {\"gridcolor\": \"white\", \"linecolor\": \"white\", \"ticks\": \"\"}}, \"title\": {\"x\": 0.05}, \"xaxis\": {\"automargin\": true, \"gridcolor\": \"white\", \"linecolor\": \"white\", \"ticks\": \"\", \"title\": {\"standoff\": 15}, \"zerolinecolor\": \"white\", \"zerolinewidth\": 2}, \"yaxis\": {\"automargin\": true, \"gridcolor\": \"white\", \"linecolor\": \"white\", \"ticks\": \"\", \"title\": {\"standoff\": 15}, \"zerolinecolor\": \"white\", \"zerolinewidth\": 2}}}, \"title\": {\"text\": \"Segments\"}, \"xaxis\": {\"title\": {\"text\": \"Recency\"}}, \"yaxis\": {\"title\": {\"text\": \"Frequency\"}}},\n",
              "                        {\"responsive\": true}\n",
              "                    ).then(function(){\n",
              "                            \n",
              "var gd = document.getElementById('f57132e7-1f92-4634-8aeb-d6d510af3084');\n",
              "var x = new MutationObserver(function (mutations, observer) {{\n",
              "        var display = window.getComputedStyle(gd).display;\n",
              "        if (!display || display === 'none') {{\n",
              "            console.log([gd, 'removed!']);\n",
              "            Plotly.purge(gd);\n",
              "            observer.disconnect();\n",
              "        }}\n",
              "}});\n",
              "\n",
              "// Listen for the removal of the full notebook cells\n",
              "var notebookContainer = gd.closest('#notebook-container');\n",
              "if (notebookContainer) {{\n",
              "    x.observe(notebookContainer, {childList: true});\n",
              "}}\n",
              "\n",
              "// Listen for the clearing of the current output cell\n",
              "var outputEl = gd.closest('.output');\n",
              "if (outputEl) {{\n",
              "    x.observe(outputEl, {childList: true});\n",
              "}}\n",
              "\n",
              "                        })\n",
              "                };\n",
              "                \n",
              "            </script>\n",
              "        </div>\n",
              "</body>\n",
              "</html>"
            ]
          },
          "metadata": {
            "tags": []
          }
        },
        {
          "output_type": "display_data",
          "data": {
            "text/html": [
              "<html>\n",
              "<head><meta charset=\"utf-8\" /></head>\n",
              "<body>\n",
              "    <div>\n",
              "            <script src=\"https://cdnjs.cloudflare.com/ajax/libs/mathjax/2.7.5/MathJax.js?config=TeX-AMS-MML_SVG\"></script><script type=\"text/javascript\">if (window.MathJax) {MathJax.Hub.Config({SVG: {font: \"STIX-Web\"}});}</script>\n",
              "                <script type=\"text/javascript\">window.PlotlyConfig = {MathJaxConfig: 'local'};</script>\n",
              "        <script src=\"https://cdn.plot.ly/plotly-latest.min.js\"></script>    \n",
              "            <div id=\"eb19bcf7-c73c-4b43-8d27-9090dea9d47c\" class=\"plotly-graph-div\" style=\"height:525px; width:100%;\"></div>\n",
              "            <script type=\"text/javascript\">\n",
              "                \n",
              "                    window.PLOTLYENV=window.PLOTLYENV || {};\n",
              "                    \n",
              "                if (document.getElementById(\"eb19bcf7-c73c-4b43-8d27-9090dea9d47c\")) {\n",
              "                    Plotly.newPlot(\n",
              "                        'eb19bcf7-c73c-4b43-8d27-9090dea9d47c',\n",
              "                        [{\"marker\": {\"color\": \"blue\", \"line\": {\"width\": 1}, \"opacity\": 0.8, \"size\": 7}, \"mode\": \"markers\", \"name\": \"Bronze\", \"type\": \"scatter\", \"x\": [6, 11, 9, 12, 17, 3, 3, 4, 7, 10, 2, 29, 8, 19, 16, 5, 8, 9, 3, 7, 14, 3, 1, 11, 8, 15, 10, 11, 14, 15, 9, 7, 6, 6, 1, 8, 1, 10, 1, 15, 2, 3, 15, 8, 17, 1, 37, 3, 5, 5, 5, 9, 10, 13, 11, 1, 16, 9, 13, 10, 5, 5, 1, 14, 16, 10, 14, 15, 1, 16, 8, 12, 13, 2, 17, 9, 10, 15, 11, 10, 17, 22, 12, 15, 10, 4, 8, 5, 4, 33, 14, 10, 24, 16, 19, 13, 19, 13, 3, 30, 8, 12, 1, 8, 13, 10, 21, 6, 25, 1, 9, 7, 9, 17, 7, 13, 17, 10, 7, 10, 1, 9, 28, 7, 7, 3, 16, 12, 7, 16, 9, 7, 5, 3, 2, 15, 11, 10, 5, 28, 6, 21, 14, 4, 6, 8, 7, 24, 13, 4, 29, 1, 21, 9, 3, 7, 3, 6, 25, 26, 2, 10, 7, 9, 8, 10, 16, 20, 8, 5, 10, 8, 9, 17, 8, 12, 15, 6, 6, 1, 6, 9, 11, 8, 4, 4, 11, 7, 5, 23, 3, 9, 5, 9, 22, 4, 6, 7, 19, 9, 17, 10, 23, 16, 4, 12, 19, 5, 12, 29, 1, 24, 3, 8, 30, 2, 13, 8, 22, 8, 1, 10, 5, 9, 6, 2, 6, 12, 11, 30, 4, 13, 2, 4, 4, 13, 10, 7, 17, 9, 11, 14, 12, 27, 5, 13, 18, 21, 8, 12, 20, 20, 5, 30, 1, 5, 15, 25, 8, 1, 14, 16, 9, 13, 14, 4, 41, 11, 3, 6, 10, 9, 2, 9, 5, 5, 14, 8, 14, 15, 6, 7, 10, 12, 6, 19, 16, 25, 12, 1, 1, 16, 5, 9, 5, 7, 16, 3, 1, 7, 14, 6, 8, 34, 10, 6, 2, 17, 2, 5, 9, 25, 11, 2, 13, 1, 7, 27, 4, 26, 24, 28, 17, 14, 1, 13, 5, 2, 13, 16, 6, 5, 9, 1, 12, 10, 2, 5, 6, 6, 7, 41, 11, 10, 8, 3, 1, 7, 11, 10, 25, 7, 17, 1, 8, 22, 15, 12, 41, 11, 24, 4, 30, 7, 19, 12, 11, 21, 12, 7, 1, 2, 7, 4, 14, 3, 8, 10, 8, 1, 1, 10, 1, 12, 10, 13, 6, 16, 8, 30, 11, 13, 1, 1, 14, 2, 8, 15, 6, 14, 15, 8, 6, 16, 7, 2, 11, 8, 11, 14, 3, 1, 10, 11, 20, 2, 9, 4, 10, 5, 5, 9, 2, 8, 20, 14, 9, 33, 3, 2, 13, 19, 15, 13, 13, 6, 17, 15, 14, 17, 3, 17, 3, 5, 9, 14, 8, 13, 10, 7, 10, 6, 10, 5, 14, 9, 5, 9, 12, 14, 8, 2, 9, 3, 12, 37, 1, 13, 9, 13, 7, 13, 1, 16, 17, 5, 12, 15, 15, 8, 11, 12, 10, 8, 10, 11, 3, 1, 38, 37, 37, 8, 38, 14, 16, 1, 16, 7, 14, 7, 26, 2, 7, 1, 4, 15, 7, 4, 11, 13, 5, 2, 14, 1, 12, 9, 10, 9, 14, 15, 13, 10, 12, 16, 4, 15, 10, 4, 9, 25, 14, 15, 9, 39, 16, 23, 27, 1, 12, 6, 1, 9, 17, 1, 9, 19, 34, 2, 3, 4, 33, 2, 2, 14, 9, 17, 5, 9, 8, 17, 9, 14, 12, 10, 17, 18, 40, 11, 6, 9, 14, 13, 3, 25, 5, 6, 12, 5, 29, 9, 14, 3, 5, 7, 8, 7, 11, 16, 19, 16, 15, 8, 5, 35, 7, 10, 1, 6, 6, 1, 1, 1, 3, 12, 14, 17, 2, 17, 11, 10, 12, 6, 8, 10, 34, 16, 32, 6, 12, 1, 1, 12, 2, 2, 20, 9, 1, 31, 26, 14, 12, 13, 5, 2, 40, 32, 14, 28, 21, 5, 34, 7, 5, 1, 13, 7, 19, 18, 17, 1, 28, 30, 17, 14, 8, 10, 10, 1, 17, 15, 7, 16, 19, 15, 2, 10, 5, 1, 13, 1, 7, 11, 3, 11, 9, 10, 12], \"y\": [92.72, 293.0, 215.05, 134.1, 311.55, 38.1, 147.12, 374.0, 298.0, 138.67999999999998, 594.0, 176.97, 117.85, 108.07, 266.39, 135.95, 144.8, 39.24, 211.32, 120.94999999999999, 229.47000000000003, 50.550000000000004, 204.0, 190.54999999999998, 183.4, 307.53000000000003, 248.61, 346.98, 205.85999999999999, 115.46000000000001, 228.8, 177.14999999999998, 58.08, 74.4, 207.35999999999999, 101.19, 76.5, 350.05999999999995, 30.599999999999998, 259.16999999999996, 64.0, 77.3, 486.22, 112.75, 282.45, 71.4, 236.01999999999998, 60.7, 333.74, 62.64, 163.20000000000002, 257.7, 160.95, 270.40000000000003, 200.29, 590.0, 138.98, 137.75, 201.19, 201.2, 87.4, 142.5, 63.75, 233.76, 373.94, 134.96, 308.28, 222.99, 59.8, 221.06, 159.85, 196.88999999999996, 296.64000000000004, 590.0, 356.97999999999996, 151.5, 165.0, 300.95, 184.64, 140.34, 216.85000000000002, 295.93000000000006, 110.97000000000003, 251.20999999999998, 205.09999999999997, 152.20000000000002, 122.75, 125.80000000000001, 91.80000000000001, 174.36999999999998, 141.86, 118.0, 142.4, 247.95999999999998, 219.51999999999998, 177.34, 257.22999999999996, 189.46999999999997, 59.5, 67.23, 72.0, 151.3, 99.5, 180.48, 252.06000000000003, 228.83999999999997, 138.28, 199.85000000000002, 300.03999999999996, 79.6, 296.25, 306.72, 178.7, 127.84, 230.4, 195.54999999999995, 277.07000000000005, 256.38, 112.6, 189.5, 85.0, 312.98, 201.16, 145.67, 122.69999999999999, 117.24000000000001, 243.56, 155.93, 172.24999999999997, 307.4, 158.85, 71.66, 90.6, 101.99999999999999, 80.7, 190.25000000000003, 264.7, 357.98, 76.8, 147.2, 152.2, 141.41, 154.99, 260.25, 92.46, 183.6, 152.55, 265.85, 151.04, 45.599999999999994, 182.24999999999997, 76.32000000000001, 147.34999999999997, 144.2, 90.0, 115.8, 157.2, 118.75, 289.36, 134.46, 185.39999999999998, 151.73999999999998, 89.94, 161.00000000000003, 146.85, 213.70000000000005, 280.55, 136.76999999999998, 302.58, 120.0, 112.32, 134.04, 176.63, 383.45000000000005, 120.0, 311.65000000000003, 415.2, 134.7, 108.97999999999999, 51.0, 90.6, 163.62, 174.4, 155.0, 100.5, 76.55, 617.05, 142.4, 67.94999999999999, 122.7, 265.2, 89.06, 63.0, 131.9, 119.93, 113.64, 529.62, 234.34, 215.7, 137.1, 340.93, 251.21, 275.28, 174.37, 270.6, 241.09, 171.8, 103.25000000000001, 227.38999999999996, 218.06, 35.400000000000006, 168.63, 39.75, 114.56, 243.21999999999997, 52.0, 112.80000000000001, 172.9, 188.60999999999996, 109.13000000000001, 179.0, 268.58, 89.2, 139.26, 200.10000000000002, 6.2, 131.45, 353.27, 193.39, 155.42999999999998, 271.85, 272.07, 48.800000000000004, 62.85, 52.2, 327.24999999999994, 135.9, 125.65, 616.15, 277.79999999999995, 223.88, 290.82000000000005, 58.49, 221.26999999999998, 126.70000000000002, 206.21, 114.77, 114.39, 102.12, 156.91000000000003, 170.04, 125.58000000000001, 135.93, 215.78, 106.2, 88.19999999999999, 306.94, 248.07999999999998, 317.53, 244.8, 266.4, 406.53000000000003, 139.04999999999998, 178.96, 259.45, 158.16000000000003, 163.00000000000003, 135.75, 40.5, 87.5, 193.64, 316.58, 96.6, 305.75, 403.25, 585.0, 322.0799999999999, 154.41, 197.00000000000006, 321.04999999999995, 98.45, 317.15, 178.95000000000002, 156.50999999999996, 119.30000000000001, 290.51, 113.12, 180.94, 205.3, 52.0, 165.0, 204.5, 201.59999999999997, 158.04, 115.65, 418.9200000000001, 326.0, 168.0, 500.0, 107.45000000000002, 288.17999999999995, 94.0, 349.1, 267.18, 190.53, 97.7, 43.5, 383.34000000000003, 594.0, 113.5, 155.17, 179.10000000000002, 234.6, 91.32000000000001, 52.83, 250.0, 121.0, 267.03000000000003, 148.44, 229.32999999999998, 110.92000000000002, 127.86, 90.12, 217.2, 134.55, 127.1, 199.8, 48.480000000000004, 104.76, 298.48, 195.15, 309.8, 138.14, 76.32000000000001, 173.05, 193.75, 136.8, 211.5, 143.10000000000002, 133.25, 150.3, 203.10000000000002, 218.25, 162.3, 449.12, 34.8, 79.2, 253.04000000000002, 315.05999999999995, 635.6800000000001, 270.79999999999995, 104.9, 206.98, 15.0, 118.95000000000002, 160.70999999999998, 149.64000000000001, 168.31, 263.55, 179.17000000000002, 222.05, 56.25, 164.67999999999998, 191.93999999999997, 264.61999999999995, 123.10000000000001, 369.50000000000006, 127.08000000000001, 207.14999999999998, 145.35, 35.8, 181.0, 104.35, 307.82, 168.11999999999998, 41.989999999999995, 256.44000000000005, 137.89999999999998, 134.8, 122.39999999999999, 79.2, 217.16000000000003, 17.0, 320.62, 185.05, 336.96, 108.38, 195.74, 135.75000000000003, 232.21, 249.0, 289.35, 175.2, 76.32000000000001, 348.2000000000001, 37.4, 197.9, 338.7100000000001, 159.0, 242.35000000000002, 304.25000000000006, 255.12, 314.22, 114.56, 152.94, 46.95, 168.3, 142.5, 233.22, 226.37, 404.40000000000003, 207.50000000000003, 151.05, 214.8, 109.95000000000002, 101.10000000000001, 53.5, 94.36, 177.5, 167.25, 133.56, 241.06, 284.55, 287.4, 188.89000000000001, 266.97, 208.35999999999999, 151.41999999999996, 136.0, 74.9, 223.95, 139.35, 100.97000000000001, 363.70000000000005, 248.10000000000002, 101.7, 162.70000000000005, 290.35999999999996, 228.06000000000003, 244.41000000000003, 339.3, 285.89, 173.7, 124.2, 105.84, 233.45000000000002, 463.95, 225.14999999999995, 213.5, 90.04000000000002, 145.05, 75.66, 129.49, 151.85000000000002, 226.21, 178.96, 129.45, 217.9, 231.10000000000002, 214.06, 123.24, 39.12, 135.39999999999998, 129.75, 225.57999999999996, 292.46999999999997, 3.75, 323.00000000000006, 207.5, 239.40000000000003, 106.83, 316.62, 34.0, 245.94, 311.25, 80.8, 110.38000000000001, 309.53999999999996, 479.3500000000001, 128.5, 197.22, 199.15, 180.85000000000002, 124.57, 375.69000000000005, 207.73999999999998, 13.3, 432.0, 276.72999999999996, 194.88000000000002, 289.78, 113.44, 208.45999999999995, 230.25000000000003, 167.60999999999999, 20.8, 416.64, 117.35000000000001, 234.17000000000002, 110.55000000000001, 201.18999999999994, 251.51999999999998, 126.12, 179.0, 295.0, 270.9, 71.0, 154.82999999999998, 146.87000000000003, 498.47999999999996, 234.24, 118.80000000000001, 301.99999999999994, 25.5, 163.3, 116.19999999999999, 157.02, 345.29999999999995, 157.08999999999997, 578.9999999999999, 319.0, 158.68, 206.33999999999997, 224.91, 59.9, 306.13, 203.95, 226.85, 113.49999999999999, 190.88, 149.89, 382.50000000000006, 171.45, 283.28, 240.0, 63.440000000000005, 111.98000000000002, 550.8000000000001, 82.75, 96.8, 175.2, 243.36, 193.64, 228.96, 110.75, 178.21999999999997, 168.39999999999998, 65.4, 508.8, 203.86999999999995, 281.62, 32.65, 100.8, 265.76000000000005, 216.3, 388.45000000000005, 186.42, 120.90000000000002, 131.7, 249.86, 289.96000000000004, 194.36999999999995, 374.57, 271.05, 272.22, 288.59999999999997, 208.65, 153.94, 145.0, 422.7, 296.7, 164.39999999999998, 76.5, 170.75, 103.3, 157.9, 226.75, 143.45999999999998, 175.27, 116.00999999999999, 329.6000000000001, 571.2, 75.75000000000001, 108.5, 101.55, 133.06, 205.7, 298.11, 290.4, 200.46999999999997, 283.12, 154.95, 152.39999999999998, 267.08000000000004, 137.45, 153.0, 326.4, 139.35, 110.25000000000001, 71.4, 80.64, 15.0, 56.4, 188.01999999999998, 225.9, 36.559999999999995, 35.400000000000006, 208.97, 330.9, 155.90000000000003, 237.61, 178.51999999999998, 133.35000000000002, 111.35, 203.85999999999996, 112.25, 155.79999999999998, 112.19999999999999, 72.9, 207.50000000000003, 244.08, 99.14000000000001, 304.56, 77.50000000000001, 149.58, 176.67999999999998, 12.75, 111.67999999999999, 73.78, 228.20000000000002, 300.91999999999996, 198.57, 93.35, 76.1, 169.47, 257.34, 174.79999999999998, 102.79, 115.30999999999999, 73.5, 97.97000000000001, 172.29000000000002, 74.4, 101.69999999999999, 489.6, 101.33999999999999, 168.31, 113.48000000000002, 271.0, 76.32000000000001, 220.1, 181.11999999999995, 111.14999999999999, 112.55, 152.65, 160.35, 302.46000000000004, 104.0, 304.25, 284.46, 207.79999999999998, 243.76, 160.42000000000002, 232.48000000000002, 305.28000000000003, 158.95000000000002, 93.75, 440.0, 149.48, 25.5, 168.6, 283.15000000000003, 204.0, 175.92000000000002, 173.89999999999998, 180.6, 178.05]}, {\"marker\": {\"color\": \"green\", \"line\": {\"width\": 1}, \"opacity\": 0.5, \"size\": 9}, \"mode\": \"markers\", \"name\": \"Silver\", \"type\": \"scatter\", \"x\": [27, 24, 18, 27, 50, 5, 11, 66, 2, 10, 5, 3, 34, 4, 2, 22, 28, 25, 9, 30, 23, 10, 4, 28, 92, 13, 28, 31, 6, 26, 4, 40, 10, 13, 33, 18, 35, 14, 8, 22, 6, 18, 22, 8, 30, 50, 7, 1, 3, 6, 17, 4, 41, 13, 32, 43, 11, 2, 29, 8, 22, 4, 16, 2, 22, 58, 27, 16, 26, 36, 1, 87, 8, 9, 96, 15, 30, 8, 7, 31, 2, 20, 21, 1, 20, 11, 12, 17, 17, 19, 19, 20, 8, 16, 90, 29, 23, 1, 29, 39, 35, 13, 21, 26, 39, 3, 11, 27, 18, 28, 10, 54, 19, 17, 17, 64, 23, 14, 18, 19, 26, 15, 22, 66, 76, 37, 44, 27, 33, 26, 8, 40, 23, 27, 23, 19, 8, 28, 5, 23, 6, 49, 12, 9, 25, 6, 16, 6, 9, 14, 20, 51, 12, 28, 38, 30, 3, 23, 35, 12, 22, 57, 31, 45, 11, 33, 23, 15, 3, 29, 5, 14, 11, 20, 18, 28, 19, 15, 21, 17, 26, 18, 11, 21, 9, 17, 23, 31, 26, 11, 39, 25, 33, 12, 11, 35, 15, 11, 41, 16, 11, 34, 39, 28, 31, 16, 6, 15, 38, 10, 46, 12, 69, 14, 26, 21, 34, 15, 5, 67, 28, 22, 5, 28, 26, 25, 58, 31, 24, 3, 7, 6, 44, 20, 12, 21, 41, 15, 17, 33, 32, 16, 5, 3, 13, 24, 36, 8, 28, 31, 14, 18, 18, 41, 41, 75, 14, 73, 25, 8, 14, 14, 29, 17, 17, 16, 18, 13, 30, 14, 47, 30, 7, 6, 19, 29, 12, 18, 18, 10, 19, 56, 10, 16, 17, 6, 29, 19, 53, 25, 7, 2, 4, 3, 20, 26, 21, 13, 20, 28, 16, 7, 2, 31, 26, 30, 29, 80, 29, 30, 4, 14, 15, 10, 29, 71, 17, 18, 5, 30, 19, 11, 21, 6, 39, 5, 35, 41, 15, 3, 6, 14, 12, 13, 59, 40, 6, 13, 21, 11, 6, 11, 98, 28, 17, 11, 15, 18, 20, 33, 43, 12, 10, 3, 20, 83, 6, 37, 11, 87, 61, 20, 35, 31, 70, 72, 7, 27, 67, 3, 22, 3, 5, 23, 30, 26, 11, 23, 3, 17, 28, 21, 15, 22, 28, 23, 22, 85, 7, 27, 5, 23, 16, 29, 21, 20, 5, 24, 20, 23, 23, 31, 22, 34, 33, 6, 18, 34, 19, 23, 2, 41, 52, 12, 3, 7, 28, 31, 19, 24, 37, 33, 36, 49, 29, 10, 16, 99, 36, 86, 24, 21, 26, 17, 72, 14, 13, 29, 8, 41, 12, 31, 12, 12, 48, 28, 8, 6, 10, 41, 29, 45, 25, 28, 30, 60, 58, 7, 58, 7, 29, 88, 70, 46, 15, 18, 10, 1, 75, 41, 15, 29, 29, 31, 8, 7, 39, 51, 31, 29, 22, 14, 17, 6, 19, 34, 15, 15, 25, 33, 35, 25, 2, 32, 21, 6, 34, 1, 11, 17, 13, 21, 12, 9, 19, 12, 22, 19, 5, 14, 9, 28, 21, 9, 37, 27, 18, 14, 25, 1, 8, 35, 40, 33, 20, 39, 10, 24, 11, 22, 30, 14, 18, 45, 29, 23, 18, 12, 93, 62, 40, 60, 25, 21, 18, 14, 6, 41, 11, 24, 98, 8, 32, 76, 32, 16, 29, 26, 23, 74, 23, 38, 18, 29, 18, 30, 16, 16, 21, 35, 37, 29, 22, 18, 6, 3, 15, 11, 11, 11, 6, 19, 15, 18, 37, 35, 22, 20, 24, 13, 25, 67, 33, 6, 23, 17, 20, 22, 16, 19, 37, 15, 8, 39, 31, 5, 97, 5, 23, 45, 29, 60, 23, 35, 31, 7, 21, 6, 17, 24, 63, 36, 40, 11, 2, 18, 17, 25, 29, 19, 4, 3, 40, 13, 30, 31, 5, 25, 17, 11, 28, 6, 33, 53, 12, 31, 29, 34, 30, 26, 23, 20, 34, 27, 19, 24, 29, 53, 10, 13, 3, 60, 10, 5, 19, 2, 45, 27, 46, 28, 1, 1, 2, 22, 23, 40, 26, 50, 3, 16, 66, 24, 98, 23, 28, 26, 38, 23, 24, 11, 25, 11, 12, 14, 19, 9, 2, 6, 26, 7, 39, 26, 45, 69, 18, 9, 60, 6, 21, 19, 25, 21, 31, 41, 39, 12, 11, 3, 9, 2, 28, 22, 15, 22, 22, 43, 70, 28, 8, 30, 18, 7, 32, 40, 24, 24, 20, 9, 14, 14, 23, 5, 15, 23, 2, 29, 13, 7, 25, 63, 28, 49, 21, 57, 38, 15, 9, 30, 53, 14, 6, 28, 11, 32, 15, 35, 33, 28, 69, 24, 51, 62, 13, 14, 39, 43, 61, 29, 5, 29, 21, 24, 27, 40, 38, 14, 88, 6, 19, 9, 9, 6, 42, 43, 2, 8, 45, 35, 13, 11, 63, 59, 77, 4, 33, 26, 39, 35, 5, 8, 22, 45, 18, 15, 27, 11, 15, 19, 24, 31, 18, 35, 10, 15, 35, 57, 67, 13, 72, 5, 10, 46, 10, 33, 13, 23, 24, 37, 26, 15, 15, 25, 58, 9, 40, 26, 21, 94, 28, 16, 2, 28, 19, 58, 38, 80, 21, 23, 29, 77, 1, 19, 7, 35, 48, 85, 15, 65, 21, 30, 48, 1, 29, 93, 31, 32, 46, 3, 29, 5, 21, 9, 19, 7, 20, 19, 3, 27, 7, 10, 25, 18, 29, 17, 1, 29, 2, 39, 38, 39, 15, 7, 16, 37, 25, 24, 9, 30, 37, 1, 7, 32, 32, 8, 43, 13, 26, 19, 37, 6, 4, 8, 21, 6, 14, 8, 7], \"y\": [383.03000000000003, 417.38, 312.38, 354.09, 135.18, 521.2, 380.64000000000004, 599.9700000000001, 343.2300000000001, 573.22, 354.12, 331.0, 188.14000000000001, 216.5, 750.0, 363.65, 405.38, 415.8, 114.13999999999999, 604.5099999999999, 462.95000000000005, 160.18, 97.5, 558.7, 535.3200000000002, 409.5000000000001, 455.88, 534.8500000000001, 149.05, 513.6999999999999, 81.57, 689.9000000000001, 1247.5, 516.4200000000001, 560.47, 305.28, 629.31, 656.6800000000002, 271.4, 919.6100000000001, 220.09999999999997, 303.75, 416.08000000000004, 243.94, 501.14, 283.72999999999996, 109.80000000000001, 3096.0, 110.94999999999999, 618.52, 228.91, 91.8, 417.20000000000005, 712.88, 116.00999999999999, 353.65000000000003, 121.18, 114.60000000000001, 117.88000000000001, 250.26000000000002, 353.48, 533.98, 108.21, 358.0, 329.56, 600.0700000000002, 121.74, 430.5, 465.67999999999995, 1030.3999999999999, 0.0, 292.31999999999994, 557.62, 944.1, 217.38, 276.56000000000006, 590.93, 258.4, 93.66, 578.9399999999999, 360.0, 371.89, 300.41999999999996, 15.0, 640.7600000000001, 567.36, 675.3, 1308.48, 789.0, 487.02000000000004, 353.43, 389.5, 341.36, 247.32, 609.95, 439.03000000000003, 439.55999999999995, 56.160000000000004, 623.4, 754.8700000000001, 534.5699999999999, 544.08, 307.71999999999997, 457.34000000000003, 621.2300000000002, 75.0, 252.49, 572.4509999999999, 213.55, 640.83, 534.24, 283.71, 291.88000000000005, 183.44, 307.90000000000003, 229.59, 454.24, 449.52, 316.26000000000005, 348.04999999999995, 458.52, 307.76, 483.80000000000007, 210.30999999999995, 270.79, 631.34, 192.85, 239.49000000000004, 1384.2499999999998, 294.4, 712.4, 180.17000000000002, 428.89, 164.34, 417.6900000000001, 213.85, 122.64, 519.44, 252.1, 346.6, 94.2, 379.65000000000003, 84.65, 218.55, 349.7, 186.39, 232.6, 910.0, 172.25, 308.58, 330.79, 296.88, 306.55, 524.1400000000001, 610.59, 339.6, 216.9, 350.75, 741.26, 282.6, 345.0, 360.01000000000005, 309.04, 348.79999999999995, 1516.0, 558.32, 324.79999999999995, 209.49000000000004, 52.199999999999996, 384.7999999999999, 1255.0, 388.5, 216.17000000000002, 305.78, 540.45, 506.8, 349.54999999999995, 416.9, 821.1000000000001, 311.15999999999997, 332.64000000000004, 272.03999999999996, 223.85000000000002, 348.99000000000007, 842.65, 337.34, 608.7899999999998, 922.0999999999999, 376.5799999999999, 561.57, 674.4499999999998, 439.92, 322.96, 230.22, 169.55, 664.5400000000001, 196.79, 200.14000000000001, 1266.08, 311.3, 328.8, 473.02, 505.18, 440.0, 584.0699999999999, 327.70000000000005, 104.82000000000002, 467.66, 626.65, 725.6400000000001, 122.47, 375.0999999999999, 194.42, 161.0, 194.90000000000003, 216.20999999999998, 597.9100000000001, 386.53, 419.58000000000004, 483.86, 605.6399999999999, 311.81, 483.4, 446.62000000000006, 658.64, 122.54, 363.79, 576.9, 452.89, 197.65, 1011.9999999999998, 335.52, 161.02999999999994, 328.15999999999997, 169.48000000000002, 632.3999999999999, 683.1700000000001, 490.86, 333.97, 437.96000000000004, 595.25, 426.6, 166.2, 43.2, 640.1400000000001, 508.58, 605.0600000000001, 183.85000000000002, 462.65999999999997, 588.2199999999999, 309.52, 409.57, 282.92999999999995, 225.76999999999998, 161.2, 257.68, 202.10999999999999, 487.99000000000007, 574.6999999999999, 156.75, 1063.0, 490.2200000000001, 387.52, 363.34000000000003, 470.36, 434.34000000000003, 316.24999999999994, 279.05, 636.51, 321.92, 165.75, 463.38, 139.56, 123.79999999999998, 538.8100000000001, 475.37, 455.59000000000003, 330.45000000000005, 364.21999999999997, 355.56000000000006, 388.24999999999994, 289.24, 186.23000000000002, 788.38, 138.6, 114.11, 157.05, 237.36, 379.8299999999999, 393.33, 213.96000000000004, 660.0, 601.5600000000001, 406.08000000000004, 394.43999999999994, 412.78000000000003, 320.58, 225.84999999999997, 344.9000000000001, 609.8500000000001, 443.6, 110.46, 96.12, 693.81, 830.76, 597.0899999999999, 114.18, 291.05, 247.14999999999998, 285.73999999999995, 107.95, 195.25, 628.3799999999999, 160.19, 187.92, 313.49000000000007, 1164.55, 328.19999999999993, 389.63999999999993, 563.1499999999999, 420.50000000000006, 255.89999999999998, 300.52, 278.3, 254.11, 192.60000000000002, 730.8599999999999, 386.15, 289.99, 77.4, 197.64000000000001, 228.99, 173.74, 157.70000000000002, 193.13999999999996, 197.13, 102.44999999999999, 309.4, 325.75, 170.32, 125.79000000000002, 266.76, 522.38, 519.6800000000001, 255.4, 589.7, 765.3199999999999, 364.79999999999995, 369.2, 554.38, 468.77000000000004, 307.48, 310.05, 100.9, 311.69000000000005, 599.0, 463.8, 147.59000000000003, 279.94, 296.75, 233.23000000000002, 308.94, 260.17, 496.21, 265.99999999999994, 377.01, 518.28, 252.73000000000002, 180.35000000000002, 537.0, 343.61999999999995, 121.17000000000002, 370.79999999999995, 381.32, 480.71, 457.80999999999995, 219.39, 410.48, 876.0, 319.5, 484.9500000000001, 358.8199999999999, 184.19000000000003, 330.11000000000007, 623.5, 520.8, 329.25, 296.42, 401.4000000000001, 487.75, 106.56, 224.14000000000004, 689.48, 622.8499999999998, 310.62, 331.18, 101.79999999999998, 328.35, 755.75, 409.4000000000001, 429.6, 612.0600000000001, 316.68, 631.5699999999999, 514.15, 356.0, 300.36000000000007, 623.1600000000001, 254.81999999999996, 393.7400000000001, 408.8, 615.14, 135.31, 255.89999999999998, 240.55, 4507.01, 496.43999999999994, 574.02, 310.46999999999997, 327.96999999999997, 570.5000000000001, 312.62, 267.13000000000005, 162.29000000000002, 311.7099999999999, 208.75, 1028.56, 351.67, 173.97, 574.0699999999999, 406.09, 364.5, 563.9399999999999, 252.42000000000002, 473.80999999999995, 277.05000000000007, 427.92999999999995, 913.1900000000002, 596.85, 642.41, 316.88, 394.14, 231.86, 716.2, 572.81, 508.80000000000007, 135.85999999999999, 93.78, 171.19, 533.3, 149.29000000000002, 200.16, 156.57999999999998, 494.64, 429.84, 447.22, 237.07, 161.64, 216.76, 126.14, 454.10999999999996, 233.81, 147.09, 492.36000000000007, 62.43, 343.5, 412.01, 440.0, 536.4000000000002, 538.46, 213.30000000000004, 85.13, 436.05999999999995, 279.77, 173.16000000000003, 186.01000000000002, 258.88000000000005, 348.59999999999997, 455.29999999999995, 478.53, 324.57, 240.68, 216.39, 112.46, 301.03, 588.13, 243.55, 223.36, 425.32, 664.0, 447.64, 657.3500000000001, 816.0, 646.3, 337.74, 877.4399999999999, 560.6700000000001, 30.0, 306.45000000000005, 386.43, 301.32000000000005, 323.69, 352.70000000000005, 254.1, 239.76, 191.03999999999996, 409.98, 356.7, 85.0, 294.11999999999995, 154.88000000000002, 196.88000000000002, 149.30999999999997, 205.25, 583.75, 621.83, 241.61999999999998, 246.3, 351.3, 451.42, 415.82000000000005, 515.77, 1303.9099999999999, 885.4699999999999, 532.94, 576.0, 137.37, 391.98, 130.73999999999998, 389.2699999999999, 110.80000000000001, 296.99999999999994, 68.84, 230.53, 501.39000000000004, 516.36, 379.35, 181.09000000000003, 446.87, 524.52, 334.23, 167.5, 336.03000000000003, 426.63000000000005, 404.58, 337.43999999999994, 325.1, 708.22, 314.1, 371.01, 430.94, 101.4, 211.88, 628.2800000000002, 236.09, 934.6199999999999, 331.24, 471.78, 335.32000000000005, 372.09, 584.32, 436.18, 315.06, 302.36, 611.8800000000001, 161.38, 423.36, 307.78000000000003, 517.5500000000001, 725.1800000000001, 535.3399999999999, 734.1299999999999, 374.99999999999994, 280.52000000000004, 856.6000000000001, 73.2, 331.95, 215.83, 305.5400000000001, 215.47999999999996, 215.08, 314.45000000000005, 400.681, 365.27, 914.9299999999998, 542.03, 536.68, 432.19999999999993, 389.44, 752.4300000000002, 411.7, 357.94999999999993, 559.87, 810.6000000000001, 566.38, 302.25, 301.90000000000003, 361.21999999999986, 274.15000000000003, 328.15, 326.74999999999994, 322.41, 153.9, 395.8, 211.77, 109.36000000000001, 367.92999999999995, 676.2, 362.9500000000001, 221.18999999999997, 303.93, 299.6, 443.05000000000007, 151.83, 262.2, 126.25, 302.69999999999993, 300.85, 184.26, 381.2, 230.51000000000002, 259.01, 707.69, 311.92, 6.9, 316.11, 331.0, 404.30000000000007, 498.79999999999995, 365.45000000000005, 777.6, 90.30000000000001, 484.32000000000005, 215.08, 455.25, 593.75, 119.62, 787.15, 379.73, 281.84999999999997, 451.43999999999994, 313.61999999999995, 459.24, 181.09, 250.14999999999998, 244.79999999999995, 528.0799999999999, 482.47, 618.5900000000001, 506.19, 333.08, 322.80000000000007, 688.33, 487.51, 290.65999999999997, 518.4200000000001, 601.2699999999999, 570.13, 183.7, 422.59999999999997, 1276.0, 482.01, 657.9000000000001, 1998.0, 301.71999999999997, 901.2, 623.7500000000001, 155.24, 272.81999999999994, 603.7499999999999, 417.59999999999997, 464.9, 2002.4, 369.34000000000003, 611.8500000000001, 380.39, 171.59, 226.35000000000002, 107.6, 243.84, 414.87999999999994, 332.3, 460.5899999999999, 288.42, 417.06000000000006, 497.61, 358.37999999999994, 325.90999999999997, 413.46000000000004, 251.87, 588.85, 214.32000000000002, 193.44, 281.42, 332.41, 144.91, 35.400000000000006, 173.76, 502.8, 680.02, 705.12, 429.84000000000003, 145.93, 219.14000000000001, 379.14, 391.52000000000004, 169.79000000000002, 543.0500000000001, 406.48, 435.02000000000004, 518.67, 319.02, 439.43, 357.21, 344.3299999999999, 702.0, 195.36, 95.85, 357.77, 716.0, 433.53, 112.40000000000002, 449.72999999999996, 339.43999999999994, 642.0199999999999, 247.14, 538.37, 378.20000000000005, 287.62, 248.60999999999996, 307.46000000000004, 138.32, 298.89, 259.35, 425.0, 380.5, 465.32, 124.88, 1689.5, 213.77999999999997, 329.34, 293.1, 317.76, 239.91999999999996, 144.0, 262.62, 384.08, 204.24, 114.23, 335.13000000000005, 354.15, 426.79, 393.48999999999995, 384.52, 317.61999999999995, 246.04000000000002, 187.82999999999998, 498.42, 250.03999999999996, 644.3, 363.9, 494.25, 307.02000000000004, 160.57000000000002, 127.85999999999999, 312.22999999999996, 446.17999999999995, 495.7699999999999, 400.09999999999997, 203.2, 199.28999999999996, 457.90999999999997, 771.8499999999999, 507.8399999999999, 524.9200000000001, 403.3, 517.53, 622.43, 137.0, 511.82, 414.04, 396.87, 497.56000000000006, 622.88, 558.9599999999999, 302.20000000000005, 605.58, 513.2, 1195.9, 223.36, 98.42, 148.86, 267.1600000000001, 306.84000000000003, 1487.6, 185.64999999999998, 215.71999999999997, 1242.3000000000002, 161.67000000000002, 394.71999999999997, 309.35999999999996, 193.42000000000002, 218.51999999999995, 81.44, 527.0500000000001, 503.59999999999997, 528.3300000000002, 547.0600000000001, 621.6600000000001, 166.07999999999998, 117.55000000000001, 196.0, 728.1599999999999, 347.75, 551.0400000000001, 184.39999999999998, 239.41, 338.95000000000005, 417.95000000000005, 885.1899999999999, 303.96999999999997, 692.1899999999999, 168.24, 355.11, 674.52, 371.88, 283.4699999999999, 131.94, 278.74, 1117.9, 106.1, 350.38999999999993, 512.31, 387.68, 298.4, 398.69999999999993, 110.21, 205.48000000000002, 605.8000000000001, 311.26, 1418.0300000000002, 148.21, 252.8, 329.65, 428.18, 458.91999999999996, 203.87, 602.0900000000001, 244.10000000000002, 98.0, 256.32, 152.06, 110.38, 243.27999999999997, 311.01, 336.43, 397.29, 212.54000000000002, 145.79000000000002, 389.84, 358.56000000000006, 557.3, 508.4599999999999, 102.83, 123.07, 277.35, 337.03999999999996, 353.19000000000005, 288.14, 811.45, 152.68, 20.8, 630.84, 382.06000000000006, 187.29, 166.42, 120.03000000000002, 523.0, 122.14, 38.45, 389.78, 230.64999999999998, 70.02, 165.04999999999998, 300.0200000000001, 363.65, 170.16, 720.5200000000001, 814.0, 318.0, 453.0, 247.44, 336.13, 343.45, 90.47999999999999, 689.9499999999999, 4055.7199999999993, 167.66999999999996, 754.6400000000001, 430.7, 1019.52, 179.33999999999997, 612.0799999999999, 566.5800000000002, 371.62000000000006, 399.65, 202.65, 476.35, 632.0700000000002, 49.8, 973.8399999999999, 163.8, 517.3599999999999, 139.10000000000002, 248.42, 299.34, 481.74999999999994, 443.0, 592.97, 422.58000000000004, 596.0999999999999, 95.34, 349.27000000000004, 103.3, 335.8599999999999, 110.38, 80.82]}, {\"marker\": {\"color\": \"red\", \"line\": {\"width\": 1}, \"opacity\": 0.9, \"size\": 11}, \"mode\": \"markers\", \"name\": \"Gold\", \"type\": \"scatter\", \"x\": [59, 46, 5, 25, 91, 25, 56, 38, 123, 34, 52, 91, 51, 78, 46, 47, 13, 42, 7, 71, 82, 82, 22, 72, 28, 30, 45, 106, 99, 75, 97, 23, 63, 79, 17, 19, 151, 22, 20, 28, 76, 31, 27, 61, 47, 40, 26, 45, 71, 37, 27, 48, 28, 43, 18, 76, 48, 2, 112, 73, 21, 25, 20, 58, 47, 55, 44, 98, 63, 46, 23, 4, 74, 85, 79, 42, 131, 46, 72, 94, 79, 29, 63, 90, 21, 66, 32, 43, 58, 36, 31, 67, 25, 23, 13, 38, 46, 85, 37, 42, 54, 81, 54, 72, 26, 78, 62, 87, 124, 106, 25, 21, 53, 21, 51, 54, 42, 40, 24, 51, 32, 42, 128, 23, 37, 53, 97, 35, 43, 38, 28, 24, 19, 127, 78, 29, 74, 59, 46, 27, 41, 21, 86, 58, 8, 69, 34, 86, 48, 35, 65, 18, 44, 59, 38, 27, 6, 25, 87, 98, 124, 34, 175, 82, 49, 83, 38, 85, 23, 53, 21, 58, 26, 43, 98, 74, 44, 81, 71, 11, 62, 63, 40, 66, 63, 16, 104, 53, 87, 65, 25, 39, 53, 28, 48, 105, 43, 85, 42, 20, 63, 43, 33, 191, 34, 41, 72, 28, 24, 76, 25, 57, 70, 15, 208, 119, 177, 39, 60, 13, 36, 59, 96, 40, 93, 55, 19, 174, 20, 55, 93, 81, 23, 30, 61, 33, 23, 36, 59, 40, 27, 27, 19, 43, 33, 30, 20, 41, 27, 58, 45, 35, 137, 20, 92, 28, 54, 16, 13, 15, 39, 47, 30, 42, 20, 66, 39, 22, 89, 66, 92, 6, 32, 85, 54, 56, 52, 42, 65, 153, 35, 74, 10, 34, 15, 44, 46, 47, 26, 66, 40, 11, 49, 52, 48, 41, 108, 52, 29, 52, 29, 42, 65, 42, 39, 37, 24, 9, 67, 60, 118, 40, 50, 35, 79, 42, 108, 75, 53, 52, 55, 29, 29, 61, 33, 20, 31, 26, 21, 71, 60, 31, 47, 33, 46, 56, 131, 59, 45, 20, 103, 73, 54, 194, 43, 97, 27, 1, 144, 12, 93, 20, 40, 62, 37, 130, 90, 43, 29, 42, 10, 46, 7, 96, 57, 17, 229, 64, 32, 4, 58, 21, 69, 33, 330, 100, 164, 50, 20, 16, 92, 53, 24, 41, 99, 132, 61, 42, 7, 50, 68, 22, 28, 25, 55, 37, 52, 45, 89, 26, 69, 89, 41, 38, 71, 52, 27, 30, 44, 47, 53, 63, 48, 29, 70, 29, 17, 42, 28, 9, 20, 66, 60, 48, 36, 71, 47, 47, 6, 23, 20, 69, 30, 87, 77, 45, 57, 78, 44, 63, 19, 55, 85, 42, 59, 38, 34, 32, 72, 41, 4, 40, 26, 75, 77, 158, 144, 128, 61, 35, 48, 111, 52, 127, 12, 97, 71, 25, 57, 155, 42, 82, 104, 70, 26, 42, 27, 49, 47, 33, 47, 3, 35, 69, 35, 84, 21, 28, 82, 106, 29, 68, 26, 67, 91, 20, 55, 29, 103, 5, 63, 19, 19, 1, 32, 13, 69, 37, 9, 42, 52, 35, 58, 125, 99, 50, 89, 44, 47, 77, 82, 11, 63, 20, 58, 39, 23, 58, 47, 95, 42, 57, 13, 17, 20, 63, 44, 4, 27, 36, 50, 42, 53, 153, 99, 39, 82, 55, 62, 60, 58, 157, 57, 52, 24, 24, 77, 76, 11, 46, 86, 35, 15, 92, 57, 81, 61, 56, 20, 27, 53, 31, 57, 104, 168, 45, 44, 9, 24, 77, 52, 47, 67, 60, 45, 3, 16, 64, 49, 60, 25, 238, 52, 21, 47, 48, 33, 33, 53, 18, 86, 237, 55, 35, 118, 128, 91, 69, 32, 70, 26, 10, 28, 192, 45, 61, 21, 29, 20, 83, 35, 12, 42, 8, 98, 119, 64, 31, 48, 208, 89, 41, 62, 51, 54, 50, 62, 27, 47, 97, 80, 147, 20, 40, 76, 105, 49, 86, 51, 249, 12, 29, 60, 19, 98, 91, 42, 28, 84, 20, 49, 37, 27, 52, 35, 9, 33, 90, 86, 94, 145, 28, 64, 28, 100, 22, 55, 39, 65, 6, 71, 39, 34, 84, 70, 68, 180, 33, 21, 21, 31, 39, 51, 67, 39, 76, 48, 48, 34, 30, 38, 40, 35, 37, 31, 30, 29, 18, 20, 34, 23, 58, 28, 31, 67, 179, 35, 57, 98, 63, 19, 66, 23, 41, 44, 97, 137, 96, 47, 37, 46, 19, 51, 90, 123, 18, 61, 45, 54, 17, 27, 41, 4, 42, 37, 118, 18, 39, 45, 153, 47, 38, 235, 28, 34, 81, 18, 130, 76, 228, 111, 32, 102, 33, 59, 88, 34, 83, 82, 73, 63, 45, 54, 71, 51, 18, 83, 174, 84, 99, 182, 28, 35, 53, 18, 42, 39, 56, 50, 97, 95, 11, 84, 86, 35, 156, 77, 4, 55, 45, 32, 84, 57, 31, 19, 18, 35, 87, 57, 42, 28, 27, 85, 33, 96, 29, 48, 64, 69, 50, 62, 16, 32, 20, 6, 98, 89, 44, 30, 62, 21, 123, 27, 79, 22, 93, 43, 151, 82, 53, 42, 95, 25, 34, 170, 42, 34, 54, 48, 76, 60, 155, 18, 60, 103, 67, 28, 26, 28, 22, 47, 63, 20, 19, 52, 178, 203, 99, 162, 44, 60, 93, 57, 143, 54, 53, 44, 62, 57, 33, 60, 42, 86, 16, 101, 42, 87, 22, 3, 12, 37, 23, 49, 44, 52, 74, 16, 153, 22, 28, 30, 75, 70, 98, 6, 65, 316, 92, 83, 62, 99, 64, 25, 64, 81, 52, 162, 187, 74, 90, 127, 39, 35, 260, 48, 35, 20, 67, 54, 80, 61, 19, 29, 96, 40, 47, 69, 36, 29, 19, 40, 31, 55, 69, 87, 18, 112, 78, 124, 12, 80, 6, 69, 94, 45, 69, 51, 66, 55, 24, 9, 73, 107, 33, 183, 87, 71, 27, 8, 16, 45, 59, 29, 87, 57, 83, 15, 47, 28, 15, 27, 92, 38, 213, 41, 66, 6, 30, 30, 26, 48, 54, 36, 19, 19, 54, 27, 41, 78, 181, 29, 76, 5, 28, 127, 52, 20, 87, 30, 45, 73, 33, 47, 75, 25, 145, 49, 34, 27, 46, 49, 29, 25, 50, 214, 23, 50, 83, 55, 100, 78, 26, 70, 20, 40, 51, 52, 44, 19, 43, 30, 46, 35, 74, 55, 23, 29, 50, 115, 10, 40, 67, 43, 25, 92, 25, 19, 21, 105, 38, 54, 53, 156, 58, 82, 43, 48, 61, 61, 56, 1, 51, 297, 24, 79, 44, 46, 26, 117, 64, 109, 193, 114, 38, 34, 39, 59, 94, 23, 145, 5, 39, 65, 21, 43, 19, 71, 20, 104, 68, 31, 31, 146, 23, 38, 81, 58, 60, 22, 30, 123, 191, 53, 96, 19, 121, 47, 19, 37, 73, 2, 73, 36, 70, 21, 108, 41, 46, 26, 378, 74, 32, 36, 56, 47, 1, 20, 38, 61, 38, 21, 34, 23, 39, 37, 131, 38, 31, 74, 97, 44, 68, 45, 141, 68, 42, 31, 21, 30, 124, 49, 88, 78, 47, 16, 98, 21, 61, 46], \"y\": [942.34, 948.8800000000002, 1759.5, 397.11999999999995, 1474.72, 430.15, 1018.71, 6814.640000000001, 683.13, 1118.99, 325.96, 871.5399999999998, 1050.8899999999999, 1957.1000000000004, 1106.4, 854.99, 1463.0399999999997, 703.47, 309.05000000000007, 1175.2199999999998, 1378.3999999999999, 380.47, 372.8, 509.58, 164.23000000000002, 933.7000000000002, 694.05, 607.53, 913.54, 683.9000000000001, 1603.99, 1843.0, 1064.07, 1387.79, 329.85, 1660.9, 452.24000000000007, 738.6, 372.2199999999999, 390.53999999999996, 1239.3799999999999, 503.76000000000005, 414.75999999999993, 974.42, 789.8899999999999, 975.36, 6912.0, 661.3200000000002, 1010.1800000000002, 642.7700000000001, 921.88, 881.07, 908.46, 676.99, 348.15000000000003, 1214.41, 470.79999999999995, 344.0, 729.2700000000001, 3613.6299999999997, 345.82000000000005, 477.83000000000004, 1098.48, 1531.6200000000003, 786.54, 922.39, 1073.2999999999997, 1793.5800000000002, 962.39, 423.72, 307.0899999999999, 712.8000000000001, 1257.8700000000003, 971.7600000000002, 1688.2899999999997, 1021.48, 1319.19, 468.40999999999997, 492.84000000000003, 3957.7800000000007, 1575.89, 260.67999999999995, 911.9400000000002, 1520.58, 819.29, 847.4100000000001, 6463.84, 605.1199999999999, 1031.0700000000002, 744.85, 700.7299999999999, 663.6500000000001, 501.11999999999995, 711.41, 399.51, 698.5799999999999, 542.73, 814.86, 1132.14, 361.11, 873.74, 618.09, 1385.51, 1132.0300000000002, 598.57, 1555.32, 775.94, 5977.7300000000005, 2273.6800000000003, 1548.6999999999998, 199.48, 787.8499999999999, 1140.93, 350.9, 795.1200000000001, 860.12, 775.8499999999999, 979.12, 397.97999999999996, 743.5300000000001, 674.7, 768.2400000000001, 2225.37, 378.63999999999993, 778.65, 1019.76, 572.56, 677.1, 1360.99, 1544.1299999999999, 1003.0600000000002, 1390.5, 712.5, 2626.3, 1624.2100000000003, 582.6, 218.46999999999997, 1129.1400000000003, 1058.3400000000001, 1445.0000000000002, 674.6800000000001, 422.64000000000004, 1431.7800000000002, 1238.47, 313.8, 1122.4099999999999, 575.4000000000001, 1215.8199999999997, 2044.87, 653.3299999999999, 1166.77, 291.99999999999994, 979.72, 891.12, 659.4399999999998, 680.1800000000001, 628.78, 1280.8500000000001, 291.40999999999997, 626.99, 682.4100000000001, 584.06, 605.06, 1799.33, 777.53, 1749.0200000000004, 240.22, 373.74999999999994, 467.0400000000001, 781.03, 379.65000000000003, 1117.1299999999997, 396.97, 280.53999999999996, 678.0100000000001, 1171.7999999999997, 544.1800000000001, 747.7800000000001, 2031.7800000000002, 3070.42, 1071.03, 949.12, 1033.3400000000001, 354.8, 1095.08, 382.14, 1573.1999999999998, 897.76, 305.0199999999999, 396.91999999999996, 486.82000000000005, 3119.44, 1488.32, 711.86, 806.41, 1079.3400000000001, 799.9, 2375.41, 1079.6599999999999, 333.48, 1016.1400000000001, 752.6, 491.86000000000007, 731.8999999999999, 668.4300000000001, 1341.6, 1156.36, 948.2499999999999, 1647.26, 1186.28, 659.41, 286.78999999999996, 1070.65, 1714.9599999999998, 1521.7600000000002, 2634.45, 1132.13, 688.8600000000001, 4599.42, 924.5999999999999, 1140.35, 385.64, 632.0, 957.66, 412.05, 834.57, 271.24, 691.7299999999999, 361.62, 865.0600000000002, 1595.4800000000002, 2651.4599999999996, 1090.1399999999999, 501.56, 1015.29, 3192.54, 389.59999999999997, 1281.53, 787.6000000000001, 605.63, 632.97, 564.6200000000001, 388.52, 740.9499999999999, 626.45, 1212.8400000000004, 351.13000000000005, 678.25, 464.57, 1237.53, 568.55, 745.0600000000001, 3251.071, 3515.6799999999994, 598.1999999999999, 413.59, 869.8699999999998, 920.51, 320.46000000000004, 635.6600000000001, 2043.0800000000002, 529.7299999999999, 962.1899999999999, 695.6099999999999, 917.34, 1421.61, 642.8000000000001, 631.9000000000001, 651.8199999999999, 1428.0200000000002, 1560.3799999999994, 1659.75, 1308.6100000000001, 409.93, 746.3599999999999, 225.36, 374.7, 499.4200000000001, 1049.37, 934.52, 5976.790000000001, 1266.23, 692.85, 1840.4199999999998, 706.1300000000001, 709.7099999999999, 637.5000000000002, 982.3800000000002, 415.81999999999994, 935.05, 915.1300000000001, 3742.2, 621.29, 1345.62, 432.88, 507.65999999999997, 1110.52, 2445.9100000000003, 1631.7700000000004, 574.84, 450.8400000000001, 559.4100000000001, 2054.36, 853.3900000000001, 701.4, 747.4400000000002, 466.70000000000005, 1070.48, 1004.3800000000001, 991.1300000000001, 1050.1200000000001, 1547.2, 925.71, 1462.7200000000003, 3144.86, 890.3400000000001, 1693.4499999999998, 1474.0600000000002, 969.06, 1163.45, 1516.24, 492.65, 559.97, 1046.56, 2093.3199999999997, 310.26, 477.78999999999996, 866.3100000000001, 668.5600000000002, 889.9300000000002, 1021.58, 133.5, 1078.9600000000003, 701.23, 348.1, 202.68, 626.07, 1247.69, 1043.46, 1475.8100000000002, 1474.32, 2157.73, 2059.4500000000003, 1105.07, 770.0300000000001, 1496.98, 813.1100000000001, 322.08, 1244.83, 1372.8, 1420.2, 375.35, 483.24999999999994, 264.44, 1837.92, 1058.62, 598.76, 461.19000000000005, 547.6600000000001, 925.8499999999999, 1309.6000000000001, 1064.2800000000002, 356.85, 1383.18, 276.42, 974.54, 620.04, 932.8500000000001, 537.48, 652.8, 165.07, 324.14, 1080.76, 1530.3600000000001, 1052.55, 1042.2600000000002, 570.4599999999999, 221.97, 1785.1499999999999, 553.44, 1788.3600000000004, 899.63, 671.9599999999999, 1006.98, 637.8900000000001, 411.53000000000003, 765.55, 2548.2400000000002, 498.95, 371.7, 591.5500000000001, 318.16999999999996, 1126.37, 917.07, 329.67999999999995, 663.8100000000002, 718.08, 380.02000000000004, 1448.2099999999998, 1099.98, 1220.2600000000002, 1415.75, 638.05, 738.9599999999998, 1484.06, 876.42, 447.68, 679.4399999999998, 845.55, 554.6500000000001, 778.5, 1110.3400000000001, 657.8, 507.28999999999996, 321.42999999999995, 1127.7100000000003, 2139.76, 697.55, 511.3499999999999, 475.79999999999995, 645.65, 1311.38, 1173.12, 841.2, 710.28, 725.7, 1465.3199999999997, 706.1900000000002, 1862.0, 655.7499999999999, 332.66, 1025.44, 434.35, 1227.43, 1268.98, 1610.1499999999996, 977.77, 1316.0700000000002, 749.1, 1101.97, 371.2, 289.82000000000005, 336.16999999999996, 499.68, 695.4199999999998, 191.32, 1592.06, 1314.4499999999998, 790.86, 213.27, 326.4, 334.53999999999996, 546.2, 429.87, 490.52000000000004, 1246.3200000000002, 502.09000000000003, 423.04, 469.0, 1066.15, 627.1300000000001, 668.1400000000001, 4959.1, 465.5499999999999, 735.6600000000001, 384.05, 697.7900000000001, 1489.5, 987.86, 3158.13, 893.59, 1744.76, 553.36, 1109.5300000000002, 982.07, 748.87, 773.03, 880.8499999999999, 895.61, 504.79999999999995, 1370.6, 39916.5, 703.3599999999999, 1027.44, 996.1, 1567.4799999999998, 340.11, 457.72, 1633.7799999999997, 2199.3100000000004, 982.4199999999998, 1286.7000000000003, 498.74000000000007, 1194.7300000000002, 1327.16, 301.29, 961.4899999999999, 304.4699999999999, 843.0499999999998, 1289.5, 406.76, 411.41, 499.31999999999994, 3861.0, 1079.6100000000001, 1268.6999999999998, 1236.54, 653.24, 420.3, 870.12, 894.41, 734.9399999999999, 1219.4, 3386.71, 1412.3200000000002, 1071.99, 2515.84, 740.78, 890.85, 1810.77, 1506.12, 1717.36, 721.94, 486.69, 939.78, 641.94, 694.4000000000002, 1174.35, 924.85, 2748.3100000000004, 679.68, 1049.7, 714.9599999999999, 2020.52, 393.53999999999996, 777.0200000000002, 602.5100000000001, 446.94000000000005, 2007.4, 1690.26, 815.77, 626.77, 510.71000000000004, 1056.44, 1358.88, 774.9, 397.35, 1041.48, 383.68, 974.5200000000001, 538.7299999999999, 1048.85, 334.53000000000003, 524.88, 467.51, 538.5500000000001, 469.4799999999999, 371.5600000000001, 1771.2, 1441.4199999999998, 2575.0, 659.4599999999998, 1262.2, 1000.2700000000001, 398.84000000000003, 292.71999999999997, 575.6300000000002, 437.23, 473.65, 800.5899999999999, 758.29, 1375.71, 650.4300000000001, 607.45, 702.25, 940.6700000000001, 682.9100000000001, 913.6800000000001, 388.58, 1406.5900000000001, 761.74, 1297.8700000000001, 1198.23, 1093.68, 776.8510000000002, 336.40000000000003, 1293.03, 1534.26, 675.8000000000001, 1186.35, 724.76, 812.9999999999999, 612.01, 922.5300000000001, 748.5, 1024.1, 684.34, 657.23, 1426.16, 309.6499999999999, 696.6799999999998, 1542.1399999999999, 1060.56, 330.87999999999994, 1118.81, 598.73, 507.08, 2222.56, 415.25, 1120.88, 1339.45, 44534.3, 458.57, 532.96, 714.4200000000001, 1086.9200000000003, 1047.1100000000001, 475.28, 345.46000000000004, 2328.9700000000003, 220.85, 965.6099999999999, 610.01, 2207.4, 884.14, 699.0799999999999, 1063.95, 784.5799999999999, 903.9000000000001, 3734.9700000000003, 1391.98, 1801.14, 570.9599999999999, 636.1399999999998, 836.7900000000001, 954.09, 1048.49, 355.55999999999995, 1224.06, 238.85, 712.24, 832.88, 1936.3200000000004, 895.13, 354.09000000000003, 343.28, 396.47999999999996, 1388.88, 351.11000000000007, 967.45, 416.86, 1708.24, 955.2400000000001, 364.72, 1765.51, 806.5699999999999, 428.89000000000004, 470.76000000000005, 418.83, 666.0999999999999, 1098.78, 1142.4199999999998, 158.03, 792.1100000000001, 427.07000000000005, 12393.699999999999, 478.78000000000003, 992.7100000000002, 407.50000000000006, 1415.29, 662.3800000000001, 408.90000000000003, 251.24, 439.65999999999997, 548.94, 437.69999999999993, 758.9199999999998, 855.0200000000001, 1313.5500000000002, 3166.4, 1197.2700000000002, 773.99, 362.05999999999995, 1511.9500000000003, 783.9000000000001, 664.85, 1459.8600000000001, 852.15, 326.24, 1352.0000000000002, 1317.62, 1121.3899999999999, 817.86, 2005.63, 731.8999999999997, 1290.6999999999998, 1429.6399999999999, 842.5, 612.7800000000001, 1309.14, 684.42, 656.25, 618.09, 709.3800000000002, 635.4100000000001, 620.4, 1829.0399999999997, 656.6899999999999, 1025.44, 822.48, 1009.55, 1037.5900000000001, 6617.65, 529.4100000000001, 981.8599999999999, 1080.62, 592.9, 405.71, 761.38, 537.0600000000001, 394.38, 664.26, 547.0200000000001, 690.3399999999999, 1062.75, 864.86, 846.72, 1295.3, 1010.5999999999998, 990.8799999999999, 867.3099999999998, 414.2, 409.1, 1413.66, 3683.8599999999997, 1035.45, 861.8899999999999, 667.6500000000001, 1141.2399999999996, 2062.0600000000004, 598.1999999999999, 632.27, 2560.0, 706.57, 616.26, 428.67999999999995, 594.24, 251.91, 26626.8, 549.07, 370.47999999999996, 575.4100000000001, 1469.45, 494.44, 658.88, 734.77, 327.3, 804.49, 497.42999999999995, 1320.56, 473.03, 1780.59, 668.3599999999998, 584.5, 555.89, 317.2, 1382.0699999999997, 1555.3400000000001, 1705.8, 408.57, 163.07, 214.64999999999998, 210.34999999999997, 1051.4, 972.23, 346.12, 642.8100000000001, 616.79, 654.6700000000001, 1841.18, 650.4300000000001, 544.3, 300.83, 769.29, 220.62, 363.65, 731.5, 1351.63, 826.5299999999999, 684.41, 1599.52, 400.86, 1431.9299999999998, 484.38, 874.5899999999999, 1046.57, 1244.59, 6748.8, 548.97, 1388.81, 922.12, 5719.82, 841.4100000000001, 511.12, 1077.74, 614.6600000000001, 865.6, 1421.69, 1009.6, 663.61, 936.0799999999998, 330.03000000000003, 360.15999999999997, 500.42, 2647.5899999999997, 813.4800000000001, 810.5699999999999, 417.73, 1154.4700000000003, 1257.51, 833.78, 1267.6499999999999, 118.97999999999999, 306.71999999999997, 1692.27, 319.60999999999996, 1592.12, 1770.3400000000001, 1027.9999999999998, 324.24, 112.75000000000001, 531.3499999999999, 656.6300000000001, 3029.8700000000003, 1651.03, 1161.53, 589.1499999999999, 781.02, 743.11, 650.51, 836.06, 623.9300000000001, 1764.7199999999998, 223.92, 1496.83, 789.79, 1145.5999999999997, 478.0899999999999, 661.52, 388.2800000000001, 425.19, 597.4799999999999, 305.61999999999995, 536.99, 801.4900000000001, 1121.59, 547.0699999999999, 460.64, 775.1800000000001, 341.70000000000005, 1106.53, 1264.19, 342.45000000000005, 328.40000000000003, 747.8100000000001, 1519.0800000000002, 809.7, 525.5400000000001, 508.81, 1706.88, 373.24, 579.7700000000003, 621.6800000000001, 576.2600000000001, 380.54999999999995, 161.93999999999997, 563.23, 950.9300000000001, 262.68, 816.7299999999999, 1286.2700000000002, 1178.56, 1277.7500000000002, 308.74, 507.05, 650.4100000000001, 1078.9600000000003, 384.06, 1873.2, 1133.25, 1456.9600000000003, 484.82, 1493.7300000000002, 1412.9400000000003, 889.9299999999998, 586.3299999999999, 920.1, 890.2900000000001, 380.35, 1030.14, 745.5200000000001, 1267.32, 1081.57, 1044.38, 948.48, 1100.8999999999999, 3228.8399999999997, 413.74999999999994, 1356.3300000000002, 1179.8899999999999, 5232.23, 312.14, 841.0799999999999, 290.15999999999997, 2003.85, 1405.78, 2949.75, 1566.65, 1324.1599999999999, 665.7799999999999, 808.62, 837.4999999999997, 606.91, 1004.75, 984.5699999999999, 749.78, 251.69999999999993, 1266.97, 835.7800000000002, 711.79, 384.40000000000003, 444.74, 1013.01, 692.2199999999999, 342.63, 318.76000000000005, 3638.41, 421.52, 550.0600000000002, 314.69, 1135.04, 954.9, 282.19, 318.65000000000003, 353.85999999999996, 178.26, 272.44, 298.41, 603.37, 1253.3600000000001, 310.64, 763.64, 1065.3500000000001, 1703.4100000000003, 153.92000000000002, 556.95, 131.78, 197.63000000000002, 1384.85, 2328.84, 2600.34, 1200.6200000000001, 700.8599999999999, 523.11, 781.3599999999999, 537.7400000000001, 1286.0700000000002, 587.15, 1740.0, 1393.06, 388.13999999999993, 365.84999999999997, 488.20000000000005, 423.88999999999993, 646.9200000000001, 404.66, 336.4, 261.11, 2686.4200000000005, 1259.5600000000002, 7330.8, 696.4100000000001, 653.38, 2129.96, 778.9399999999999, 1258.0600000000002, 778.0, 463.46, 598.83, 698.41, 365.76, 303.15999999999997, 541.53, 486.71999999999997, 1737.7, 316.49999999999994, 675.6899999999999, 763.28, 1125.0700000000002, 710.29, 376.63999999999993, 2092.32, 1138.0, 689.0999999999999, 2997.03, 1145.84, 308.48, 639.02, 546.81, 723.21, 1070.71, 652.74, 939.37, 897.62, 578.9, 645.96, 930.41, 541.4599999999999, 854.9500000000002, 167.61999999999998, 454.01, 344.13999999999993, 380.59999999999997, 448.8999999999999, 1133.07, 1240.2, 993.1800000000001, 388.78999999999996, 2044.37, 390.07000000000005, 971.5800000000002, 1379.8999999999999, 1324.8400000000001, 285.55999999999995, 712.29, 1008.39, 868.49, 1207.56, 595.42, 604.64, 1992.1100000000001, 740.9399999999998, 765.3400000000001, 1824.37, 798.74, 385.1, 522.91, 1195.94, 2424.04, 3276.4, 1033.0, 1240.11, 700.63, 377.44, 1772.2599999999998, 287.59000000000003, 712.78, 271.20000000000005, 2273.18, 1143.2699999999998, 245.81000000000003, 182.76999999999998, 1225.4099999999999, 323.04, 697.9000000000001, 546.04, 3704.87, 155.37000000000003, 350.63999999999993, 338.79999999999995, 2033.1, 901.2, 5391.210000000001, 114.34, 1197.1000000000004, 1859.1600000000003, 683.4600000000002, 379.45, 717.45, 190.19, 899.6099999999999, 1119.81, 566.6, 191.66999999999993, 800.24, 366.23, 411.59999999999997, 341.28000000000003, 1304.0400000000002, 826.52, 843.0, 1740.4799999999998, 408.36, 704.25, 4301.22, 4106.4400000000005, 482.2, 1008.5400000000003, 471.69999999999993, 1098.4299999999998, 582.59, 136.04, 757.7099999999998, 634.9499999999999, 201.11999999999998, 678.49, 417.22999999999996, 249.71999999999997, 444.68, 2116.19, 1483.56, 668.1099999999999, 730.4000000000002, 405.62, 357.2, 559.51, 189.39999999999998, 306.46, 396.33000000000004, 3877.5199999999995, 1231.5, 703.37, 2106.52, 3017.3, 580.05, 2697.8, 223.64999999999998, 236.3, 352.69000000000005, 1418.03, 320.71999999999997, 673.1, 589.44, 206.83, 348.73, 931.4999999999999, 681.9100000000001, 784.3299999999998, 1000.1600000000001, 653.3499999999999, 399.18999999999994, 453.4, 530.1500000000001, 638.0600000000002, 1384.86, 1169.94, 980.3100000000001, 2106.8400000000006, 1341.42, 1590.81, 382.7999999999999, 1090.2400000000002, 957.9699999999999, 689.1300000000001, 1396.9900000000002, 600.07, 621.7500000000001, 662.08, 779.9, 2083.2699999999995, 882.24, 1561.6100000000001, 2232.4900000000002, 804.02, 4314.72, 526.6700000000001, 324.24, 1213.1599999999999, 801.5100000000001]}, {\"marker\": {\"color\": \"black\", \"line\": {\"width\": 1}, \"opacity\": 0.9, \"size\": 13}, \"mode\": \"markers\", \"name\": \"Platinum\", \"type\": \"scatter\", \"x\": [103, 199, 175, 314, 113, 420, 103, 110, 314, 538, 107, 154, 116, 63, 91, 75, 24, 50, 107, 50, 720, 84, 82, 129, 62, 120, 47, 116, 215, 180, 238, 95, 109, 305, 20, 64, 59, 339, 404, 89, 219, 110, 176, 458, 131, 99, 172, 136, 403, 69, 425, 358, 1028, 155, 159, 24, 423, 572, 304, 145, 201, 120, 76, 79, 235, 140, 127, 704, 170, 135, 319, 86, 87, 79, 121, 65, 314, 265, 181, 110, 226, 119, 46, 57, 149, 321, 56, 142, 108, 611, 207, 141, 1677, 91, 187, 211, 440, 316, 187, 59, 81, 107, 476, 75, 108, 268, 134, 119, 166, 60, 158, 172, 152, 51, 155, 478, 304, 104, 157, 67, 49, 46, 101, 167, 195, 71, 443, 63, 382, 99, 302, 260, 79, 109, 422, 42, 162, 115, 44, 141, 436, 172, 223, 296, 179, 51, 109, 136, 176, 341, 46, 126, 83, 174, 87, 128, 166, 247, 99, 226, 201, 92, 59, 146, 188, 101, 146, 79, 96, 166, 56, 108, 470, 195, 57, 90, 197, 134, 336, 102, 60, 104, 196, 321, 342, 142, 117, 368, 135, 197, 115, 31, 349, 137, 76, 46, 74, 206, 101, 110, 76, 139, 307, 115, 336, 104, 165, 178, 65, 142, 110, 118, 149, 122, 148, 117, 49, 45, 160, 152, 626, 149, 338, 111, 107, 351, 234, 84, 121, 155, 86, 208, 171, 84, 243, 250, 143, 235, 209, 488, 210, 1106, 284, 202, 111, 80, 324, 43, 181, 450, 214, 105, 250, 79, 123, 156, 160, 72, 159, 167, 52, 200, 134, 210, 1204, 149, 327, 165, 240, 265, 259, 579, 87, 102, 112, 108, 59, 100, 193, 67, 175, 115, 159, 112, 141, 111, 78, 106, 111, 143, 64, 156, 27, 280, 47, 101, 237, 100, 62, 143, 105, 180, 117, 87, 101, 123, 259, 162, 90, 129, 55, 118, 69, 524, 140, 186, 286, 350, 87, 182, 107, 590, 124, 206, 222, 224, 382, 55, 51, 293, 70, 258, 109, 970, 180, 240, 72, 281, 144, 144, 120, 193, 194, 624, 164, 107, 799, 316, 68, 73, 101, 203, 291, 972, 216, 62, 519, 330, 76, 111, 72, 114, 399, 366, 48, 113, 216, 74, 423, 127, 270, 235, 123, 383, 197, 152, 102, 55, 86, 134, 122, 152, 172, 106, 199, 102, 237, 49, 126, 253, 168, 90, 573, 170, 74, 102, 258, 421, 327, 71, 130, 210, 115, 335, 347, 415, 196, 139, 357, 339, 71, 237, 278, 501, 147, 202, 194, 54, 60, 59, 235, 102, 135, 1090, 60, 117, 46, 80, 1141, 385, 235, 255, 121, 67, 108, 138, 145, 130, 388, 143, 127, 58, 99, 144, 124, 53, 73, 498, 55, 116, 96, 355, 165, 170, 138, 312, 198, 160, 216, 115, 1119, 182, 472, 135, 562, 155, 510, 394, 130, 1502, 453, 206, 78, 143, 114, 276, 237, 121, 54, 440, 57, 145, 108, 101, 100, 100, 197, 45, 79, 127, 102, 84, 52, 73, 80, 217, 343, 271, 125, 710, 110, 93, 91, 212, 51, 310, 142, 110, 166, 117, 143, 49, 78, 110, 350, 111, 53, 41, 274, 47, 139, 88, 204, 103, 194, 192, 243, 225, 519, 551, 114, 95, 94, 132, 117, 194, 302, 84, 85, 73, 122, 192, 53, 292, 306, 329, 382, 219, 286, 97, 98, 188, 50, 154, 297, 125, 512, 68, 213, 97, 164, 160, 308, 178, 214, 185, 178, 163, 672, 108, 228, 256, 83, 259, 702, 115, 899, 113, 323, 215, 150, 123, 103, 410, 77, 43, 423, 100, 185, 155, 167, 484, 119, 90, 116, 78, 155, 114, 202, 110, 78, 166, 78, 171, 117, 214, 288, 53, 937, 302, 72, 173, 88, 62, 93, 293, 411, 141, 180, 43, 267, 206, 75, 133, 263, 301, 133, 72, 49, 123, 68, 115, 68, 273, 167, 138, 140, 645, 191, 142, 546, 461, 128, 120, 129, 116, 74, 150, 267, 155, 143, 115, 74, 76, 98, 183, 122, 35, 176, 65, 43, 97, 113, 270, 140, 552, 130, 506, 103, 218, 385, 212, 139, 182, 235, 160, 46, 101, 1137, 83, 312, 121, 64, 102, 129, 227, 167, 63, 57, 31, 354, 284, 212, 117, 89, 78, 339, 117, 224, 117, 89, 130, 474, 98, 85, 125, 69, 84, 162, 45, 218, 295, 134, 111, 46, 123, 84, 134, 135, 662, 294, 91, 69, 270, 135, 124, 258, 133, 107, 166, 109, 118, 79, 162, 151, 69, 319, 319, 153, 77, 92, 57, 94, 109, 66, 662, 106, 53, 51, 118, 125, 108, 330, 210, 186, 172, 232, 102, 369, 372, 109, 132, 282, 111, 202, 135, 82, 236, 148, 170, 360, 146, 136, 169, 113, 290, 183, 177, 981, 251, 52, 207, 460, 126, 216, 62, 172, 276, 66, 179, 117, 152, 94, 118, 69, 261, 73, 208, 160, 252, 114, 163, 585, 62, 308, 144, 270, 402, 447, 624, 199, 201, 225, 185, 269, 660, 125, 191, 242, 357, 449, 69, 89, 706, 222, 145, 255, 158, 333, 190, 93, 320, 285, 164, 76, 149, 449, 324, 86, 189, 165, 266, 116, 378, 128, 137, 279, 112, 159, 101, 135, 125, 79, 710, 208, 151, 547, 101, 128, 327, 672, 83, 209, 77, 898, 241, 305, 281, 249, 54, 28, 89, 148, 407, 120, 129, 93, 169, 44, 217, 252, 234, 102, 43, 318, 516, 78, 62, 296, 143, 140, 174, 77, 96, 115, 63, 195, 125, 48, 65, 42, 418, 117, 134, 27, 52, 478, 81, 101, 229, 104, 144, 86, 63, 128, 73, 84, 237, 32, 152, 57, 211, 157, 103, 274, 472, 47, 208, 541, 105, 566, 400, 127, 114, 292, 124, 142, 111, 102, 135, 57, 79, 66, 131, 473, 200, 50, 543, 753, 407, 500, 215, 132, 411, 468, 111, 253, 418, 109, 78, 213, 59, 82, 113, 64, 269, 206, 117, 43, 271, 328, 134, 135, 277, 100, 111, 111, 215, 88, 82, 109, 366, 105, 137, 82, 253, 394, 88, 106, 63, 152, 165, 299, 411, 440, 253, 201, 166, 213, 270, 560, 237, 576, 135, 312, 50, 315, 123, 297, 157, 91, 232, 259, 91, 82, 158, 86, 117, 68, 53, 110, 227, 705, 78, 304, 118, 130, 286, 256, 115, 142, 103, 382, 245, 274, 192, 66, 165, 218, 690, 97, 47, 136, 193, 741, 412, 95, 75, 310, 194, 82, 134, 190, 111, 408, 104, 140, 61, 851, 141, 371, 220, 169, 121, 54, 199, 222, 148, 102, 370, 279, 145, 67, 696, 31, 90, 485, 249, 329, 179, 296, 166, 112, 472, 127, 360, 46, 137, 470, 142, 227, 127, 89, 213, 444, 1279, 364, 196, 70, 159, 43, 221, 140, 80, 54, 189, 90, 119, 71, 159, 200, 134, 114, 64, 272, 271, 242, 164, 86, 104, 61, 104, 175, 118, 42, 134, 166, 756, 70], \"y\": [4196.009999999999, 4090.88, 2612.8599999999997, 5591.42, 2726.77, 4022.35, 1702.2600000000002, 1324.5000000000002, 2179.93, 4036.82, 1607.0600000000002, 1535.7700000000002, 17654.539999999997, 2919.81, 2178.67, 3075.0400000000004, 1662.3, 2483.6299999999997, 3006.1499999999996, 1335.19, 16587.09, 2062.7, 42055.96, 2160.7, 1063.8999999999999, 1504.2700000000002, 11581.800000000001, 2064.95, 4167.22, 4757.160000000001, 4017.54, 1856.63, 771.91, 11189.91, 7374.9, 6924.110000000001, 1226.89, 9818.82, 5655.91, 1661.8400000000001, 4810.94, 3466.2799999999997, 3346.2799999999997, 7277.700000000001, 2616.38, 799.4800000000001, 3237.54, 1835.9099999999999, 5836.860000000001, 1119.4900000000002, 4436.12, 12627.939999999999, 28337.379999999997, 8910.819999999998, 7832.470000000001, 1927.3200000000002, 6010.419999999999, 28882.44, 6424.089999999999, 1488.67, 12245.96, 2294.7799999999997, 984.9100000000001, 1197.81, 3866.33, 2099.64, 2607.6099999999997, 3650.41, 5064.9400000000005, 2388.75, 3707.12, 1676.0600000000002, 1741.2199999999998, 1201.06, 1437.85, 791.3299999999999, 2817.0299999999997, 5725.469999999999, 1701.29, 1797.78, 3401.24, 9817.119999999999, 870.0900000000001, 869.4599999999999, 1223.9, 5891.61, 1197.42, 788.0799999999999, 2155.9499999999994, 2806.9700000000003, 1357.6000000000001, 1987.3, 7454.07, 2107.6600000000003, 3834.26, 4521.49, 3214.69, 5346.23, 2709.1200000000003, 2089.85, 2000.8599999999997, 1456.79, 10845.55, 7121.95, 3627.77, 3536.8200000000006, 10736.48, 2543.7200000000007, 3090.7400000000002, 992.5, 3312.2500000000005, 3639.31, 4151.93, 797.9599999999999, 2520.0200000000004, 28117.04, 6127.43, 1851.08, 3641.3199999999997, 1006.7999999999998, 679.4499999999999, 1269.1, 3809.89, 3408.0600000000004, 3539.3700000000003, 2043.72, 2976.15, 1766.72, 9646.57, 1083.71, 5704.969999999999, 2531.58, 1454.5800000000002, 1804.5600000000002, 8968.31, 1159.11, 2479.16, 1791.56, 1389.4100000000003, 2128.42, 1093.65, 3964.88, 2287.51, 5870.08, 3448.29, 918.1999999999999, 3740.0699999999997, 4149.280000000001, 874.71, 2092.3199999999997, 732.07, 6717.34, 1687.6000000000001, 2478.95, 1981.9199999999994, 2037.0800000000002, 697.0400000000001, 5153.67, 693.32, 1131.88, 1610.46, 1638.47, 7792.360000000001, 2121.27, 1575.1599999999999, 810.5, 2624.26, 1678.1200000000001, 1836.3400000000001, 2707.33, 932.97, 2639.1700000000005, 6363.59, 3722.42, 827.83, 2504.13, 2265.12, 2308.0600000000004, 6328.05, 1445.0100000000002, 1041.68, 1980.56, 2885.2399999999993, 3131.0199999999995, 2161.35, 5189.52, 3190.55, 17220.36, 2796.51, 25977.160000000003, 912.0, 2462.7899999999995, 37153.85, 2635.79, 1747.6600000000003, 1698.94, 2202.99, 3385.6200000000003, 1537.95, 8109.52, 1245.9, 2209.36, 3104.95, 2770.94, 6403.25, 1786.79, 3219.7700000000004, 17159.52, 1191.13, 2674.48, 1883.8100000000004, 2593.0699999999997, 2867.2, 2369.55, 2580.91, 1838.85, 839.14, 5112.96, 2427.3199999999997, 1026.42, 9053.939999999999, 2758.26, 2526.2799999999997, 1871.81, 2603.4300000000003, 7060.13, 4147.96, 855.9700000000001, 3466.3600000000006, 2313.1400000000003, 1393.69, 3901.81, 4582.639999999999, 2874.72, 2360.0899999999997, 17286.86, 2975.59, 3614.92, 652.8199999999999, 5681.72, 15610.390000000003, 8214.65, 6217.959999999999, 6140.42, 10464.850000000002, 1353.74, 1438.8200000000002, 942.26, 1018.4300000000001, 4448.540000000001, 4076.91, 442.84999999999997, 3104.17, 1360.28, 2703.23, 5683.1500000000015, 2915.15, 1382.7399999999998, 2780.15, 2740.4300000000003, 1123.8600000000001, 3586.0299999999997, 4690.3099999999995, 4191.0, 4693.01, 3222.3, 1620.9300000000003, 719.78, 4748.52, 4654.08, 4684.76, 11349.52, 2073.4300000000003, 1905.8400000000001, 2241.1000000000004, 1789.72, 1839.3000000000002, 2004.9799999999998, 3432.8, 2232.19, 3350.96, 2048.07, 775.4600000000003, 2380.8500000000004, 2588.7699999999995, 1904.05, 2879.7, 3099.7200000000003, 12669.98, 2618.2299999999996, 1119.7400000000002, 3729.34, 1910.0100000000002, 4628.75, 911.26, 2314.6499999999996, 3883.25, 4871.929999999999, 1305.3299999999997, 3965.62, 1858.9600000000003, 2995.72, 2352.53, 1611.59, 2481.13, 1530.7500000000002, 5014.839999999999, 2552.2100000000005, 1614.91, 2182.28, 912.1800000000001, 2128.2300000000005, 3717.35, 9261.52, 1770.5600000000002, 3212.84, 4652.82, 3507.71, 2612.96, 4051.4799999999996, 2606.53, 5900.280000000001, 1937.25, 1058.06, 4263.639999999999, 4481.67, 2255.51, 2357.6800000000003, 1712.8900000000003, 1039.58, 1163.2300000000002, 907.1, 662.59, 3062.3999999999996, 2103.0599999999995, 2004.02, 2272.4, 1936.84, 2068.15, 1196.33, 2383.2400000000002, 1957.3200000000002, 815.3199999999999, 2470.67, 3543.26, 673.26, 5905.64, 2012.17, 1314.8100000000002, 1055.35, 2102.0899999999997, 1867.6800000000003, 4332.2, 8508.82, 2925.9100000000003, 1949.7200000000003, 4447.050000000001, 2864.19, 996.26, 1461.6500000000003, 3630.3300000000004, 2024.45, 2578.09, 4007.54, 765.62, 859.2700000000001, 2381.04, 2237.7699999999995, 5074.77, 3099.1200000000003, 2832.84, 1653.42, 859.7100000000002, 1601.1399999999999, 1447.14, 617.99, 1740.6000000000001, 883.1500000000001, 16569.5, 889.2499999999999, 2791.27, 959.01, 2984.49, 2125.08, 1417.29, 654.5999999999999, 1947.5499999999997, 1932.23, 848.22, 2529.93, 771.1700000000001, 1835.6999999999998, 9241.2, 1269.9900000000002, 1736.4, 604.7500000000001, 28754.11, 1236.2799999999997, 5630.870000000001, 2114.33, 2078.95, 1250.76, 2235.2999999999997, 2549.37, 3292.1400000000003, 1546.9099999999999, 4921.040000000001, 606.13, 2868.7999999999997, 2666.36, 867.3800000000001, 1602.13, 1158.3, 2005.06, 2702.49, 9585.91, 6065.6900000000005, 1314.45, 3902.2799999999997, 1400.3400000000001, 5010.280000000001, 1625.97, 2473.37, 10674.75, 1011.8999999999999, 2538.2999999999997, 745.0600000000001, 1319.91, 8022.49, 4339.74, 2741.17, 2087.88, 2226.9100000000003, 1720.3, 1649.5000000000002, 3295.7599999999998, 2824.6899999999996, 3189.8100000000004, 7930.54, 2836.69, 2759.8300000000004, 1353.74, 14389.900000000001, 2953.59, 1485.5400000000002, 761.5899999999999, 1237.8500000000001, 11138.71, 1366.38, 1303.52, 1421.29, 2810.63, 3501.1000000000004, 5900.25, 8099.489999999999, 7044.68, 1487.8, 1116.5700000000002, 1931.42, 1641.7599999999998, 6316.57, 1261.78, 1914.8200000000002, 905.0400000000001, 6802.76, 1661.33, 2586.67, 4308.610000000001, 705.49, 19914.44, 7700.23, 5213.7699999999995, 1782.09, 1391.6100000000001, 302.1, 2124.9900000000002, 1337.7199999999998, 303.09000000000003, 1043.4099999999999, 9743.11, 1160.0699999999997, 2420.84, 4597.0199999999995, 2298.9300000000003, 1422.52, 3609.3299999999995, 2760.5599999999995, 1352.75, 1551.7800000000002, 11528.480000000001, 1471.0, 3447.4, 977.93, 1387.99, 2354.25, 6580.4400000000005, 5314.469999999999, 4745.6900000000005, 1936.0700000000004, 18641.010000000002, 1624.05, 2206.9500000000003, 4777.180000000001, 16225.390000000003, 1044.3200000000002, 7616.530000000001, 1827.8, 1661.44, 5756.89, 1778.9599999999996, 2247.51, 780.59, 1706.57, 1756.44, 6688.459999999999, 10484.99, 918.1999999999998, 2379.49, 2507.07, 716.57, 2332.1499999999996, 2306.5200000000004, 7943.219999999999, 4668.300000000001, 3672.8599999999997, 4799.9, 5070.349999999999, 1960.11, 2766.5, 8347.2, 2314.32, 1877.5900000000004, 2386.05, 2415.9100000000003, 1233.3599999999997, 3703.29, 5955.709999999999, 1535.53, 2183.5400000000004, 1345.5300000000002, 3450.8400000000006, 3984.3199999999997, 950.36, 1447.3900000000003, 1483.14, 1122.5300000000002, 3236.9100000000003, 1418.2600000000002, 1388.37, 7354.619999999999, 11054.960000000001, 3594.3100000000004, 1134.28, 3100.09, 2001.8000000000002, 1299.23, 13316.400000000001, 1131.5600000000002, 10384.929999999998, 3610.96, 979.26, 909.23, 14758.22, 4139.460000000001, 1942.4499999999998, 3000.2000000000003, 825.92, 2429.7800000000007, 3995.23, 1502.3500000000004, 2007.4399999999996, 1580.93, 807.57, 3546.7100000000005, 4954.84, 1693.2599999999998, 4805.17, 1400.44, 4165.52, 2552.86, 3679.9700000000003, 725.11, 1771.7800000000002, 6776.56, 2920.16, 1591.4500000000003, 10399.74, 1553.1799999999998, 3709.5600000000004, 2870.24, 3285.3100000000004, 12515.66, 1887.2, 1600.86, 2242.01, 2657.13, 2881.02, 2446.6000000000004, 3435.7599999999998, 781.2800000000001, 1333.6799999999998, 2993.1, 6479.4, 2736.46, 2293.62, 945.5799999999998, 3364.24, 1072.36, 5045.610000000001, 5178.959999999999, 1205.1200000000001, 4812.42, 784.4600000000002, 1094.59, 974.0399999999998, 2465.48, 2637.38, 2364.25, 3279.97, 2614.7400000000002, 4932.2, 948.05, 1612.69, 2711.56, 4206.389999999999, 5528.4800000000005, 2218.62, 1945.33, 2100.6, 1905.4500000000003, 1654.3100000000002, 1836.09, 801.76, 2233.75, 33643.079999999994, 3711.77, 2974.6499999999996, 16387.57, 1438.8500000000001, 977.2099999999998, 3165.3599999999997, 3812.64, 360.93, 4405.88, 493.28000000000003, 363.88, 5126.76, 1567.6899999999998, 1232.18, 1528.0900000000001, 639.8900000000001, 2495.8700000000003, 1107.4600000000003, 6115.009999999999, 1659.3799999999999, 4416.26, 845.64, 4199.85, 3442.15, 1054.73, 2398.8599999999997, 3408.48, 1475.02, 2837.67, 1451.28, 2797.57, 1060.68, 3089.97, 2735.37, 615.3900000000001, 1701.94, 3362.7099999999996, 37130.600000000006, 705.39, 1508.7600000000002, 3786.24, 851.01, 719.81, 8816.4, 1340.7, 1111.79, 2263.12, 1153.62, 1521.8700000000003, 2234.73, 2806.8999999999996, 981.51, 1078.2299999999998, 1842.14, 3204.16, 1337.48, 1667.97, 867.1099999999999, 6287.77, 1880.2199999999998, 3506.540000000001, 14589.039999999999, 2424.94, 3799.4900000000002, 2053.02, 1824.23, 3122.04, 5575.5599999999995, 3787.6000000000004, 1822.9700000000003, 1885.0500000000004, 1140.2100000000003, 1418.32, 10254.18, 1158.79, 4006.9400000000005, 6911.4400000000005, 5180.52, 1863.4700000000003, 2262.6199999999994, 21086.300000000003, 3084.68, 1096.3200000000002, 3718.8, 2607.8700000000003, 3603.21, 1522.75, 1800.0700000000002, 2619.91, 5203.510000000001, 746.83, 5447.0, 1429.2400000000002, 1509.5800000000002, 1570.81, 823.97, 2248.99, 1328.5500000000004, 5360.630000000001, 2938.91, 1341.65, 3110.96, 3844.2200000000003, 1593.2, 1971.87, 887.6500000000001, 1116.47, 6675.710000000001, 2027.5, 1750.9200000000003, 3512.53, 896.6600000000001, 707.0399999999998, 1540.42, 1553.66, 987.01, 2157.4000000000005, 3046.21, 1486.9, 4098.32, 2126.9300000000003, 2028.88, 675.2700000000002, 34684.4, 1908.25, 1522.2500000000002, 798.35, 3640.6699999999996, 2158.3700000000003, 3482.7400000000007, 814.72, 1422.4, 1314.68, 1603.46, 762.3900000000001, 1871.5, 2494.46, 2965.69, 950.26, 1627.13, 9418.470000000001, 13027.45, 1095.5600000000002, 4154.639999999999, 2298.97, 837.0999999999999, 3313.79, 8338.490000000002, 3738.4, 4113.68, 813.5199999999999, 3347.71, 5493.46, 1187.6599999999999, 4413.1, 2188.05, 2883.1000000000004, 1680.72, 6773.97, 1212.6600000000003, 3794.52, 8625.800000000001, 933.6199999999999, 1374.87, 4095.9, 8134.94, 3109.99, 3062.83, 1260.86, 5076.550000000001, 5398.299999999999, 14034.990000000002, 2483.04, 3645.4300000000003, 6923.13, 3858.38, 1790.42, 4730.8099999999995, 1382.02, 1054.67, 7239.92, 2300.56, 2238.09, 1304.76, 7194.3, 6697.66, 1515.8999999999999, 1501.3799999999999, 2799.25, 5580.599999999999, 770.1, 2246.8100000000004, 1695.6599999999999, 10629.720000000001, 2279.9, 1545.6200000000001, 1721.7799999999997, 1222.7099999999998, 1201.4899999999998, 1619.73, 914.69, 1692.98, 6509.1, 1604.75, 3349.5699999999997, 3170.9799999999996, 16594.35, 1869.82, 10196.570000000002, 825.4200000000001, 2812.34, 7123.620000000001, 2095.53, 853.7199999999999, 471.51, 1578.67, 1281.56, 887.11, 3754.27, 3102.4300000000003, 981.65, 1510.06, 2575.38, 1068.8200000000002, 2596.4500000000003, 7247.610000000001, 846.75, 2847.6, 1295.3899999999999, 4604.219999999999, 2736.38, 3049.88, 1920.59, 4345.5, 2085.08, 2154.9700000000003, 1852.0, 1931.25, 4481.35, 5464.119999999999, 1625.0500000000002, 1614.3099999999997, 3989.5699999999997, 781.78, 1842.56, 8694.26, 1272.6100000000001, 1735.18, 925.35, 5659.98, 3095.04, 1461.14, 859.35, 4552.139999999999, 2709.7, 2429.03, 1446.0900000000001, 834.1199999999999, 2050.08, 1991.0100000000002, 2043.9500000000003, 3827.7600000000007, 1777.7800000000002, 1022.1299999999999, 971.74, 1621.73, 10815.43, 885.0400000000001, 2463.17, 4892.240000000001, 1139.73, 10668.470000000001, 1714.59, 1538.88, 3518.0299999999997, 1715.46, 2467.35, 3766.5999999999995, 1443.69, 796.03, 3347.31, 2474.23, 2095.13, 1699.3000000000002, 3563.8499999999995, 1564.56, 2317.2200000000003, 2781.2300000000005, 1069.1200000000001, 1960.7199999999998, 3198.25, 939.3199999999999, 1906.09, 3174.32, 916.1300000000001, 3744.65, 8676.849999999999, 562.9000000000002, 2148.6300000000006, 1652.58, 1064.1100000000001, 1419.73, 944.4100000000001, 525.24, 1875.1100000000001, 669.1099999999999, 1135.63, 8631.310000000001, 2527.92, 6292.26, 921.0699999999999, 990.2299999999999, 2027.87, 6643.93, 12353.29, 2676.56, 1159.5199999999998, 585.7900000000001, 4481.18, 4801.5599999999995, 1912.6700000000003, 1342.68, 4100.92, 20275.61, 784.1099999999999, 31833.68, 2633.8499999999995, 1031.41, 2200.42, 1214.72, 6893.42, 4226.57, 1979.3700000000001, 759.1700000000001, 5037.26, 17256.85, 2373.8199999999997, 2248.56, 2520.86, 1721.4, 657.3, 757.4599999999999, 1896.41, 1870.9700000000003, 1255.59, 3558.8700000000003, 6115.139999999999, 2924.99, 768.08, 1844.02, 3628.5, 2385.0, 1952.4499999999998, 483.26, 1122.3799999999999, 901.2099999999999, 4331.48, 1498.51, 3622.68, 11045.039999999999, 2404.17, 1479.22, 2225.9700000000003, 3927.3400000000006, 2827.9300000000003, 5102.97, 1112.2199999999998, 3984.22, 2048.45, 4559.150000000001, 843.48, 2047.0, 1814.12, 2361.9700000000003, 2895.64, 1797.5, 3945.0, 4867.72, 2638.9400000000005, 1674.6900000000003, 2999.46, 1802.9100000000003, 2055.51, 3406.72, 1572.7100000000003, 3178.17, 1629.12, 20374.28, 1387.68, 16363.23, 2474.3299999999995, 3191.53, 5739.460000000001, 4757.95, 2285.7100000000005, 2534.64, 1823.52, 10504.49, 5655.99, 5396.04, 3439.08, 1060.25, 2876.01, 5298.48, 13110.02, 1879.05, 2791.3500000000004, 2322.4, 1797.5700000000002, 5605.290000000001, 3456.7, 834.99, 818.82, 3997.9800000000005, 665.8600000000001, 658.57, 1865.19, 1965.5500000000002, 780.4300000000002, 3055.9300000000003, 1199.01, 1285.04, 5411.91, 7837.7300000000005, 732.1599999999999, 1770.8799999999999, 1995.46, 1593.38, 2779.3, 26879.04, 5155.66, 2100.8, 3160.0, 597.5, 10526.32, 1894.3500000000001, 671.77, 726.05, 4204.1, 2962.500000000001, 1331.57, 2332.7200000000003, 1296.44, 2622.57, 740.79, 4488.81, 1970.67, 422.87999999999994, 4183.39, 2088.6, 6784.1900000000005, 2119.41, 2392.83, 2036.67, 2611.75, 2633.01, 3651.9699999999993, 9068.26, 911.1500000000001, 8052.97, 5653.82, 1826.21, 1142.99, 1059.3899999999999, 8438.34, 2888.7500000000005, 2861.55, 734.94, 1618.69, 1231.31, 7561.68, 1793.1700000000003, 1843.7500000000005, 2001.0399999999997, 5425.560000000001, 1993.7000000000003, 2621.38, 2069.77, 1041.6100000000001, 6484.54, 5509.120000000001, 5228.050000000001, 7276.9, 2810.1999999999994, 1796.4800000000002, 987.1000000000001, 2073.09, 2567.0600000000004, 2337.6300000000006, 2338.6000000000004, 2643.2, 3078.58, 2094.88, 1837.2800000000002]}],\n",
              "                        {\"template\": {\"data\": {\"bar\": [{\"error_x\": {\"color\": \"#2a3f5f\"}, \"error_y\": {\"color\": \"#2a3f5f\"}, \"marker\": {\"line\": {\"color\": \"#E5ECF6\", \"width\": 0.5}}, \"type\": \"bar\"}], \"barpolar\": [{\"marker\": {\"line\": {\"color\": \"#E5ECF6\", \"width\": 0.5}}, \"type\": \"barpolar\"}], \"carpet\": [{\"aaxis\": {\"endlinecolor\": \"#2a3f5f\", \"gridcolor\": \"white\", \"linecolor\": \"white\", \"minorgridcolor\": \"white\", \"startlinecolor\": \"#2a3f5f\"}, \"baxis\": {\"endlinecolor\": \"#2a3f5f\", \"gridcolor\": \"white\", \"linecolor\": \"white\", \"minorgridcolor\": \"white\", \"startlinecolor\": \"#2a3f5f\"}, \"type\": \"carpet\"}], \"choropleth\": [{\"colorbar\": {\"outlinewidth\": 0, \"ticks\": \"\"}, \"type\": \"choropleth\"}], \"contour\": [{\"colorbar\": {\"outlinewidth\": 0, \"ticks\": \"\"}, \"colorscale\": [[0.0, \"#0d0887\"], [0.1111111111111111, \"#46039f\"], [0.2222222222222222, \"#7201a8\"], [0.3333333333333333, \"#9c179e\"], [0.4444444444444444, \"#bd3786\"], [0.5555555555555556, \"#d8576b\"], [0.6666666666666666, \"#ed7953\"], [0.7777777777777778, \"#fb9f3a\"], [0.8888888888888888, \"#fdca26\"], [1.0, \"#f0f921\"]], \"type\": \"contour\"}], \"contourcarpet\": [{\"colorbar\": {\"outlinewidth\": 0, \"ticks\": \"\"}, \"type\": \"contourcarpet\"}], \"heatmap\": [{\"colorbar\": {\"outlinewidth\": 0, \"ticks\": \"\"}, \"colorscale\": [[0.0, \"#0d0887\"], [0.1111111111111111, \"#46039f\"], [0.2222222222222222, \"#7201a8\"], [0.3333333333333333, \"#9c179e\"], [0.4444444444444444, \"#bd3786\"], [0.5555555555555556, \"#d8576b\"], [0.6666666666666666, \"#ed7953\"], [0.7777777777777778, \"#fb9f3a\"], [0.8888888888888888, \"#fdca26\"], [1.0, \"#f0f921\"]], \"type\": \"heatmap\"}], \"heatmapgl\": [{\"colorbar\": {\"outlinewidth\": 0, \"ticks\": \"\"}, \"colorscale\": [[0.0, \"#0d0887\"], [0.1111111111111111, \"#46039f\"], [0.2222222222222222, \"#7201a8\"], [0.3333333333333333, \"#9c179e\"], [0.4444444444444444, \"#bd3786\"], [0.5555555555555556, \"#d8576b\"], [0.6666666666666666, \"#ed7953\"], [0.7777777777777778, \"#fb9f3a\"], [0.8888888888888888, \"#fdca26\"], [1.0, \"#f0f921\"]], \"type\": \"heatmapgl\"}], \"histogram\": [{\"marker\": {\"colorbar\": {\"outlinewidth\": 0, \"ticks\": \"\"}}, \"type\": \"histogram\"}], \"histogram2d\": [{\"colorbar\": {\"outlinewidth\": 0, \"ticks\": \"\"}, \"colorscale\": [[0.0, \"#0d0887\"], [0.1111111111111111, \"#46039f\"], [0.2222222222222222, \"#7201a8\"], [0.3333333333333333, \"#9c179e\"], [0.4444444444444444, \"#bd3786\"], [0.5555555555555556, \"#d8576b\"], [0.6666666666666666, \"#ed7953\"], [0.7777777777777778, \"#fb9f3a\"], [0.8888888888888888, \"#fdca26\"], [1.0, \"#f0f921\"]], \"type\": \"histogram2d\"}], \"histogram2dcontour\": [{\"colorbar\": {\"outlinewidth\": 0, \"ticks\": \"\"}, \"colorscale\": [[0.0, \"#0d0887\"], [0.1111111111111111, \"#46039f\"], [0.2222222222222222, \"#7201a8\"], [0.3333333333333333, \"#9c179e\"], [0.4444444444444444, \"#bd3786\"], [0.5555555555555556, \"#d8576b\"], [0.6666666666666666, \"#ed7953\"], [0.7777777777777778, \"#fb9f3a\"], [0.8888888888888888, \"#fdca26\"], [1.0, \"#f0f921\"]], \"type\": \"histogram2dcontour\"}], \"mesh3d\": [{\"colorbar\": {\"outlinewidth\": 0, \"ticks\": \"\"}, \"type\": \"mesh3d\"}], \"parcoords\": [{\"line\": {\"colorbar\": {\"outlinewidth\": 0, \"ticks\": \"\"}}, \"type\": \"parcoords\"}], \"pie\": [{\"automargin\": true, \"type\": \"pie\"}], \"scatter\": [{\"marker\": {\"colorbar\": {\"outlinewidth\": 0, \"ticks\": \"\"}}, \"type\": \"scatter\"}], \"scatter3d\": [{\"line\": {\"colorbar\": {\"outlinewidth\": 0, \"ticks\": \"\"}}, \"marker\": {\"colorbar\": {\"outlinewidth\": 0, \"ticks\": \"\"}}, \"type\": \"scatter3d\"}], \"scattercarpet\": [{\"marker\": {\"colorbar\": {\"outlinewidth\": 0, \"ticks\": \"\"}}, \"type\": \"scattercarpet\"}], \"scattergeo\": [{\"marker\": {\"colorbar\": {\"outlinewidth\": 0, \"ticks\": \"\"}}, \"type\": \"scattergeo\"}], \"scattergl\": [{\"marker\": {\"colorbar\": {\"outlinewidth\": 0, \"ticks\": \"\"}}, \"type\": \"scattergl\"}], \"scattermapbox\": [{\"marker\": {\"colorbar\": {\"outlinewidth\": 0, \"ticks\": \"\"}}, \"type\": \"scattermapbox\"}], \"scatterpolar\": [{\"marker\": {\"colorbar\": {\"outlinewidth\": 0, \"ticks\": \"\"}}, \"type\": \"scatterpolar\"}], \"scatterpolargl\": [{\"marker\": {\"colorbar\": {\"outlinewidth\": 0, \"ticks\": \"\"}}, \"type\": \"scatterpolargl\"}], \"scatterternary\": [{\"marker\": {\"colorbar\": {\"outlinewidth\": 0, \"ticks\": \"\"}}, \"type\": \"scatterternary\"}], \"surface\": [{\"colorbar\": {\"outlinewidth\": 0, \"ticks\": \"\"}, \"colorscale\": [[0.0, \"#0d0887\"], [0.1111111111111111, \"#46039f\"], [0.2222222222222222, \"#7201a8\"], [0.3333333333333333, \"#9c179e\"], [0.4444444444444444, \"#bd3786\"], [0.5555555555555556, \"#d8576b\"], [0.6666666666666666, \"#ed7953\"], [0.7777777777777778, \"#fb9f3a\"], [0.8888888888888888, \"#fdca26\"], [1.0, \"#f0f921\"]], \"type\": \"surface\"}], \"table\": [{\"cells\": {\"fill\": {\"color\": \"#EBF0F8\"}, \"line\": {\"color\": \"white\"}}, \"header\": {\"fill\": {\"color\": \"#C8D4E3\"}, \"line\": {\"color\": \"white\"}}, \"type\": \"table\"}]}, \"layout\": {\"annotationdefaults\": {\"arrowcolor\": \"#2a3f5f\", \"arrowhead\": 0, \"arrowwidth\": 1}, \"coloraxis\": {\"colorbar\": {\"outlinewidth\": 0, \"ticks\": \"\"}}, \"colorscale\": {\"diverging\": [[0, \"#8e0152\"], [0.1, \"#c51b7d\"], [0.2, \"#de77ae\"], [0.3, \"#f1b6da\"], [0.4, \"#fde0ef\"], [0.5, \"#f7f7f7\"], [0.6, \"#e6f5d0\"], [0.7, \"#b8e186\"], [0.8, \"#7fbc41\"], [0.9, \"#4d9221\"], [1, \"#276419\"]], \"sequential\": [[0.0, \"#0d0887\"], [0.1111111111111111, \"#46039f\"], [0.2222222222222222, \"#7201a8\"], [0.3333333333333333, \"#9c179e\"], [0.4444444444444444, \"#bd3786\"], [0.5555555555555556, \"#d8576b\"], [0.6666666666666666, \"#ed7953\"], [0.7777777777777778, \"#fb9f3a\"], [0.8888888888888888, \"#fdca26\"], [1.0, \"#f0f921\"]], \"sequentialminus\": [[0.0, \"#0d0887\"], [0.1111111111111111, \"#46039f\"], [0.2222222222222222, \"#7201a8\"], [0.3333333333333333, \"#9c179e\"], [0.4444444444444444, \"#bd3786\"], [0.5555555555555556, \"#d8576b\"], [0.6666666666666666, \"#ed7953\"], [0.7777777777777778, \"#fb9f3a\"], [0.8888888888888888, \"#fdca26\"], [1.0, \"#f0f921\"]]}, \"colorway\": [\"#636efa\", \"#EF553B\", \"#00cc96\", \"#ab63fa\", \"#FFA15A\", \"#19d3f3\", \"#FF6692\", \"#B6E880\", \"#FF97FF\", \"#FECB52\"], \"font\": {\"color\": \"#2a3f5f\"}, \"geo\": {\"bgcolor\": \"white\", \"lakecolor\": \"white\", \"landcolor\": \"#E5ECF6\", \"showlakes\": true, \"showland\": true, \"subunitcolor\": \"white\"}, \"hoverlabel\": {\"align\": \"left\"}, \"hovermode\": \"closest\", \"mapbox\": {\"style\": \"light\"}, \"paper_bgcolor\": \"white\", \"plot_bgcolor\": \"#E5ECF6\", \"polar\": {\"angularaxis\": {\"gridcolor\": \"white\", \"linecolor\": \"white\", \"ticks\": \"\"}, \"bgcolor\": \"#E5ECF6\", \"radialaxis\": {\"gridcolor\": \"white\", \"linecolor\": \"white\", \"ticks\": \"\"}}, \"scene\": {\"xaxis\": {\"backgroundcolor\": \"#E5ECF6\", \"gridcolor\": \"white\", \"gridwidth\": 2, \"linecolor\": \"white\", \"showbackground\": true, \"ticks\": \"\", \"zerolinecolor\": \"white\"}, \"yaxis\": {\"backgroundcolor\": \"#E5ECF6\", \"gridcolor\": \"white\", \"gridwidth\": 2, \"linecolor\": \"white\", \"showbackground\": true, \"ticks\": \"\", \"zerolinecolor\": \"white\"}, \"zaxis\": {\"backgroundcolor\": \"#E5ECF6\", \"gridcolor\": \"white\", \"gridwidth\": 2, \"linecolor\": \"white\", \"showbackground\": true, \"ticks\": \"\", \"zerolinecolor\": \"white\"}}, \"shapedefaults\": {\"line\": {\"color\": \"#2a3f5f\"}}, \"ternary\": {\"aaxis\": {\"gridcolor\": \"white\", \"linecolor\": \"white\", \"ticks\": \"\"}, \"baxis\": {\"gridcolor\": \"white\", \"linecolor\": \"white\", \"ticks\": \"\"}, \"bgcolor\": \"#E5ECF6\", \"caxis\": {\"gridcolor\": \"white\", \"linecolor\": \"white\", \"ticks\": \"\"}}, \"title\": {\"x\": 0.05}, \"xaxis\": {\"automargin\": true, \"gridcolor\": \"white\", \"linecolor\": \"white\", \"ticks\": \"\", \"title\": {\"standoff\": 15}, \"zerolinecolor\": \"white\", \"zerolinewidth\": 2}, \"yaxis\": {\"automargin\": true, \"gridcolor\": \"white\", \"linecolor\": \"white\", \"ticks\": \"\", \"title\": {\"standoff\": 15}, \"zerolinecolor\": \"white\", \"zerolinewidth\": 2}}}, \"title\": {\"text\": \"Segments\"}, \"xaxis\": {\"title\": {\"text\": \"Frequency\"}}, \"yaxis\": {\"title\": {\"text\": \"Monetary\"}}},\n",
              "                        {\"responsive\": true}\n",
              "                    ).then(function(){\n",
              "                            \n",
              "var gd = document.getElementById('eb19bcf7-c73c-4b43-8d27-9090dea9d47c');\n",
              "var x = new MutationObserver(function (mutations, observer) {{\n",
              "        var display = window.getComputedStyle(gd).display;\n",
              "        if (!display || display === 'none') {{\n",
              "            console.log([gd, 'removed!']);\n",
              "            Plotly.purge(gd);\n",
              "            observer.disconnect();\n",
              "        }}\n",
              "}});\n",
              "\n",
              "// Listen for the removal of the full notebook cells\n",
              "var notebookContainer = gd.closest('#notebook-container');\n",
              "if (notebookContainer) {{\n",
              "    x.observe(notebookContainer, {childList: true});\n",
              "}}\n",
              "\n",
              "// Listen for the clearing of the current output cell\n",
              "var outputEl = gd.closest('.output');\n",
              "if (outputEl) {{\n",
              "    x.observe(outputEl, {childList: true});\n",
              "}}\n",
              "\n",
              "                        })\n",
              "                };\n",
              "                \n",
              "            </script>\n",
              "        </div>\n",
              "</body>\n",
              "</html>"
            ]
          },
          "metadata": {
            "tags": []
          }
        },
        {
          "output_type": "display_data",
          "data": {
            "text/html": [
              "<html>\n",
              "<head><meta charset=\"utf-8\" /></head>\n",
              "<body>\n",
              "    <div>\n",
              "            <script src=\"https://cdnjs.cloudflare.com/ajax/libs/mathjax/2.7.5/MathJax.js?config=TeX-AMS-MML_SVG\"></script><script type=\"text/javascript\">if (window.MathJax) {MathJax.Hub.Config({SVG: {font: \"STIX-Web\"}});}</script>\n",
              "                <script type=\"text/javascript\">window.PlotlyConfig = {MathJaxConfig: 'local'};</script>\n",
              "        <script src=\"https://cdn.plot.ly/plotly-latest.min.js\"></script>    \n",
              "            <div id=\"7506a281-caf0-4de1-b2ef-fdd4dbb626ce\" class=\"plotly-graph-div\" style=\"height:525px; width:100%;\"></div>\n",
              "            <script type=\"text/javascript\">\n",
              "                \n",
              "                    window.PLOTLYENV=window.PLOTLYENV || {};\n",
              "                    \n",
              "                if (document.getElementById(\"7506a281-caf0-4de1-b2ef-fdd4dbb626ce\")) {\n",
              "                    Plotly.newPlot(\n",
              "                        '7506a281-caf0-4de1-b2ef-fdd4dbb626ce',\n",
              "                        [{\"marker\": {\"color\": \"blue\", \"line\": {\"width\": 1}, \"opacity\": 0.8, \"size\": 7}, \"mode\": \"markers\", \"name\": \"Bronze\", \"type\": \"scatter\", \"x\": [95, 161, 262, 173, 294, 665, 138, 309, 97, 264, 276, 182, 341, 190, 113, 112, 197, 185, 85, 318, 323, 665, 300, 357, 249, 253, 72, 337, 696, 82, 192, 266, 179, 70, 334, 234, 133, 665, 238, 77, 183, 261, 241, 313, 182, 267, 191, 135, 267, 245, 200, 201, 225, 65, 263, 484, 113, 78, 330, 359, 137, 268, 155, 182, 243, 71, 453, 250, 203, 152, 149, 119, 91, 259, 165, 339, 115, 200, 232, 213, 71, 182, 66, 260, 215, 73, 78, 89, 319, 300, 126, 282, 190, 65, 312, 173, 339, 179, 217, 285, 64, 332, 318, 120, 218, 158, 269, 187, 162, 696, 288, 218, 103, 280, 515, 243, 255, 152, 515, 176, 339, 182, 326, 74, 152, 86, 71, 325, 351, 294, 169, 242, 213, 360, 145, 70, 287, 206, 89, 176, 181, 266, 284, 154, 213, 266, 266, 320, 151, 151, 423, 324, 273, 72, 143, 133, 233, 266, 173, 181, 218, 183, 211, 696, 326, 94, 234, 189, 318, 141, 225, 196, 198, 338, 106, 163, 274, 218, 332, 164, 126, 89, 453, 319, 295, 358, 262, 296, 218, 362, 218, 303, 453, 190, 306, 310, 170, 74, 257, 281, 175, 94, 217, 182, 119, 108, 259, 156, 119, 250, 665, 180, 637, 262, 201, 201, 208, 264, 218, 95, 198, 67, 297, 112, 319, 152, 166, 331, 75, 576, 197, 182, 484, 267, 300, 261, 161, 253, 216, 74, 151, 72, 253, 171, 270, 188, 276, 301, 158, 277, 172, 181, 199, 319, 665, 256, 281, 211, 331, 134, 127, 213, 239, 161, 225, 357, 320, 322, 260, 515, 122, 357, 87, 176, 484, 318, 358, 310, 128, 298, 148, 340, 323, 106, 222, 354, 172, 201, 214, 110, 326, 340, 484, 72, 696, 361, 665, 276, 172, 325, 112, 289, 278, 264, 171, 323, 332, 254, 219, 264, 330, 362, 143, 122, 81, 330, 155, 233, 181, 254, 163, 288, 187, 159, 351, 162, 70, 78, 161, 125, 90, 222, 106, 187, 296, 117, 339, 264, 201, 340, 234, 423, 201, 309, 243, 77, 129, 218, 182, 241, 302, 127, 319, 665, 98, 186, 159, 80, 253, 149, 194, 545, 331, 173, 178, 188, 696, 665, 194, 182, 341, 453, 74, 484, 89, 180, 696, 173, 279, 297, 340, 67, 106, 264, 240, 219, 213, 69, 170, 278, 317, 515, 158, 296, 281, 339, 138, 274, 78, 80, 235, 203, 225, 170, 90, 176, 252, 169, 215, 330, 187, 196, 273, 216, 284, 246, 290, 322, 312, 68, 337, 263, 106, 182, 198, 87, 218, 177, 73, 74, 67, 192, 162, 296, 665, 89, 159, 171, 81, 180, 164, 109, 423, 180, 64, 696, 219, 232, 302, 211, 285, 248, 186, 235, 263, 180, 127, 338, 105, 169, 545, 278, 362, 484, 72, 262, 297, 176, 665, 95, 318, 244, 294, 67, 665, 331, 309, 192, 360, 112, 185, 125, 276, 186, 545, 63, 84, 243, 217, 242, 299, 290, 273, 637, 109, 89, 239, 87, 116, 217, 226, 267, 241, 218, 129, 89, 120, 156, 152, 335, 266, 78, 322, 261, 165, 288, 317, 336, 99, 239, 176, 284, 203, 289, 187, 201, 226, 253, 234, 242, 64, 312, 204, 362, 107, 208, 242, 251, 214, 250, 123, 183, 355, 86, 179, 341, 238, 213, 163, 248, 273, 163, 71, 151, 119, 253, 185, 176, 203, 453, 246, 79, 219, 358, 75, 279, 276, 251, 361, 359, 306, 250, 177, 269, 233, 205, 71, 218, 236, 239, 203, 173, 81, 128, 696, 213, 227, 263, 358, 137, 141, 260, 156, 217, 169, 320, 200, 232, 240, 112, 359, 263, 254, 253, 281, 213, 181, 665, 323, 204, 170, 173, 129, 304, 162, 225, 277, 306, 188, 309, 665, 277, 335, 300, 233, 301, 249, 243, 171, 166, 453, 156, 225, 281, 362, 235, 256, 696, 303, 99, 213, 203, 359, 289, 696, 67, 245, 301, 254, 545, 290, 515, 95, 66, 295, 140, 177, 300, 249, 192, 261, 165, 216, 236, 226, 263, 187, 325, 140, 134, 484, 266, 150, 89, 73, 159, 215], \"y\": [92.72, 293.0, 215.05, 134.1, 311.55, 38.1, 147.12, 374.0, 298.0, 138.67999999999998, 594.0, 176.97, 117.85, 108.07, 266.39, 135.95, 144.8, 39.24, 211.32, 120.94999999999999, 229.47000000000003, 50.550000000000004, 204.0, 190.54999999999998, 183.4, 307.53000000000003, 248.61, 346.98, 205.85999999999999, 115.46000000000001, 228.8, 177.14999999999998, 58.08, 74.4, 207.35999999999999, 101.19, 76.5, 350.05999999999995, 30.599999999999998, 259.16999999999996, 64.0, 77.3, 486.22, 112.75, 282.45, 71.4, 236.01999999999998, 60.7, 333.74, 62.64, 163.20000000000002, 257.7, 160.95, 270.40000000000003, 200.29, 590.0, 138.98, 137.75, 201.19, 201.2, 87.4, 142.5, 63.75, 233.76, 373.94, 134.96, 308.28, 222.99, 59.8, 221.06, 159.85, 196.88999999999996, 296.64000000000004, 590.0, 356.97999999999996, 151.5, 165.0, 300.95, 184.64, 140.34, 216.85000000000002, 295.93000000000006, 110.97000000000003, 251.20999999999998, 205.09999999999997, 152.20000000000002, 122.75, 125.80000000000001, 91.80000000000001, 174.36999999999998, 141.86, 118.0, 142.4, 247.95999999999998, 219.51999999999998, 177.34, 257.22999999999996, 189.46999999999997, 59.5, 67.23, 72.0, 151.3, 99.5, 180.48, 252.06000000000003, 228.83999999999997, 138.28, 199.85000000000002, 300.03999999999996, 79.6, 296.25, 306.72, 178.7, 127.84, 230.4, 195.54999999999995, 277.07000000000005, 256.38, 112.6, 189.5, 85.0, 312.98, 201.16, 145.67, 122.69999999999999, 117.24000000000001, 243.56, 155.93, 172.24999999999997, 307.4, 158.85, 71.66, 90.6, 101.99999999999999, 80.7, 190.25000000000003, 264.7, 357.98, 76.8, 147.2, 152.2, 141.41, 154.99, 260.25, 92.46, 183.6, 152.55, 265.85, 151.04, 45.599999999999994, 182.24999999999997, 76.32000000000001, 147.34999999999997, 144.2, 90.0, 115.8, 157.2, 118.75, 289.36, 134.46, 185.39999999999998, 151.73999999999998, 89.94, 161.00000000000003, 146.85, 213.70000000000005, 280.55, 136.76999999999998, 302.58, 120.0, 112.32, 134.04, 176.63, 383.45000000000005, 120.0, 311.65000000000003, 415.2, 134.7, 108.97999999999999, 51.0, 90.6, 163.62, 174.4, 155.0, 100.5, 76.55, 617.05, 142.4, 67.94999999999999, 122.7, 265.2, 89.06, 63.0, 131.9, 119.93, 113.64, 529.62, 234.34, 215.7, 137.1, 340.93, 251.21, 275.28, 174.37, 270.6, 241.09, 171.8, 103.25000000000001, 227.38999999999996, 218.06, 35.400000000000006, 168.63, 39.75, 114.56, 243.21999999999997, 52.0, 112.80000000000001, 172.9, 188.60999999999996, 109.13000000000001, 179.0, 268.58, 89.2, 139.26, 200.10000000000002, 6.2, 131.45, 353.27, 193.39, 155.42999999999998, 271.85, 272.07, 48.800000000000004, 62.85, 52.2, 327.24999999999994, 135.9, 125.65, 616.15, 277.79999999999995, 223.88, 290.82000000000005, 58.49, 221.26999999999998, 126.70000000000002, 206.21, 114.77, 114.39, 102.12, 156.91000000000003, 170.04, 125.58000000000001, 135.93, 215.78, 106.2, 88.19999999999999, 306.94, 248.07999999999998, 317.53, 244.8, 266.4, 406.53000000000003, 139.04999999999998, 178.96, 259.45, 158.16000000000003, 163.00000000000003, 135.75, 40.5, 87.5, 193.64, 316.58, 96.6, 305.75, 403.25, 585.0, 322.0799999999999, 154.41, 197.00000000000006, 321.04999999999995, 98.45, 317.15, 178.95000000000002, 156.50999999999996, 119.30000000000001, 290.51, 113.12, 180.94, 205.3, 52.0, 165.0, 204.5, 201.59999999999997, 158.04, 115.65, 418.9200000000001, 326.0, 168.0, 500.0, 107.45000000000002, 288.17999999999995, 94.0, 349.1, 267.18, 190.53, 97.7, 43.5, 383.34000000000003, 594.0, 113.5, 155.17, 179.10000000000002, 234.6, 91.32000000000001, 52.83, 250.0, 121.0, 267.03000000000003, 148.44, 229.32999999999998, 110.92000000000002, 127.86, 90.12, 217.2, 134.55, 127.1, 199.8, 48.480000000000004, 104.76, 298.48, 195.15, 309.8, 138.14, 76.32000000000001, 173.05, 193.75, 136.8, 211.5, 143.10000000000002, 133.25, 150.3, 203.10000000000002, 218.25, 162.3, 449.12, 34.8, 79.2, 253.04000000000002, 315.05999999999995, 635.6800000000001, 270.79999999999995, 104.9, 206.98, 15.0, 118.95000000000002, 160.70999999999998, 149.64000000000001, 168.31, 263.55, 179.17000000000002, 222.05, 56.25, 164.67999999999998, 191.93999999999997, 264.61999999999995, 123.10000000000001, 369.50000000000006, 127.08000000000001, 207.14999999999998, 145.35, 35.8, 181.0, 104.35, 307.82, 168.11999999999998, 41.989999999999995, 256.44000000000005, 137.89999999999998, 134.8, 122.39999999999999, 79.2, 217.16000000000003, 17.0, 320.62, 185.05, 336.96, 108.38, 195.74, 135.75000000000003, 232.21, 249.0, 289.35, 175.2, 76.32000000000001, 348.2000000000001, 37.4, 197.9, 338.7100000000001, 159.0, 242.35000000000002, 304.25000000000006, 255.12, 314.22, 114.56, 152.94, 46.95, 168.3, 142.5, 233.22, 226.37, 404.40000000000003, 207.50000000000003, 151.05, 214.8, 109.95000000000002, 101.10000000000001, 53.5, 94.36, 177.5, 167.25, 133.56, 241.06, 284.55, 287.4, 188.89000000000001, 266.97, 208.35999999999999, 151.41999999999996, 136.0, 74.9, 223.95, 139.35, 100.97000000000001, 363.70000000000005, 248.10000000000002, 101.7, 162.70000000000005, 290.35999999999996, 228.06000000000003, 244.41000000000003, 339.3, 285.89, 173.7, 124.2, 105.84, 233.45000000000002, 463.95, 225.14999999999995, 213.5, 90.04000000000002, 145.05, 75.66, 129.49, 151.85000000000002, 226.21, 178.96, 129.45, 217.9, 231.10000000000002, 214.06, 123.24, 39.12, 135.39999999999998, 129.75, 225.57999999999996, 292.46999999999997, 3.75, 323.00000000000006, 207.5, 239.40000000000003, 106.83, 316.62, 34.0, 245.94, 311.25, 80.8, 110.38000000000001, 309.53999999999996, 479.3500000000001, 128.5, 197.22, 199.15, 180.85000000000002, 124.57, 375.69000000000005, 207.73999999999998, 13.3, 432.0, 276.72999999999996, 194.88000000000002, 289.78, 113.44, 208.45999999999995, 230.25000000000003, 167.60999999999999, 20.8, 416.64, 117.35000000000001, 234.17000000000002, 110.55000000000001, 201.18999999999994, 251.51999999999998, 126.12, 179.0, 295.0, 270.9, 71.0, 154.82999999999998, 146.87000000000003, 498.47999999999996, 234.24, 118.80000000000001, 301.99999999999994, 25.5, 163.3, 116.19999999999999, 157.02, 345.29999999999995, 157.08999999999997, 578.9999999999999, 319.0, 158.68, 206.33999999999997, 224.91, 59.9, 306.13, 203.95, 226.85, 113.49999999999999, 190.88, 149.89, 382.50000000000006, 171.45, 283.28, 240.0, 63.440000000000005, 111.98000000000002, 550.8000000000001, 82.75, 96.8, 175.2, 243.36, 193.64, 228.96, 110.75, 178.21999999999997, 168.39999999999998, 65.4, 508.8, 203.86999999999995, 281.62, 32.65, 100.8, 265.76000000000005, 216.3, 388.45000000000005, 186.42, 120.90000000000002, 131.7, 249.86, 289.96000000000004, 194.36999999999995, 374.57, 271.05, 272.22, 288.59999999999997, 208.65, 153.94, 145.0, 422.7, 296.7, 164.39999999999998, 76.5, 170.75, 103.3, 157.9, 226.75, 143.45999999999998, 175.27, 116.00999999999999, 329.6000000000001, 571.2, 75.75000000000001, 108.5, 101.55, 133.06, 205.7, 298.11, 290.4, 200.46999999999997, 283.12, 154.95, 152.39999999999998, 267.08000000000004, 137.45, 153.0, 326.4, 139.35, 110.25000000000001, 71.4, 80.64, 15.0, 56.4, 188.01999999999998, 225.9, 36.559999999999995, 35.400000000000006, 208.97, 330.9, 155.90000000000003, 237.61, 178.51999999999998, 133.35000000000002, 111.35, 203.85999999999996, 112.25, 155.79999999999998, 112.19999999999999, 72.9, 207.50000000000003, 244.08, 99.14000000000001, 304.56, 77.50000000000001, 149.58, 176.67999999999998, 12.75, 111.67999999999999, 73.78, 228.20000000000002, 300.91999999999996, 198.57, 93.35, 76.1, 169.47, 257.34, 174.79999999999998, 102.79, 115.30999999999999, 73.5, 97.97000000000001, 172.29000000000002, 74.4, 101.69999999999999, 489.6, 101.33999999999999, 168.31, 113.48000000000002, 271.0, 76.32000000000001, 220.1, 181.11999999999995, 111.14999999999999, 112.55, 152.65, 160.35, 302.46000000000004, 104.0, 304.25, 284.46, 207.79999999999998, 243.76, 160.42000000000002, 232.48000000000002, 305.28000000000003, 158.95000000000002, 93.75, 440.0, 149.48, 25.5, 168.6, 283.15000000000003, 204.0, 175.92000000000002, 173.89999999999998, 180.6, 178.05]}, {\"marker\": {\"color\": \"green\", \"line\": {\"width\": 1}, \"opacity\": 0.5, \"size\": 9}, \"mode\": \"markers\", \"name\": \"Silver\", \"type\": \"scatter\", \"x\": [151, 145, 309, 267, 244, 52, 84, 326, 143, 44, 95, 156, 89, 37, 176, 148, 336, 78, 25, 242, 288, 9, 18, 73, 292, 120, 127, 106, 32, 158, 56, 182, 89, 36, 291, 334, 89, 182, -1, 304, 21, 75, 216, 39, 138, 269, 36, 196, 38, 39, 26, 22, 340, 152, 26, 211, 45, 11, 90, 2, 153, 92, 36, 81, 261, 203, 122, 50, 154, 185, 14, 90, 90, 268, 301, 30, 152, 15, 29, 284, 119, 169, 351, 31, 119, 72, 81, 316, 120, 216, 177, 287, 70, 10, 257, 268, 152, 50, 191, 637, 329, 74, 156, 192, 245, 17, 34, 74, 107, 205, 74, 255, 23, 49, 125, 236, 233, 105, 341, 309, 316, 78, 205, 181, 64, 85, 173, 66, 205, 50, 152, 47, 182, 26, 318, 116, 15, 120, 31, 256, 39, 164, 60, 50, 75, 37, 32, 152, 29, 155, 68, 271, 158, 273, 158, 200, 18, 240, 287, 32, 81, 170, 75, 211, 168, 282, 243, 22, 19, 277, 122, 94, 57, 188, 358, 200, 204, 122, 297, 50, 294, 49, 23, 74, 169, 57, 109, 263, 179, 79, 176, 70, 124, 21, 21, 251, 14, 60, 213, 65, 159, 97, 77, 225, 280, 62, 60, 144, 284, 106, 304, 154, 150, 56, 137, 124, 89, 36, 84, 319, 304, 696, 78, 279, 242, 97, 303, 297, 243, 8, 201, 106, 150, 239, 42, 188, 177, 80, 124, 73, 86, 65, 40, 18, 117, 182, 114, 35, 135, 196, 35, 260, 67, 43, 22, 156, 9, 213, 149, 1, 310, 22, 334, 50, 68, 110, 253, 11, 164, 50, 332, 207, 25, 50, 341, 282, 100, 141, 301, 57, 182, 341, 18, 85, 16, 40, 50, 128, 300, 160, 10, 67, 72, 35, 127, 205, 125, 29, 266, 268, 50, 21, -1, 170, 274, 97, 77, 169, 117, 86, 26, 24, 106, 24, 147, 696, 180, 249, 43, 87, 75, -1, 263, 46, 59, 17, 245, 250, 26, 10, 28, 21, 52, 51, 90, 53, 10, 148, 341, 19, 52, 59, 178, 210, 19, 26, 131, 339, 207, 148, 204, 91, 127, 14, 79, 244, 49, 89, 57, 198, 250, 242, 43, 332, 266, 181, 71, 30, 170, 120, 269, 36, 65, 251, 274, 126, 42, 84, 69, 38, 127, 133, 22, 169, 240, 133, 120, 75, 45, 696, 25, 71, 175, 124, 70, 225, 5, 318, 225, 234, 239, 113, 74, 213, 238, 92, 245, 168, 135, 182, 23, 301, 243, 46, 49, 164, 182, 290, 67, 199, 116, 180, 44, 103, 69, 52, 208, 163, 53, 243, 304, 87, 74, 38, 217, 53, 39, 214, 65, 169, 40, 186, 16, 113, 313, 85, 24, 15, 23, 65, 22, 262, 131, 312, 89, 340, 262, 25, 354, 59, 77, 266, 362, 171, 44, 119, 84, 24, 173, 300, 11, 114, 273, 24, 50, 18, 32, 302, 176, 255, 242, 53, 52, 51, 141, 116, 17, 52, 134, 309, 158, 204, 161, 260, 91, 115, 66, 22, 43, 50, 39, 81, 52, 1, 100, 28, 266, 143, 34, 34, 49, 134, 40, 24, 77, 115, 133, 10, 358, 142, 51, 68, 207, 180, 172, 301, 50, 182, 46, 288, 51, 18, 25, 101, 312, 198, 122, 60, 185, 226, 271, 124, 172, 274, 112, 133, 128, 285, 98, 84, 165, 4, 47, 260, 43, 68, 282, 177, 260, 453, 288, 299, 124, 90, 218, 94, 72, 51, 262, 213, 249, 203, 133, 142, 232, 29, 50, 60, 73, 15, 40, 236, 75, 360, 267, 278, 71, 78, 261, 266, 116, 696, 196, 176, 100, 62, 268, 138, 49, 242, 119, 75, 38, 73, 159, 53, 181, 267, 188, 269, 183, 264, 70, 53, 56, 21, 68, 57, 28, 274, 181, 135, 197, 149, 44, 161, 25, 173, 114, 360, 120, 19, 90, 25, 306, 241, 53, 290, 35, 24, 71, 113, 71, 75, 15, 40, 273, 74, 70, 64, 67, 79, 207, 127, 42, 71, 141, 284, 43, 75, 256, 271, 65, 226, 78, 266, 576, 26, 423, 120, 53, 46, 665, 213, 198, 260, 57, 80, 19, 57, 453, 213, 173, 67, 103, 214, 227, 332, 227, 39, 197, 50, 43, 52, 69, 10, 14, 29, 120, 77, 239, 301, 484, 182, 72, 128, 90, 115, 235, 138, 125, 278, 107, 332, 77, 282, 18, 45, 60, 110, 127, 89, 137, 113, 216, 194, 313, 273, 22, 47, 233, 1, 156, 50, 106, 97, 188, 51, 194, 24, 75, 21, 78, 57, 46, 36, 53, 53, 120, 273, 213, 310, 251, 180, 245, 5, 57, 101, 361, 138, 22, 85, 68, 46, 11, 239, 72, 218, 199, 70, 211, 190, 125, 79, 156, 313, 192, 183, 10, 77, 94, 261, 300, 289, 150, 75, 261, 72, 211, 53, 25, 23, 66, 359, 304, 35, 312, 245, 17, 78, 187, 181, 312, 29, 151, 169, 119, 115, 86, 21, 159, 141, 180, 119, 74, 23, 43, 236, 339, 168, 665, 261, -1, 38, 178, 210, 72, 53, 85, 73, 59, 179, 73, 159, 51, 119, 47, 98, 69, 156, 119, 129, 545, 142, 107, 423, 34, 322, 56, 44, 23, 85, 59, 696, 310, 180, 133, 45, 138, 241, 147, 198, 116, 142, 637, 696, 51, 665, 59, 165, 145, 56, 236, 301, 155, 28, 211, 81, 108, 51, 63, 42, 124, 53, 70, 288, 9, 173, 133, 75, 257, 156, 187, 112, 16, 330, 290, 90, 301, 329, 126, 45, 36, 140, 75, 301, 60, 358, 67, 15, 82, 106, 74, 28, 326, 30, 120, 122, 81, 46, 23, 17, 310, 30, 43, -1, 3], \"y\": [383.03000000000003, 417.38, 312.38, 354.09, 135.18, 521.2, 380.64000000000004, 599.9700000000001, 343.2300000000001, 573.22, 354.12, 331.0, 188.14000000000001, 216.5, 750.0, 363.65, 405.38, 415.8, 114.13999999999999, 604.5099999999999, 462.95000000000005, 160.18, 97.5, 558.7, 535.3200000000002, 409.5000000000001, 455.88, 534.8500000000001, 149.05, 513.6999999999999, 81.57, 689.9000000000001, 1247.5, 516.4200000000001, 560.47, 305.28, 629.31, 656.6800000000002, 271.4, 919.6100000000001, 220.09999999999997, 303.75, 416.08000000000004, 243.94, 501.14, 283.72999999999996, 109.80000000000001, 3096.0, 110.94999999999999, 618.52, 228.91, 91.8, 417.20000000000005, 712.88, 116.00999999999999, 353.65000000000003, 121.18, 114.60000000000001, 117.88000000000001, 250.26000000000002, 353.48, 533.98, 108.21, 358.0, 329.56, 600.0700000000002, 121.74, 430.5, 465.67999999999995, 1030.3999999999999, 0.0, 292.31999999999994, 557.62, 944.1, 217.38, 276.56000000000006, 590.93, 258.4, 93.66, 578.9399999999999, 360.0, 371.89, 300.41999999999996, 15.0, 640.7600000000001, 567.36, 675.3, 1308.48, 789.0, 487.02000000000004, 353.43, 389.5, 341.36, 247.32, 609.95, 439.03000000000003, 439.55999999999995, 56.160000000000004, 623.4, 754.8700000000001, 534.5699999999999, 544.08, 307.71999999999997, 457.34000000000003, 621.2300000000002, 75.0, 252.49, 572.4509999999999, 213.55, 640.83, 534.24, 283.71, 291.88000000000005, 183.44, 307.90000000000003, 229.59, 454.24, 449.52, 316.26000000000005, 348.04999999999995, 458.52, 307.76, 483.80000000000007, 210.30999999999995, 270.79, 631.34, 192.85, 239.49000000000004, 1384.2499999999998, 294.4, 712.4, 180.17000000000002, 428.89, 164.34, 417.6900000000001, 213.85, 122.64, 519.44, 252.1, 346.6, 94.2, 379.65000000000003, 84.65, 218.55, 349.7, 186.39, 232.6, 910.0, 172.25, 308.58, 330.79, 296.88, 306.55, 524.1400000000001, 610.59, 339.6, 216.9, 350.75, 741.26, 282.6, 345.0, 360.01000000000005, 309.04, 348.79999999999995, 1516.0, 558.32, 324.79999999999995, 209.49000000000004, 52.199999999999996, 384.7999999999999, 1255.0, 388.5, 216.17000000000002, 305.78, 540.45, 506.8, 349.54999999999995, 416.9, 821.1000000000001, 311.15999999999997, 332.64000000000004, 272.03999999999996, 223.85000000000002, 348.99000000000007, 842.65, 337.34, 608.7899999999998, 922.0999999999999, 376.5799999999999, 561.57, 674.4499999999998, 439.92, 322.96, 230.22, 169.55, 664.5400000000001, 196.79, 200.14000000000001, 1266.08, 311.3, 328.8, 473.02, 505.18, 440.0, 584.0699999999999, 327.70000000000005, 104.82000000000002, 467.66, 626.65, 725.6400000000001, 122.47, 375.0999999999999, 194.42, 161.0, 194.90000000000003, 216.20999999999998, 597.9100000000001, 386.53, 419.58000000000004, 483.86, 605.6399999999999, 311.81, 483.4, 446.62000000000006, 658.64, 122.54, 363.79, 576.9, 452.89, 197.65, 1011.9999999999998, 335.52, 161.02999999999994, 328.15999999999997, 169.48000000000002, 632.3999999999999, 683.1700000000001, 490.86, 333.97, 437.96000000000004, 595.25, 426.6, 166.2, 43.2, 640.1400000000001, 508.58, 605.0600000000001, 183.85000000000002, 462.65999999999997, 588.2199999999999, 309.52, 409.57, 282.92999999999995, 225.76999999999998, 161.2, 257.68, 202.10999999999999, 487.99000000000007, 574.6999999999999, 156.75, 1063.0, 490.2200000000001, 387.52, 363.34000000000003, 470.36, 434.34000000000003, 316.24999999999994, 279.05, 636.51, 321.92, 165.75, 463.38, 139.56, 123.79999999999998, 538.8100000000001, 475.37, 455.59000000000003, 330.45000000000005, 364.21999999999997, 355.56000000000006, 388.24999999999994, 289.24, 186.23000000000002, 788.38, 138.6, 114.11, 157.05, 237.36, 379.8299999999999, 393.33, 213.96000000000004, 660.0, 601.5600000000001, 406.08000000000004, 394.43999999999994, 412.78000000000003, 320.58, 225.84999999999997, 344.9000000000001, 609.8500000000001, 443.6, 110.46, 96.12, 693.81, 830.76, 597.0899999999999, 114.18, 291.05, 247.14999999999998, 285.73999999999995, 107.95, 195.25, 628.3799999999999, 160.19, 187.92, 313.49000000000007, 1164.55, 328.19999999999993, 389.63999999999993, 563.1499999999999, 420.50000000000006, 255.89999999999998, 300.52, 278.3, 254.11, 192.60000000000002, 730.8599999999999, 386.15, 289.99, 77.4, 197.64000000000001, 228.99, 173.74, 157.70000000000002, 193.13999999999996, 197.13, 102.44999999999999, 309.4, 325.75, 170.32, 125.79000000000002, 266.76, 522.38, 519.6800000000001, 255.4, 589.7, 765.3199999999999, 364.79999999999995, 369.2, 554.38, 468.77000000000004, 307.48, 310.05, 100.9, 311.69000000000005, 599.0, 463.8, 147.59000000000003, 279.94, 296.75, 233.23000000000002, 308.94, 260.17, 496.21, 265.99999999999994, 377.01, 518.28, 252.73000000000002, 180.35000000000002, 537.0, 343.61999999999995, 121.17000000000002, 370.79999999999995, 381.32, 480.71, 457.80999999999995, 219.39, 410.48, 876.0, 319.5, 484.9500000000001, 358.8199999999999, 184.19000000000003, 330.11000000000007, 623.5, 520.8, 329.25, 296.42, 401.4000000000001, 487.75, 106.56, 224.14000000000004, 689.48, 622.8499999999998, 310.62, 331.18, 101.79999999999998, 328.35, 755.75, 409.4000000000001, 429.6, 612.0600000000001, 316.68, 631.5699999999999, 514.15, 356.0, 300.36000000000007, 623.1600000000001, 254.81999999999996, 393.7400000000001, 408.8, 615.14, 135.31, 255.89999999999998, 240.55, 4507.01, 496.43999999999994, 574.02, 310.46999999999997, 327.96999999999997, 570.5000000000001, 312.62, 267.13000000000005, 162.29000000000002, 311.7099999999999, 208.75, 1028.56, 351.67, 173.97, 574.0699999999999, 406.09, 364.5, 563.9399999999999, 252.42000000000002, 473.80999999999995, 277.05000000000007, 427.92999999999995, 913.1900000000002, 596.85, 642.41, 316.88, 394.14, 231.86, 716.2, 572.81, 508.80000000000007, 135.85999999999999, 93.78, 171.19, 533.3, 149.29000000000002, 200.16, 156.57999999999998, 494.64, 429.84, 447.22, 237.07, 161.64, 216.76, 126.14, 454.10999999999996, 233.81, 147.09, 492.36000000000007, 62.43, 343.5, 412.01, 440.0, 536.4000000000002, 538.46, 213.30000000000004, 85.13, 436.05999999999995, 279.77, 173.16000000000003, 186.01000000000002, 258.88000000000005, 348.59999999999997, 455.29999999999995, 478.53, 324.57, 240.68, 216.39, 112.46, 301.03, 588.13, 243.55, 223.36, 425.32, 664.0, 447.64, 657.3500000000001, 816.0, 646.3, 337.74, 877.4399999999999, 560.6700000000001, 30.0, 306.45000000000005, 386.43, 301.32000000000005, 323.69, 352.70000000000005, 254.1, 239.76, 191.03999999999996, 409.98, 356.7, 85.0, 294.11999999999995, 154.88000000000002, 196.88000000000002, 149.30999999999997, 205.25, 583.75, 621.83, 241.61999999999998, 246.3, 351.3, 451.42, 415.82000000000005, 515.77, 1303.9099999999999, 885.4699999999999, 532.94, 576.0, 137.37, 391.98, 130.73999999999998, 389.2699999999999, 110.80000000000001, 296.99999999999994, 68.84, 230.53, 501.39000000000004, 516.36, 379.35, 181.09000000000003, 446.87, 524.52, 334.23, 167.5, 336.03000000000003, 426.63000000000005, 404.58, 337.43999999999994, 325.1, 708.22, 314.1, 371.01, 430.94, 101.4, 211.88, 628.2800000000002, 236.09, 934.6199999999999, 331.24, 471.78, 335.32000000000005, 372.09, 584.32, 436.18, 315.06, 302.36, 611.8800000000001, 161.38, 423.36, 307.78000000000003, 517.5500000000001, 725.1800000000001, 535.3399999999999, 734.1299999999999, 374.99999999999994, 280.52000000000004, 856.6000000000001, 73.2, 331.95, 215.83, 305.5400000000001, 215.47999999999996, 215.08, 314.45000000000005, 400.681, 365.27, 914.9299999999998, 542.03, 536.68, 432.19999999999993, 389.44, 752.4300000000002, 411.7, 357.94999999999993, 559.87, 810.6000000000001, 566.38, 302.25, 301.90000000000003, 361.21999999999986, 274.15000000000003, 328.15, 326.74999999999994, 322.41, 153.9, 395.8, 211.77, 109.36000000000001, 367.92999999999995, 676.2, 362.9500000000001, 221.18999999999997, 303.93, 299.6, 443.05000000000007, 151.83, 262.2, 126.25, 302.69999999999993, 300.85, 184.26, 381.2, 230.51000000000002, 259.01, 707.69, 311.92, 6.9, 316.11, 331.0, 404.30000000000007, 498.79999999999995, 365.45000000000005, 777.6, 90.30000000000001, 484.32000000000005, 215.08, 455.25, 593.75, 119.62, 787.15, 379.73, 281.84999999999997, 451.43999999999994, 313.61999999999995, 459.24, 181.09, 250.14999999999998, 244.79999999999995, 528.0799999999999, 482.47, 618.5900000000001, 506.19, 333.08, 322.80000000000007, 688.33, 487.51, 290.65999999999997, 518.4200000000001, 601.2699999999999, 570.13, 183.7, 422.59999999999997, 1276.0, 482.01, 657.9000000000001, 1998.0, 301.71999999999997, 901.2, 623.7500000000001, 155.24, 272.81999999999994, 603.7499999999999, 417.59999999999997, 464.9, 2002.4, 369.34000000000003, 611.8500000000001, 380.39, 171.59, 226.35000000000002, 107.6, 243.84, 414.87999999999994, 332.3, 460.5899999999999, 288.42, 417.06000000000006, 497.61, 358.37999999999994, 325.90999999999997, 413.46000000000004, 251.87, 588.85, 214.32000000000002, 193.44, 281.42, 332.41, 144.91, 35.400000000000006, 173.76, 502.8, 680.02, 705.12, 429.84000000000003, 145.93, 219.14000000000001, 379.14, 391.52000000000004, 169.79000000000002, 543.0500000000001, 406.48, 435.02000000000004, 518.67, 319.02, 439.43, 357.21, 344.3299999999999, 702.0, 195.36, 95.85, 357.77, 716.0, 433.53, 112.40000000000002, 449.72999999999996, 339.43999999999994, 642.0199999999999, 247.14, 538.37, 378.20000000000005, 287.62, 248.60999999999996, 307.46000000000004, 138.32, 298.89, 259.35, 425.0, 380.5, 465.32, 124.88, 1689.5, 213.77999999999997, 329.34, 293.1, 317.76, 239.91999999999996, 144.0, 262.62, 384.08, 204.24, 114.23, 335.13000000000005, 354.15, 426.79, 393.48999999999995, 384.52, 317.61999999999995, 246.04000000000002, 187.82999999999998, 498.42, 250.03999999999996, 644.3, 363.9, 494.25, 307.02000000000004, 160.57000000000002, 127.85999999999999, 312.22999999999996, 446.17999999999995, 495.7699999999999, 400.09999999999997, 203.2, 199.28999999999996, 457.90999999999997, 771.8499999999999, 507.8399999999999, 524.9200000000001, 403.3, 517.53, 622.43, 137.0, 511.82, 414.04, 396.87, 497.56000000000006, 622.88, 558.9599999999999, 302.20000000000005, 605.58, 513.2, 1195.9, 223.36, 98.42, 148.86, 267.1600000000001, 306.84000000000003, 1487.6, 185.64999999999998, 215.71999999999997, 1242.3000000000002, 161.67000000000002, 394.71999999999997, 309.35999999999996, 193.42000000000002, 218.51999999999995, 81.44, 527.0500000000001, 503.59999999999997, 528.3300000000002, 547.0600000000001, 621.6600000000001, 166.07999999999998, 117.55000000000001, 196.0, 728.1599999999999, 347.75, 551.0400000000001, 184.39999999999998, 239.41, 338.95000000000005, 417.95000000000005, 885.1899999999999, 303.96999999999997, 692.1899999999999, 168.24, 355.11, 674.52, 371.88, 283.4699999999999, 131.94, 278.74, 1117.9, 106.1, 350.38999999999993, 512.31, 387.68, 298.4, 398.69999999999993, 110.21, 205.48000000000002, 605.8000000000001, 311.26, 1418.0300000000002, 148.21, 252.8, 329.65, 428.18, 458.91999999999996, 203.87, 602.0900000000001, 244.10000000000002, 98.0, 256.32, 152.06, 110.38, 243.27999999999997, 311.01, 336.43, 397.29, 212.54000000000002, 145.79000000000002, 389.84, 358.56000000000006, 557.3, 508.4599999999999, 102.83, 123.07, 277.35, 337.03999999999996, 353.19000000000005, 288.14, 811.45, 152.68, 20.8, 630.84, 382.06000000000006, 187.29, 166.42, 120.03000000000002, 523.0, 122.14, 38.45, 389.78, 230.64999999999998, 70.02, 165.04999999999998, 300.0200000000001, 363.65, 170.16, 720.5200000000001, 814.0, 318.0, 453.0, 247.44, 336.13, 343.45, 90.47999999999999, 689.9499999999999, 4055.7199999999993, 167.66999999999996, 754.6400000000001, 430.7, 1019.52, 179.33999999999997, 612.0799999999999, 566.5800000000002, 371.62000000000006, 399.65, 202.65, 476.35, 632.0700000000002, 49.8, 973.8399999999999, 163.8, 517.3599999999999, 139.10000000000002, 248.42, 299.34, 481.74999999999994, 443.0, 592.97, 422.58000000000004, 596.0999999999999, 95.34, 349.27000000000004, 103.3, 335.8599999999999, 110.38, 80.82]}, {\"marker\": {\"color\": \"red\", \"line\": {\"width\": 1}, \"opacity\": 0.9, \"size\": 11}, \"mode\": \"markers\", \"name\": \"Gold\", \"type\": \"scatter\", \"x\": [44, 70, 74, 29, 59, 44, 112, 91, 181, 70, 59, 22, 120, 134, 68, 236, 9, 24, 0, 123, 248, 24, 42, 18, 17, 0, 74, 24, 54, 131, 64, 24, 173, 43, 9, 358, 300, 4, 59, 35, 28, 23, 23, 31, 73, 97, 113, 22, 52, 54, 73, 138, 80, 181, 34, 65, 24, 10, 119, 176, 28, 4, 46, 44, 29, 183, 23, 85, 22, 108, 19, 10, 295, 79, 92, 46, 199, 21, 46, 86, 39, 18, 205, 56, 78, 240, 60, 74, 34, 24, 17, 173, 17, 122, 9, 11, 40, 92, 18, 155, 249, 103, 22, 28, 2, 22, 73, 79, 198, 65, 17, 21, 122, 14, 77, 200, 260, 16, 60, 71, 92, 80, 181, 30, 0, 203, 26, 131, 59, 72, 24, 133, 43, 182, 108, 19, 10, 23, 24, 138, -1, 38, 187, 178, 5, 78, 57, 38, 232, 10, 23, 16, 36, 72, 85, 40, 14, 31, 39, 12, 66, 28, 23, 81, 84, 144, 19, 17, 14, 155, 14, 182, 52, 59, 40, 30, 3, 89, 75, 143, 274, 92, 74, 126, 45, 10, 205, 34, 149, 18, 32, 45, 24, 144, 267, 222, 116, 131, 100, 28, 107, 135, 28, 241, 71, 0, 214, 158, 53, 95, 71, 54, 50, 152, 70, 182, 181, 116, 138, 52, 37, 144, 40, 18, 57, 25, 4, 117, 11, 24, 304, 214, 57, -1, 74, 300, 1, 54, 30, 1, 26, 23, 16, 94, 11, 49, 53, 62, 10, 214, 23, 11, 187, 52, 79, 49, 73, 26, 17, 4, 45, 134, 5, 198, 52, 46, 0, 4, 22, 28, 78, 109, 73, 160, 106, 19, 152, 40, 65, 68, 73, 239, 5, 22, 10, 92, 60, 119, 46, 120, 29, 46, 75, 239, 19, 40, 126, 63, 70, 8, 10, 86, 71, 269, 18, 60, 16, 30, 50, 122, 110, 51, 94, 4, 75, 89, 248, 110, 260, 50, 162, 8, 35, 147, 51, 35, 38, 22, 21, 97, 31, 10, 36, 79, 44, 52, 26, 163, 213, 141, 108, 107, 71, 122, 42, 91, 4, 17, 79, 21, 53, 9, 3, 10, 155, 68, 17, 11, 46, 71, 19, 274, 0, 23, 22, 24, 60, 236, 15, 2, 32, 57, 75, 56, 144, 94, 56, 44, 59, 9, 89, 196, 35, 50, 19, 250, 161, 78, 4, 32, 137, 14, 124, 59, 43, 30, 24, 34, 197, 16, 112, 34, 44, 15, 144, 232, 54, 26, 97, 15, 273, 159, 73, 21, 3, 10, 161, 59, 23, 4, 1, 56, 29, 25, 156, 103, 107, 77, 79, 85, 25, 25, 25, 36, 70, 115, 34, 89, 50, 23, 19, 25, 12, 127, 109, 14, 137, 107, 57, 3, 15, 4, 0, 5, 47, 147, 51, 53, 80, 89, 42, 89, 256, 72, 32, 116, 185, 97, 71, 164, 53, 78, 46, 179, 97, 105, 77, 172, 34, 22, 103, 64, 86, 196, 23, 59, 18, 50, 114, 206, 37, 22, 46, 43, 164, 10, 119, 18, 208, 8, 59, 14, 60, 150, 10, 29, 87, 85, 10, 119, 60, 46, 126, 169, 78, 59, 134, 94, 243, 100, 32, -1, 57, 22, 59, 10, 60, 122, 75, 70, 85, 39, 60, 80, 45, 254, 75, 21, 137, 46, 22, 148, 37, 94, 26, 9, 26, 107, 54, 26, 59, 222, 85, 9, 51, 31, 150, 113, -1, 40, 89, 28, 17, 225, 87, 54, 37, 60, 28, 11, 44, 38, 11, 85, 177, 301, 24, 30, 46, 95, 26, 22, 30, 28, 122, 10, 11, 103, 74, 45, 30, 166, 18, 9, 45, 197, 40, 49, 25, 17, 172, 73, 75, 11, 145, 24, 11, 108, 15, 122, 114, 38, 51, 63, 187, 77, 5, 35, 25, 151, 10, 14, 149, 95, 75, 107, 46, 46, 50, 190, 78, 32, 44, 140, 254, 44, 80, -1, 72, 19, 94, 112, 22, 0, 151, 576, 150, 119, 23, 176, 5, 82, 43, 16, 78, 181, 120, 19, 23, 49, 77, 123, 19, 44, 54, 150, 23, 22, 127, 155, 63, 3, 12, 59, 122, 38, 87, 129, 148, 89, 22, 4, 54, 92, 145, 45, 71, 22, 44, 16, 100, 29, 114, 87, 50, 70, 79, 84, 4, 29, 38, 39, 21, 29, 18, 0, 268, 15, 85, 17, 32, 169, 72, 16, 35, 164, -1, 23, 89, 54, 25, 44, 0, 19, 170, 97, 318, 57, 34, 43, 38, 56, 54, 23, 243, 50, 73, 71, 353, 72, 22, 37, 107, 106, 17, 177, 46, 17, 123, 107, 16, 44, 78, 17, 65, 29, 18, 301, 28, 64, 243, 90, 74, 30, 60, 28, 53, 56, 124, 19, 18, 19, 44, 26, 97, 24, 65, 119, 46, 152, 23, 0, 10, 75, 15, 77, 46, 79, 296, 128, 207, 16, 95, 25, 19, 186, 22, 17, 110, 150, 161, 67, 26, 29, 53, 15, 161, 26, 32, 84, 80, 50, 90, 15, 120, 51, 80, 73, 60, 120, 34, 16, 19, 15, 28, 54, 65, 72, 57, 90, 5, 114, 45, 84, 26, 218, 91, 68, 52, 52, 274, 44, 89, -1, 114, 89, 36, 47, 116, 60, 100, 123, 30, 23, 103, 126, 17, 15, 156, 51, 99, 68, 42, 23, 144, 63, 119, 15, 26, 116, 59, 81, 9, 23, 26, 53, 119, 54, 25, 4, 40, 56, 129, 17, 60, 39, 255, 60, 59, 2, 62, 23, 85, 46, 50, 151, 40, 78, 11, 86, 16, 87, 26, 62, 25, 85, 189, 28, 28, 81, 73, 114, 36, 25, 181, 98, 242, 123, 22, 190, 99, 64, 29, 63, 84, 105, 17, 151, 57, 178, 106, -1, 59, 23, 53, 142, 264, 14, 25, 11, 3, 53, 15, 31, 116, 18, 15, 40, 148, 52, 147, 2, 227, 173, 21, 28, 17, 21, 78, 120, 30, 100, 274, 14, 185, 15, 45, 36, 124, 50, 24, 98, 49, 17, 40, 11, 19, 14, 113, 4, 39, 22, 114, 210, 12, 23, 43, 42, 50, 46, 18, 0, 40, 17, 204, 15, 60, 10, 44, 288, -1, 73, 17, 9, 187, 205, 24, 120, 53, 59, 94, 11, 53, 59, 24, 43, 60, 14, 68, 19, 24, 38, 59, 137, 109, 100, 85, 12, 65, 57, 219, 21, 31, 19, 1, 248, 138, 31, 4, 18, 52, 160, 131, 89, 109, 10, 44, 26, 244, 95, 71, 79, 53, 9, 88, 21, 151, 15, 166, 34, 56, 10, 145, 25, 40, 11, 64, 49, 9, 42, 85, 81, 665, 11, 89, 80, 156, 43, 180, 12, 120, 71, 172, 21, 71, 9, -1, 45, 0, 148, 11, 71, 134, -1, 114, 49, 72, 39, 120, 32, 4, 5, 168, 22, 11, 36, 12, 47, 23, 35, 74, 242, 43, 105, 19, 24, 45, 23, 40, 114, 18, 25, 31, 81, 38, 205, 11, 19, 12, 234, 25, 124, 24, 60, 19, 34, 59, 4, 116, 134, 43, 0, 37, 57, 23, 68, 112, 67, 120, 248, 24, 77, 71, 214, 199, 25, 59, 4, 56, 192, 59, 218, 65, 92, 87, 50, 43, 25, 72], \"y\": [942.34, 948.8800000000002, 1759.5, 397.11999999999995, 1474.72, 430.15, 1018.71, 6814.640000000001, 683.13, 1118.99, 325.96, 871.5399999999998, 1050.8899999999999, 1957.1000000000004, 1106.4, 854.99, 1463.0399999999997, 703.47, 309.05000000000007, 1175.2199999999998, 1378.3999999999999, 380.47, 372.8, 509.58, 164.23000000000002, 933.7000000000002, 694.05, 607.53, 913.54, 683.9000000000001, 1603.99, 1843.0, 1064.07, 1387.79, 329.85, 1660.9, 452.24000000000007, 738.6, 372.2199999999999, 390.53999999999996, 1239.3799999999999, 503.76000000000005, 414.75999999999993, 974.42, 789.8899999999999, 975.36, 6912.0, 661.3200000000002, 1010.1800000000002, 642.7700000000001, 921.88, 881.07, 908.46, 676.99, 348.15000000000003, 1214.41, 470.79999999999995, 344.0, 729.2700000000001, 3613.6299999999997, 345.82000000000005, 477.83000000000004, 1098.48, 1531.6200000000003, 786.54, 922.39, 1073.2999999999997, 1793.5800000000002, 962.39, 423.72, 307.0899999999999, 712.8000000000001, 1257.8700000000003, 971.7600000000002, 1688.2899999999997, 1021.48, 1319.19, 468.40999999999997, 492.84000000000003, 3957.7800000000007, 1575.89, 260.67999999999995, 911.9400000000002, 1520.58, 819.29, 847.4100000000001, 6463.84, 605.1199999999999, 1031.0700000000002, 744.85, 700.7299999999999, 663.6500000000001, 501.11999999999995, 711.41, 399.51, 698.5799999999999, 542.73, 814.86, 1132.14, 361.11, 873.74, 618.09, 1385.51, 1132.0300000000002, 598.57, 1555.32, 775.94, 5977.7300000000005, 2273.6800000000003, 1548.6999999999998, 199.48, 787.8499999999999, 1140.93, 350.9, 795.1200000000001, 860.12, 775.8499999999999, 979.12, 397.97999999999996, 743.5300000000001, 674.7, 768.2400000000001, 2225.37, 378.63999999999993, 778.65, 1019.76, 572.56, 677.1, 1360.99, 1544.1299999999999, 1003.0600000000002, 1390.5, 712.5, 2626.3, 1624.2100000000003, 582.6, 218.46999999999997, 1129.1400000000003, 1058.3400000000001, 1445.0000000000002, 674.6800000000001, 422.64000000000004, 1431.7800000000002, 1238.47, 313.8, 1122.4099999999999, 575.4000000000001, 1215.8199999999997, 2044.87, 653.3299999999999, 1166.77, 291.99999999999994, 979.72, 891.12, 659.4399999999998, 680.1800000000001, 628.78, 1280.8500000000001, 291.40999999999997, 626.99, 682.4100000000001, 584.06, 605.06, 1799.33, 777.53, 1749.0200000000004, 240.22, 373.74999999999994, 467.0400000000001, 781.03, 379.65000000000003, 1117.1299999999997, 396.97, 280.53999999999996, 678.0100000000001, 1171.7999999999997, 544.1800000000001, 747.7800000000001, 2031.7800000000002, 3070.42, 1071.03, 949.12, 1033.3400000000001, 354.8, 1095.08, 382.14, 1573.1999999999998, 897.76, 305.0199999999999, 396.91999999999996, 486.82000000000005, 3119.44, 1488.32, 711.86, 806.41, 1079.3400000000001, 799.9, 2375.41, 1079.6599999999999, 333.48, 1016.1400000000001, 752.6, 491.86000000000007, 731.8999999999999, 668.4300000000001, 1341.6, 1156.36, 948.2499999999999, 1647.26, 1186.28, 659.41, 286.78999999999996, 1070.65, 1714.9599999999998, 1521.7600000000002, 2634.45, 1132.13, 688.8600000000001, 4599.42, 924.5999999999999, 1140.35, 385.64, 632.0, 957.66, 412.05, 834.57, 271.24, 691.7299999999999, 361.62, 865.0600000000002, 1595.4800000000002, 2651.4599999999996, 1090.1399999999999, 501.56, 1015.29, 3192.54, 389.59999999999997, 1281.53, 787.6000000000001, 605.63, 632.97, 564.6200000000001, 388.52, 740.9499999999999, 626.45, 1212.8400000000004, 351.13000000000005, 678.25, 464.57, 1237.53, 568.55, 745.0600000000001, 3251.071, 3515.6799999999994, 598.1999999999999, 413.59, 869.8699999999998, 920.51, 320.46000000000004, 635.6600000000001, 2043.0800000000002, 529.7299999999999, 962.1899999999999, 695.6099999999999, 917.34, 1421.61, 642.8000000000001, 631.9000000000001, 651.8199999999999, 1428.0200000000002, 1560.3799999999994, 1659.75, 1308.6100000000001, 409.93, 746.3599999999999, 225.36, 374.7, 499.4200000000001, 1049.37, 934.52, 5976.790000000001, 1266.23, 692.85, 1840.4199999999998, 706.1300000000001, 709.7099999999999, 637.5000000000002, 982.3800000000002, 415.81999999999994, 935.05, 915.1300000000001, 3742.2, 621.29, 1345.62, 432.88, 507.65999999999997, 1110.52, 2445.9100000000003, 1631.7700000000004, 574.84, 450.8400000000001, 559.4100000000001, 2054.36, 853.3900000000001, 701.4, 747.4400000000002, 466.70000000000005, 1070.48, 1004.3800000000001, 991.1300000000001, 1050.1200000000001, 1547.2, 925.71, 1462.7200000000003, 3144.86, 890.3400000000001, 1693.4499999999998, 1474.0600000000002, 969.06, 1163.45, 1516.24, 492.65, 559.97, 1046.56, 2093.3199999999997, 310.26, 477.78999999999996, 866.3100000000001, 668.5600000000002, 889.9300000000002, 1021.58, 133.5, 1078.9600000000003, 701.23, 348.1, 202.68, 626.07, 1247.69, 1043.46, 1475.8100000000002, 1474.32, 2157.73, 2059.4500000000003, 1105.07, 770.0300000000001, 1496.98, 813.1100000000001, 322.08, 1244.83, 1372.8, 1420.2, 375.35, 483.24999999999994, 264.44, 1837.92, 1058.62, 598.76, 461.19000000000005, 547.6600000000001, 925.8499999999999, 1309.6000000000001, 1064.2800000000002, 356.85, 1383.18, 276.42, 974.54, 620.04, 932.8500000000001, 537.48, 652.8, 165.07, 324.14, 1080.76, 1530.3600000000001, 1052.55, 1042.2600000000002, 570.4599999999999, 221.97, 1785.1499999999999, 553.44, 1788.3600000000004, 899.63, 671.9599999999999, 1006.98, 637.8900000000001, 411.53000000000003, 765.55, 2548.2400000000002, 498.95, 371.7, 591.5500000000001, 318.16999999999996, 1126.37, 917.07, 329.67999999999995, 663.8100000000002, 718.08, 380.02000000000004, 1448.2099999999998, 1099.98, 1220.2600000000002, 1415.75, 638.05, 738.9599999999998, 1484.06, 876.42, 447.68, 679.4399999999998, 845.55, 554.6500000000001, 778.5, 1110.3400000000001, 657.8, 507.28999999999996, 321.42999999999995, 1127.7100000000003, 2139.76, 697.55, 511.3499999999999, 475.79999999999995, 645.65, 1311.38, 1173.12, 841.2, 710.28, 725.7, 1465.3199999999997, 706.1900000000002, 1862.0, 655.7499999999999, 332.66, 1025.44, 434.35, 1227.43, 1268.98, 1610.1499999999996, 977.77, 1316.0700000000002, 749.1, 1101.97, 371.2, 289.82000000000005, 336.16999999999996, 499.68, 695.4199999999998, 191.32, 1592.06, 1314.4499999999998, 790.86, 213.27, 326.4, 334.53999999999996, 546.2, 429.87, 490.52000000000004, 1246.3200000000002, 502.09000000000003, 423.04, 469.0, 1066.15, 627.1300000000001, 668.1400000000001, 4959.1, 465.5499999999999, 735.6600000000001, 384.05, 697.7900000000001, 1489.5, 987.86, 3158.13, 893.59, 1744.76, 553.36, 1109.5300000000002, 982.07, 748.87, 773.03, 880.8499999999999, 895.61, 504.79999999999995, 1370.6, 39916.5, 703.3599999999999, 1027.44, 996.1, 1567.4799999999998, 340.11, 457.72, 1633.7799999999997, 2199.3100000000004, 982.4199999999998, 1286.7000000000003, 498.74000000000007, 1194.7300000000002, 1327.16, 301.29, 961.4899999999999, 304.4699999999999, 843.0499999999998, 1289.5, 406.76, 411.41, 499.31999999999994, 3861.0, 1079.6100000000001, 1268.6999999999998, 1236.54, 653.24, 420.3, 870.12, 894.41, 734.9399999999999, 1219.4, 3386.71, 1412.3200000000002, 1071.99, 2515.84, 740.78, 890.85, 1810.77, 1506.12, 1717.36, 721.94, 486.69, 939.78, 641.94, 694.4000000000002, 1174.35, 924.85, 2748.3100000000004, 679.68, 1049.7, 714.9599999999999, 2020.52, 393.53999999999996, 777.0200000000002, 602.5100000000001, 446.94000000000005, 2007.4, 1690.26, 815.77, 626.77, 510.71000000000004, 1056.44, 1358.88, 774.9, 397.35, 1041.48, 383.68, 974.5200000000001, 538.7299999999999, 1048.85, 334.53000000000003, 524.88, 467.51, 538.5500000000001, 469.4799999999999, 371.5600000000001, 1771.2, 1441.4199999999998, 2575.0, 659.4599999999998, 1262.2, 1000.2700000000001, 398.84000000000003, 292.71999999999997, 575.6300000000002, 437.23, 473.65, 800.5899999999999, 758.29, 1375.71, 650.4300000000001, 607.45, 702.25, 940.6700000000001, 682.9100000000001, 913.6800000000001, 388.58, 1406.5900000000001, 761.74, 1297.8700000000001, 1198.23, 1093.68, 776.8510000000002, 336.40000000000003, 1293.03, 1534.26, 675.8000000000001, 1186.35, 724.76, 812.9999999999999, 612.01, 922.5300000000001, 748.5, 1024.1, 684.34, 657.23, 1426.16, 309.6499999999999, 696.6799999999998, 1542.1399999999999, 1060.56, 330.87999999999994, 1118.81, 598.73, 507.08, 2222.56, 415.25, 1120.88, 1339.45, 44534.3, 458.57, 532.96, 714.4200000000001, 1086.9200000000003, 1047.1100000000001, 475.28, 345.46000000000004, 2328.9700000000003, 220.85, 965.6099999999999, 610.01, 2207.4, 884.14, 699.0799999999999, 1063.95, 784.5799999999999, 903.9000000000001, 3734.9700000000003, 1391.98, 1801.14, 570.9599999999999, 636.1399999999998, 836.7900000000001, 954.09, 1048.49, 355.55999999999995, 1224.06, 238.85, 712.24, 832.88, 1936.3200000000004, 895.13, 354.09000000000003, 343.28, 396.47999999999996, 1388.88, 351.11000000000007, 967.45, 416.86, 1708.24, 955.2400000000001, 364.72, 1765.51, 806.5699999999999, 428.89000000000004, 470.76000000000005, 418.83, 666.0999999999999, 1098.78, 1142.4199999999998, 158.03, 792.1100000000001, 427.07000000000005, 12393.699999999999, 478.78000000000003, 992.7100000000002, 407.50000000000006, 1415.29, 662.3800000000001, 408.90000000000003, 251.24, 439.65999999999997, 548.94, 437.69999999999993, 758.9199999999998, 855.0200000000001, 1313.5500000000002, 3166.4, 1197.2700000000002, 773.99, 362.05999999999995, 1511.9500000000003, 783.9000000000001, 664.85, 1459.8600000000001, 852.15, 326.24, 1352.0000000000002, 1317.62, 1121.3899999999999, 817.86, 2005.63, 731.8999999999997, 1290.6999999999998, 1429.6399999999999, 842.5, 612.7800000000001, 1309.14, 684.42, 656.25, 618.09, 709.3800000000002, 635.4100000000001, 620.4, 1829.0399999999997, 656.6899999999999, 1025.44, 822.48, 1009.55, 1037.5900000000001, 6617.65, 529.4100000000001, 981.8599999999999, 1080.62, 592.9, 405.71, 761.38, 537.0600000000001, 394.38, 664.26, 547.0200000000001, 690.3399999999999, 1062.75, 864.86, 846.72, 1295.3, 1010.5999999999998, 990.8799999999999, 867.3099999999998, 414.2, 409.1, 1413.66, 3683.8599999999997, 1035.45, 861.8899999999999, 667.6500000000001, 1141.2399999999996, 2062.0600000000004, 598.1999999999999, 632.27, 2560.0, 706.57, 616.26, 428.67999999999995, 594.24, 251.91, 26626.8, 549.07, 370.47999999999996, 575.4100000000001, 1469.45, 494.44, 658.88, 734.77, 327.3, 804.49, 497.42999999999995, 1320.56, 473.03, 1780.59, 668.3599999999998, 584.5, 555.89, 317.2, 1382.0699999999997, 1555.3400000000001, 1705.8, 408.57, 163.07, 214.64999999999998, 210.34999999999997, 1051.4, 972.23, 346.12, 642.8100000000001, 616.79, 654.6700000000001, 1841.18, 650.4300000000001, 544.3, 300.83, 769.29, 220.62, 363.65, 731.5, 1351.63, 826.5299999999999, 684.41, 1599.52, 400.86, 1431.9299999999998, 484.38, 874.5899999999999, 1046.57, 1244.59, 6748.8, 548.97, 1388.81, 922.12, 5719.82, 841.4100000000001, 511.12, 1077.74, 614.6600000000001, 865.6, 1421.69, 1009.6, 663.61, 936.0799999999998, 330.03000000000003, 360.15999999999997, 500.42, 2647.5899999999997, 813.4800000000001, 810.5699999999999, 417.73, 1154.4700000000003, 1257.51, 833.78, 1267.6499999999999, 118.97999999999999, 306.71999999999997, 1692.27, 319.60999999999996, 1592.12, 1770.3400000000001, 1027.9999999999998, 324.24, 112.75000000000001, 531.3499999999999, 656.6300000000001, 3029.8700000000003, 1651.03, 1161.53, 589.1499999999999, 781.02, 743.11, 650.51, 836.06, 623.9300000000001, 1764.7199999999998, 223.92, 1496.83, 789.79, 1145.5999999999997, 478.0899999999999, 661.52, 388.2800000000001, 425.19, 597.4799999999999, 305.61999999999995, 536.99, 801.4900000000001, 1121.59, 547.0699999999999, 460.64, 775.1800000000001, 341.70000000000005, 1106.53, 1264.19, 342.45000000000005, 328.40000000000003, 747.8100000000001, 1519.0800000000002, 809.7, 525.5400000000001, 508.81, 1706.88, 373.24, 579.7700000000003, 621.6800000000001, 576.2600000000001, 380.54999999999995, 161.93999999999997, 563.23, 950.9300000000001, 262.68, 816.7299999999999, 1286.2700000000002, 1178.56, 1277.7500000000002, 308.74, 507.05, 650.4100000000001, 1078.9600000000003, 384.06, 1873.2, 1133.25, 1456.9600000000003, 484.82, 1493.7300000000002, 1412.9400000000003, 889.9299999999998, 586.3299999999999, 920.1, 890.2900000000001, 380.35, 1030.14, 745.5200000000001, 1267.32, 1081.57, 1044.38, 948.48, 1100.8999999999999, 3228.8399999999997, 413.74999999999994, 1356.3300000000002, 1179.8899999999999, 5232.23, 312.14, 841.0799999999999, 290.15999999999997, 2003.85, 1405.78, 2949.75, 1566.65, 1324.1599999999999, 665.7799999999999, 808.62, 837.4999999999997, 606.91, 1004.75, 984.5699999999999, 749.78, 251.69999999999993, 1266.97, 835.7800000000002, 711.79, 384.40000000000003, 444.74, 1013.01, 692.2199999999999, 342.63, 318.76000000000005, 3638.41, 421.52, 550.0600000000002, 314.69, 1135.04, 954.9, 282.19, 318.65000000000003, 353.85999999999996, 178.26, 272.44, 298.41, 603.37, 1253.3600000000001, 310.64, 763.64, 1065.3500000000001, 1703.4100000000003, 153.92000000000002, 556.95, 131.78, 197.63000000000002, 1384.85, 2328.84, 2600.34, 1200.6200000000001, 700.8599999999999, 523.11, 781.3599999999999, 537.7400000000001, 1286.0700000000002, 587.15, 1740.0, 1393.06, 388.13999999999993, 365.84999999999997, 488.20000000000005, 423.88999999999993, 646.9200000000001, 404.66, 336.4, 261.11, 2686.4200000000005, 1259.5600000000002, 7330.8, 696.4100000000001, 653.38, 2129.96, 778.9399999999999, 1258.0600000000002, 778.0, 463.46, 598.83, 698.41, 365.76, 303.15999999999997, 541.53, 486.71999999999997, 1737.7, 316.49999999999994, 675.6899999999999, 763.28, 1125.0700000000002, 710.29, 376.63999999999993, 2092.32, 1138.0, 689.0999999999999, 2997.03, 1145.84, 308.48, 639.02, 546.81, 723.21, 1070.71, 652.74, 939.37, 897.62, 578.9, 645.96, 930.41, 541.4599999999999, 854.9500000000002, 167.61999999999998, 454.01, 344.13999999999993, 380.59999999999997, 448.8999999999999, 1133.07, 1240.2, 993.1800000000001, 388.78999999999996, 2044.37, 390.07000000000005, 971.5800000000002, 1379.8999999999999, 1324.8400000000001, 285.55999999999995, 712.29, 1008.39, 868.49, 1207.56, 595.42, 604.64, 1992.1100000000001, 740.9399999999998, 765.3400000000001, 1824.37, 798.74, 385.1, 522.91, 1195.94, 2424.04, 3276.4, 1033.0, 1240.11, 700.63, 377.44, 1772.2599999999998, 287.59000000000003, 712.78, 271.20000000000005, 2273.18, 1143.2699999999998, 245.81000000000003, 182.76999999999998, 1225.4099999999999, 323.04, 697.9000000000001, 546.04, 3704.87, 155.37000000000003, 350.63999999999993, 338.79999999999995, 2033.1, 901.2, 5391.210000000001, 114.34, 1197.1000000000004, 1859.1600000000003, 683.4600000000002, 379.45, 717.45, 190.19, 899.6099999999999, 1119.81, 566.6, 191.66999999999993, 800.24, 366.23, 411.59999999999997, 341.28000000000003, 1304.0400000000002, 826.52, 843.0, 1740.4799999999998, 408.36, 704.25, 4301.22, 4106.4400000000005, 482.2, 1008.5400000000003, 471.69999999999993, 1098.4299999999998, 582.59, 136.04, 757.7099999999998, 634.9499999999999, 201.11999999999998, 678.49, 417.22999999999996, 249.71999999999997, 444.68, 2116.19, 1483.56, 668.1099999999999, 730.4000000000002, 405.62, 357.2, 559.51, 189.39999999999998, 306.46, 396.33000000000004, 3877.5199999999995, 1231.5, 703.37, 2106.52, 3017.3, 580.05, 2697.8, 223.64999999999998, 236.3, 352.69000000000005, 1418.03, 320.71999999999997, 673.1, 589.44, 206.83, 348.73, 931.4999999999999, 681.9100000000001, 784.3299999999998, 1000.1600000000001, 653.3499999999999, 399.18999999999994, 453.4, 530.1500000000001, 638.0600000000002, 1384.86, 1169.94, 980.3100000000001, 2106.8400000000006, 1341.42, 1590.81, 382.7999999999999, 1090.2400000000002, 957.9699999999999, 689.1300000000001, 1396.9900000000002, 600.07, 621.7500000000001, 662.08, 779.9, 2083.2699999999995, 882.24, 1561.6100000000001, 2232.4900000000002, 804.02, 4314.72, 526.6700000000001, 324.24, 1213.1599999999999, 801.5100000000001]}, {\"marker\": {\"color\": \"black\", \"line\": {\"width\": 1}, \"opacity\": 0.9, \"size\": 13}, \"mode\": \"markers\", \"name\": \"Platinum\", \"type\": \"scatter\", \"x\": [22, 22, 29, 11, 64, 3, 65, 5, 18, 26, 8, 24, 10, 11, 39, 5, 14, 15, 138, 2, 9, 5, 21, 26, 17, 15, 36, 16, 89, 16, 9, 10, 30, 8, 8, 0, 0, 22, 11, 9, 21, 10, 53, 16, 25, 11, 56, 14, 14, 0, 1, -1, 11, 19, 97, 21, 77, 9, 23, 53, 4, -1, 21, 19, 30, 44, 34, 10, 16, 84, 59, 14, 5, 1, 50, 18, 16, 26, 14, 11, 10, 10, 19, 9, -1, 89, 10, 19, 32, 59, 3, 18, 4, 0, 11, 8, 5, 0, 23, 23, 21, 0, 17, 30, 112, 82, 45, 159, 9, 17, 60, 30, 45, 11, 32, 2, 11, 40, 10, 10, 18, 0, 24, 14, 16, 26, 4, 17, 5, 10, -1, 21, 4, 45, 8, 17, 107, 45, 21, 29, 10, 46, 30, 53, 9, 2, 86, 73, 40, 12, -1, 10, 5, 15, 2, 108, 12, 5, 4, 12, 24, 29, 23, 24, 35, 52, 16, 9, 0, 35, 5, 9, 10, 39, 17, 1, 5, -1, 49, 56, 15, 49, 24, 16, 9, 22, 11, 25, 92, 24, 12, 9, 0, 78, 46, 5, 16, -1, 51, 0, 14, 18, 123, 40, 22, 37, 21, 11, 11, 10, 22, 28, 72, 79, 57, 17, 17, 21, 24, 54, 16, 18, 120, 39, -1, -1, 19, 12, 30, 39, 15, 10, 43, 9, 18, 21, 5, 8, 26, 16, 17, 15, 23, 22, 9, 4, 19, 19, 36, 9, 23, 12, 16, 11, 51, 0, 22, 19, 10, 10, 17, 2, 38, 81, 19, 29, 28, 40, 10, 16, 10, 18, 10, 105, 53, 11, 16, 11, 42, 28, 26, 42, 22, 43, 127, 30, 10, 123, 9, 17, 3, 19, 21, 23, 5, 11, 31, 0, 17, -1, 71, 0, 28, 36, 44, 10, 17, 16, 16, 45, 19, 120, 4, 21, 74, 10, 4, 60, 3, 64, 10, 19, 25, 10, 17, 23, 9, 42, 43, 28, 18, 18, 60, 22, 148, 31, 59, 63, 18, 26, 16, 42, 26, 19, 10, 47, 17, 17, 11, 8, 17, 71, 19, 0, 25, 24, 1, 60, 9, -1, 28, 24, 40, 12, 10, 19, 10, 16, 11, 113, 40, 34, 12, 8, 15, 21, 19, 11, 15, 43, 23, 47, 31, 24, 34, 4, 9, 22, 17, 78, 28, 30, 10, 5, 9, 16, 25, 25, 2, 34, 1, 15, 151, 10, 18, 3, 15, 14, 10, 9, 8, 10, 10, 107, 0, 16, 11, 4, 19, 11, 9, 112, 65, 82, -1, 51, 1, 9, 22, 29, 39, 40, 15, -1, 30, 29, 43, 5, 1, -1, 67, 12, 10, 21, 3, 4, 9, 40, 0, 23, 0, 21, 28, 59, 0, 10, 9, 43, 72, 115, 15, 12, 26, 11, 39, 9, 25, 15, -1, 9, 5, 9, 25, 2, 12, 25, 40, 9, 9, 11, 21, 10, 18, 18, 4, 9, 37, 17, 14, 25, 60, 50, 18, 14, 52, -1, 17, 9, 124, 18, 70, 18, 15, 5, 1, 78, 25, 10, 10, 51, 158, 10, 5, 73, 1, 2, 0, 15, 3, 18, -1, 43, 42, 3, 34, 10, 50, 12, 71, 0, 25, 57, 29, 18, 40, 97, 14, 0, 9, 16, 84, 155, -1, 19, 47, 12, 12, 9, 56, 3, 15, 18, 4, 100, 149, 21, 4, 18, 15, 52, 22, 11, 4, 12, 38, 34, 17, 18, 22, 21, 89, 25, 19, 1, 30, 77, -1, 22, 10, 25, 31, 23, 15, 11, 1, 9, 10, 56, 43, 24, 15, 16, 105, 25, 66, 18, 0, 65, 18, 24, 9, 23, 25, 79, 126, 43, 40, 9, 151, 8, 14, 18, 16, 19, 12, 15, 39, 0, 0, 9, 46, 26, 43, 17, 11, 23, 22, 16, 34, 49, 56, 73, -1, 70, 11, 17, 86, 32, 15, 40, 12, 22, 14, 127, 17, 16, 9, 19, 15, 16, 19, 0, 21, 3, 4, 24, 17, 0, 4, 17, 0, 5, 22, 71, 12, 16, 0, 87, 59, 12, 3, 1, 1, 26, 15, 46, 16, 46, 4, 1, 40, 4, 5, 16, 22, 56, -1, 11, 42, 17, 45, 3, 57, 59, 17, 51, 16, 34, 2, 0, 49, 24, 14, 2, 39, 50, 5, 15, 100, 4, 4, 51, 11, 21, 0, 9, 59, 44, 24, -1, 18, 4, 52, 16, 45, 17, 9, 15, 21, 31, 50, 21, -1, 25, 97, 1, 15, 14, 28, 24, 11, 21, 8, 79, 8, 0, 9, 11, 2, 18, 17, 18, 11, 60, 14, 12, 2, 44, 17, 21, 47, 26, 51, 103, 0, 28, 21, 19, 3, 51, 17, 67, 49, 21, 2, 15, 8, 19, 10, 108, 8, 105, 22, 15, 12, 16, -1, 2, 1, 22, 59, 3, 22, -1, 16, 8, 2, 9, 23, 16, 5, 1, 47, 10, 2, 8, 5, 19, 9, 5, 23, 14, 17, 26, 46, 5, 78, 4, 11, 1, 1, 17, 19, 9, 64, 57, 75, 10, 8, 10, 16, 38, 3, 11, 36, 23, 50, 5, 36, 10, 29, 0, 65, 5, 22, 22, 90, 144, 12, 15, 66, 19, 16, 59, 19, 59, 9, 28, 49, 5, 12, 21, 31, 17, 19, 3, 52, 12, -1, 16, 15, 17, 3, 0, 0, 42, 10, 22, 18, 28, 9, 11, 51, 8, 21, 59, 21, -1, 12, 28, 0, 17, 17, 24, 28, 0, 120, 50, -1, 18, 10, 75, 44, 47, 15, 16, 0, 22, 21, 5, 28, 32, -1, 3, 5, 22, 11, 28, -1, 52, 5, 3, 40, 60, 11, 24, 18, 15, 12, 12, 17, 14, 3, 42, 31, 26, 9, 3, 16, -1, 11, 14, 10, -1, 4, 15, 8, 4, 8, 31, -1, 14, 17, 8, 12, 23, 40, 23, 1, 19, 8, 50, 2, 69, -1, 59, 11, 3, 19, 91, 5, 9, 62, 45, 15, 43, 22, 16, 16, 15, 14, 57, 28, 1, 17, -1, 16, 16, 19, 14, 25, 57, 50, 2, 65, 32, 17, 73, 91, 23, 23, 40, 35, 53, 22, 14, 18, 18, 34, 31, 60, 11, 25, 10, 0, 17, 25, 4, 42, 4, 50, 119, 2, -1, 28, 10, 0, 31, 45, 108, 16, 37, 44, 22, 0, 16, 15, 86, 28, 108, 19, 11, 25, 56, 14, 19, 17, 4, 12, 24, 21, 63, 2, 22, 22, 36, 3, 16, 0, 12, 14, 35, 29, 26, 17, 1, 24, 29, 12, 0, 14, 14, 21, 11, 11, 4, 123, 0, 8, 24, 15, 63, 21, 11, 87, 39, 21, 86, 0, 23, 31, 45, 1, 11, 3, 10, 2, 59, 15, 17, 34, 12, 12, 15, -1, 4, 9, 0, 15, 71, 71, 9, 43, 4, 39, 21, 31, -1, 9, 31, 1, 9, 4, 39, 24, 99, 2, 9, -1], \"y\": [4196.009999999999, 4090.88, 2612.8599999999997, 5591.42, 2726.77, 4022.35, 1702.2600000000002, 1324.5000000000002, 2179.93, 4036.82, 1607.0600000000002, 1535.7700000000002, 17654.539999999997, 2919.81, 2178.67, 3075.0400000000004, 1662.3, 2483.6299999999997, 3006.1499999999996, 1335.19, 16587.09, 2062.7, 42055.96, 2160.7, 1063.8999999999999, 1504.2700000000002, 11581.800000000001, 2064.95, 4167.22, 4757.160000000001, 4017.54, 1856.63, 771.91, 11189.91, 7374.9, 6924.110000000001, 1226.89, 9818.82, 5655.91, 1661.8400000000001, 4810.94, 3466.2799999999997, 3346.2799999999997, 7277.700000000001, 2616.38, 799.4800000000001, 3237.54, 1835.9099999999999, 5836.860000000001, 1119.4900000000002, 4436.12, 12627.939999999999, 28337.379999999997, 8910.819999999998, 7832.470000000001, 1927.3200000000002, 6010.419999999999, 28882.44, 6424.089999999999, 1488.67, 12245.96, 2294.7799999999997, 984.9100000000001, 1197.81, 3866.33, 2099.64, 2607.6099999999997, 3650.41, 5064.9400000000005, 2388.75, 3707.12, 1676.0600000000002, 1741.2199999999998, 1201.06, 1437.85, 791.3299999999999, 2817.0299999999997, 5725.469999999999, 1701.29, 1797.78, 3401.24, 9817.119999999999, 870.0900000000001, 869.4599999999999, 1223.9, 5891.61, 1197.42, 788.0799999999999, 2155.9499999999994, 2806.9700000000003, 1357.6000000000001, 1987.3, 7454.07, 2107.6600000000003, 3834.26, 4521.49, 3214.69, 5346.23, 2709.1200000000003, 2089.85, 2000.8599999999997, 1456.79, 10845.55, 7121.95, 3627.77, 3536.8200000000006, 10736.48, 2543.7200000000007, 3090.7400000000002, 992.5, 3312.2500000000005, 3639.31, 4151.93, 797.9599999999999, 2520.0200000000004, 28117.04, 6127.43, 1851.08, 3641.3199999999997, 1006.7999999999998, 679.4499999999999, 1269.1, 3809.89, 3408.0600000000004, 3539.3700000000003, 2043.72, 2976.15, 1766.72, 9646.57, 1083.71, 5704.969999999999, 2531.58, 1454.5800000000002, 1804.5600000000002, 8968.31, 1159.11, 2479.16, 1791.56, 1389.4100000000003, 2128.42, 1093.65, 3964.88, 2287.51, 5870.08, 3448.29, 918.1999999999999, 3740.0699999999997, 4149.280000000001, 874.71, 2092.3199999999997, 732.07, 6717.34, 1687.6000000000001, 2478.95, 1981.9199999999994, 2037.0800000000002, 697.0400000000001, 5153.67, 693.32, 1131.88, 1610.46, 1638.47, 7792.360000000001, 2121.27, 1575.1599999999999, 810.5, 2624.26, 1678.1200000000001, 1836.3400000000001, 2707.33, 932.97, 2639.1700000000005, 6363.59, 3722.42, 827.83, 2504.13, 2265.12, 2308.0600000000004, 6328.05, 1445.0100000000002, 1041.68, 1980.56, 2885.2399999999993, 3131.0199999999995, 2161.35, 5189.52, 3190.55, 17220.36, 2796.51, 25977.160000000003, 912.0, 2462.7899999999995, 37153.85, 2635.79, 1747.6600000000003, 1698.94, 2202.99, 3385.6200000000003, 1537.95, 8109.52, 1245.9, 2209.36, 3104.95, 2770.94, 6403.25, 1786.79, 3219.7700000000004, 17159.52, 1191.13, 2674.48, 1883.8100000000004, 2593.0699999999997, 2867.2, 2369.55, 2580.91, 1838.85, 839.14, 5112.96, 2427.3199999999997, 1026.42, 9053.939999999999, 2758.26, 2526.2799999999997, 1871.81, 2603.4300000000003, 7060.13, 4147.96, 855.9700000000001, 3466.3600000000006, 2313.1400000000003, 1393.69, 3901.81, 4582.639999999999, 2874.72, 2360.0899999999997, 17286.86, 2975.59, 3614.92, 652.8199999999999, 5681.72, 15610.390000000003, 8214.65, 6217.959999999999, 6140.42, 10464.850000000002, 1353.74, 1438.8200000000002, 942.26, 1018.4300000000001, 4448.540000000001, 4076.91, 442.84999999999997, 3104.17, 1360.28, 2703.23, 5683.1500000000015, 2915.15, 1382.7399999999998, 2780.15, 2740.4300000000003, 1123.8600000000001, 3586.0299999999997, 4690.3099999999995, 4191.0, 4693.01, 3222.3, 1620.9300000000003, 719.78, 4748.52, 4654.08, 4684.76, 11349.52, 2073.4300000000003, 1905.8400000000001, 2241.1000000000004, 1789.72, 1839.3000000000002, 2004.9799999999998, 3432.8, 2232.19, 3350.96, 2048.07, 775.4600000000003, 2380.8500000000004, 2588.7699999999995, 1904.05, 2879.7, 3099.7200000000003, 12669.98, 2618.2299999999996, 1119.7400000000002, 3729.34, 1910.0100000000002, 4628.75, 911.26, 2314.6499999999996, 3883.25, 4871.929999999999, 1305.3299999999997, 3965.62, 1858.9600000000003, 2995.72, 2352.53, 1611.59, 2481.13, 1530.7500000000002, 5014.839999999999, 2552.2100000000005, 1614.91, 2182.28, 912.1800000000001, 2128.2300000000005, 3717.35, 9261.52, 1770.5600000000002, 3212.84, 4652.82, 3507.71, 2612.96, 4051.4799999999996, 2606.53, 5900.280000000001, 1937.25, 1058.06, 4263.639999999999, 4481.67, 2255.51, 2357.6800000000003, 1712.8900000000003, 1039.58, 1163.2300000000002, 907.1, 662.59, 3062.3999999999996, 2103.0599999999995, 2004.02, 2272.4, 1936.84, 2068.15, 1196.33, 2383.2400000000002, 1957.3200000000002, 815.3199999999999, 2470.67, 3543.26, 673.26, 5905.64, 2012.17, 1314.8100000000002, 1055.35, 2102.0899999999997, 1867.6800000000003, 4332.2, 8508.82, 2925.9100000000003, 1949.7200000000003, 4447.050000000001, 2864.19, 996.26, 1461.6500000000003, 3630.3300000000004, 2024.45, 2578.09, 4007.54, 765.62, 859.2700000000001, 2381.04, 2237.7699999999995, 5074.77, 3099.1200000000003, 2832.84, 1653.42, 859.7100000000002, 1601.1399999999999, 1447.14, 617.99, 1740.6000000000001, 883.1500000000001, 16569.5, 889.2499999999999, 2791.27, 959.01, 2984.49, 2125.08, 1417.29, 654.5999999999999, 1947.5499999999997, 1932.23, 848.22, 2529.93, 771.1700000000001, 1835.6999999999998, 9241.2, 1269.9900000000002, 1736.4, 604.7500000000001, 28754.11, 1236.2799999999997, 5630.870000000001, 2114.33, 2078.95, 1250.76, 2235.2999999999997, 2549.37, 3292.1400000000003, 1546.9099999999999, 4921.040000000001, 606.13, 2868.7999999999997, 2666.36, 867.3800000000001, 1602.13, 1158.3, 2005.06, 2702.49, 9585.91, 6065.6900000000005, 1314.45, 3902.2799999999997, 1400.3400000000001, 5010.280000000001, 1625.97, 2473.37, 10674.75, 1011.8999999999999, 2538.2999999999997, 745.0600000000001, 1319.91, 8022.49, 4339.74, 2741.17, 2087.88, 2226.9100000000003, 1720.3, 1649.5000000000002, 3295.7599999999998, 2824.6899999999996, 3189.8100000000004, 7930.54, 2836.69, 2759.8300000000004, 1353.74, 14389.900000000001, 2953.59, 1485.5400000000002, 761.5899999999999, 1237.8500000000001, 11138.71, 1366.38, 1303.52, 1421.29, 2810.63, 3501.1000000000004, 5900.25, 8099.489999999999, 7044.68, 1487.8, 1116.5700000000002, 1931.42, 1641.7599999999998, 6316.57, 1261.78, 1914.8200000000002, 905.0400000000001, 6802.76, 1661.33, 2586.67, 4308.610000000001, 705.49, 19914.44, 7700.23, 5213.7699999999995, 1782.09, 1391.6100000000001, 302.1, 2124.9900000000002, 1337.7199999999998, 303.09000000000003, 1043.4099999999999, 9743.11, 1160.0699999999997, 2420.84, 4597.0199999999995, 2298.9300000000003, 1422.52, 3609.3299999999995, 2760.5599999999995, 1352.75, 1551.7800000000002, 11528.480000000001, 1471.0, 3447.4, 977.93, 1387.99, 2354.25, 6580.4400000000005, 5314.469999999999, 4745.6900000000005, 1936.0700000000004, 18641.010000000002, 1624.05, 2206.9500000000003, 4777.180000000001, 16225.390000000003, 1044.3200000000002, 7616.530000000001, 1827.8, 1661.44, 5756.89, 1778.9599999999996, 2247.51, 780.59, 1706.57, 1756.44, 6688.459999999999, 10484.99, 918.1999999999998, 2379.49, 2507.07, 716.57, 2332.1499999999996, 2306.5200000000004, 7943.219999999999, 4668.300000000001, 3672.8599999999997, 4799.9, 5070.349999999999, 1960.11, 2766.5, 8347.2, 2314.32, 1877.5900000000004, 2386.05, 2415.9100000000003, 1233.3599999999997, 3703.29, 5955.709999999999, 1535.53, 2183.5400000000004, 1345.5300000000002, 3450.8400000000006, 3984.3199999999997, 950.36, 1447.3900000000003, 1483.14, 1122.5300000000002, 3236.9100000000003, 1418.2600000000002, 1388.37, 7354.619999999999, 11054.960000000001, 3594.3100000000004, 1134.28, 3100.09, 2001.8000000000002, 1299.23, 13316.400000000001, 1131.5600000000002, 10384.929999999998, 3610.96, 979.26, 909.23, 14758.22, 4139.460000000001, 1942.4499999999998, 3000.2000000000003, 825.92, 2429.7800000000007, 3995.23, 1502.3500000000004, 2007.4399999999996, 1580.93, 807.57, 3546.7100000000005, 4954.84, 1693.2599999999998, 4805.17, 1400.44, 4165.52, 2552.86, 3679.9700000000003, 725.11, 1771.7800000000002, 6776.56, 2920.16, 1591.4500000000003, 10399.74, 1553.1799999999998, 3709.5600000000004, 2870.24, 3285.3100000000004, 12515.66, 1887.2, 1600.86, 2242.01, 2657.13, 2881.02, 2446.6000000000004, 3435.7599999999998, 781.2800000000001, 1333.6799999999998, 2993.1, 6479.4, 2736.46, 2293.62, 945.5799999999998, 3364.24, 1072.36, 5045.610000000001, 5178.959999999999, 1205.1200000000001, 4812.42, 784.4600000000002, 1094.59, 974.0399999999998, 2465.48, 2637.38, 2364.25, 3279.97, 2614.7400000000002, 4932.2, 948.05, 1612.69, 2711.56, 4206.389999999999, 5528.4800000000005, 2218.62, 1945.33, 2100.6, 1905.4500000000003, 1654.3100000000002, 1836.09, 801.76, 2233.75, 33643.079999999994, 3711.77, 2974.6499999999996, 16387.57, 1438.8500000000001, 977.2099999999998, 3165.3599999999997, 3812.64, 360.93, 4405.88, 493.28000000000003, 363.88, 5126.76, 1567.6899999999998, 1232.18, 1528.0900000000001, 639.8900000000001, 2495.8700000000003, 1107.4600000000003, 6115.009999999999, 1659.3799999999999, 4416.26, 845.64, 4199.85, 3442.15, 1054.73, 2398.8599999999997, 3408.48, 1475.02, 2837.67, 1451.28, 2797.57, 1060.68, 3089.97, 2735.37, 615.3900000000001, 1701.94, 3362.7099999999996, 37130.600000000006, 705.39, 1508.7600000000002, 3786.24, 851.01, 719.81, 8816.4, 1340.7, 1111.79, 2263.12, 1153.62, 1521.8700000000003, 2234.73, 2806.8999999999996, 981.51, 1078.2299999999998, 1842.14, 3204.16, 1337.48, 1667.97, 867.1099999999999, 6287.77, 1880.2199999999998, 3506.540000000001, 14589.039999999999, 2424.94, 3799.4900000000002, 2053.02, 1824.23, 3122.04, 5575.5599999999995, 3787.6000000000004, 1822.9700000000003, 1885.0500000000004, 1140.2100000000003, 1418.32, 10254.18, 1158.79, 4006.9400000000005, 6911.4400000000005, 5180.52, 1863.4700000000003, 2262.6199999999994, 21086.300000000003, 3084.68, 1096.3200000000002, 3718.8, 2607.8700000000003, 3603.21, 1522.75, 1800.0700000000002, 2619.91, 5203.510000000001, 746.83, 5447.0, 1429.2400000000002, 1509.5800000000002, 1570.81, 823.97, 2248.99, 1328.5500000000004, 5360.630000000001, 2938.91, 1341.65, 3110.96, 3844.2200000000003, 1593.2, 1971.87, 887.6500000000001, 1116.47, 6675.710000000001, 2027.5, 1750.9200000000003, 3512.53, 896.6600000000001, 707.0399999999998, 1540.42, 1553.66, 987.01, 2157.4000000000005, 3046.21, 1486.9, 4098.32, 2126.9300000000003, 2028.88, 675.2700000000002, 34684.4, 1908.25, 1522.2500000000002, 798.35, 3640.6699999999996, 2158.3700000000003, 3482.7400000000007, 814.72, 1422.4, 1314.68, 1603.46, 762.3900000000001, 1871.5, 2494.46, 2965.69, 950.26, 1627.13, 9418.470000000001, 13027.45, 1095.5600000000002, 4154.639999999999, 2298.97, 837.0999999999999, 3313.79, 8338.490000000002, 3738.4, 4113.68, 813.5199999999999, 3347.71, 5493.46, 1187.6599999999999, 4413.1, 2188.05, 2883.1000000000004, 1680.72, 6773.97, 1212.6600000000003, 3794.52, 8625.800000000001, 933.6199999999999, 1374.87, 4095.9, 8134.94, 3109.99, 3062.83, 1260.86, 5076.550000000001, 5398.299999999999, 14034.990000000002, 2483.04, 3645.4300000000003, 6923.13, 3858.38, 1790.42, 4730.8099999999995, 1382.02, 1054.67, 7239.92, 2300.56, 2238.09, 1304.76, 7194.3, 6697.66, 1515.8999999999999, 1501.3799999999999, 2799.25, 5580.599999999999, 770.1, 2246.8100000000004, 1695.6599999999999, 10629.720000000001, 2279.9, 1545.6200000000001, 1721.7799999999997, 1222.7099999999998, 1201.4899999999998, 1619.73, 914.69, 1692.98, 6509.1, 1604.75, 3349.5699999999997, 3170.9799999999996, 16594.35, 1869.82, 10196.570000000002, 825.4200000000001, 2812.34, 7123.620000000001, 2095.53, 853.7199999999999, 471.51, 1578.67, 1281.56, 887.11, 3754.27, 3102.4300000000003, 981.65, 1510.06, 2575.38, 1068.8200000000002, 2596.4500000000003, 7247.610000000001, 846.75, 2847.6, 1295.3899999999999, 4604.219999999999, 2736.38, 3049.88, 1920.59, 4345.5, 2085.08, 2154.9700000000003, 1852.0, 1931.25, 4481.35, 5464.119999999999, 1625.0500000000002, 1614.3099999999997, 3989.5699999999997, 781.78, 1842.56, 8694.26, 1272.6100000000001, 1735.18, 925.35, 5659.98, 3095.04, 1461.14, 859.35, 4552.139999999999, 2709.7, 2429.03, 1446.0900000000001, 834.1199999999999, 2050.08, 1991.0100000000002, 2043.9500000000003, 3827.7600000000007, 1777.7800000000002, 1022.1299999999999, 971.74, 1621.73, 10815.43, 885.0400000000001, 2463.17, 4892.240000000001, 1139.73, 10668.470000000001, 1714.59, 1538.88, 3518.0299999999997, 1715.46, 2467.35, 3766.5999999999995, 1443.69, 796.03, 3347.31, 2474.23, 2095.13, 1699.3000000000002, 3563.8499999999995, 1564.56, 2317.2200000000003, 2781.2300000000005, 1069.1200000000001, 1960.7199999999998, 3198.25, 939.3199999999999, 1906.09, 3174.32, 916.1300000000001, 3744.65, 8676.849999999999, 562.9000000000002, 2148.6300000000006, 1652.58, 1064.1100000000001, 1419.73, 944.4100000000001, 525.24, 1875.1100000000001, 669.1099999999999, 1135.63, 8631.310000000001, 2527.92, 6292.26, 921.0699999999999, 990.2299999999999, 2027.87, 6643.93, 12353.29, 2676.56, 1159.5199999999998, 585.7900000000001, 4481.18, 4801.5599999999995, 1912.6700000000003, 1342.68, 4100.92, 20275.61, 784.1099999999999, 31833.68, 2633.8499999999995, 1031.41, 2200.42, 1214.72, 6893.42, 4226.57, 1979.3700000000001, 759.1700000000001, 5037.26, 17256.85, 2373.8199999999997, 2248.56, 2520.86, 1721.4, 657.3, 757.4599999999999, 1896.41, 1870.9700000000003, 1255.59, 3558.8700000000003, 6115.139999999999, 2924.99, 768.08, 1844.02, 3628.5, 2385.0, 1952.4499999999998, 483.26, 1122.3799999999999, 901.2099999999999, 4331.48, 1498.51, 3622.68, 11045.039999999999, 2404.17, 1479.22, 2225.9700000000003, 3927.3400000000006, 2827.9300000000003, 5102.97, 1112.2199999999998, 3984.22, 2048.45, 4559.150000000001, 843.48, 2047.0, 1814.12, 2361.9700000000003, 2895.64, 1797.5, 3945.0, 4867.72, 2638.9400000000005, 1674.6900000000003, 2999.46, 1802.9100000000003, 2055.51, 3406.72, 1572.7100000000003, 3178.17, 1629.12, 20374.28, 1387.68, 16363.23, 2474.3299999999995, 3191.53, 5739.460000000001, 4757.95, 2285.7100000000005, 2534.64, 1823.52, 10504.49, 5655.99, 5396.04, 3439.08, 1060.25, 2876.01, 5298.48, 13110.02, 1879.05, 2791.3500000000004, 2322.4, 1797.5700000000002, 5605.290000000001, 3456.7, 834.99, 818.82, 3997.9800000000005, 665.8600000000001, 658.57, 1865.19, 1965.5500000000002, 780.4300000000002, 3055.9300000000003, 1199.01, 1285.04, 5411.91, 7837.7300000000005, 732.1599999999999, 1770.8799999999999, 1995.46, 1593.38, 2779.3, 26879.04, 5155.66, 2100.8, 3160.0, 597.5, 10526.32, 1894.3500000000001, 671.77, 726.05, 4204.1, 2962.500000000001, 1331.57, 2332.7200000000003, 1296.44, 2622.57, 740.79, 4488.81, 1970.67, 422.87999999999994, 4183.39, 2088.6, 6784.1900000000005, 2119.41, 2392.83, 2036.67, 2611.75, 2633.01, 3651.9699999999993, 9068.26, 911.1500000000001, 8052.97, 5653.82, 1826.21, 1142.99, 1059.3899999999999, 8438.34, 2888.7500000000005, 2861.55, 734.94, 1618.69, 1231.31, 7561.68, 1793.1700000000003, 1843.7500000000005, 2001.0399999999997, 5425.560000000001, 1993.7000000000003, 2621.38, 2069.77, 1041.6100000000001, 6484.54, 5509.120000000001, 5228.050000000001, 7276.9, 2810.1999999999994, 1796.4800000000002, 987.1000000000001, 2073.09, 2567.0600000000004, 2337.6300000000006, 2338.6000000000004, 2643.2, 3078.58, 2094.88, 1837.2800000000002]}],\n",
              "                        {\"template\": {\"data\": {\"bar\": [{\"error_x\": {\"color\": \"#2a3f5f\"}, \"error_y\": {\"color\": \"#2a3f5f\"}, \"marker\": {\"line\": {\"color\": \"#E5ECF6\", \"width\": 0.5}}, \"type\": \"bar\"}], \"barpolar\": [{\"marker\": {\"line\": {\"color\": \"#E5ECF6\", \"width\": 0.5}}, \"type\": \"barpolar\"}], \"carpet\": [{\"aaxis\": {\"endlinecolor\": \"#2a3f5f\", \"gridcolor\": \"white\", \"linecolor\": \"white\", \"minorgridcolor\": \"white\", \"startlinecolor\": \"#2a3f5f\"}, \"baxis\": {\"endlinecolor\": \"#2a3f5f\", \"gridcolor\": \"white\", \"linecolor\": \"white\", \"minorgridcolor\": \"white\", \"startlinecolor\": \"#2a3f5f\"}, \"type\": \"carpet\"}], \"choropleth\": [{\"colorbar\": {\"outlinewidth\": 0, \"ticks\": \"\"}, \"type\": \"choropleth\"}], \"contour\": [{\"colorbar\": {\"outlinewidth\": 0, \"ticks\": \"\"}, \"colorscale\": [[0.0, \"#0d0887\"], [0.1111111111111111, \"#46039f\"], [0.2222222222222222, \"#7201a8\"], [0.3333333333333333, \"#9c179e\"], [0.4444444444444444, \"#bd3786\"], [0.5555555555555556, \"#d8576b\"], [0.6666666666666666, \"#ed7953\"], [0.7777777777777778, \"#fb9f3a\"], [0.8888888888888888, \"#fdca26\"], [1.0, \"#f0f921\"]], \"type\": \"contour\"}], \"contourcarpet\": [{\"colorbar\": {\"outlinewidth\": 0, \"ticks\": \"\"}, \"type\": \"contourcarpet\"}], \"heatmap\": [{\"colorbar\": {\"outlinewidth\": 0, \"ticks\": \"\"}, \"colorscale\": [[0.0, \"#0d0887\"], [0.1111111111111111, \"#46039f\"], [0.2222222222222222, \"#7201a8\"], [0.3333333333333333, \"#9c179e\"], [0.4444444444444444, \"#bd3786\"], [0.5555555555555556, \"#d8576b\"], [0.6666666666666666, \"#ed7953\"], [0.7777777777777778, \"#fb9f3a\"], [0.8888888888888888, \"#fdca26\"], [1.0, \"#f0f921\"]], \"type\": \"heatmap\"}], \"heatmapgl\": [{\"colorbar\": {\"outlinewidth\": 0, \"ticks\": \"\"}, \"colorscale\": [[0.0, \"#0d0887\"], [0.1111111111111111, \"#46039f\"], [0.2222222222222222, \"#7201a8\"], [0.3333333333333333, \"#9c179e\"], [0.4444444444444444, \"#bd3786\"], [0.5555555555555556, \"#d8576b\"], [0.6666666666666666, \"#ed7953\"], [0.7777777777777778, \"#fb9f3a\"], [0.8888888888888888, \"#fdca26\"], [1.0, \"#f0f921\"]], \"type\": \"heatmapgl\"}], \"histogram\": [{\"marker\": {\"colorbar\": {\"outlinewidth\": 0, \"ticks\": \"\"}}, \"type\": \"histogram\"}], \"histogram2d\": [{\"colorbar\": {\"outlinewidth\": 0, \"ticks\": \"\"}, \"colorscale\": [[0.0, \"#0d0887\"], [0.1111111111111111, \"#46039f\"], [0.2222222222222222, \"#7201a8\"], [0.3333333333333333, \"#9c179e\"], [0.4444444444444444, \"#bd3786\"], [0.5555555555555556, \"#d8576b\"], [0.6666666666666666, \"#ed7953\"], [0.7777777777777778, \"#fb9f3a\"], [0.8888888888888888, \"#fdca26\"], [1.0, \"#f0f921\"]], \"type\": \"histogram2d\"}], \"histogram2dcontour\": [{\"colorbar\": {\"outlinewidth\": 0, \"ticks\": \"\"}, \"colorscale\": [[0.0, \"#0d0887\"], [0.1111111111111111, \"#46039f\"], [0.2222222222222222, \"#7201a8\"], [0.3333333333333333, \"#9c179e\"], [0.4444444444444444, \"#bd3786\"], [0.5555555555555556, \"#d8576b\"], [0.6666666666666666, \"#ed7953\"], [0.7777777777777778, \"#fb9f3a\"], [0.8888888888888888, \"#fdca26\"], [1.0, \"#f0f921\"]], \"type\": \"histogram2dcontour\"}], \"mesh3d\": [{\"colorbar\": {\"outlinewidth\": 0, \"ticks\": \"\"}, \"type\": \"mesh3d\"}], \"parcoords\": [{\"line\": {\"colorbar\": {\"outlinewidth\": 0, \"ticks\": \"\"}}, \"type\": \"parcoords\"}], \"pie\": [{\"automargin\": true, \"type\": \"pie\"}], \"scatter\": [{\"marker\": {\"colorbar\": {\"outlinewidth\": 0, \"ticks\": \"\"}}, \"type\": \"scatter\"}], \"scatter3d\": [{\"line\": {\"colorbar\": {\"outlinewidth\": 0, \"ticks\": \"\"}}, \"marker\": {\"colorbar\": {\"outlinewidth\": 0, \"ticks\": \"\"}}, \"type\": \"scatter3d\"}], \"scattercarpet\": [{\"marker\": {\"colorbar\": {\"outlinewidth\": 0, \"ticks\": \"\"}}, \"type\": \"scattercarpet\"}], \"scattergeo\": [{\"marker\": {\"colorbar\": {\"outlinewidth\": 0, \"ticks\": \"\"}}, \"type\": \"scattergeo\"}], \"scattergl\": [{\"marker\": {\"colorbar\": {\"outlinewidth\": 0, \"ticks\": \"\"}}, \"type\": \"scattergl\"}], \"scattermapbox\": [{\"marker\": {\"colorbar\": {\"outlinewidth\": 0, \"ticks\": \"\"}}, \"type\": \"scattermapbox\"}], \"scatterpolar\": [{\"marker\": {\"colorbar\": {\"outlinewidth\": 0, \"ticks\": \"\"}}, \"type\": \"scatterpolar\"}], \"scatterpolargl\": [{\"marker\": {\"colorbar\": {\"outlinewidth\": 0, \"ticks\": \"\"}}, \"type\": \"scatterpolargl\"}], \"scatterternary\": [{\"marker\": {\"colorbar\": {\"outlinewidth\": 0, \"ticks\": \"\"}}, \"type\": \"scatterternary\"}], \"surface\": [{\"colorbar\": {\"outlinewidth\": 0, \"ticks\": \"\"}, \"colorscale\": [[0.0, \"#0d0887\"], [0.1111111111111111, \"#46039f\"], [0.2222222222222222, \"#7201a8\"], [0.3333333333333333, \"#9c179e\"], [0.4444444444444444, \"#bd3786\"], [0.5555555555555556, \"#d8576b\"], [0.6666666666666666, \"#ed7953\"], [0.7777777777777778, \"#fb9f3a\"], [0.8888888888888888, \"#fdca26\"], [1.0, \"#f0f921\"]], \"type\": \"surface\"}], \"table\": [{\"cells\": {\"fill\": {\"color\": \"#EBF0F8\"}, \"line\": {\"color\": \"white\"}}, \"header\": {\"fill\": {\"color\": \"#C8D4E3\"}, \"line\": {\"color\": \"white\"}}, \"type\": \"table\"}]}, \"layout\": {\"annotationdefaults\": {\"arrowcolor\": \"#2a3f5f\", \"arrowhead\": 0, \"arrowwidth\": 1}, \"coloraxis\": {\"colorbar\": {\"outlinewidth\": 0, \"ticks\": \"\"}}, \"colorscale\": {\"diverging\": [[0, \"#8e0152\"], [0.1, \"#c51b7d\"], [0.2, \"#de77ae\"], [0.3, \"#f1b6da\"], [0.4, \"#fde0ef\"], [0.5, \"#f7f7f7\"], [0.6, \"#e6f5d0\"], [0.7, \"#b8e186\"], [0.8, \"#7fbc41\"], [0.9, \"#4d9221\"], [1, \"#276419\"]], \"sequential\": [[0.0, \"#0d0887\"], [0.1111111111111111, \"#46039f\"], [0.2222222222222222, \"#7201a8\"], [0.3333333333333333, \"#9c179e\"], [0.4444444444444444, \"#bd3786\"], [0.5555555555555556, \"#d8576b\"], [0.6666666666666666, \"#ed7953\"], [0.7777777777777778, \"#fb9f3a\"], [0.8888888888888888, \"#fdca26\"], [1.0, \"#f0f921\"]], \"sequentialminus\": [[0.0, \"#0d0887\"], [0.1111111111111111, \"#46039f\"], [0.2222222222222222, \"#7201a8\"], [0.3333333333333333, \"#9c179e\"], [0.4444444444444444, \"#bd3786\"], [0.5555555555555556, \"#d8576b\"], [0.6666666666666666, \"#ed7953\"], [0.7777777777777778, \"#fb9f3a\"], [0.8888888888888888, \"#fdca26\"], [1.0, \"#f0f921\"]]}, \"colorway\": [\"#636efa\", \"#EF553B\", \"#00cc96\", \"#ab63fa\", \"#FFA15A\", \"#19d3f3\", \"#FF6692\", \"#B6E880\", \"#FF97FF\", \"#FECB52\"], \"font\": {\"color\": \"#2a3f5f\"}, \"geo\": {\"bgcolor\": \"white\", \"lakecolor\": \"white\", \"landcolor\": \"#E5ECF6\", \"showlakes\": true, \"showland\": true, \"subunitcolor\": \"white\"}, \"hoverlabel\": {\"align\": \"left\"}, \"hovermode\": \"closest\", \"mapbox\": {\"style\": \"light\"}, \"paper_bgcolor\": \"white\", \"plot_bgcolor\": \"#E5ECF6\", \"polar\": {\"angularaxis\": {\"gridcolor\": \"white\", \"linecolor\": \"white\", \"ticks\": \"\"}, \"bgcolor\": \"#E5ECF6\", \"radialaxis\": {\"gridcolor\": \"white\", \"linecolor\": \"white\", \"ticks\": \"\"}}, \"scene\": {\"xaxis\": {\"backgroundcolor\": \"#E5ECF6\", \"gridcolor\": \"white\", \"gridwidth\": 2, \"linecolor\": \"white\", \"showbackground\": true, \"ticks\": \"\", \"zerolinecolor\": \"white\"}, \"yaxis\": {\"backgroundcolor\": \"#E5ECF6\", \"gridcolor\": \"white\", \"gridwidth\": 2, \"linecolor\": \"white\", \"showbackground\": true, \"ticks\": \"\", \"zerolinecolor\": \"white\"}, \"zaxis\": {\"backgroundcolor\": \"#E5ECF6\", \"gridcolor\": \"white\", \"gridwidth\": 2, \"linecolor\": \"white\", \"showbackground\": true, \"ticks\": \"\", \"zerolinecolor\": \"white\"}}, \"shapedefaults\": {\"line\": {\"color\": \"#2a3f5f\"}}, \"ternary\": {\"aaxis\": {\"gridcolor\": \"white\", \"linecolor\": \"white\", \"ticks\": \"\"}, \"baxis\": {\"gridcolor\": \"white\", \"linecolor\": \"white\", \"ticks\": \"\"}, \"bgcolor\": \"#E5ECF6\", \"caxis\": {\"gridcolor\": \"white\", \"linecolor\": \"white\", \"ticks\": \"\"}}, \"title\": {\"x\": 0.05}, \"xaxis\": {\"automargin\": true, \"gridcolor\": \"white\", \"linecolor\": \"white\", \"ticks\": \"\", \"title\": {\"standoff\": 15}, \"zerolinecolor\": \"white\", \"zerolinewidth\": 2}, \"yaxis\": {\"automargin\": true, \"gridcolor\": \"white\", \"linecolor\": \"white\", \"ticks\": \"\", \"title\": {\"standoff\": 15}, \"zerolinecolor\": \"white\", \"zerolinewidth\": 2}}}, \"title\": {\"text\": \"Segments\"}, \"xaxis\": {\"title\": {\"text\": \"Recency\"}}, \"yaxis\": {\"title\": {\"text\": \"Monetary\"}}},\n",
              "                        {\"responsive\": true}\n",
              "                    ).then(function(){\n",
              "                            \n",
              "var gd = document.getElementById('7506a281-caf0-4de1-b2ef-fdd4dbb626ce');\n",
              "var x = new MutationObserver(function (mutations, observer) {{\n",
              "        var display = window.getComputedStyle(gd).display;\n",
              "        if (!display || display === 'none') {{\n",
              "            console.log([gd, 'removed!']);\n",
              "            Plotly.purge(gd);\n",
              "            observer.disconnect();\n",
              "        }}\n",
              "}});\n",
              "\n",
              "// Listen for the removal of the full notebook cells\n",
              "var notebookContainer = gd.closest('#notebook-container');\n",
              "if (notebookContainer) {{\n",
              "    x.observe(notebookContainer, {childList: true});\n",
              "}}\n",
              "\n",
              "// Listen for the clearing of the current output cell\n",
              "var outputEl = gd.closest('.output');\n",
              "if (outputEl) {{\n",
              "    x.observe(outputEl, {childList: true});\n",
              "}}\n",
              "\n",
              "                        })\n",
              "                };\n",
              "                \n",
              "            </script>\n",
              "        </div>\n",
              "</body>\n",
              "</html>"
            ]
          },
          "metadata": {
            "tags": []
          }
        }
      ]
    },
    {
      "cell_type": "markdown",
      "metadata": {
        "id": "9iA8sQGNmpaG"
      },
      "source": [
        "# K-Means Clustering"
      ]
    },
    {
      "cell_type": "code",
      "metadata": {
        "id": "pb8R7niCmbcJ"
      },
      "source": [
        "#Handle negative and zero values so as to handle infinite numbers during log transformation\r\n",
        "def handle_neg_n_zero(num):\r\n",
        "    if num <= 0:\r\n",
        "        return 1\r\n",
        "    else:\r\n",
        "        return num\r\n",
        "#Apply handle_neg_n_zero function to Recency and Monetary columns \r\n",
        "RFMScores['Recency'] = [handle_neg_n_zero(x) for x in RFMScores.Recency]\r\n",
        "RFMScores['Monetary'] = [handle_neg_n_zero(x) for x in RFMScores.Monetary]\r\n",
        "\r\n",
        "#Perform Log transformation to bring data into normal or near normal distribution\r\n",
        "Log_Tfd_Data = RFMScores[['Recency', 'Frequency', 'Monetary']].apply(np.log, axis = 1).round(3)"
      ],
      "execution_count": 31,
      "outputs": []
    },
    {
      "cell_type": "code",
      "metadata": {
        "colab": {
          "base_uri": "https://localhost:8080/",
          "height": 367
        },
        "id": "ulRR_0F7mvVn",
        "outputId": "f101b46f-8c59-4a8f-839b-871bde6db481"
      },
      "source": [
        "#Data distribution after data normalization for Recency\r\n",
        "Recency_Plot = Log_Tfd_Data['Recency']\r\n",
        "ax = sns.distplot(Recency_Plot)"
      ],
      "execution_count": 32,
      "outputs": [
        {
          "output_type": "stream",
          "text": [
            "/usr/local/lib/python3.6/dist-packages/seaborn/distributions.py:2551: FutureWarning:\n",
            "\n",
            "`distplot` is a deprecated function and will be removed in a future version. Please adapt your code to use either `displot` (a figure-level function with similar flexibility) or `histplot` (an axes-level function for histograms).\n",
            "\n"
          ],
          "name": "stderr"
        },
        {
          "output_type": "display_data",
          "data": {
            "image/png": "[encoded data removed]",
            "text/plain": [
              "<Figure size 432x288 with 1 Axes>"
            ]
          },
          "metadata": {
            "tags": [],
            "needs_background": "light"
          }
        }
      ]
    },
    {
      "cell_type": "code",
      "metadata": {
        "colab": {
          "base_uri": "https://localhost:8080/",
          "height": 367
        },
        "id": "CkbvsELmnIem",
        "outputId": "caee8966-574d-443f-dea6-8a3f894bc343"
      },
      "source": [
        "#Data distribution after data normalization for Frequency\r\n",
        "Frequency_Plot = Log_Tfd_Data.query('Frequency < 1000')['Frequency']\r\n",
        "ax = sns.distplot(Frequency_Plot)"
      ],
      "execution_count": 33,
      "outputs": [
        {
          "output_type": "stream",
          "text": [
            "/usr/local/lib/python3.6/dist-packages/seaborn/distributions.py:2551: FutureWarning:\n",
            "\n",
            "`distplot` is a deprecated function and will be removed in a future version. Please adapt your code to use either `displot` (a figure-level function with similar flexibility) or `histplot` (an axes-level function for histograms).\n",
            "\n"
          ],
          "name": "stderr"
        },
        {
          "output_type": "display_data",
          "data": {
            "image/png": "[encoded data removed]",
            "text/plain": [
              "<Figure size 432x288 with 1 Axes>"
            ]
          },
          "metadata": {
            "tags": [],
            "needs_background": "light"
          }
        }
      ]
    },
    {
      "cell_type": "code",
      "metadata": {
        "colab": {
          "base_uri": "https://localhost:8080/",
          "height": 367
        },
        "id": "VU3dx226nLnx",
        "outputId": "ce1ff227-3b70-4cef-81d2-feeb8a623d13"
      },
      "source": [
        "#Data distribution after data normalization for Monetary\r\n",
        "Monetary_Plot = Log_Tfd_Data.query('Monetary < 10000')['Monetary']\r\n",
        "ax = sns.distplot(Monetary_Plot)"
      ],
      "execution_count": 34,
      "outputs": [
        {
          "output_type": "stream",
          "text": [
            "/usr/local/lib/python3.6/dist-packages/seaborn/distributions.py:2551: FutureWarning:\n",
            "\n",
            "`distplot` is a deprecated function and will be removed in a future version. Please adapt your code to use either `displot` (a figure-level function with similar flexibility) or `histplot` (an axes-level function for histograms).\n",
            "\n"
          ],
          "name": "stderr"
        },
        {
          "output_type": "display_data",
          "data": {
            "image/png": "[encoded data removed]",
            "text/plain": [
              "<Figure size 432x288 with 1 Axes>"
            ]
          },
          "metadata": {
            "tags": [],
            "needs_background": "light"
          }
        }
      ]
    },
    {
      "cell_type": "code",
      "metadata": {
        "id": "9EKcg03DnYq_"
      },
      "source": [
        "from sklearn.preprocessing import StandardScaler\r\n",
        "\r\n",
        "#Bring the data on same scale\r\n",
        "scaleobj = StandardScaler()\r\n",
        "Scaled_Data = scaleobj.fit_transform(Log_Tfd_Data)\r\n",
        "\r\n",
        "#Transform it back to dataframe\r\n",
        "Scaled_Data = pd.DataFrame(Scaled_Data, index = RFMScores.index, columns = Log_Tfd_Data.columns)"
      ],
      "execution_count": 35,
      "outputs": []
    },
    {
      "cell_type": "code",
      "metadata": {
        "colab": {
          "base_uri": "https://localhost:8080/",
          "height": 295
        },
        "id": "Li8KETCrnZO8",
        "outputId": "d4827611-d0b6-4145-e268-1291f705954b"
      },
      "source": [
        "from sklearn.cluster import KMeans\r\n",
        "\r\n",
        "sum_of_sq_dist = {}\r\n",
        "for k in range(1,5):\r\n",
        "    km = KMeans(n_clusters= k, init= 'k-means++', max_iter= 1000)\r\n",
        "    km = km.fit(Scaled_Data)\r\n",
        "    sum_of_sq_dist[k] = km.inertia_\r\n",
        "    \r\n",
        "#Plot the graph for the sum of square distance values and Number of Clusters\r\n",
        "sns.pointplot(x = list(sum_of_sq_dist.keys()), y = list(sum_of_sq_dist.values()))\r\n",
        "plt.xlabel('Number of Clusters(k)')\r\n",
        "plt.ylabel('Sum of Square Distances')\r\n",
        "plt.title('Elbow Method For Optimal k')\r\n",
        "plt.show()\r\n"
      ],
      "execution_count": 38,
      "outputs": [
        {
          "output_type": "display_data",
          "data": {
            "image/png": "[encoded data removed]",
            "text/plain": [
              "<Figure size 432x288 with 1 Axes>"
            ]
          },
          "metadata": {
            "tags": [],
            "needs_background": "light"
          }
        }
      ]
    },
    {
      "cell_type": "code",
      "metadata": {
        "colab": {
          "base_uri": "https://localhost:8080/",
          "height": 235
        },
        "id": "QzjouLk6nlqT",
        "outputId": "d0986ef3-7583-43fe-b08a-91a6caa2fe5d"
      },
      "source": [
        "#Perform K-Mean Clustering or build the K-Means clustering model\r\n",
        "KMean_clust = KMeans(n_clusters= 2, init= 'k-means++', max_iter= 1000)\r\n",
        "KMean_clust.fit(Scaled_Data)\r\n",
        "\r\n",
        "#Find the clusters for the observation given in the dataset\r\n",
        "RFMScores['Cluster'] = KMean_clust.labels_\r\n",
        "RFMScores.head()"
      ],
      "execution_count": 40,
      "outputs": [
        {
          "output_type": "execute_result",
          "data": {
            "text/html": [
              "<div>\n",
              "<style scoped>\n",
              "    .dataframe tbody tr th:only-of-type {\n",
              "        vertical-align: middle;\n",
              "    }\n",
              "\n",
              "    .dataframe tbody tr th {\n",
              "        vertical-align: top;\n",
              "    }\n",
              "\n",
              "    .dataframe thead th {\n",
              "        text-align: right;\n",
              "    }\n",
              "</style>\n",
              "<table border=\"1\" class=\"dataframe\">\n",
              "  <thead>\n",
              "    <tr style=\"text-align: right;\">\n",
              "      <th></th>\n",
              "      <th>Recency</th>\n",
              "      <th>Frequency</th>\n",
              "      <th>Monetary</th>\n",
              "      <th>R</th>\n",
              "      <th>F</th>\n",
              "      <th>M</th>\n",
              "      <th>RFMGroup</th>\n",
              "      <th>RFMScore</th>\n",
              "      <th>RFM_Loyalty_Level</th>\n",
              "      <th>Cluster</th>\n",
              "    </tr>\n",
              "    <tr>\n",
              "      <th>CustomerID</th>\n",
              "      <th></th>\n",
              "      <th></th>\n",
              "      <th></th>\n",
              "      <th></th>\n",
              "      <th></th>\n",
              "      <th></th>\n",
              "      <th></th>\n",
              "      <th></th>\n",
              "      <th></th>\n",
              "      <th></th>\n",
              "    </tr>\n",
              "  </thead>\n",
              "  <tbody>\n",
              "    <tr>\n",
              "      <th>12346.0</th>\n",
              "      <td>325</td>\n",
              "      <td>1</td>\n",
              "      <td>77183.60</td>\n",
              "      <td>4</td>\n",
              "      <td>4</td>\n",
              "      <td>1</td>\n",
              "      <td>441</td>\n",
              "      <td>9</td>\n",
              "      <td>Silver</td>\n",
              "      <td>0</td>\n",
              "    </tr>\n",
              "    <tr>\n",
              "      <th>12747.0</th>\n",
              "      <td>22</td>\n",
              "      <td>103</td>\n",
              "      <td>4196.01</td>\n",
              "      <td>2</td>\n",
              "      <td>1</td>\n",
              "      <td>1</td>\n",
              "      <td>211</td>\n",
              "      <td>4</td>\n",
              "      <td>Platinum</td>\n",
              "      <td>1</td>\n",
              "    </tr>\n",
              "    <tr>\n",
              "      <th>12748.0</th>\n",
              "      <td>4</td>\n",
              "      <td>4596</td>\n",
              "      <td>33719.73</td>\n",
              "      <td>1</td>\n",
              "      <td>1</td>\n",
              "      <td>1</td>\n",
              "      <td>111</td>\n",
              "      <td>3</td>\n",
              "      <td>Platinum</td>\n",
              "      <td>1</td>\n",
              "    </tr>\n",
              "    <tr>\n",
              "      <th>12749.0</th>\n",
              "      <td>22</td>\n",
              "      <td>199</td>\n",
              "      <td>4090.88</td>\n",
              "      <td>2</td>\n",
              "      <td>1</td>\n",
              "      <td>1</td>\n",
              "      <td>211</td>\n",
              "      <td>4</td>\n",
              "      <td>Platinum</td>\n",
              "      <td>1</td>\n",
              "    </tr>\n",
              "    <tr>\n",
              "      <th>12820.0</th>\n",
              "      <td>44</td>\n",
              "      <td>59</td>\n",
              "      <td>942.34</td>\n",
              "      <td>2</td>\n",
              "      <td>2</td>\n",
              "      <td>2</td>\n",
              "      <td>222</td>\n",
              "      <td>6</td>\n",
              "      <td>Gold</td>\n",
              "      <td>1</td>\n",
              "    </tr>\n",
              "  </tbody>\n",
              "</table>\n",
              "</div>"
            ],
            "text/plain": [
              "            Recency  Frequency  Monetary  ...  RFMScore  RFM_Loyalty_Level  Cluster\n",
              "CustomerID                                ...                                      \n",
              "12346.0         325          1  77183.60  ...         9             Silver        0\n",
              "12747.0          22        103   4196.01  ...         4           Platinum        1\n",
              "12748.0           4       4596  33719.73  ...         3           Platinum        1\n",
              "12749.0          22        199   4090.88  ...         4           Platinum        1\n",
              "12820.0          44         59    942.34  ...         6               Gold        1\n",
              "\n",
              "[5 rows x 10 columns]"
            ]
          },
          "metadata": {
            "tags": []
          },
          "execution_count": 40
        }
      ]
    },
    {
      "cell_type": "code",
      "metadata": {
        "colab": {
          "base_uri": "https://localhost:8080/",
          "height": 514
        },
        "id": "vBNbGJkTn18e",
        "outputId": "8363ad40-32a4-4983-f6c5-309c1e6727bf"
      },
      "source": [
        "from matplotlib import pyplot as plt\r\n",
        "plt.figure(figsize=(7,7))\r\n",
        "\r\n",
        "##Scatter Plot Frequency Vs Recency\r\n",
        "Colors = [\"red\", \"green\"]\r\n",
        "RFMScores['Color'] = RFMScores['Cluster'].map(lambda p: Colors[p])\r\n",
        "ax = RFMScores.plot(    \r\n",
        "    kind=\"scatter\", \r\n",
        "    x=\"Recency\", y=\"Frequency\",\r\n",
        "    figsize=(10,8),\r\n",
        "    c = RFMScores['Color']\r\n",
        ")"
      ],
      "execution_count": 42,
      "outputs": [
        {
          "output_type": "display_data",
          "data": {
            "text/plain": [
              "<Figure size 504x504 with 0 Axes>"
            ]
          },
          "metadata": {
            "tags": []
          }
        },
        {
          "output_type": "display_data",
          "data": {
            "image/png": "[encoded data removed]",
            "text/plain": [
              "<Figure size 720x576 with 1 Axes>"
            ]
          },
          "metadata": {
            "tags": [],
            "needs_background": "light"
          }
        }
      ]
    },
    {
      "cell_type": "code",
      "metadata": {
        "colab": {
          "base_uri": "https://localhost:8080/",
          "height": 235
        },
        "id": "_28PKgNXoC-0",
        "outputId": "ba522eac-8277-4e7b-e6a3-986c5afd1322"
      },
      "source": [
        "RFMScores.head()"
      ],
      "execution_count": 43,
      "outputs": [
        {
          "output_type": "execute_result",
          "data": {
            "text/html": [
              "<div>\n",
              "<style scoped>\n",
              "    .dataframe tbody tr th:only-of-type {\n",
              "        vertical-align: middle;\n",
              "    }\n",
              "\n",
              "    .dataframe tbody tr th {\n",
              "        vertical-align: top;\n",
              "    }\n",
              "\n",
              "    .dataframe thead th {\n",
              "        text-align: right;\n",
              "    }\n",
              "</style>\n",
              "<table border=\"1\" class=\"dataframe\">\n",
              "  <thead>\n",
              "    <tr style=\"text-align: right;\">\n",
              "      <th></th>\n",
              "      <th>Recency</th>\n",
              "      <th>Frequency</th>\n",
              "      <th>Monetary</th>\n",
              "      <th>R</th>\n",
              "      <th>F</th>\n",
              "      <th>M</th>\n",
              "      <th>RFMGroup</th>\n",
              "      <th>RFMScore</th>\n",
              "      <th>RFM_Loyalty_Level</th>\n",
              "      <th>Cluster</th>\n",
              "      <th>Color</th>\n",
              "    </tr>\n",
              "    <tr>\n",
              "      <th>CustomerID</th>\n",
              "      <th></th>\n",
              "      <th></th>\n",
              "      <th></th>\n",
              "      <th></th>\n",
              "      <th></th>\n",
              "      <th></th>\n",
              "      <th></th>\n",
              "      <th></th>\n",
              "      <th></th>\n",
              "      <th></th>\n",
              "      <th></th>\n",
              "    </tr>\n",
              "  </thead>\n",
              "  <tbody>\n",
              "    <tr>\n",
              "      <th>12346.0</th>\n",
              "      <td>325</td>\n",
              "      <td>1</td>\n",
              "      <td>77183.60</td>\n",
              "      <td>4</td>\n",
              "      <td>4</td>\n",
              "      <td>1</td>\n",
              "      <td>441</td>\n",
              "      <td>9</td>\n",
              "      <td>Silver</td>\n",
              "      <td>0</td>\n",
              "      <td>red</td>\n",
              "    </tr>\n",
              "    <tr>\n",
              "      <th>12747.0</th>\n",
              "      <td>22</td>\n",
              "      <td>103</td>\n",
              "      <td>4196.01</td>\n",
              "      <td>2</td>\n",
              "      <td>1</td>\n",
              "      <td>1</td>\n",
              "      <td>211</td>\n",
              "      <td>4</td>\n",
              "      <td>Platinum</td>\n",
              "      <td>1</td>\n",
              "      <td>green</td>\n",
              "    </tr>\n",
              "    <tr>\n",
              "      <th>12748.0</th>\n",
              "      <td>4</td>\n",
              "      <td>4596</td>\n",
              "      <td>33719.73</td>\n",
              "      <td>1</td>\n",
              "      <td>1</td>\n",
              "      <td>1</td>\n",
              "      <td>111</td>\n",
              "      <td>3</td>\n",
              "      <td>Platinum</td>\n",
              "      <td>1</td>\n",
              "      <td>green</td>\n",
              "    </tr>\n",
              "    <tr>\n",
              "      <th>12749.0</th>\n",
              "      <td>22</td>\n",
              "      <td>199</td>\n",
              "      <td>4090.88</td>\n",
              "      <td>2</td>\n",
              "      <td>1</td>\n",
              "      <td>1</td>\n",
              "      <td>211</td>\n",
              "      <td>4</td>\n",
              "      <td>Platinum</td>\n",
              "      <td>1</td>\n",
              "      <td>green</td>\n",
              "    </tr>\n",
              "    <tr>\n",
              "      <th>12820.0</th>\n",
              "      <td>44</td>\n",
              "      <td>59</td>\n",
              "      <td>942.34</td>\n",
              "      <td>2</td>\n",
              "      <td>2</td>\n",
              "      <td>2</td>\n",
              "      <td>222</td>\n",
              "      <td>6</td>\n",
              "      <td>Gold</td>\n",
              "      <td>1</td>\n",
              "      <td>green</td>\n",
              "    </tr>\n",
              "  </tbody>\n",
              "</table>\n",
              "</div>"
            ],
            "text/plain": [
              "            Recency  Frequency  Monetary  ...  RFM_Loyalty_Level  Cluster  Color\n",
              "CustomerID                                ...                                   \n",
              "12346.0         325          1  77183.60  ...             Silver        0    red\n",
              "12747.0          22        103   4196.01  ...           Platinum        1  green\n",
              "12748.0           4       4596  33719.73  ...           Platinum        1  green\n",
              "12749.0          22        199   4090.88  ...           Platinum        1  green\n",
              "12820.0          44         59    942.34  ...               Gold        1  green\n",
              "\n",
              "[5 rows x 11 columns]"
            ]
          },
          "metadata": {
            "tags": []
          },
          "execution_count": 43
        }
      ]
    }
  ]
}