{
  "nbformat": 4,
  "nbformat_minor": 0,
  "metadata": {
    "colab": {
      "name": "Data_Augmentation.ipynb",
      "provenance": [],
      "collapsed_sections": [
        "ZFmdRGqYqRkA",
        "hvn4RpfEin7s"
      ],
      "include_colab_link": true
    },
    "kernelspec": {
      "name": "python3",
      "display_name": "Python 3"
    },
    "accelerator": "GPU"
  },
  "cells": [
    {
      "cell_type": "markdown",
      "metadata": {
        "id": "view-in-github",
        "colab_type": "text"
      },
      "source": [
        "<a href=\"https://colab.research.google.com/github/komalsharmavlog/TheSparksFoundation/blob/master/Data_Augmentation.ipynb\" target=\"_parent\"><img src=\"https://colab.research.google.com/assets/colab-badge.svg\" alt=\"Open In Colab\"/></a>"
      ]
    },
    {
      "cell_type": "markdown",
      "metadata": {
        "id": "93nOAMLOe6_d"
      },
      "source": [
        "# Data Augmentation Using Word Embeddings\n",
        "\n"
      ]
    },
    {
      "cell_type": "markdown",
      "metadata": {
        "id": "kkhN5vXJgLN5"
      },
      "source": [
        "##Install Dependencies"
      ]
    },
    {
      "cell_type": "code",
      "metadata": {
        "id": "zAGXYqxLgGVB",
        "colab": {
          "base_uri": "https://localhost:8080/"
        },
        "outputId": "17998d4b-4cce-46bb-fba7-ef62e8ccb4c9"
      },
      "source": [
        "!pip install gensim\n",
        "from gensim.models import KeyedVectors\n",
        "import numpy as np\n"
      ],
      "execution_count": 1,
      "outputs": [
        {
          "output_type": "stream",
          "text": [
            "Requirement already satisfied: gensim in /usr/local/lib/python3.6/dist-packages (3.6.0)\n",
            "Requirement already satisfied: smart-open>=1.2.1 in /usr/local/lib/python3.6/dist-packages (from gensim) (4.0.1)\n",
            "Requirement already satisfied: numpy>=1.11.3 in /usr/local/lib/python3.6/dist-packages (from gensim) (1.19.4)\n",
            "Requirement already satisfied: scipy>=0.18.1 in /usr/local/lib/python3.6/dist-packages (from gensim) (1.4.1)\n",
            "Requirement already satisfied: six>=1.5.0 in /usr/local/lib/python3.6/dist-packages (from gensim) (1.15.0)\n"
          ],
          "name": "stdout"
        }
      ]
    },
    {
      "cell_type": "markdown",
      "metadata": {
        "id": "m6ztl7jugHQz"
      },
      "source": [
        "##Download Google News Vectors"
      ]
    },
    {
      "cell_type": "code",
      "metadata": {
        "id": "qYZ09121e4CO",
        "colab": {
          "base_uri": "https://localhost:8080/"
        },
        "outputId": "f6534331-a3e3-4ab1-c00b-aac2d1c426bb"
      },
      "source": [
        "!wget -P /root/vectors/ -c \"https://s3.amazonaws.com/dl4j-distribution/GoogleNews-vectors-negative300.bin.gz\""
      ],
      "execution_count": 2,
      "outputs": [
        {
          "output_type": "stream",
          "text": [
            "--2021-01-04 15:43:26--  https://s3.amazonaws.com/dl4j-distribution/GoogleNews-vectors-negative300.bin.gz\n",
            "Resolving s3.amazonaws.com (s3.amazonaws.com)... 52.217.66.182\n",
            "Connecting to s3.amazonaws.com (s3.amazonaws.com)|52.217.66.182|:443... connected.\n",
            "HTTP request sent, awaiting response... 200 OK\n",
            "Length: 1647046227 (1.5G) [application/x-gzip]\n",
            "Saving to: ‘/root/vectors/GoogleNews-vectors-negative300.bin.gz’\n",
            "\n",
            "GoogleNews-vectors- 100%[===================>]   1.53G  85.1MB/s    in 23s     \n",
            "\n",
            "2021-01-04 15:43:49 (67.3 MB/s) - ‘/root/vectors/GoogleNews-vectors-negative300.bin.gz’ saved [1647046227/1647046227]\n",
            "\n"
          ],
          "name": "stdout"
        }
      ]
    },
    {
      "cell_type": "code",
      "metadata": {
        "id": "Ym8M2wjkf2_e",
        "colab": {
          "base_uri": "https://localhost:8080/"
        },
        "outputId": "619b6994-ef35-4b60-fb5f-0a57bf9c732c"
      },
      "source": [
        "GOOGLE_NEWS_VECTORS = '/root/vectors/GoogleNews-vectors-negative300.bin.gz'\n",
        "word2vec = KeyedVectors.load_word2vec_format(GOOGLE_NEWS_VECTORS, binary=True)\n",
        "print(\"Vectors loaded successfully: \"+str(len(word2vec.vocab)))"
      ],
      "execution_count": 3,
      "outputs": [
        {
          "output_type": "stream",
          "text": [
            "Vectors loaded successfully: 3000000\n"
          ],
          "name": "stdout"
        }
      ]
    },
    {
      "cell_type": "markdown",
      "metadata": {
        "id": "ZFmdRGqYqRkA"
      },
      "source": [
        "##Vectors"
      ]
    },
    {
      "cell_type": "markdown",
      "metadata": {
        "id": "dtYvQpMbq-mh"
      },
      "source": [
        "Example Sentences:\n",
        "\n",
        "*   `Winter` is coming.\n",
        "*   Any `man` who must say \"I am the `king`\" is no true `king`.\n",
        "\n",
        "\n"
      ]
    },
    {
      "cell_type": "code",
      "metadata": {
        "id": "dfGxMs9CsZof",
        "colab": {
          "base_uri": "https://localhost:8080/"
        },
        "outputId": "9df4c1fd-e8fb-4e87-d2ab-85e08917f30c"
      },
      "source": [
        "keywords = [[\"winter\"], [\"man\"], [\"king\"]]\n",
        "\n",
        "for w in keywords:\n",
        "  word = w[0]\n",
        "  print(\"Word: \"+word)\n",
        "  vector = word2vec.get_vector(word)\n",
        "  print(\"Vector length: {}\".format(len(vector)))\n",
        "  print(vector)"
      ],
      "execution_count": 8,
      "outputs": [
        {
          "output_type": "stream",
          "text": [
            "Word: winter\n",
            "Vector length: 300\n",
            "[-0.05883789  0.33789062 -0.13769531 -0.05664062  0.01940918  0.00175476\n",
            " -0.02478027 -0.10009766 -0.01953125  0.18164062 -0.0625     -0.13867188\n",
            " -0.01306152  0.06835938  0.03198242 -0.10546875 -0.10888672  0.03393555\n",
            "  0.12402344 -0.18164062 -0.00273132  0.3125     -0.08886719 -0.16113281\n",
            " -0.06689453 -0.03833008  0.15820312  0.12451172 -0.00227356  0.09472656\n",
            " -0.10253906  0.1015625   0.25976562  0.21484375 -0.15136719 -0.1484375\n",
            " -0.25976562 -0.37695312 -0.22460938  0.00909424  0.3515625  -0.25976562\n",
            "  0.25390625 -0.01574707 -0.18847656 -0.00306702  0.08447266  0.11132812\n",
            " -0.09716797  0.3046875   0.09521484 -0.12890625 -0.10205078  0.06494141\n",
            "  0.01660156 -0.01660156 -0.05859375  0.07421875  0.06445312 -0.10986328\n",
            " -0.21972656 -0.08544922  0.00756836 -0.08007812  0.07568359  0.15429688\n",
            " -0.04589844  0.02990723 -0.08056641 -0.00897217  0.35351562 -0.03515625\n",
            " -0.16308594  0.07373047  0.00375366  0.18066406 -0.06835938 -0.02758789\n",
            " -0.13378906 -0.06396484  0.09863281 -0.09960938 -0.24316406 -0.12402344\n",
            " -0.10839844  0.24902344 -0.24609375  0.0480957   0.15136719  0.29882812\n",
            " -0.05883789  0.08251953 -0.14941406 -0.17382812 -0.22558594 -0.15722656\n",
            "  0.16699219 -0.03540039  0.21484375 -0.24511719  0.08251953 -0.12695312\n",
            " -0.17871094  0.22460938 -0.08544922 -0.15625    -0.02294922  0.26171875\n",
            " -0.31445312 -0.10986328 -0.07421875 -0.13574219  0.20019531  0.03393555\n",
            "  0.2734375   0.11230469  0.328125   -0.0057373  -0.14453125  0.16210938\n",
            " -0.22753906 -0.10449219 -0.18164062  0.03149414  0.19238281  0.13671875\n",
            " -0.06787109  0.12890625 -0.22460938  0.04223633 -0.09033203  0.01373291\n",
            " -0.00177765 -0.1328125  -0.09228516 -0.18847656  0.08349609  0.03955078\n",
            " -0.19433594  0.20507812  0.10595703 -0.04223633  0.14355469  0.01977539\n",
            "  0.14550781 -0.10595703 -0.01171875 -0.07275391 -0.08496094 -0.125\n",
            "  0.19335938  0.07666016  0.02905273  0.0625      0.06396484 -0.2890625\n",
            "  0.33398438 -0.09423828  0.07666016  0.32226562 -0.01159668  0.00854492\n",
            "  0.13574219  0.00537109  0.05053711  0.03930664 -0.13964844  0.04321289\n",
            "  0.28710938 -0.03076172 -0.2265625   0.11035156 -0.16113281 -0.19628906\n",
            "  0.05200195  0.03295898  0.09423828 -0.06787109 -0.19824219  0.1171875\n",
            " -0.27929688 -0.09960938  0.06005859  0.09179688 -0.03540039 -0.16503906\n",
            " -0.04882812 -0.16992188  0.31640625  0.20605469 -0.05151367  0.08300781\n",
            "  0.26757812  0.12353516 -0.01708984  0.13769531  0.33007812  0.08251953\n",
            " -0.23535156  0.19824219  0.2734375  -0.05639648 -0.23339844  0.04296875\n",
            " -0.09082031 -0.19921875  0.07324219 -0.07080078 -0.07910156  0.17578125\n",
            " -0.15625    -0.08837891 -0.16503906  0.04125977 -0.20605469  0.05786133\n",
            "  0.16699219 -0.02392578 -0.04345703 -0.01916504  0.05566406 -0.11279297\n",
            "  0.16894531  0.06201172 -0.012146   -0.12255859  0.07128906 -0.09667969\n",
            " -0.29492188  0.0201416  -0.19042969  0.2578125   0.03857422  0.11425781\n",
            " -0.11523438  0.03295898  0.14257812 -0.22753906  0.0625     -0.15039062\n",
            " -0.06298828  0.03857422 -0.02856445 -0.23730469 -0.10058594 -0.08642578\n",
            "  0.19433594 -0.18652344 -0.00106812  0.01599121 -0.06738281 -0.00242615\n",
            "  0.0246582   0.06689453  0.26171875  0.1484375   0.03613281  0.10302734\n",
            " -0.359375    0.16601562 -0.0168457  -0.1484375  -0.10595703 -0.03466797\n",
            "  0.01757812  0.16601562 -0.21875     0.26953125  0.11279297 -0.12792969\n",
            "  0.19140625  0.37109375  0.16210938  0.02404785 -0.08056641 -0.08007812\n",
            "  0.03857422  0.10302734 -0.02111816  0.04833984  0.23535156  0.18066406\n",
            "  0.375      -0.01879883  0.08105469 -0.12792969 -0.11669922  0.22265625\n",
            "  0.11328125  0.09228516 -0.0234375  -0.14160156 -0.19824219  0.11279297\n",
            "  0.14550781 -0.07763672 -0.00982666  0.35546875  0.37890625 -0.04833984]\n",
            "Word: man\n",
            "Vector length: 300\n",
            "[ 0.32617188  0.13085938  0.03466797 -0.08300781  0.08984375 -0.04125977\n",
            " -0.19824219  0.00689697  0.14355469  0.0019455   0.02880859 -0.25\n",
            " -0.08398438 -0.15136719 -0.10205078  0.04077148 -0.09765625  0.05932617\n",
            "  0.02978516 -0.10058594 -0.13085938  0.001297    0.02612305 -0.27148438\n",
            "  0.06396484 -0.19140625 -0.078125    0.25976562  0.375      -0.04541016\n",
            "  0.16210938  0.13671875 -0.06396484 -0.02062988 -0.09667969  0.25390625\n",
            "  0.24804688 -0.12695312  0.07177734  0.3203125   0.03149414 -0.03857422\n",
            "  0.21191406 -0.00811768  0.22265625 -0.13476562 -0.07617188  0.01049805\n",
            " -0.05175781  0.03808594 -0.13378906  0.125       0.0559082  -0.18261719\n",
            "  0.08154297 -0.08447266 -0.07763672 -0.04345703  0.08105469 -0.01092529\n",
            "  0.17480469  0.30664062 -0.04321289 -0.01416016  0.09082031 -0.00927734\n",
            " -0.03442383 -0.11523438  0.12451172 -0.0246582   0.08544922  0.14355469\n",
            " -0.27734375  0.03662109 -0.11035156  0.13085938 -0.01721191 -0.08056641\n",
            " -0.00708008 -0.02954102  0.30078125 -0.09033203  0.03149414 -0.18652344\n",
            " -0.11181641  0.10253906 -0.25976562 -0.02209473  0.16796875 -0.05322266\n",
            " -0.14550781 -0.01049805 -0.03039551 -0.03857422  0.11523438 -0.0062561\n",
            " -0.13964844  0.08007812  0.06103516 -0.15332031 -0.11132812 -0.14160156\n",
            "  0.19824219 -0.06933594  0.29296875 -0.16015625  0.20898438  0.00041771\n",
            "  0.01831055 -0.20214844  0.04760742  0.05810547 -0.0123291  -0.01989746\n",
            " -0.00364685 -0.0135498  -0.08251953 -0.03149414  0.00717163  0.20117188\n",
            "  0.08300781 -0.0480957  -0.26367188 -0.09667969 -0.22558594 -0.09667969\n",
            "  0.06494141 -0.02502441  0.08496094  0.03198242 -0.07568359 -0.25390625\n",
            " -0.11669922 -0.01446533 -0.16015625 -0.00701904 -0.05712891  0.02807617\n",
            " -0.09179688  0.25195312  0.24121094  0.06640625  0.12988281  0.17089844\n",
            " -0.13671875  0.1875     -0.10009766 -0.04199219 -0.12011719  0.00524902\n",
            "  0.15625    -0.203125   -0.07128906 -0.06103516  0.01635742  0.18261719\n",
            "  0.03588867 -0.04248047  0.16796875 -0.15039062 -0.16992188  0.01831055\n",
            "  0.27734375 -0.01269531 -0.0390625  -0.15429688  0.18457031 -0.07910156\n",
            "  0.09033203 -0.02709961  0.08251953  0.06738281 -0.16113281 -0.19628906\n",
            " -0.15234375 -0.04711914  0.04760742  0.05908203 -0.16894531 -0.14941406\n",
            "  0.12988281  0.04321289  0.02624512 -0.1796875  -0.19628906  0.06445312\n",
            "  0.08935547  0.1640625  -0.03808594 -0.09814453 -0.01483154  0.1875\n",
            "  0.12792969  0.22753906  0.01818848 -0.07958984 -0.11376953 -0.06933594\n",
            " -0.15527344 -0.08105469 -0.09277344 -0.11328125 -0.15136719 -0.08007812\n",
            " -0.05126953 -0.15332031  0.11669922  0.06835938  0.0324707  -0.33984375\n",
            " -0.08154297 -0.08349609  0.04003906  0.04907227 -0.24121094 -0.13476562\n",
            " -0.05932617  0.12158203 -0.34179688  0.16503906  0.06176758 -0.18164062\n",
            "  0.20117188 -0.07714844  0.1640625   0.00402832  0.30273438 -0.10009766\n",
            " -0.13671875 -0.05957031  0.0625     -0.21289062 -0.06542969  0.1796875\n",
            " -0.07763672 -0.01928711 -0.15039062 -0.00106049  0.03417969  0.03344727\n",
            "  0.19335938  0.01965332 -0.19921875 -0.10644531  0.01525879  0.00927734\n",
            "  0.01416016 -0.02392578  0.05883789  0.02368164  0.125       0.04760742\n",
            " -0.05566406  0.11572266  0.14746094  0.1015625  -0.07128906 -0.07714844\n",
            " -0.12597656  0.0291748   0.09521484 -0.12402344 -0.109375   -0.12890625\n",
            "  0.16308594  0.28320312 -0.03149414  0.12304688 -0.23242188 -0.09375\n",
            " -0.12988281  0.0135498  -0.03881836 -0.08251953  0.00897217  0.16308594\n",
            "  0.10546875 -0.13867188 -0.16503906 -0.03857422  0.10839844 -0.10498047\n",
            "  0.06396484  0.38867188 -0.05981445 -0.0612793  -0.10449219 -0.16796875\n",
            "  0.07177734  0.13964844  0.15527344 -0.03125    -0.20214844 -0.12988281\n",
            " -0.10058594 -0.06396484 -0.08349609 -0.30273438 -0.08007812  0.02099609]\n",
            "Word: king\n",
            "Vector length: 300\n",
            "[ 1.25976562e-01  2.97851562e-02  8.60595703e-03  1.39648438e-01\n",
            " -2.56347656e-02 -3.61328125e-02  1.11816406e-01 -1.98242188e-01\n",
            "  5.12695312e-02  3.63281250e-01 -2.42187500e-01 -3.02734375e-01\n",
            " -1.77734375e-01 -2.49023438e-02 -1.67968750e-01 -1.69921875e-01\n",
            "  3.46679688e-02  5.21850586e-03  4.63867188e-02  1.28906250e-01\n",
            "  1.36718750e-01  1.12792969e-01  5.95703125e-02  1.36718750e-01\n",
            "  1.01074219e-01 -1.76757812e-01 -2.51953125e-01  5.98144531e-02\n",
            "  3.41796875e-01 -3.11279297e-02  1.04492188e-01  6.17675781e-02\n",
            "  1.24511719e-01  4.00390625e-01 -3.22265625e-01  8.39843750e-02\n",
            "  3.90625000e-02  5.85937500e-03  7.03125000e-02  1.72851562e-01\n",
            "  1.38671875e-01 -2.31445312e-01  2.83203125e-01  1.42578125e-01\n",
            "  3.41796875e-01 -2.39257812e-02 -1.09863281e-01  3.32031250e-02\n",
            " -5.46875000e-02  1.53198242e-02 -1.62109375e-01  1.58203125e-01\n",
            " -2.59765625e-01  2.01416016e-02 -1.63085938e-01  1.35803223e-03\n",
            " -1.44531250e-01 -5.68847656e-02  4.29687500e-02 -2.46582031e-02\n",
            "  1.85546875e-01  4.47265625e-01  9.58251953e-03  1.31835938e-01\n",
            "  9.86328125e-02 -1.85546875e-01 -1.00097656e-01 -1.33789062e-01\n",
            " -1.25000000e-01  2.83203125e-01  1.23046875e-01  5.32226562e-02\n",
            " -1.77734375e-01  8.59375000e-02 -2.18505859e-02  2.05078125e-02\n",
            " -1.39648438e-01  2.51464844e-02  1.38671875e-01 -1.05468750e-01\n",
            "  1.38671875e-01  8.88671875e-02 -7.51953125e-02 -2.13623047e-02\n",
            "  1.72851562e-01  4.63867188e-02 -2.65625000e-01  8.91113281e-03\n",
            "  1.49414062e-01  3.78417969e-02  2.38281250e-01 -1.24511719e-01\n",
            " -2.17773438e-01 -1.81640625e-01  2.97851562e-02  5.71289062e-02\n",
            " -2.89306641e-02  1.24511719e-02  9.66796875e-02 -2.31445312e-01\n",
            "  5.81054688e-02  6.68945312e-02  7.08007812e-02 -3.08593750e-01\n",
            " -2.14843750e-01  1.45507812e-01 -4.27734375e-01 -9.39941406e-03\n",
            "  1.54296875e-01 -7.66601562e-02  2.89062500e-01  2.77343750e-01\n",
            " -4.86373901e-04 -1.36718750e-01  3.24218750e-01 -2.46093750e-01\n",
            " -3.03649902e-03 -2.11914062e-01  1.25000000e-01  2.69531250e-01\n",
            "  2.04101562e-01  8.25195312e-02 -2.01171875e-01 -1.60156250e-01\n",
            " -3.78417969e-02 -1.20117188e-01  1.15234375e-01 -4.10156250e-02\n",
            " -3.95507812e-02 -8.98437500e-02  6.34765625e-03  2.03125000e-01\n",
            "  1.86523438e-01  2.73437500e-01  6.29882812e-02  1.41601562e-01\n",
            " -9.81445312e-02  1.38671875e-01  1.82617188e-01  1.73828125e-01\n",
            "  1.73828125e-01 -2.37304688e-01  1.78710938e-01  6.34765625e-02\n",
            "  2.36328125e-01 -2.08984375e-01  8.74023438e-02 -1.66015625e-01\n",
            " -7.91015625e-02  2.43164062e-01 -8.88671875e-02  1.26953125e-01\n",
            " -2.16796875e-01 -1.73828125e-01 -3.59375000e-01 -8.25195312e-02\n",
            " -6.49414062e-02  5.07812500e-02  1.35742188e-01 -7.47070312e-02\n",
            " -1.64062500e-01  1.15356445e-02  4.45312500e-01 -2.15820312e-01\n",
            " -1.11328125e-01 -1.92382812e-01  1.70898438e-01 -1.25000000e-01\n",
            "  2.65502930e-03  1.92382812e-01 -1.74804688e-01  1.39648438e-01\n",
            "  2.92968750e-01  1.13281250e-01  5.95703125e-02 -6.39648438e-02\n",
            "  9.96093750e-02 -2.72216797e-02  1.96533203e-02  4.27246094e-02\n",
            " -2.46093750e-01  6.39648438e-02 -2.25585938e-01 -1.68945312e-01\n",
            "  2.89916992e-03  8.20312500e-02  3.41796875e-01  4.32128906e-02\n",
            "  1.32812500e-01  1.42578125e-01  7.61718750e-02  5.98144531e-02\n",
            " -1.19140625e-01  2.74658203e-03 -6.29882812e-02 -2.72216797e-02\n",
            " -4.82177734e-03 -8.20312500e-02 -2.49023438e-02 -4.00390625e-01\n",
            " -1.06933594e-01  4.24804688e-02  7.76367188e-02 -1.16699219e-01\n",
            "  7.37304688e-02 -9.22851562e-02  1.07910156e-01  1.58203125e-01\n",
            "  4.24804688e-02  1.26953125e-01  3.61328125e-02  2.67578125e-01\n",
            " -1.01074219e-01 -3.02734375e-01 -5.76171875e-02  5.05371094e-02\n",
            "  5.26428223e-04 -2.07031250e-01 -1.38671875e-01 -8.97216797e-03\n",
            " -2.78320312e-02 -1.41601562e-01  2.07031250e-01 -1.58203125e-01\n",
            "  1.27929688e-01  1.49414062e-01 -2.24609375e-02 -8.44726562e-02\n",
            "  1.22558594e-01  2.15820312e-01 -2.13867188e-01 -3.12500000e-01\n",
            " -3.73046875e-01  4.08935547e-03  1.07421875e-01  1.06933594e-01\n",
            "  7.32421875e-02  8.97216797e-03 -3.88183594e-02 -1.29882812e-01\n",
            "  1.49414062e-01 -2.14843750e-01 -1.83868408e-03  9.91210938e-02\n",
            "  1.57226562e-01 -1.14257812e-01 -2.05078125e-01  9.91210938e-02\n",
            "  3.69140625e-01 -1.97265625e-01  3.54003906e-02  1.09375000e-01\n",
            "  1.31835938e-01  1.66992188e-01  2.35351562e-01  1.04980469e-01\n",
            " -4.96093750e-01 -1.64062500e-01 -1.56250000e-01 -5.22460938e-02\n",
            "  1.03027344e-01  2.43164062e-01 -1.88476562e-01  5.07812500e-02\n",
            " -9.37500000e-02 -6.68945312e-02  2.27050781e-02  7.61718750e-02\n",
            "  2.89062500e-01  3.10546875e-01 -5.37109375e-02  2.28515625e-01\n",
            "  2.51464844e-02  6.78710938e-02 -1.21093750e-01 -2.15820312e-01\n",
            " -2.73437500e-01 -3.07617188e-02 -3.37890625e-01  1.53320312e-01\n",
            "  2.33398438e-01 -2.08007812e-01  3.73046875e-01  8.20312500e-02\n",
            "  2.51953125e-01 -7.61718750e-02 -4.66308594e-02 -2.23388672e-02\n",
            "  2.99072266e-02 -5.93261719e-02 -4.66918945e-03 -2.44140625e-01\n",
            " -2.09960938e-01 -2.87109375e-01 -4.54101562e-02 -1.77734375e-01\n",
            " -2.79296875e-01 -8.59375000e-02  9.13085938e-02  2.51953125e-01]\n"
          ],
          "name": "stdout"
        }
      ]
    },
    {
      "cell_type": "markdown",
      "metadata": {
        "id": "hvn4RpfEin7s"
      },
      "source": [
        "##Cosine Similarity\n",
        "\n"
      ]
    },
    {
      "cell_type": "markdown",
      "metadata": {
        "id": "XUQDRn3Ah49h"
      },
      "source": [
        "Consine Similarity formula: \n",
        "\n",
        "$\\text{cos}(a,b) = \\frac{a \\cdot b}{||a|| \\cdot  ||b||}$"
      ]
    },
    {
      "cell_type": "code",
      "metadata": {
        "id": "JMqYExDNhqsA",
        "colab": {
          "base_uri": "https://localhost:8080/"
        },
        "outputId": "f396d5fc-4f7d-411c-91b6-c913144e1a48"
      },
      "source": [
        "def cosine_similarity(x1, x2):\n",
        "  return np.round(np.dot(x1, x2)/(np.linalg.norm(x1)*np.linalg.norm(x2)),5)\n",
        "print(cosine_similarity(word2vec.get_vector(\"winter\"), word2vec.get_vector(\"summer\")))"
      ],
      "execution_count": 9,
      "outputs": [
        {
          "output_type": "stream",
          "text": [
            "0.71555\n"
          ],
          "name": "stdout"
        }
      ]
    },
    {
      "cell_type": "code",
      "metadata": {
        "id": "YRVv4mf6hLjJ",
        "colab": {
          "base_uri": "https://localhost:8080/"
        },
        "outputId": "a3f9aeba-3565-4abf-a199-1c7bcdb05bfd"
      },
      "source": [
        "word2vec.similarity(\"winter\",\"summer\")"
      ],
      "execution_count": 10,
      "outputs": [
        {
          "output_type": "execute_result",
          "data": {
            "text/plain": [
              "0.7155519"
            ]
          },
          "metadata": {
            "tags": []
          },
          "execution_count": 10
        }
      ]
    },
    {
      "cell_type": "markdown",
      "metadata": {
        "id": "Sx3LPs2FI6mw"
      },
      "source": [
        "##Similar Words"
      ]
    },
    {
      "cell_type": "code",
      "metadata": {
        "id": "eLAVZuBfgaYh",
        "colab": {
          "base_uri": "https://localhost:8080/"
        },
        "outputId": "657b6d40-a49c-4b76-e51a-549c1dc2fcaf"
      },
      "source": [
        "for w in keywords:\n",
        "  print(word2vec.most_similar(positive=w, topn = 10))\n"
      ],
      "execution_count": 11,
      "outputs": [
        {
          "output_type": "stream",
          "text": [
            "[('summer', 0.7155519127845764), ('winters', 0.7001105546951294), ('wintertime', 0.6972676515579224), ('spring', 0.6890672445297241), ('springtime', 0.6532734632492065), ('summertime', 0.6273113489151001), ('autumn', 0.6269329786300659), ('Groundhog_predicts', 0.6260344982147217), ('midwinter', 0.6233881711959839), ('warmer_weather', 0.6034383177757263)]\n",
            "[('woman', 0.7664012908935547), ('boy', 0.6824870109558105), ('teenager', 0.6586930155754089), ('teenage_girl', 0.6147903800010681), ('girl', 0.5921714305877686), ('suspected_purse_snatcher', 0.5716364979743958), ('robber', 0.5585119128227234), ('Robbery_suspect', 0.5584409236907959), ('teen_ager', 0.5549196600914001), ('men', 0.5489763021469116)]\n",
            "[('kings', 0.7138046026229858), ('queen', 0.6510956883430481), ('monarch', 0.6413194537162781), ('crown_prince', 0.6204220056533813), ('prince', 0.6159993410110474), ('sultan', 0.5864822864532471), ('ruler', 0.5797567367553711), ('princes', 0.5646552443504333), ('Prince_Paras', 0.543294370174408), ('throne', 0.5422104597091675)]\n"
          ],
          "name": "stdout"
        }
      ]
    },
    {
      "cell_type": "markdown",
      "metadata": {
        "id": "4o3WD5SNSmCz"
      },
      "source": [
        "##References\n",
        "\n",
        "\n",
        "\n",
        "\n"
      ]
    },
    {
      "cell_type": "markdown",
      "metadata": {
        "id": "A3CYp8kOVzzA"
      },
      "source": [
        "*   [Efficient estimation of word representations in vector space](https://arxiv.org/pdf/1301.3781.pdf) \n",
        "*   [Word embeddings](https://https://en.wikipedia.org/wiki/Word_embedding) \n",
        "*   [Cosine Similarity](https://en.wikipedia.org/wiki/Cosine_similarity)\n",
        "*   [Gensim](https://github.com/RaRe-Technologies/gensim) "
      ]
    },
    {
      "cell_type": "markdown",
      "metadata": {
        "id": "iNNUc4QNF7-m"
      },
      "source": [
        "# **Data Augmentation using Back Translation**"
      ]
    },
    {
      "cell_type": "markdown",
      "metadata": {
        "id": "crQJhf0WGMyd"
      },
      "source": [
        "# Install Dependencies"
      ]
    },
    {
      "cell_type": "code",
      "metadata": {
        "colab": {
          "base_uri": "https://localhost:8080/"
        },
        "id": "nAufJyvzGOXY",
        "outputId": "50ca2f06-6a9f-4a92-c28d-21f988ed0949"
      },
      "source": [
        "!pip install fastBPE sacremoses subword_nmt hydra_core\r\n",
        "import torch"
      ],
      "execution_count": 12,
      "outputs": [
        {
          "output_type": "stream",
          "text": [
            "Collecting fastBPE\n",
            "  Downloading https://files.pythonhosted.org/packages/e1/37/f97181428a5d151501b90b2cebedf97c81b034ace753606a3cda5ad4e6e2/fastBPE-0.1.0.tar.gz\n",
            "Collecting sacremoses\n",
            "\u001b[?25l  Downloading https://files.pythonhosted.org/packages/7d/34/09d19aff26edcc8eb2a01bed8e98f13a1537005d31e95233fd48216eed10/sacremoses-0.0.43.tar.gz (883kB)\n",
            "\u001b[K     |████████████████████████████████| 890kB 21.6MB/s \n",
            "\u001b[?25hCollecting subword_nmt\n",
            "  Downloading https://files.pythonhosted.org/packages/74/60/6600a7bc09e7ab38bc53a48a20d8cae49b837f93f5842a41fe513a694912/subword_nmt-0.3.7-py2.py3-none-any.whl\n",
            "Collecting hydra_core\n",
            "\u001b[?25l  Downloading https://files.pythonhosted.org/packages/f0/1f/7f502b9e37596164111655861370b08626f46f9e4524433c354f472765d4/hydra_core-1.0.4-py3-none-any.whl (122kB)\n",
            "\u001b[K     |████████████████████████████████| 122kB 38.0MB/s \n",
            "\u001b[?25hRequirement already satisfied: regex in /usr/local/lib/python3.6/dist-packages (from sacremoses) (2019.12.20)\n",
            "Requirement already satisfied: six in /usr/local/lib/python3.6/dist-packages (from sacremoses) (1.15.0)\n",
            "Requirement already satisfied: click in /usr/local/lib/python3.6/dist-packages (from sacremoses) (7.1.2)\n",
            "Requirement already satisfied: joblib in /usr/local/lib/python3.6/dist-packages (from sacremoses) (1.0.0)\n",
            "Requirement already satisfied: tqdm in /usr/local/lib/python3.6/dist-packages (from sacremoses) (4.41.1)\n",
            "Collecting omegaconf>=2.0.5\n",
            "  Downloading https://files.pythonhosted.org/packages/e5/f6/043b6d255dd6fbf2025110cea35b87f4c5100a181681d8eab496269f0d5b/omegaconf-2.0.5-py3-none-any.whl\n",
            "Collecting antlr4-python3-runtime==4.8\n",
            "\u001b[?25l  Downloading https://files.pythonhosted.org/packages/56/02/789a0bddf9c9b31b14c3e79ec22b9656185a803dc31c15f006f9855ece0d/antlr4-python3-runtime-4.8.tar.gz (112kB)\n",
            "\u001b[K     |████████████████████████████████| 112kB 50.3MB/s \n",
            "\u001b[?25hRequirement already satisfied: importlib-resources; python_version < \"3.9\" in /usr/local/lib/python3.6/dist-packages (from hydra_core) (3.3.0)\n",
            "Requirement already satisfied: typing-extensions in /usr/local/lib/python3.6/dist-packages (from omegaconf>=2.0.5->hydra_core) (3.7.4.3)\n",
            "Collecting PyYAML>=5.1.*\n",
            "\u001b[?25l  Downloading https://files.pythonhosted.org/packages/64/c2/b80047c7ac2478f9501676c988a5411ed5572f35d1beff9cae07d321512c/PyYAML-5.3.1.tar.gz (269kB)\n",
            "\u001b[K     |████████████████████████████████| 276kB 35.6MB/s \n",
            "\u001b[?25hRequirement already satisfied: dataclasses; python_version == \"3.6\" in /usr/local/lib/python3.6/dist-packages (from omegaconf>=2.0.5->hydra_core) (0.8)\n",
            "Requirement already satisfied: zipp>=0.4; python_version < \"3.8\" in /usr/local/lib/python3.6/dist-packages (from importlib-resources; python_version < \"3.9\"->hydra_core) (3.4.0)\n",
            "Building wheels for collected packages: fastBPE, sacremoses, antlr4-python3-runtime, PyYAML\n",
            "  Building wheel for fastBPE (setup.py) ... \u001b[?25l\u001b[?25hdone\n",
            "  Created wheel for fastBPE: filename=fastBPE-0.1.0-cp36-cp36m-linux_x86_64.whl size=481516 sha256=96d2be5f81e1ddfe1d2db869e98b4439ec714782a82eea0e45da5e2f9054c6af\n",
            "  Stored in directory: /root/.cache/pip/wheels/f3/0c/9c/fc62058b4d473a5602bcd3d3edfece796f123875379ea82d79\n",
            "  Building wheel for sacremoses (setup.py) ... \u001b[?25l\u001b[?25hdone\n",
            "  Created wheel for sacremoses: filename=sacremoses-0.0.43-cp36-none-any.whl size=893261 sha256=594ea70d1cb445cb9424d0067c5399c0714baba11585440cb417a19b6eddb7ab\n",
            "  Stored in directory: /root/.cache/pip/wheels/29/3c/fd/7ce5c3f0666dab31a50123635e6fb5e19ceb42ce38d4e58f45\n",
            "  Building wheel for antlr4-python3-runtime (setup.py) ... \u001b[?25l\u001b[?25hdone\n",
            "  Created wheel for antlr4-python3-runtime: filename=antlr4_python3_runtime-4.8-cp36-none-any.whl size=141231 sha256=9ab4b954d747d5a895fb373d0584784b6a4573c2392d6907d1c6a88c37204033\n",
            "  Stored in directory: /root/.cache/pip/wheels/e3/e2/fa/b78480b448b8579ddf393bebd3f47ee23aa84c89b6a78285c8\n",
            "  Building wheel for PyYAML (setup.py) ... \u001b[?25l\u001b[?25hdone\n",
            "  Created wheel for PyYAML: filename=PyYAML-5.3.1-cp36-cp36m-linux_x86_64.whl size=44621 sha256=e8f69490620f38c9555a12b70a52e6ad9bbdfcf66f9c99b1fcbbf7cb1732ce66\n",
            "  Stored in directory: /root/.cache/pip/wheels/a7/c1/ea/cf5bd31012e735dc1dfea3131a2d5eae7978b251083d6247bd\n",
            "Successfully built fastBPE sacremoses antlr4-python3-runtime PyYAML\n",
            "Installing collected packages: fastBPE, sacremoses, subword-nmt, PyYAML, omegaconf, antlr4-python3-runtime, hydra-core\n",
            "  Found existing installation: PyYAML 3.13\n",
            "    Uninstalling PyYAML-3.13:\n",
            "      Successfully uninstalled PyYAML-3.13\n",
            "Successfully installed PyYAML-5.3.1 antlr4-python3-runtime-4.8 fastBPE-0.1.0 hydra-core-1.0.4 omegaconf-2.0.5 sacremoses-0.0.43 subword-nmt-0.3.7\n"
          ],
          "name": "stdout"
        }
      ]
    },
    {
      "cell_type": "markdown",
      "metadata": {
        "id": "UmOke3iuGWUO"
      },
      "source": [
        "# Load Translation Models"
      ]
    },
    {
      "cell_type": "code",
      "metadata": {
        "id": "B2EvRpUdSJ2T"
      },
      "source": [
        "english_to_german = torch.hub.load('pytorch/fairseq', 'transformer.wmt19.en-de.single_model', tokenizer='moses', bpe='fastbpe')\r\n"
      ],
      "execution_count": null,
      "outputs": []
    },
    {
      "cell_type": "markdown",
      "metadata": {
        "id": "TgH4T_KTGjF3"
      },
      "source": [
        "# Apply Translation"
      ]
    },
    {
      "cell_type": "code",
      "metadata": {
        "colab": {
          "base_uri": "https://localhost:8080/"
        },
        "id": "UFnpw2z4GnMp",
        "outputId": "d53d00ed-0468-4eb0-e0c4-5a3b500cbd31"
      },
      "source": [
        "input = \"back translation is one of the best data augmentation techniques\"\r\n",
        "result = english_to_german.generate(english_to_german.encode(input), beam=10)\r\n",
        "for r in result:\r\n",
        "  output = english_to_german.decode(r['tokens'])\r\n",
        "  print(output)"
      ],
      "execution_count": 11,
      "outputs": [
        {
          "output_type": "stream",
          "text": [
            "Rückübersetzung ist eine der besten Techniken zur Datenvermehrung\n",
            "Rückübersetzung ist eine der besten Techniken zur Datenerweiterung\n",
            "Back Translation ist eine der besten Techniken zur Datenerweiterung\n",
            "Back Translation ist eine der besten Techniken zur Datenvermehrung\n",
            "Rückübersetzung ist eine der besten Techniken zur Datenvergrößerung\n",
            "Die Rückübersetzung ist eine der besten Techniken zur Datenvermehrung\n",
            "Die Rückübersetzung ist eine der besten Techniken zur Datenerweiterung\n",
            "Rückübersetzung ist eine der besten Methoden zur Datenvermehrung\n",
            "Back Translation ist eine der besten Methoden zur Datenerweiterung\n",
            "Zurück-Übersetzung ist eine der besten Techniken zur Datenvermehrung\n"
          ],
          "name": "stdout"
        }
      ]
    },
    {
      "cell_type": "markdown",
      "metadata": {
        "id": "zbGQ5snGG-4f"
      },
      "source": [
        "# Apply Backtranslation to augment dataset"
      ]
    },
    {
      "cell_type": "code",
      "metadata": {
        "colab": {
          "base_uri": "https://localhost:8080/"
        },
        "id": "xkx7ZCcyHC_q",
        "outputId": "c848c169-ce07-401e-91bf-f226df8204cb"
      },
      "source": [
        "german_to_english = torch.hub.load('pytorch/fairseq', 'transformer.wmt19.de-en.single_model', tokenizer='moses', bpe='fastbpe')"
      ],
      "execution_count": 12,
      "outputs": [
        {
          "output_type": "stream",
          "text": [
            "Using cache found in /root/.cache/torch/hub/pytorch_fairseq_master\n",
            "100%|██████████| 2992273886/2992273886 [01:52<00:00, 26699608.86B/s]\n"
          ],
          "name": "stderr"
        }
      ]
    },
    {
      "cell_type": "code",
      "metadata": {
        "colab": {
          "base_uri": "https://localhost:8080/"
        },
        "id": "jhJfXeh-HH0u",
        "outputId": "819f5e59-343d-415e-e615-1cc4eebfc785"
      },
      "source": [
        "data = [\"back translation is one of the best data augmentation techniques\"]\r\n",
        "\r\n",
        "def augment_data(data, x_to_y, y_to_x, n):\r\n",
        "  augmented_data = dict()\r\n",
        "  for d in data:\r\n",
        "    augmented_data[d] = list()\r\n",
        "    y_result = x_to_y.generate(x_to_y.encode(d), beam=n)\r\n",
        "    for y in y_result:\r\n",
        "      x_result = y_to_x.generate(y_to_x.encode(x_to_y.decode(y['tokens'])), beam=n)\r\n",
        "      for x in x_result:\r\n",
        "        augmented_data[d].append(y_to_x.decode(x['tokens']))\r\n",
        "  return augmented_data\r\n",
        "\r\n",
        "def print_data(data):\r\n",
        "  for inp, out in data.items():\r\n",
        "    print(inp + \":\")\r\n",
        "    for x in out:\r\n",
        "      print(\" \"+ x)\r\n",
        "\r\n",
        "result = augment_data(data, english_to_german, german_to_english, 3)\r\n",
        "\r\n",
        "print_data(result)\r\n"
      ],
      "execution_count": 13,
      "outputs": [
        {
          "output_type": "stream",
          "text": [
            "back translation is one of the best data augmentation techniques:\n",
            " Reverse translation is one of the best techniques for data reproduction\n",
            " Retranslation is one of the best techniques for data reproduction\n",
            " Re-translation is one of the best techniques for data reproduction\n",
            " Reverse translation is one of the best techniques for data expansion\n",
            " Reverse translation is one of the best techniques for data extension\n",
            " Reverse translation is one of the best techniques for extending data\n",
            " Back Translation is one of the best techniques for data expansion\n",
            " Back Translation is one of the best techniques for data extension\n",
            " Back translation is one of the best techniques for data expansion\n"
          ],
          "name": "stdout"
        }
      ]
    },
    {
      "cell_type": "markdown",
      "metadata": {
        "id": "K4f_3KSTTpdz"
      },
      "source": [
        "# Semantic Similarity with Universal Sentence Encoder"
      ]
    },
    {
      "cell_type": "markdown",
      "metadata": {
        "id": "hZC5CseZT5l1"
      },
      "source": [
        "# Install Dependencies"
      ]
    },
    {
      "cell_type": "code",
      "metadata": {
        "colab": {
          "base_uri": "https://localhost:8080/"
        },
        "id": "6eexPBaIT_cI",
        "outputId": "86c59174-d128-499c-965b-24d24ad8e0b2"
      },
      "source": [
        "!pip install seaborn\r\n",
        "from absl import logging\r\n",
        "import tensorflow as tf\r\n",
        "import tensorflow_hub as hub\r\n",
        "import matplotlib.pyplot as plt\r\n",
        "import numpy as np\r\n",
        "import seaborn as sns"
      ],
      "execution_count": 14,
      "outputs": [
        {
          "output_type": "stream",
          "text": [
            "Requirement already satisfied: seaborn in /usr/local/lib/python3.6/dist-packages (0.11.0)\n",
            "Requirement already satisfied: pandas>=0.23 in /usr/local/lib/python3.6/dist-packages (from seaborn) (1.1.5)\n",
            "Requirement already satisfied: matplotlib>=2.2 in /usr/local/lib/python3.6/dist-packages (from seaborn) (3.2.2)\n",
            "Requirement already satisfied: numpy>=1.15 in /usr/local/lib/python3.6/dist-packages (from seaborn) (1.19.4)\n",
            "Requirement already satisfied: scipy>=1.0 in /usr/local/lib/python3.6/dist-packages (from seaborn) (1.4.1)\n",
            "Requirement already satisfied: pytz>=2017.2 in /usr/local/lib/python3.6/dist-packages (from pandas>=0.23->seaborn) (2018.9)\n",
            "Requirement already satisfied: python-dateutil>=2.7.3 in /usr/local/lib/python3.6/dist-packages (from pandas>=0.23->seaborn) (2.8.1)\n",
            "Requirement already satisfied: cycler>=0.10 in /usr/local/lib/python3.6/dist-packages (from matplotlib>=2.2->seaborn) (0.10.0)\n",
            "Requirement already satisfied: kiwisolver>=1.0.1 in /usr/local/lib/python3.6/dist-packages (from matplotlib>=2.2->seaborn) (1.3.1)\n",
            "Requirement already satisfied: pyparsing!=2.0.4,!=2.1.2,!=2.1.6,>=2.0.1 in /usr/local/lib/python3.6/dist-packages (from matplotlib>=2.2->seaborn) (2.4.7)\n",
            "Requirement already satisfied: six>=1.5 in /usr/local/lib/python3.6/dist-packages (from python-dateutil>=2.7.3->pandas>=0.23->seaborn) (1.15.0)\n"
          ],
          "name": "stdout"
        }
      ]
    },
    {
      "cell_type": "markdown",
      "metadata": {
        "id": "yP171xqaUIAG"
      },
      "source": [
        "# Load Model"
      ]
    },
    {
      "cell_type": "code",
      "metadata": {
        "colab": {
          "base_uri": "https://localhost:8080/"
        },
        "id": "YhWP32M8URO-",
        "outputId": "d70b135d-606c-45fc-f0eb-b1781b982f58"
      },
      "source": [
        "use_url = \"https://tfhub.dev/google/universal-sentence-encoder/4\" \r\n",
        "model = hub.load(use_url)\r\n",
        "def get_embeddings(input):\r\n",
        "  return model(input)"
      ],
      "execution_count": 15,
      "outputs": [
        {
          "output_type": "stream",
          "text": [
            "INFO:absl:resolver HttpCompressedFileResolver does not support the provided handle.\n",
            "INFO:absl:resolver GcsCompressedFileResolver does not support the provided handle.\n"
          ],
          "name": "stderr"
        }
      ]
    },
    {
      "cell_type": "markdown",
      "metadata": {
        "id": "7bCQerEyUlLE"
      },
      "source": [
        "# Calculate Semantic Similarity"
      ]
    },
    {
      "cell_type": "code",
      "metadata": {
        "id": "9kUI3h-JUoDp"
      },
      "source": [
        "def plot_similarity(labels, embeddings, rotation):\r\n",
        "  corr = np.inner(embeddings, embeddings)\r\n",
        "  sns.set(font_scale=1.2)\r\n",
        "  plot = sns.heatmap(\r\n",
        "      corr,\r\n",
        "      xticklabels=labels,\r\n",
        "      yticklabels=labels,\r\n",
        "      vmin=0,\r\n",
        "      vmax=1,\r\n",
        "      cmap=\"YlOrRd\")\r\n",
        "  plot.set_xticklabels(labels, rotation=rotation)\r\n",
        "  plot.set_title(\"Semantic Textual Similarity\")\r\n",
        "\r\n",
        "def run(data):\r\n",
        "  embeddings = get_embeddings(data)\r\n",
        "  plot_similarity(data, embeddings, 90)"
      ],
      "execution_count": 17,
      "outputs": []
    },
    {
      "cell_type": "code",
      "metadata": {
        "colab": {
          "base_uri": "https://localhost:8080/",
          "height": 666
        },
        "id": "R5VZV9tgUv_R",
        "outputId": "18732e6b-1a61-4464-a14a-89d1d33563a7"
      },
      "source": [
        "data = [\r\n",
        "    \"good phone, dropped a few times but still works fine\",\r\n",
        "    \"good mobile phone,  fell a few times but still works fine\",\r\n",
        "    \"good phone, dropped a couple of times but still works well\"\r\n",
        "]\r\n",
        "\r\n",
        "run(data)"
      ],
      "execution_count": 18,
      "outputs": [
        {
          "output_type": "display_data",
          "data": {
            "image/png": "[encoded data removed]",
            "text/plain": [
              "<Figure size 432x288 with 2 Axes>"
            ]
          },
          "metadata": {
            "tags": []
          }
        }
      ]
    }
  ]
}